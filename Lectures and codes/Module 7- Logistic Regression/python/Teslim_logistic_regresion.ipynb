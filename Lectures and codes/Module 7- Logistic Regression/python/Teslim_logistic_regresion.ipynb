{
 "cells": [
  {
   "cell_type": "markdown",
   "id": "bdd9418f",
   "metadata": {},
   "source": [
    "### Logistic Regression "
   ]
  },
  {
   "cell_type": "code",
   "execution_count": 56,
   "id": "5ff38fb1",
   "metadata": {},
   "outputs": [],
   "source": [
    "import numpy as np\n",
    "import pandas as pd\n",
    "import matplotlib.pyplot as plt\n",
    "\n",
    "import seaborn as sns\n",
    "sns.set()  #if you want to use seaborn themes with matplotlib functions\n",
    "import warnings\n",
    "warnings.filterwarnings('ignore')"
   ]
  },
  {
   "cell_type": "code",
   "execution_count": 57,
   "id": "8af4394e",
   "metadata": {},
   "outputs": [],
   "source": [
    "rand_state= 1000"
   ]
  },
  {
   "cell_type": "code",
   "execution_count": 58,
   "id": "6ffd6bb6",
   "metadata": {},
   "outputs": [],
   "source": [
    "df = pd.read_csv('https://raw.githubusercontent.com/PJalgotrader/Machine_Learning-USU/main/data/Default.csv')"
   ]
  },
  {
   "cell_type": "code",
   "execution_count": 59,
   "id": "b3ca81d3",
   "metadata": {},
   "outputs": [
    {
     "data": {
      "application/vnd.microsoft.datawrangler.viewer.v0+json": {
       "columns": [
        {
         "name": "index",
         "rawType": "int64",
         "type": "integer"
        },
        {
         "name": "default",
         "rawType": "object",
         "type": "string"
        },
        {
         "name": "student",
         "rawType": "object",
         "type": "string"
        },
        {
         "name": "balance",
         "rawType": "float64",
         "type": "float"
        },
        {
         "name": "income",
         "rawType": "float64",
         "type": "float"
        }
       ],
       "ref": "f5cc63ab-fa29-4dd0-a164-a16d5e7ed8f7",
       "rows": [
        [
         "0",
         "No",
         "No",
         "729.5264952",
         "44361.625"
        ],
        [
         "1",
         "No",
         "Yes",
         "817.1804066",
         "12106.1347"
        ],
        [
         "2",
         "No",
         "No",
         "1073.549164",
         "31767.13895"
        ],
        [
         "3",
         "No",
         "No",
         "529.2506047",
         "35704.49394"
        ],
        [
         "4",
         "No",
         "No",
         "785.6558829",
         "38463.49588"
        ]
       ],
       "shape": {
        "columns": 4,
        "rows": 5
       }
      },
      "text/html": [
       "<div>\n",
       "<style scoped>\n",
       "    .dataframe tbody tr th:only-of-type {\n",
       "        vertical-align: middle;\n",
       "    }\n",
       "\n",
       "    .dataframe tbody tr th {\n",
       "        vertical-align: top;\n",
       "    }\n",
       "\n",
       "    .dataframe thead th {\n",
       "        text-align: right;\n",
       "    }\n",
       "</style>\n",
       "<table border=\"1\" class=\"dataframe\">\n",
       "  <thead>\n",
       "    <tr style=\"text-align: right;\">\n",
       "      <th></th>\n",
       "      <th>default</th>\n",
       "      <th>student</th>\n",
       "      <th>balance</th>\n",
       "      <th>income</th>\n",
       "    </tr>\n",
       "  </thead>\n",
       "  <tbody>\n",
       "    <tr>\n",
       "      <th>0</th>\n",
       "      <td>No</td>\n",
       "      <td>No</td>\n",
       "      <td>729.526495</td>\n",
       "      <td>44361.62500</td>\n",
       "    </tr>\n",
       "    <tr>\n",
       "      <th>1</th>\n",
       "      <td>No</td>\n",
       "      <td>Yes</td>\n",
       "      <td>817.180407</td>\n",
       "      <td>12106.13470</td>\n",
       "    </tr>\n",
       "    <tr>\n",
       "      <th>2</th>\n",
       "      <td>No</td>\n",
       "      <td>No</td>\n",
       "      <td>1073.549164</td>\n",
       "      <td>31767.13895</td>\n",
       "    </tr>\n",
       "    <tr>\n",
       "      <th>3</th>\n",
       "      <td>No</td>\n",
       "      <td>No</td>\n",
       "      <td>529.250605</td>\n",
       "      <td>35704.49394</td>\n",
       "    </tr>\n",
       "    <tr>\n",
       "      <th>4</th>\n",
       "      <td>No</td>\n",
       "      <td>No</td>\n",
       "      <td>785.655883</td>\n",
       "      <td>38463.49588</td>\n",
       "    </tr>\n",
       "  </tbody>\n",
       "</table>\n",
       "</div>"
      ],
      "text/plain": [
       "  default student      balance       income\n",
       "0      No      No   729.526495  44361.62500\n",
       "1      No     Yes   817.180407  12106.13470\n",
       "2      No      No  1073.549164  31767.13895\n",
       "3      No      No   529.250605  35704.49394\n",
       "4      No      No   785.655883  38463.49588"
      ]
     },
     "execution_count": 59,
     "metadata": {},
     "output_type": "execute_result"
    }
   ],
   "source": [
    "df.head()"
   ]
  },
  {
   "cell_type": "code",
   "execution_count": 60,
   "id": "0ffd1b2c",
   "metadata": {},
   "outputs": [
    {
     "data": {
      "text/plain": [
       "array(['No', 'No', 'No', ..., 'No', 'No', 'No'], dtype=object)"
      ]
     },
     "execution_count": 60,
     "metadata": {},
     "output_type": "execute_result"
    }
   ],
   "source": [
    "df['default'].values"
   ]
  },
  {
   "cell_type": "code",
   "execution_count": 61,
   "id": "6493b07c",
   "metadata": {},
   "outputs": [
    {
     "name": "stdout",
     "output_type": "stream",
     "text": [
      "<class 'pandas.core.frame.DataFrame'>\n",
      "RangeIndex: 10000 entries, 0 to 9999\n",
      "Data columns (total 4 columns):\n",
      " #   Column   Non-Null Count  Dtype  \n",
      "---  ------   --------------  -----  \n",
      " 0   default  10000 non-null  object \n",
      " 1   student  10000 non-null  object \n",
      " 2   balance  10000 non-null  float64\n",
      " 3   income   10000 non-null  float64\n",
      "dtypes: float64(2), object(2)\n",
      "memory usage: 312.6+ KB\n"
     ]
    }
   ],
   "source": [
    "df.info()"
   ]
  },
  {
   "cell_type": "code",
   "execution_count": 62,
   "id": "0e573464",
   "metadata": {},
   "outputs": [
    {
     "data": {
      "application/vnd.microsoft.datawrangler.viewer.v0+json": {
       "columns": [
        {
         "name": "default",
         "rawType": "object",
         "type": "string"
        },
        {
         "name": "No",
         "rawType": "float64",
         "type": "float"
        },
        {
         "name": "Yes",
         "rawType": "float64",
         "type": "float"
        }
       ],
       "ref": "43b80101-f417-483f-85b5-be8c270ff54e",
       "rows": [
        [
         "No",
         "0.9667",
         "0.0"
        ],
        [
         "Yes",
         "0.0",
         "0.0333"
        ]
       ],
       "shape": {
        "columns": 2,
        "rows": 2
       }
      },
      "text/html": [
       "<div>\n",
       "<style scoped>\n",
       "    .dataframe tbody tr th:only-of-type {\n",
       "        vertical-align: middle;\n",
       "    }\n",
       "\n",
       "    .dataframe tbody tr th {\n",
       "        vertical-align: top;\n",
       "    }\n",
       "\n",
       "    .dataframe thead th {\n",
       "        text-align: right;\n",
       "    }\n",
       "</style>\n",
       "<table border=\"1\" class=\"dataframe\">\n",
       "  <thead>\n",
       "    <tr style=\"text-align: right;\">\n",
       "      <th>default</th>\n",
       "      <th>No</th>\n",
       "      <th>Yes</th>\n",
       "    </tr>\n",
       "    <tr>\n",
       "      <th>default</th>\n",
       "      <th></th>\n",
       "      <th></th>\n",
       "    </tr>\n",
       "  </thead>\n",
       "  <tbody>\n",
       "    <tr>\n",
       "      <th>No</th>\n",
       "      <td>0.9667</td>\n",
       "      <td>0.0000</td>\n",
       "    </tr>\n",
       "    <tr>\n",
       "      <th>Yes</th>\n",
       "      <td>0.0000</td>\n",
       "      <td>0.0333</td>\n",
       "    </tr>\n",
       "  </tbody>\n",
       "</table>\n",
       "</div>"
      ],
      "text/plain": [
       "default      No     Yes\n",
       "default                \n",
       "No       0.9667  0.0000\n",
       "Yes      0.0000  0.0333"
      ]
     },
     "execution_count": 62,
     "metadata": {},
     "output_type": "execute_result"
    }
   ],
   "source": [
    "# looking at the target variable with proportion \n",
    "pd.crosstab(df['default'], df['default'], normalize='all')"
   ]
  },
  {
   "cell_type": "markdown",
   "id": "9689886e",
   "metadata": {},
   "source": [
    "### Data Processing"
   ]
  },
  {
   "cell_type": "code",
   "execution_count": 63,
   "id": "63b7d83b",
   "metadata": {},
   "outputs": [
    {
     "data": {
      "application/vnd.microsoft.datawrangler.viewer.v0+json": {
       "columns": [
        {
         "name": "index",
         "rawType": "object",
         "type": "string"
        },
        {
         "name": "0",
         "rawType": "int64",
         "type": "integer"
        }
       ],
       "ref": "d546ee6e-9562-4df2-b6ab-6c042c7639b2",
       "rows": [
        [
         "default",
         "0"
        ],
        [
         "student",
         "0"
        ],
        [
         "balance",
         "0"
        ],
        [
         "income",
         "0"
        ]
       ],
       "shape": {
        "columns": 1,
        "rows": 4
       }
      },
      "text/plain": [
       "default    0\n",
       "student    0\n",
       "balance    0\n",
       "income     0\n",
       "dtype: int64"
      ]
     },
     "execution_count": 63,
     "metadata": {},
     "output_type": "execute_result"
    }
   ],
   "source": [
    "# checking for missing values \n",
    "df.isna().sum()"
   ]
  },
  {
   "cell_type": "code",
   "execution_count": 64,
   "id": "6dc2b8be",
   "metadata": {},
   "outputs": [],
   "source": [
    "df = pd.get_dummies(df, drop_first=True,   dtype='int64')"
   ]
  },
  {
   "cell_type": "code",
   "execution_count": 65,
   "id": "7a1fbb97",
   "metadata": {},
   "outputs": [
    {
     "data": {
      "application/vnd.microsoft.datawrangler.viewer.v0+json": {
       "columns": [
        {
         "name": "index",
         "rawType": "int64",
         "type": "integer"
        },
        {
         "name": "balance",
         "rawType": "float64",
         "type": "float"
        },
        {
         "name": "income",
         "rawType": "float64",
         "type": "float"
        },
        {
         "name": "default_Yes",
         "rawType": "int64",
         "type": "integer"
        },
        {
         "name": "student_Yes",
         "rawType": "int64",
         "type": "integer"
        }
       ],
       "ref": "ff058aff-0c8b-4200-b88d-52f4c041d495",
       "rows": [
        [
         "0",
         "729.5264952",
         "44361.625",
         "0",
         "0"
        ],
        [
         "1",
         "817.1804066",
         "12106.1347",
         "0",
         "1"
        ],
        [
         "2",
         "1073.549164",
         "31767.13895",
         "0",
         "0"
        ],
        [
         "3",
         "529.2506047",
         "35704.49394",
         "0",
         "0"
        ],
        [
         "4",
         "785.6558829",
         "38463.49588",
         "0",
         "0"
        ],
        [
         "5",
         "919.5885305",
         "7491.558572",
         "0",
         "1"
        ],
        [
         "6",
         "825.5133305",
         "24905.22658",
         "0",
         "0"
        ],
        [
         "7",
         "808.6675043",
         "17600.45134",
         "0",
         "1"
        ],
        [
         "8",
         "1161.057854",
         "37468.52929",
         "0",
         "0"
        ],
        [
         "9",
         "0.0",
         "29275.26829",
         "0",
         "0"
        ],
        [
         "10",
         "0.0",
         "21871.07309",
         "0",
         "1"
        ],
        [
         "11",
         "1220.583753",
         "13268.56222",
         "0",
         "1"
        ],
        [
         "12",
         "237.045114",
         "28251.69534",
         "0",
         "0"
        ],
        [
         "13",
         "606.7423433",
         "44994.55585",
         "0",
         "0"
        ],
        [
         "14",
         "1112.968401",
         "23810.17405",
         "0",
         "0"
        ],
        [
         "15",
         "286.2325601",
         "45042.41304",
         "0",
         "0"
        ],
        [
         "16",
         "0.0",
         "50265.31235",
         "0",
         "0"
        ],
        [
         "17",
         "527.5401841",
         "17636.53962",
         "0",
         "1"
        ],
        [
         "18",
         "485.9368642",
         "61566.10612",
         "0",
         "0"
        ],
        [
         "19",
         "1095.072735",
         "26464.63139",
         "0",
         "0"
        ],
        [
         "20",
         "228.9525496",
         "50500.1822",
         "0",
         "0"
        ],
        [
         "21",
         "954.2617928",
         "32457.50908",
         "0",
         "0"
        ],
        [
         "22",
         "1055.956605",
         "51317.88308",
         "0",
         "0"
        ],
        [
         "23",
         "641.9843888",
         "30466.10326",
         "0",
         "0"
        ],
        [
         "24",
         "773.2117245",
         "34353.31431",
         "0",
         "0"
        ],
        [
         "25",
         "855.0085225",
         "25211.33216",
         "0",
         "0"
        ],
        [
         "26",
         "642.9997385",
         "41473.5118",
         "0",
         "0"
        ],
        [
         "27",
         "1454.863272",
         "32189.09495",
         "0",
         "0"
        ],
        [
         "28",
         "615.7042766",
         "39376.39462",
         "0",
         "0"
        ],
        [
         "29",
         "1119.569353",
         "16556.07021",
         "0",
         "1"
        ],
        [
         "30",
         "494.8162288",
         "54384.78284",
         "0",
         "0"
        ],
        [
         "31",
         "448.8806563",
         "15799.47041",
         "0",
         "1"
        ],
        [
         "32",
         "584.9048947",
         "22429.93505",
         "0",
         "1"
        ],
        [
         "33",
         "913.5871726",
         "46907.2254",
         "0",
         "0"
        ],
        [
         "34",
         "1423.938917",
         "22634.48809",
         "0",
         "1"
        ],
        [
         "35",
         "1499.724657",
         "13190.65272",
         "0",
         "1"
        ],
        [
         "36",
         "692.0341671",
         "47806.61177",
         "0",
         "0"
        ],
        [
         "37",
         "351.4534715",
         "35087.48865",
         "0",
         "0"
        ],
        [
         "38",
         "742.6276208",
         "37864.82394",
         "0",
         "0"
        ],
        [
         "39",
         "653.1184001",
         "39489.5947",
         "0",
         "0"
        ],
        [
         "40",
         "872.1386795",
         "41787.56727",
         "0",
         "0"
        ],
        [
         "41",
         "837.2626228",
         "51471.77209",
         "0",
         "0"
        ],
        [
         "42",
         "1151.630566",
         "42917.46956",
         "0",
         "0"
        ],
        [
         "43",
         "220.5556084",
         "16872.94756",
         "0",
         "1"
        ],
        [
         "44",
         "1690.23441",
         "19052.57222",
         "0",
         "1"
        ],
        [
         "45",
         "408.7729143",
         "54206.93921",
         "0",
         "0"
        ],
        [
         "46",
         "1238.610321",
         "50066.68053",
         "0",
         "0"
        ],
        [
         "47",
         "1228.30835",
         "37408.50387",
         "0",
         "0"
        ],
        [
         "48",
         "820.9192041",
         "47746.54207",
         "0",
         "0"
        ],
        [
         "49",
         "857.4851178",
         "31688.34597",
         "0",
         "0"
        ]
       ],
       "shape": {
        "columns": 4,
        "rows": 10000
       }
      },
      "text/html": [
       "<div>\n",
       "<style scoped>\n",
       "    .dataframe tbody tr th:only-of-type {\n",
       "        vertical-align: middle;\n",
       "    }\n",
       "\n",
       "    .dataframe tbody tr th {\n",
       "        vertical-align: top;\n",
       "    }\n",
       "\n",
       "    .dataframe thead th {\n",
       "        text-align: right;\n",
       "    }\n",
       "</style>\n",
       "<table border=\"1\" class=\"dataframe\">\n",
       "  <thead>\n",
       "    <tr style=\"text-align: right;\">\n",
       "      <th></th>\n",
       "      <th>balance</th>\n",
       "      <th>income</th>\n",
       "      <th>default_Yes</th>\n",
       "      <th>student_Yes</th>\n",
       "    </tr>\n",
       "  </thead>\n",
       "  <tbody>\n",
       "    <tr>\n",
       "      <th>0</th>\n",
       "      <td>729.526495</td>\n",
       "      <td>44361.62500</td>\n",
       "      <td>0</td>\n",
       "      <td>0</td>\n",
       "    </tr>\n",
       "    <tr>\n",
       "      <th>1</th>\n",
       "      <td>817.180407</td>\n",
       "      <td>12106.13470</td>\n",
       "      <td>0</td>\n",
       "      <td>1</td>\n",
       "    </tr>\n",
       "    <tr>\n",
       "      <th>2</th>\n",
       "      <td>1073.549164</td>\n",
       "      <td>31767.13895</td>\n",
       "      <td>0</td>\n",
       "      <td>0</td>\n",
       "    </tr>\n",
       "    <tr>\n",
       "      <th>3</th>\n",
       "      <td>529.250605</td>\n",
       "      <td>35704.49394</td>\n",
       "      <td>0</td>\n",
       "      <td>0</td>\n",
       "    </tr>\n",
       "    <tr>\n",
       "      <th>4</th>\n",
       "      <td>785.655883</td>\n",
       "      <td>38463.49588</td>\n",
       "      <td>0</td>\n",
       "      <td>0</td>\n",
       "    </tr>\n",
       "    <tr>\n",
       "      <th>...</th>\n",
       "      <td>...</td>\n",
       "      <td>...</td>\n",
       "      <td>...</td>\n",
       "      <td>...</td>\n",
       "    </tr>\n",
       "    <tr>\n",
       "      <th>9995</th>\n",
       "      <td>711.555020</td>\n",
       "      <td>52992.37891</td>\n",
       "      <td>0</td>\n",
       "      <td>0</td>\n",
       "    </tr>\n",
       "    <tr>\n",
       "      <th>9996</th>\n",
       "      <td>757.962918</td>\n",
       "      <td>19660.72177</td>\n",
       "      <td>0</td>\n",
       "      <td>0</td>\n",
       "    </tr>\n",
       "    <tr>\n",
       "      <th>9997</th>\n",
       "      <td>845.411989</td>\n",
       "      <td>58636.15698</td>\n",
       "      <td>0</td>\n",
       "      <td>0</td>\n",
       "    </tr>\n",
       "    <tr>\n",
       "      <th>9998</th>\n",
       "      <td>1569.009053</td>\n",
       "      <td>36669.11236</td>\n",
       "      <td>0</td>\n",
       "      <td>0</td>\n",
       "    </tr>\n",
       "    <tr>\n",
       "      <th>9999</th>\n",
       "      <td>200.922183</td>\n",
       "      <td>16862.95232</td>\n",
       "      <td>0</td>\n",
       "      <td>1</td>\n",
       "    </tr>\n",
       "  </tbody>\n",
       "</table>\n",
       "<p>10000 rows × 4 columns</p>\n",
       "</div>"
      ],
      "text/plain": [
       "          balance       income  default_Yes  student_Yes\n",
       "0      729.526495  44361.62500            0            0\n",
       "1      817.180407  12106.13470            0            1\n",
       "2     1073.549164  31767.13895            0            0\n",
       "3      529.250605  35704.49394            0            0\n",
       "4      785.655883  38463.49588            0            0\n",
       "...           ...          ...          ...          ...\n",
       "9995   711.555020  52992.37891            0            0\n",
       "9996   757.962918  19660.72177            0            0\n",
       "9997   845.411989  58636.15698            0            0\n",
       "9998  1569.009053  36669.11236            0            0\n",
       "9999   200.922183  16862.95232            0            1\n",
       "\n",
       "[10000 rows x 4 columns]"
      ]
     },
     "execution_count": 65,
     "metadata": {},
     "output_type": "execute_result"
    }
   ],
   "source": [
    "df"
   ]
  },
  {
   "cell_type": "code",
   "execution_count": 67,
   "id": "ec2ab304",
   "metadata": {},
   "outputs": [
    {
     "data": {
      "text/plain": [
       "Index(['balance', 'income', 'default_Yes', 'student_Yes'], dtype='object')"
      ]
     },
     "execution_count": 67,
     "metadata": {},
     "output_type": "execute_result"
    }
   ],
   "source": [
    "df.columns"
   ]
  },
  {
   "cell_type": "code",
   "execution_count": 68,
   "id": "4cb1e766",
   "metadata": {},
   "outputs": [],
   "source": [
    "df.columns = ['balance','income', 'default', 'studnet']"
   ]
  },
  {
   "cell_type": "code",
   "execution_count": 69,
   "id": "e1758037",
   "metadata": {},
   "outputs": [
    {
     "data": {
      "application/vnd.microsoft.datawrangler.viewer.v0+json": {
       "columns": [
        {
         "name": "index",
         "rawType": "int64",
         "type": "integer"
        },
        {
         "name": "balance",
         "rawType": "float64",
         "type": "float"
        },
        {
         "name": "income",
         "rawType": "float64",
         "type": "float"
        },
        {
         "name": "default",
         "rawType": "int64",
         "type": "integer"
        },
        {
         "name": "studnet",
         "rawType": "int64",
         "type": "integer"
        }
       ],
       "ref": "9afd4a9a-82b5-4b90-8f84-9df80f667299",
       "rows": [
        [
         "0",
         "729.5264952",
         "44361.625",
         "0",
         "0"
        ],
        [
         "1",
         "817.1804066",
         "12106.1347",
         "0",
         "1"
        ],
        [
         "2",
         "1073.549164",
         "31767.13895",
         "0",
         "0"
        ],
        [
         "3",
         "529.2506047",
         "35704.49394",
         "0",
         "0"
        ],
        [
         "4",
         "785.6558829",
         "38463.49588",
         "0",
         "0"
        ],
        [
         "5",
         "919.5885305",
         "7491.558572",
         "0",
         "1"
        ],
        [
         "6",
         "825.5133305",
         "24905.22658",
         "0",
         "0"
        ],
        [
         "7",
         "808.6675043",
         "17600.45134",
         "0",
         "1"
        ],
        [
         "8",
         "1161.057854",
         "37468.52929",
         "0",
         "0"
        ],
        [
         "9",
         "0.0",
         "29275.26829",
         "0",
         "0"
        ],
        [
         "10",
         "0.0",
         "21871.07309",
         "0",
         "1"
        ],
        [
         "11",
         "1220.583753",
         "13268.56222",
         "0",
         "1"
        ],
        [
         "12",
         "237.045114",
         "28251.69534",
         "0",
         "0"
        ],
        [
         "13",
         "606.7423433",
         "44994.55585",
         "0",
         "0"
        ],
        [
         "14",
         "1112.968401",
         "23810.17405",
         "0",
         "0"
        ],
        [
         "15",
         "286.2325601",
         "45042.41304",
         "0",
         "0"
        ],
        [
         "16",
         "0.0",
         "50265.31235",
         "0",
         "0"
        ],
        [
         "17",
         "527.5401841",
         "17636.53962",
         "0",
         "1"
        ],
        [
         "18",
         "485.9368642",
         "61566.10612",
         "0",
         "0"
        ],
        [
         "19",
         "1095.072735",
         "26464.63139",
         "0",
         "0"
        ],
        [
         "20",
         "228.9525496",
         "50500.1822",
         "0",
         "0"
        ],
        [
         "21",
         "954.2617928",
         "32457.50908",
         "0",
         "0"
        ],
        [
         "22",
         "1055.956605",
         "51317.88308",
         "0",
         "0"
        ],
        [
         "23",
         "641.9843888",
         "30466.10326",
         "0",
         "0"
        ],
        [
         "24",
         "773.2117245",
         "34353.31431",
         "0",
         "0"
        ],
        [
         "25",
         "855.0085225",
         "25211.33216",
         "0",
         "0"
        ],
        [
         "26",
         "642.9997385",
         "41473.5118",
         "0",
         "0"
        ],
        [
         "27",
         "1454.863272",
         "32189.09495",
         "0",
         "0"
        ],
        [
         "28",
         "615.7042766",
         "39376.39462",
         "0",
         "0"
        ],
        [
         "29",
         "1119.569353",
         "16556.07021",
         "0",
         "1"
        ],
        [
         "30",
         "494.8162288",
         "54384.78284",
         "0",
         "0"
        ],
        [
         "31",
         "448.8806563",
         "15799.47041",
         "0",
         "1"
        ],
        [
         "32",
         "584.9048947",
         "22429.93505",
         "0",
         "1"
        ],
        [
         "33",
         "913.5871726",
         "46907.2254",
         "0",
         "0"
        ],
        [
         "34",
         "1423.938917",
         "22634.48809",
         "0",
         "1"
        ],
        [
         "35",
         "1499.724657",
         "13190.65272",
         "0",
         "1"
        ],
        [
         "36",
         "692.0341671",
         "47806.61177",
         "0",
         "0"
        ],
        [
         "37",
         "351.4534715",
         "35087.48865",
         "0",
         "0"
        ],
        [
         "38",
         "742.6276208",
         "37864.82394",
         "0",
         "0"
        ],
        [
         "39",
         "653.1184001",
         "39489.5947",
         "0",
         "0"
        ],
        [
         "40",
         "872.1386795",
         "41787.56727",
         "0",
         "0"
        ],
        [
         "41",
         "837.2626228",
         "51471.77209",
         "0",
         "0"
        ],
        [
         "42",
         "1151.630566",
         "42917.46956",
         "0",
         "0"
        ],
        [
         "43",
         "220.5556084",
         "16872.94756",
         "0",
         "1"
        ],
        [
         "44",
         "1690.23441",
         "19052.57222",
         "0",
         "1"
        ],
        [
         "45",
         "408.7729143",
         "54206.93921",
         "0",
         "0"
        ],
        [
         "46",
         "1238.610321",
         "50066.68053",
         "0",
         "0"
        ],
        [
         "47",
         "1228.30835",
         "37408.50387",
         "0",
         "0"
        ],
        [
         "48",
         "820.9192041",
         "47746.54207",
         "0",
         "0"
        ],
        [
         "49",
         "857.4851178",
         "31688.34597",
         "0",
         "0"
        ]
       ],
       "shape": {
        "columns": 4,
        "rows": 10000
       }
      },
      "text/html": [
       "<div>\n",
       "<style scoped>\n",
       "    .dataframe tbody tr th:only-of-type {\n",
       "        vertical-align: middle;\n",
       "    }\n",
       "\n",
       "    .dataframe tbody tr th {\n",
       "        vertical-align: top;\n",
       "    }\n",
       "\n",
       "    .dataframe thead th {\n",
       "        text-align: right;\n",
       "    }\n",
       "</style>\n",
       "<table border=\"1\" class=\"dataframe\">\n",
       "  <thead>\n",
       "    <tr style=\"text-align: right;\">\n",
       "      <th></th>\n",
       "      <th>balance</th>\n",
       "      <th>income</th>\n",
       "      <th>default</th>\n",
       "      <th>studnet</th>\n",
       "    </tr>\n",
       "  </thead>\n",
       "  <tbody>\n",
       "    <tr>\n",
       "      <th>0</th>\n",
       "      <td>729.526495</td>\n",
       "      <td>44361.62500</td>\n",
       "      <td>0</td>\n",
       "      <td>0</td>\n",
       "    </tr>\n",
       "    <tr>\n",
       "      <th>1</th>\n",
       "      <td>817.180407</td>\n",
       "      <td>12106.13470</td>\n",
       "      <td>0</td>\n",
       "      <td>1</td>\n",
       "    </tr>\n",
       "    <tr>\n",
       "      <th>2</th>\n",
       "      <td>1073.549164</td>\n",
       "      <td>31767.13895</td>\n",
       "      <td>0</td>\n",
       "      <td>0</td>\n",
       "    </tr>\n",
       "    <tr>\n",
       "      <th>3</th>\n",
       "      <td>529.250605</td>\n",
       "      <td>35704.49394</td>\n",
       "      <td>0</td>\n",
       "      <td>0</td>\n",
       "    </tr>\n",
       "    <tr>\n",
       "      <th>4</th>\n",
       "      <td>785.655883</td>\n",
       "      <td>38463.49588</td>\n",
       "      <td>0</td>\n",
       "      <td>0</td>\n",
       "    </tr>\n",
       "    <tr>\n",
       "      <th>...</th>\n",
       "      <td>...</td>\n",
       "      <td>...</td>\n",
       "      <td>...</td>\n",
       "      <td>...</td>\n",
       "    </tr>\n",
       "    <tr>\n",
       "      <th>9995</th>\n",
       "      <td>711.555020</td>\n",
       "      <td>52992.37891</td>\n",
       "      <td>0</td>\n",
       "      <td>0</td>\n",
       "    </tr>\n",
       "    <tr>\n",
       "      <th>9996</th>\n",
       "      <td>757.962918</td>\n",
       "      <td>19660.72177</td>\n",
       "      <td>0</td>\n",
       "      <td>0</td>\n",
       "    </tr>\n",
       "    <tr>\n",
       "      <th>9997</th>\n",
       "      <td>845.411989</td>\n",
       "      <td>58636.15698</td>\n",
       "      <td>0</td>\n",
       "      <td>0</td>\n",
       "    </tr>\n",
       "    <tr>\n",
       "      <th>9998</th>\n",
       "      <td>1569.009053</td>\n",
       "      <td>36669.11236</td>\n",
       "      <td>0</td>\n",
       "      <td>0</td>\n",
       "    </tr>\n",
       "    <tr>\n",
       "      <th>9999</th>\n",
       "      <td>200.922183</td>\n",
       "      <td>16862.95232</td>\n",
       "      <td>0</td>\n",
       "      <td>1</td>\n",
       "    </tr>\n",
       "  </tbody>\n",
       "</table>\n",
       "<p>10000 rows × 4 columns</p>\n",
       "</div>"
      ],
      "text/plain": [
       "          balance       income  default  studnet\n",
       "0      729.526495  44361.62500        0        0\n",
       "1      817.180407  12106.13470        0        1\n",
       "2     1073.549164  31767.13895        0        0\n",
       "3      529.250605  35704.49394        0        0\n",
       "4      785.655883  38463.49588        0        0\n",
       "...           ...          ...      ...      ...\n",
       "9995   711.555020  52992.37891        0        0\n",
       "9996   757.962918  19660.72177        0        0\n",
       "9997   845.411989  58636.15698        0        0\n",
       "9998  1569.009053  36669.11236        0        0\n",
       "9999   200.922183  16862.95232        0        1\n",
       "\n",
       "[10000 rows x 4 columns]"
      ]
     },
     "execution_count": 69,
     "metadata": {},
     "output_type": "execute_result"
    }
   ],
   "source": [
    "df"
   ]
  },
  {
   "cell_type": "code",
   "execution_count": 70,
   "id": "a791fc57",
   "metadata": {},
   "outputs": [
    {
     "data": {
      "application/vnd.microsoft.datawrangler.viewer.v0+json": {
       "columns": [
        {
         "name": "index",
         "rawType": "object",
         "type": "string"
        },
        {
         "name": "balance",
         "rawType": "float64",
         "type": "float"
        },
        {
         "name": "income",
         "rawType": "float64",
         "type": "float"
        },
        {
         "name": "default",
         "rawType": "float64",
         "type": "float"
        },
        {
         "name": "studnet",
         "rawType": "float64",
         "type": "float"
        }
       ],
       "ref": "9e2ef108-67a3-42f6-ae8c-dd79e8fbf04e",
       "rows": [
        [
         "count",
         "10000.0",
         "10000.0",
         "10000.0",
         "10000.0"
        ],
        [
         "mean",
         "835.3748856149443",
         "33516.981875950434",
         "0.0333",
         "0.2944"
        ],
        [
         "std",
         "483.71498521032953",
         "13336.63956272621",
         "0.1794277833362027",
         "0.4557953652040509"
        ],
        [
         "min",
         "0.0",
         "771.9677294",
         "0.0",
         "0.0"
        ],
        [
         "25%",
         "481.73110505",
         "21340.462905",
         "0.0",
         "0.0"
        ],
        [
         "50%",
         "823.6369726",
         "34552.6448",
         "0.0",
         "0.0"
        ],
        [
         "75%",
         "1166.30838675",
         "43807.729275",
         "0.0",
         "1.0"
        ],
        [
         "max",
         "2654.322576",
         "73554.2335",
         "1.0",
         "1.0"
        ]
       ],
       "shape": {
        "columns": 4,
        "rows": 8
       }
      },
      "text/html": [
       "<div>\n",
       "<style scoped>\n",
       "    .dataframe tbody tr th:only-of-type {\n",
       "        vertical-align: middle;\n",
       "    }\n",
       "\n",
       "    .dataframe tbody tr th {\n",
       "        vertical-align: top;\n",
       "    }\n",
       "\n",
       "    .dataframe thead th {\n",
       "        text-align: right;\n",
       "    }\n",
       "</style>\n",
       "<table border=\"1\" class=\"dataframe\">\n",
       "  <thead>\n",
       "    <tr style=\"text-align: right;\">\n",
       "      <th></th>\n",
       "      <th>balance</th>\n",
       "      <th>income</th>\n",
       "      <th>default</th>\n",
       "      <th>studnet</th>\n",
       "    </tr>\n",
       "  </thead>\n",
       "  <tbody>\n",
       "    <tr>\n",
       "      <th>count</th>\n",
       "      <td>10000.000000</td>\n",
       "      <td>10000.000000</td>\n",
       "      <td>10000.000000</td>\n",
       "      <td>10000.000000</td>\n",
       "    </tr>\n",
       "    <tr>\n",
       "      <th>mean</th>\n",
       "      <td>835.374886</td>\n",
       "      <td>33516.981876</td>\n",
       "      <td>0.033300</td>\n",
       "      <td>0.294400</td>\n",
       "    </tr>\n",
       "    <tr>\n",
       "      <th>std</th>\n",
       "      <td>483.714985</td>\n",
       "      <td>13336.639563</td>\n",
       "      <td>0.179428</td>\n",
       "      <td>0.455795</td>\n",
       "    </tr>\n",
       "    <tr>\n",
       "      <th>min</th>\n",
       "      <td>0.000000</td>\n",
       "      <td>771.967729</td>\n",
       "      <td>0.000000</td>\n",
       "      <td>0.000000</td>\n",
       "    </tr>\n",
       "    <tr>\n",
       "      <th>25%</th>\n",
       "      <td>481.731105</td>\n",
       "      <td>21340.462905</td>\n",
       "      <td>0.000000</td>\n",
       "      <td>0.000000</td>\n",
       "    </tr>\n",
       "    <tr>\n",
       "      <th>50%</th>\n",
       "      <td>823.636973</td>\n",
       "      <td>34552.644800</td>\n",
       "      <td>0.000000</td>\n",
       "      <td>0.000000</td>\n",
       "    </tr>\n",
       "    <tr>\n",
       "      <th>75%</th>\n",
       "      <td>1166.308387</td>\n",
       "      <td>43807.729275</td>\n",
       "      <td>0.000000</td>\n",
       "      <td>1.000000</td>\n",
       "    </tr>\n",
       "    <tr>\n",
       "      <th>max</th>\n",
       "      <td>2654.322576</td>\n",
       "      <td>73554.233500</td>\n",
       "      <td>1.000000</td>\n",
       "      <td>1.000000</td>\n",
       "    </tr>\n",
       "  </tbody>\n",
       "</table>\n",
       "</div>"
      ],
      "text/plain": [
       "            balance        income       default       studnet\n",
       "count  10000.000000  10000.000000  10000.000000  10000.000000\n",
       "mean     835.374886  33516.981876      0.033300      0.294400\n",
       "std      483.714985  13336.639563      0.179428      0.455795\n",
       "min        0.000000    771.967729      0.000000      0.000000\n",
       "25%      481.731105  21340.462905      0.000000      0.000000\n",
       "50%      823.636973  34552.644800      0.000000      0.000000\n",
       "75%     1166.308387  43807.729275      0.000000      1.000000\n",
       "max     2654.322576  73554.233500      1.000000      1.000000"
      ]
     },
     "execution_count": 70,
     "metadata": {},
     "output_type": "execute_result"
    }
   ],
   "source": [
    "df.describe()"
   ]
  },
  {
   "cell_type": "markdown",
   "id": "ea81cf3e",
   "metadata": {},
   "source": [
    "### Defining the variables and splittibg the data "
   ]
  },
  {
   "cell_type": "code",
   "execution_count": 75,
   "id": "a6e15c5d",
   "metadata": {},
   "outputs": [],
   "source": [
    "y = df['default']\n",
    "X = df.drop('default', axis=1)"
   ]
  },
  {
   "cell_type": "code",
   "execution_count": 76,
   "id": "f5faf049",
   "metadata": {},
   "outputs": [
    {
     "data": {
      "application/vnd.microsoft.datawrangler.viewer.v0+json": {
       "columns": [
        {
         "name": "index",
         "rawType": "int64",
         "type": "integer"
        },
        {
         "name": "default",
         "rawType": "int64",
         "type": "integer"
        }
       ],
       "ref": "096e82fd-d12d-493e-a0d0-b8d4d9f95285",
       "rows": [
        [
         "0",
         "0"
        ],
        [
         "1",
         "0"
        ],
        [
         "2",
         "0"
        ],
        [
         "3",
         "0"
        ],
        [
         "4",
         "0"
        ],
        [
         "5",
         "0"
        ],
        [
         "6",
         "0"
        ],
        [
         "7",
         "0"
        ],
        [
         "8",
         "0"
        ],
        [
         "9",
         "0"
        ],
        [
         "10",
         "0"
        ],
        [
         "11",
         "0"
        ],
        [
         "12",
         "0"
        ],
        [
         "13",
         "0"
        ],
        [
         "14",
         "0"
        ],
        [
         "15",
         "0"
        ],
        [
         "16",
         "0"
        ],
        [
         "17",
         "0"
        ],
        [
         "18",
         "0"
        ],
        [
         "19",
         "0"
        ],
        [
         "20",
         "0"
        ],
        [
         "21",
         "0"
        ],
        [
         "22",
         "0"
        ],
        [
         "23",
         "0"
        ],
        [
         "24",
         "0"
        ],
        [
         "25",
         "0"
        ],
        [
         "26",
         "0"
        ],
        [
         "27",
         "0"
        ],
        [
         "28",
         "0"
        ],
        [
         "29",
         "0"
        ],
        [
         "30",
         "0"
        ],
        [
         "31",
         "0"
        ],
        [
         "32",
         "0"
        ],
        [
         "33",
         "0"
        ],
        [
         "34",
         "0"
        ],
        [
         "35",
         "0"
        ],
        [
         "36",
         "0"
        ],
        [
         "37",
         "0"
        ],
        [
         "38",
         "0"
        ],
        [
         "39",
         "0"
        ],
        [
         "40",
         "0"
        ],
        [
         "41",
         "0"
        ],
        [
         "42",
         "0"
        ],
        [
         "43",
         "0"
        ],
        [
         "44",
         "0"
        ],
        [
         "45",
         "0"
        ],
        [
         "46",
         "0"
        ],
        [
         "47",
         "0"
        ],
        [
         "48",
         "0"
        ],
        [
         "49",
         "0"
        ]
       ],
       "shape": {
        "columns": 1,
        "rows": 10000
       }
      },
      "text/plain": [
       "0       0\n",
       "1       0\n",
       "2       0\n",
       "3       0\n",
       "4       0\n",
       "       ..\n",
       "9995    0\n",
       "9996    0\n",
       "9997    0\n",
       "9998    0\n",
       "9999    0\n",
       "Name: default, Length: 10000, dtype: int64"
      ]
     },
     "execution_count": 76,
     "metadata": {},
     "output_type": "execute_result"
    }
   ],
   "source": [
    "y"
   ]
  },
  {
   "cell_type": "code",
   "execution_count": 77,
   "id": "54305b4f",
   "metadata": {},
   "outputs": [
    {
     "data": {
      "application/vnd.microsoft.datawrangler.viewer.v0+json": {
       "columns": [
        {
         "name": "index",
         "rawType": "int64",
         "type": "integer"
        },
        {
         "name": "balance",
         "rawType": "float64",
         "type": "float"
        },
        {
         "name": "income",
         "rawType": "float64",
         "type": "float"
        },
        {
         "name": "studnet",
         "rawType": "int64",
         "type": "integer"
        }
       ],
       "ref": "1636a0b1-c238-41c3-a0d3-a229d188125e",
       "rows": [
        [
         "0",
         "729.5264952",
         "44361.625",
         "0"
        ],
        [
         "1",
         "817.1804066",
         "12106.1347",
         "1"
        ],
        [
         "2",
         "1073.549164",
         "31767.13895",
         "0"
        ],
        [
         "3",
         "529.2506047",
         "35704.49394",
         "0"
        ],
        [
         "4",
         "785.6558829",
         "38463.49588",
         "0"
        ],
        [
         "5",
         "919.5885305",
         "7491.558572",
         "1"
        ],
        [
         "6",
         "825.5133305",
         "24905.22658",
         "0"
        ],
        [
         "7",
         "808.6675043",
         "17600.45134",
         "1"
        ],
        [
         "8",
         "1161.057854",
         "37468.52929",
         "0"
        ],
        [
         "9",
         "0.0",
         "29275.26829",
         "0"
        ],
        [
         "10",
         "0.0",
         "21871.07309",
         "1"
        ],
        [
         "11",
         "1220.583753",
         "13268.56222",
         "1"
        ],
        [
         "12",
         "237.045114",
         "28251.69534",
         "0"
        ],
        [
         "13",
         "606.7423433",
         "44994.55585",
         "0"
        ],
        [
         "14",
         "1112.968401",
         "23810.17405",
         "0"
        ],
        [
         "15",
         "286.2325601",
         "45042.41304",
         "0"
        ],
        [
         "16",
         "0.0",
         "50265.31235",
         "0"
        ],
        [
         "17",
         "527.5401841",
         "17636.53962",
         "1"
        ],
        [
         "18",
         "485.9368642",
         "61566.10612",
         "0"
        ],
        [
         "19",
         "1095.072735",
         "26464.63139",
         "0"
        ],
        [
         "20",
         "228.9525496",
         "50500.1822",
         "0"
        ],
        [
         "21",
         "954.2617928",
         "32457.50908",
         "0"
        ],
        [
         "22",
         "1055.956605",
         "51317.88308",
         "0"
        ],
        [
         "23",
         "641.9843888",
         "30466.10326",
         "0"
        ],
        [
         "24",
         "773.2117245",
         "34353.31431",
         "0"
        ],
        [
         "25",
         "855.0085225",
         "25211.33216",
         "0"
        ],
        [
         "26",
         "642.9997385",
         "41473.5118",
         "0"
        ],
        [
         "27",
         "1454.863272",
         "32189.09495",
         "0"
        ],
        [
         "28",
         "615.7042766",
         "39376.39462",
         "0"
        ],
        [
         "29",
         "1119.569353",
         "16556.07021",
         "1"
        ],
        [
         "30",
         "494.8162288",
         "54384.78284",
         "0"
        ],
        [
         "31",
         "448.8806563",
         "15799.47041",
         "1"
        ],
        [
         "32",
         "584.9048947",
         "22429.93505",
         "1"
        ],
        [
         "33",
         "913.5871726",
         "46907.2254",
         "0"
        ],
        [
         "34",
         "1423.938917",
         "22634.48809",
         "1"
        ],
        [
         "35",
         "1499.724657",
         "13190.65272",
         "1"
        ],
        [
         "36",
         "692.0341671",
         "47806.61177",
         "0"
        ],
        [
         "37",
         "351.4534715",
         "35087.48865",
         "0"
        ],
        [
         "38",
         "742.6276208",
         "37864.82394",
         "0"
        ],
        [
         "39",
         "653.1184001",
         "39489.5947",
         "0"
        ],
        [
         "40",
         "872.1386795",
         "41787.56727",
         "0"
        ],
        [
         "41",
         "837.2626228",
         "51471.77209",
         "0"
        ],
        [
         "42",
         "1151.630566",
         "42917.46956",
         "0"
        ],
        [
         "43",
         "220.5556084",
         "16872.94756",
         "1"
        ],
        [
         "44",
         "1690.23441",
         "19052.57222",
         "1"
        ],
        [
         "45",
         "408.7729143",
         "54206.93921",
         "0"
        ],
        [
         "46",
         "1238.610321",
         "50066.68053",
         "0"
        ],
        [
         "47",
         "1228.30835",
         "37408.50387",
         "0"
        ],
        [
         "48",
         "820.9192041",
         "47746.54207",
         "0"
        ],
        [
         "49",
         "857.4851178",
         "31688.34597",
         "0"
        ]
       ],
       "shape": {
        "columns": 3,
        "rows": 10000
       }
      },
      "text/html": [
       "<div>\n",
       "<style scoped>\n",
       "    .dataframe tbody tr th:only-of-type {\n",
       "        vertical-align: middle;\n",
       "    }\n",
       "\n",
       "    .dataframe tbody tr th {\n",
       "        vertical-align: top;\n",
       "    }\n",
       "\n",
       "    .dataframe thead th {\n",
       "        text-align: right;\n",
       "    }\n",
       "</style>\n",
       "<table border=\"1\" class=\"dataframe\">\n",
       "  <thead>\n",
       "    <tr style=\"text-align: right;\">\n",
       "      <th></th>\n",
       "      <th>balance</th>\n",
       "      <th>income</th>\n",
       "      <th>studnet</th>\n",
       "    </tr>\n",
       "  </thead>\n",
       "  <tbody>\n",
       "    <tr>\n",
       "      <th>0</th>\n",
       "      <td>729.526495</td>\n",
       "      <td>44361.62500</td>\n",
       "      <td>0</td>\n",
       "    </tr>\n",
       "    <tr>\n",
       "      <th>1</th>\n",
       "      <td>817.180407</td>\n",
       "      <td>12106.13470</td>\n",
       "      <td>1</td>\n",
       "    </tr>\n",
       "    <tr>\n",
       "      <th>2</th>\n",
       "      <td>1073.549164</td>\n",
       "      <td>31767.13895</td>\n",
       "      <td>0</td>\n",
       "    </tr>\n",
       "    <tr>\n",
       "      <th>3</th>\n",
       "      <td>529.250605</td>\n",
       "      <td>35704.49394</td>\n",
       "      <td>0</td>\n",
       "    </tr>\n",
       "    <tr>\n",
       "      <th>4</th>\n",
       "      <td>785.655883</td>\n",
       "      <td>38463.49588</td>\n",
       "      <td>0</td>\n",
       "    </tr>\n",
       "    <tr>\n",
       "      <th>...</th>\n",
       "      <td>...</td>\n",
       "      <td>...</td>\n",
       "      <td>...</td>\n",
       "    </tr>\n",
       "    <tr>\n",
       "      <th>9995</th>\n",
       "      <td>711.555020</td>\n",
       "      <td>52992.37891</td>\n",
       "      <td>0</td>\n",
       "    </tr>\n",
       "    <tr>\n",
       "      <th>9996</th>\n",
       "      <td>757.962918</td>\n",
       "      <td>19660.72177</td>\n",
       "      <td>0</td>\n",
       "    </tr>\n",
       "    <tr>\n",
       "      <th>9997</th>\n",
       "      <td>845.411989</td>\n",
       "      <td>58636.15698</td>\n",
       "      <td>0</td>\n",
       "    </tr>\n",
       "    <tr>\n",
       "      <th>9998</th>\n",
       "      <td>1569.009053</td>\n",
       "      <td>36669.11236</td>\n",
       "      <td>0</td>\n",
       "    </tr>\n",
       "    <tr>\n",
       "      <th>9999</th>\n",
       "      <td>200.922183</td>\n",
       "      <td>16862.95232</td>\n",
       "      <td>1</td>\n",
       "    </tr>\n",
       "  </tbody>\n",
       "</table>\n",
       "<p>10000 rows × 3 columns</p>\n",
       "</div>"
      ],
      "text/plain": [
       "          balance       income  studnet\n",
       "0      729.526495  44361.62500        0\n",
       "1      817.180407  12106.13470        1\n",
       "2     1073.549164  31767.13895        0\n",
       "3      529.250605  35704.49394        0\n",
       "4      785.655883  38463.49588        0\n",
       "...           ...          ...      ...\n",
       "9995   711.555020  52992.37891        0\n",
       "9996   757.962918  19660.72177        0\n",
       "9997   845.411989  58636.15698        0\n",
       "9998  1569.009053  36669.11236        0\n",
       "9999   200.922183  16862.95232        1\n",
       "\n",
       "[10000 rows x 3 columns]"
      ]
     },
     "execution_count": 77,
     "metadata": {},
     "output_type": "execute_result"
    }
   ],
   "source": [
    "X"
   ]
  },
  {
   "cell_type": "code",
   "execution_count": 78,
   "id": "ed975260",
   "metadata": {},
   "outputs": [],
   "source": [
    "from sklearn.model_selection import train_test_split\n",
    "X_train, X_test, y_train, y_test = train_test_split(X, y, test_size=0.2, random_state= rand_state)"
   ]
  },
  {
   "cell_type": "code",
   "execution_count": 79,
   "id": "26df0ecc",
   "metadata": {},
   "outputs": [
    {
     "data": {
      "application/vnd.microsoft.datawrangler.viewer.v0+json": {
       "columns": [
        {
         "name": "index",
         "rawType": "int64",
         "type": "integer"
        },
        {
         "name": "balance",
         "rawType": "float64",
         "type": "float"
        },
        {
         "name": "income",
         "rawType": "float64",
         "type": "float"
        },
        {
         "name": "studnet",
         "rawType": "int64",
         "type": "integer"
        }
       ],
       "ref": "4b02873c-f62b-4c20-b192-359457e7e7bc",
       "rows": [
        [
         "5697",
         "380.1735083",
         "37395.71893",
         "0"
        ],
        [
         "615",
         "1052.39326",
         "37637.65931",
         "0"
        ],
        [
         "2733",
         "813.4948376",
         "16681.3503",
         "1"
        ],
        [
         "5961",
         "0.0",
         "56610.2365",
         "0"
        ],
        [
         "7039",
         "1167.34909",
         "16356.93057",
         "1"
        ],
        [
         "1509",
         "607.2000058",
         "36615.82944",
         "0"
        ],
        [
         "4368",
         "605.1244322",
         "29769.97835",
         "0"
        ],
        [
         "7717",
         "1067.273201",
         "50647.8724",
         "0"
        ],
        [
         "6537",
         "1613.714114",
         "47151.60976",
         "0"
        ],
        [
         "1387",
         "664.8163017",
         "32894.80407",
         "0"
        ],
        [
         "5485",
         "874.4787423",
         "33485.52051",
         "0"
        ],
        [
         "1516",
         "933.7116933",
         "11810.55457",
         "1"
        ],
        [
         "147",
         "1258.567393",
         "44931.67492",
         "0"
        ],
        [
         "6918",
         "802.8571022",
         "45806.19917",
         "0"
        ],
        [
         "6147",
         "1056.443662",
         "31268.737",
         "0"
        ],
        [
         "4574",
         "812.5880324",
         "43980.13997",
         "0"
        ],
        [
         "6064",
         "123.2860681",
         "47467.95895",
         "0"
        ],
        [
         "4351",
         "138.6207393",
         "50249.41724",
         "0"
        ],
        [
         "3918",
         "1120.030273",
         "19170.45835",
         "1"
        ],
        [
         "3433",
         "848.2344863",
         "35186.5775",
         "0"
        ],
        [
         "2568",
         "978.6521803",
         "25742.11973",
         "0"
        ],
        [
         "8500",
         "592.2969458",
         "19744.97839",
         "1"
        ],
        [
         "6563",
         "599.8796698",
         "51733.82517",
         "0"
        ],
        [
         "1479",
         "657.5321356",
         "19395.73893",
         "1"
        ],
        [
         "7901",
         "0.0",
         "29021.74528",
         "0"
        ],
        [
         "7690",
         "659.8089468",
         "39712.95892",
         "0"
        ],
        [
         "6026",
         "969.3971625",
         "17686.562",
         "1"
        ],
        [
         "4633",
         "1063.155675",
         "34642.06476",
         "0"
        ],
        [
         "7704",
         "28.78977602",
         "55369.20139",
         "0"
        ],
        [
         "566",
         "1273.55072",
         "23126.6362",
         "1"
        ],
        [
         "2026",
         "634.8650438",
         "49681.22453",
         "0"
        ],
        [
         "6674",
         "1165.812599",
         "47005.57329",
         "0"
        ],
        [
         "3106",
         "684.0849049",
         "38184.56838",
         "0"
        ],
        [
         "770",
         "1172.459499",
         "34690.13828",
         "0"
        ],
        [
         "8568",
         "339.6768042",
         "43308.9659",
         "0"
        ],
        [
         "5298",
         "1454.981589",
         "43821.22135",
         "0"
        ],
        [
         "472",
         "837.4125669",
         "37400.49288",
         "0"
        ],
        [
         "7329",
         "1292.160161",
         "39387.68824",
         "0"
        ],
        [
         "1728",
         "1737.607593",
         "7153.539666",
         "1"
        ],
        [
         "545",
         "1465.210164",
         "58699.9832",
         "0"
        ],
        [
         "8064",
         "678.2050836",
         "12787.09057",
         "1"
        ],
        [
         "6089",
         "1066.296558",
         "42247.77855",
         "0"
        ],
        [
         "279",
         "369.2219425",
         "47835.09105",
         "0"
        ],
        [
         "2912",
         "1258.069534",
         "36645.14057",
         "0"
        ],
        [
         "1146",
         "422.9140174",
         "18787.33703",
         "1"
        ],
        [
         "6908",
         "614.5385663",
         "33811.98762",
         "0"
        ],
        [
         "6256",
         "1345.563131",
         "38602.11298",
         "0"
        ],
        [
         "7029",
         "438.5165083",
         "36838.88203",
         "0"
        ],
        [
         "4087",
         "1808.722658",
         "30020.6429",
         "0"
        ],
        [
         "659",
         "465.0628886",
         "20379.06209",
         "1"
        ]
       ],
       "shape": {
        "columns": 3,
        "rows": 8000
       }
      },
      "text/html": [
       "<div>\n",
       "<style scoped>\n",
       "    .dataframe tbody tr th:only-of-type {\n",
       "        vertical-align: middle;\n",
       "    }\n",
       "\n",
       "    .dataframe tbody tr th {\n",
       "        vertical-align: top;\n",
       "    }\n",
       "\n",
       "    .dataframe thead th {\n",
       "        text-align: right;\n",
       "    }\n",
       "</style>\n",
       "<table border=\"1\" class=\"dataframe\">\n",
       "  <thead>\n",
       "    <tr style=\"text-align: right;\">\n",
       "      <th></th>\n",
       "      <th>balance</th>\n",
       "      <th>income</th>\n",
       "      <th>studnet</th>\n",
       "    </tr>\n",
       "  </thead>\n",
       "  <tbody>\n",
       "    <tr>\n",
       "      <th>5697</th>\n",
       "      <td>380.173508</td>\n",
       "      <td>37395.71893</td>\n",
       "      <td>0</td>\n",
       "    </tr>\n",
       "    <tr>\n",
       "      <th>615</th>\n",
       "      <td>1052.393260</td>\n",
       "      <td>37637.65931</td>\n",
       "      <td>0</td>\n",
       "    </tr>\n",
       "    <tr>\n",
       "      <th>2733</th>\n",
       "      <td>813.494838</td>\n",
       "      <td>16681.35030</td>\n",
       "      <td>1</td>\n",
       "    </tr>\n",
       "    <tr>\n",
       "      <th>5961</th>\n",
       "      <td>0.000000</td>\n",
       "      <td>56610.23650</td>\n",
       "      <td>0</td>\n",
       "    </tr>\n",
       "    <tr>\n",
       "      <th>7039</th>\n",
       "      <td>1167.349090</td>\n",
       "      <td>16356.93057</td>\n",
       "      <td>1</td>\n",
       "    </tr>\n",
       "    <tr>\n",
       "      <th>...</th>\n",
       "      <td>...</td>\n",
       "      <td>...</td>\n",
       "      <td>...</td>\n",
       "    </tr>\n",
       "    <tr>\n",
       "      <th>2398</th>\n",
       "      <td>1046.416673</td>\n",
       "      <td>47598.30737</td>\n",
       "      <td>0</td>\n",
       "    </tr>\n",
       "    <tr>\n",
       "      <th>3776</th>\n",
       "      <td>664.511520</td>\n",
       "      <td>47878.83383</td>\n",
       "      <td>0</td>\n",
       "    </tr>\n",
       "    <tr>\n",
       "      <th>6215</th>\n",
       "      <td>0.000000</td>\n",
       "      <td>41960.17450</td>\n",
       "      <td>0</td>\n",
       "    </tr>\n",
       "    <tr>\n",
       "      <th>4695</th>\n",
       "      <td>203.300081</td>\n",
       "      <td>53055.69443</td>\n",
       "      <td>0</td>\n",
       "    </tr>\n",
       "    <tr>\n",
       "      <th>9651</th>\n",
       "      <td>1170.911536</td>\n",
       "      <td>19473.69193</td>\n",
       "      <td>1</td>\n",
       "    </tr>\n",
       "  </tbody>\n",
       "</table>\n",
       "<p>8000 rows × 3 columns</p>\n",
       "</div>"
      ],
      "text/plain": [
       "          balance       income  studnet\n",
       "5697   380.173508  37395.71893        0\n",
       "615   1052.393260  37637.65931        0\n",
       "2733   813.494838  16681.35030        1\n",
       "5961     0.000000  56610.23650        0\n",
       "7039  1167.349090  16356.93057        1\n",
       "...           ...          ...      ...\n",
       "2398  1046.416673  47598.30737        0\n",
       "3776   664.511520  47878.83383        0\n",
       "6215     0.000000  41960.17450        0\n",
       "4695   203.300081  53055.69443        0\n",
       "9651  1170.911536  19473.69193        1\n",
       "\n",
       "[8000 rows x 3 columns]"
      ]
     },
     "execution_count": 79,
     "metadata": {},
     "output_type": "execute_result"
    }
   ],
   "source": [
    "X_train"
   ]
  },
  {
   "cell_type": "code",
   "execution_count": 80,
   "id": "9c045b1c",
   "metadata": {},
   "outputs": [
    {
     "data": {
      "application/vnd.microsoft.datawrangler.viewer.v0+json": {
       "columns": [
        {
         "name": "index",
         "rawType": "int64",
         "type": "integer"
        },
        {
         "name": "default",
         "rawType": "int64",
         "type": "integer"
        }
       ],
       "ref": "f91b04e3-0edb-428e-aca2-409b49837f81",
       "rows": [
        [
         "5697",
         "0"
        ],
        [
         "615",
         "0"
        ],
        [
         "2733",
         "0"
        ],
        [
         "5961",
         "0"
        ],
        [
         "7039",
         "0"
        ],
        [
         "1509",
         "0"
        ],
        [
         "4368",
         "0"
        ],
        [
         "7717",
         "0"
        ],
        [
         "6537",
         "0"
        ],
        [
         "1387",
         "0"
        ],
        [
         "5485",
         "0"
        ],
        [
         "1516",
         "0"
        ],
        [
         "147",
         "0"
        ],
        [
         "6918",
         "0"
        ],
        [
         "6147",
         "0"
        ],
        [
         "4574",
         "0"
        ],
        [
         "6064",
         "0"
        ],
        [
         "4351",
         "0"
        ],
        [
         "3918",
         "0"
        ],
        [
         "3433",
         "0"
        ],
        [
         "2568",
         "0"
        ],
        [
         "8500",
         "0"
        ],
        [
         "6563",
         "0"
        ],
        [
         "1479",
         "0"
        ],
        [
         "7901",
         "0"
        ],
        [
         "7690",
         "0"
        ],
        [
         "6026",
         "0"
        ],
        [
         "4633",
         "0"
        ],
        [
         "7704",
         "0"
        ],
        [
         "566",
         "0"
        ],
        [
         "2026",
         "0"
        ],
        [
         "6674",
         "0"
        ],
        [
         "3106",
         "0"
        ],
        [
         "770",
         "0"
        ],
        [
         "8568",
         "0"
        ],
        [
         "5298",
         "0"
        ],
        [
         "472",
         "0"
        ],
        [
         "7329",
         "0"
        ],
        [
         "1728",
         "0"
        ],
        [
         "545",
         "1"
        ],
        [
         "8064",
         "0"
        ],
        [
         "6089",
         "0"
        ],
        [
         "279",
         "0"
        ],
        [
         "2912",
         "0"
        ],
        [
         "1146",
         "0"
        ],
        [
         "6908",
         "0"
        ],
        [
         "6256",
         "0"
        ],
        [
         "7029",
         "0"
        ],
        [
         "4087",
         "0"
        ],
        [
         "659",
         "0"
        ]
       ],
       "shape": {
        "columns": 1,
        "rows": 8000
       }
      },
      "text/plain": [
       "5697    0\n",
       "615     0\n",
       "2733    0\n",
       "5961    0\n",
       "7039    0\n",
       "       ..\n",
       "2398    0\n",
       "3776    0\n",
       "6215    0\n",
       "4695    0\n",
       "9651    0\n",
       "Name: default, Length: 8000, dtype: int64"
      ]
     },
     "execution_count": 80,
     "metadata": {},
     "output_type": "execute_result"
    }
   ],
   "source": [
    "y_train"
   ]
  },
  {
   "cell_type": "markdown",
   "id": "3cfe3cb8",
   "metadata": {},
   "source": [
    "### Logistic Regression "
   ]
  },
  {
   "cell_type": "code",
   "execution_count": 81,
   "id": "83d0cfd2",
   "metadata": {},
   "outputs": [],
   "source": [
    "from sklearn.linear_model import LogisticRegression"
   ]
  },
  {
   "cell_type": "code",
   "execution_count": null,
   "id": "60dcf0c9",
   "metadata": {},
   "outputs": [],
   "source": [
    "# Fitting the test\n",
    "log\n"
   ]
  }
 ],
 "metadata": {
  "kernelspec": {
   "display_name": "machine-learning-env",
   "language": "python",
   "name": "python3"
  },
  "language_info": {
   "codemirror_mode": {
    "name": "ipython",
    "version": 3
   },
   "file_extension": ".py",
   "mimetype": "text/x-python",
   "name": "python",
   "nbconvert_exporter": "python",
   "pygments_lexer": "ipython3",
   "version": "3.10.13"
  }
 },
 "nbformat": 4,
 "nbformat_minor": 5
}
