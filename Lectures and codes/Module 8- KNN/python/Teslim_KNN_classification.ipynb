{
 "cells": [
  {
   "cell_type": "markdown",
   "id": "b12f1bc6",
   "metadata": {},
   "source": [
    "# K Nearest Neigbors (KNN) - Classification"
   ]
  },
  {
   "cell_type": "code",
   "execution_count": 24,
   "id": "d44eb851",
   "metadata": {},
   "outputs": [],
   "source": [
    "# Core libraries\n",
    "import numpy as np\n",
    "import pandas as pd\n",
    "\n",
    "# Visualization\n",
    "import matplotlib.pyplot as plt\n",
    "import seaborn as sns\n",
    "try:\n",
    "    sns.set_theme()  # Use seaborn themes with matplotlib (newer versions)\n",
    "except AttributeError:  # Fallback for older seaborn versions\n",
    "    sns.set()\n",
    "\n",
    "# Warnings\n",
    "import warnings\n",
    "warnings.filterwarnings('ignore')\n",
    "\n",
    "# Scikit-learn for KNN Classification\n",
    "from sklearn.model_selection import train_test_split\n",
    "from sklearn.preprocessing import StandardScaler\n",
    "from sklearn.neighbors import KNeighborsClassifier\n",
    "from sklearn.metrics import accuracy_score, classification_report, confusion_matrix"
   ]
  },
  {
   "cell_type": "code",
   "execution_count": 25,
   "id": "41b1cead",
   "metadata": {},
   "outputs": [],
   "source": [
    "rand_state = 1000"
   ]
  },
  {
   "cell_type": "code",
   "execution_count": 26,
   "id": "0f58a2fa",
   "metadata": {},
   "outputs": [
    {
     "data": {
      "application/vnd.microsoft.datawrangler.viewer.v0+json": {
       "columns": [
        {
         "name": "index",
         "rawType": "int64",
         "type": "integer"
        },
        {
         "name": "User ID",
         "rawType": "int64",
         "type": "integer"
        },
        {
         "name": "Gender",
         "rawType": "object",
         "type": "string"
        },
        {
         "name": "Age",
         "rawType": "int64",
         "type": "integer"
        },
        {
         "name": "EstimatedSalary",
         "rawType": "int64",
         "type": "integer"
        },
        {
         "name": "Purchased",
         "rawType": "int64",
         "type": "integer"
        }
       ],
       "ref": "9f96f47a-6d23-42c6-98bb-8e068917e084",
       "rows": [
        [
         "0",
         "15624510",
         "Male",
         "19",
         "19000",
         "0"
        ],
        [
         "1",
         "15810944",
         "Male",
         "35",
         "20000",
         "0"
        ],
        [
         "2",
         "15668575",
         "Female",
         "26",
         "43000",
         "0"
        ],
        [
         "3",
         "15603246",
         "Female",
         "27",
         "57000",
         "0"
        ],
        [
         "4",
         "15804002",
         "Male",
         "19",
         "76000",
         "0"
        ],
        [
         "5",
         "15728773",
         "Male",
         "27",
         "58000",
         "0"
        ],
        [
         "6",
         "15598044",
         "Female",
         "27",
         "84000",
         "0"
        ],
        [
         "7",
         "15694829",
         "Female",
         "32",
         "150000",
         "1"
        ],
        [
         "8",
         "15600575",
         "Male",
         "25",
         "33000",
         "0"
        ],
        [
         "9",
         "15727311",
         "Female",
         "35",
         "65000",
         "0"
        ],
        [
         "10",
         "15570769",
         "Female",
         "26",
         "80000",
         "0"
        ],
        [
         "11",
         "15606274",
         "Female",
         "26",
         "52000",
         "0"
        ],
        [
         "12",
         "15746139",
         "Male",
         "20",
         "86000",
         "0"
        ],
        [
         "13",
         "15704987",
         "Male",
         "32",
         "18000",
         "0"
        ],
        [
         "14",
         "15628972",
         "Male",
         "18",
         "82000",
         "0"
        ],
        [
         "15",
         "15697686",
         "Male",
         "29",
         "80000",
         "0"
        ],
        [
         "16",
         "15733883",
         "Male",
         "47",
         "25000",
         "1"
        ],
        [
         "17",
         "15617482",
         "Male",
         "45",
         "26000",
         "1"
        ],
        [
         "18",
         "15704583",
         "Male",
         "46",
         "28000",
         "1"
        ],
        [
         "19",
         "15621083",
         "Female",
         "48",
         "29000",
         "1"
        ],
        [
         "20",
         "15649487",
         "Male",
         "45",
         "22000",
         "1"
        ],
        [
         "21",
         "15736760",
         "Female",
         "47",
         "49000",
         "1"
        ],
        [
         "22",
         "15714658",
         "Male",
         "48",
         "41000",
         "1"
        ],
        [
         "23",
         "15599081",
         "Female",
         "45",
         "22000",
         "1"
        ],
        [
         "24",
         "15705113",
         "Male",
         "46",
         "23000",
         "1"
        ],
        [
         "25",
         "15631159",
         "Male",
         "47",
         "20000",
         "1"
        ],
        [
         "26",
         "15792818",
         "Male",
         "49",
         "28000",
         "1"
        ],
        [
         "27",
         "15633531",
         "Female",
         "47",
         "30000",
         "1"
        ],
        [
         "28",
         "15744529",
         "Male",
         "29",
         "43000",
         "0"
        ],
        [
         "29",
         "15669656",
         "Male",
         "31",
         "18000",
         "0"
        ],
        [
         "30",
         "15581198",
         "Male",
         "31",
         "74000",
         "0"
        ],
        [
         "31",
         "15729054",
         "Female",
         "27",
         "137000",
         "1"
        ],
        [
         "32",
         "15573452",
         "Female",
         "21",
         "16000",
         "0"
        ],
        [
         "33",
         "15776733",
         "Female",
         "28",
         "44000",
         "0"
        ],
        [
         "34",
         "15724858",
         "Male",
         "27",
         "90000",
         "0"
        ],
        [
         "35",
         "15713144",
         "Male",
         "35",
         "27000",
         "0"
        ],
        [
         "36",
         "15690188",
         "Female",
         "33",
         "28000",
         "0"
        ],
        [
         "37",
         "15689425",
         "Male",
         "30",
         "49000",
         "0"
        ],
        [
         "38",
         "15671766",
         "Female",
         "26",
         "72000",
         "0"
        ],
        [
         "39",
         "15782806",
         "Female",
         "27",
         "31000",
         "0"
        ],
        [
         "40",
         "15764419",
         "Female",
         "27",
         "17000",
         "0"
        ],
        [
         "41",
         "15591915",
         "Female",
         "33",
         "51000",
         "0"
        ],
        [
         "42",
         "15772798",
         "Male",
         "35",
         "108000",
         "0"
        ],
        [
         "43",
         "15792008",
         "Male",
         "30",
         "15000",
         "0"
        ],
        [
         "44",
         "15715541",
         "Female",
         "28",
         "84000",
         "0"
        ],
        [
         "45",
         "15639277",
         "Male",
         "23",
         "20000",
         "0"
        ],
        [
         "46",
         "15798850",
         "Male",
         "25",
         "79000",
         "0"
        ],
        [
         "47",
         "15776348",
         "Female",
         "27",
         "54000",
         "0"
        ],
        [
         "48",
         "15727696",
         "Male",
         "30",
         "135000",
         "1"
        ],
        [
         "49",
         "15793813",
         "Female",
         "31",
         "89000",
         "0"
        ]
       ],
       "shape": {
        "columns": 5,
        "rows": 400
       }
      },
      "text/html": [
       "<div>\n",
       "<style scoped>\n",
       "    .dataframe tbody tr th:only-of-type {\n",
       "        vertical-align: middle;\n",
       "    }\n",
       "\n",
       "    .dataframe tbody tr th {\n",
       "        vertical-align: top;\n",
       "    }\n",
       "\n",
       "    .dataframe thead th {\n",
       "        text-align: right;\n",
       "    }\n",
       "</style>\n",
       "<table border=\"1\" class=\"dataframe\">\n",
       "  <thead>\n",
       "    <tr style=\"text-align: right;\">\n",
       "      <th></th>\n",
       "      <th>User ID</th>\n",
       "      <th>Gender</th>\n",
       "      <th>Age</th>\n",
       "      <th>EstimatedSalary</th>\n",
       "      <th>Purchased</th>\n",
       "    </tr>\n",
       "  </thead>\n",
       "  <tbody>\n",
       "    <tr>\n",
       "      <th>0</th>\n",
       "      <td>15624510</td>\n",
       "      <td>Male</td>\n",
       "      <td>19</td>\n",
       "      <td>19000</td>\n",
       "      <td>0</td>\n",
       "    </tr>\n",
       "    <tr>\n",
       "      <th>1</th>\n",
       "      <td>15810944</td>\n",
       "      <td>Male</td>\n",
       "      <td>35</td>\n",
       "      <td>20000</td>\n",
       "      <td>0</td>\n",
       "    </tr>\n",
       "    <tr>\n",
       "      <th>2</th>\n",
       "      <td>15668575</td>\n",
       "      <td>Female</td>\n",
       "      <td>26</td>\n",
       "      <td>43000</td>\n",
       "      <td>0</td>\n",
       "    </tr>\n",
       "    <tr>\n",
       "      <th>3</th>\n",
       "      <td>15603246</td>\n",
       "      <td>Female</td>\n",
       "      <td>27</td>\n",
       "      <td>57000</td>\n",
       "      <td>0</td>\n",
       "    </tr>\n",
       "    <tr>\n",
       "      <th>4</th>\n",
       "      <td>15804002</td>\n",
       "      <td>Male</td>\n",
       "      <td>19</td>\n",
       "      <td>76000</td>\n",
       "      <td>0</td>\n",
       "    </tr>\n",
       "    <tr>\n",
       "      <th>...</th>\n",
       "      <td>...</td>\n",
       "      <td>...</td>\n",
       "      <td>...</td>\n",
       "      <td>...</td>\n",
       "      <td>...</td>\n",
       "    </tr>\n",
       "    <tr>\n",
       "      <th>395</th>\n",
       "      <td>15691863</td>\n",
       "      <td>Female</td>\n",
       "      <td>46</td>\n",
       "      <td>41000</td>\n",
       "      <td>1</td>\n",
       "    </tr>\n",
       "    <tr>\n",
       "      <th>396</th>\n",
       "      <td>15706071</td>\n",
       "      <td>Male</td>\n",
       "      <td>51</td>\n",
       "      <td>23000</td>\n",
       "      <td>1</td>\n",
       "    </tr>\n",
       "    <tr>\n",
       "      <th>397</th>\n",
       "      <td>15654296</td>\n",
       "      <td>Female</td>\n",
       "      <td>50</td>\n",
       "      <td>20000</td>\n",
       "      <td>1</td>\n",
       "    </tr>\n",
       "    <tr>\n",
       "      <th>398</th>\n",
       "      <td>15755018</td>\n",
       "      <td>Male</td>\n",
       "      <td>36</td>\n",
       "      <td>33000</td>\n",
       "      <td>0</td>\n",
       "    </tr>\n",
       "    <tr>\n",
       "      <th>399</th>\n",
       "      <td>15594041</td>\n",
       "      <td>Female</td>\n",
       "      <td>49</td>\n",
       "      <td>36000</td>\n",
       "      <td>1</td>\n",
       "    </tr>\n",
       "  </tbody>\n",
       "</table>\n",
       "<p>400 rows × 5 columns</p>\n",
       "</div>"
      ],
      "text/plain": [
       "      User ID  Gender  Age  EstimatedSalary  Purchased\n",
       "0    15624510    Male   19            19000          0\n",
       "1    15810944    Male   35            20000          0\n",
       "2    15668575  Female   26            43000          0\n",
       "3    15603246  Female   27            57000          0\n",
       "4    15804002    Male   19            76000          0\n",
       "..        ...     ...  ...              ...        ...\n",
       "395  15691863  Female   46            41000          1\n",
       "396  15706071    Male   51            23000          1\n",
       "397  15654296  Female   50            20000          1\n",
       "398  15755018    Male   36            33000          0\n",
       "399  15594041  Female   49            36000          1\n",
       "\n",
       "[400 rows x 5 columns]"
      ]
     },
     "execution_count": 26,
     "metadata": {},
     "output_type": "execute_result"
    }
   ],
   "source": [
    "df = pd.read_csv(\"Social_Network_Ads.csv\")\n",
    "df"
   ]
  },
  {
   "cell_type": "code",
   "execution_count": 27,
   "id": "3d89832b",
   "metadata": {},
   "outputs": [
    {
     "name": "stdout",
     "output_type": "stream",
     "text": [
      "<class 'pandas.core.frame.DataFrame'>\n",
      "RangeIndex: 400 entries, 0 to 399\n",
      "Data columns (total 5 columns):\n",
      " #   Column           Non-Null Count  Dtype \n",
      "---  ------           --------------  ----- \n",
      " 0   User ID          400 non-null    int64 \n",
      " 1   Gender           400 non-null    object\n",
      " 2   Age              400 non-null    int64 \n",
      " 3   EstimatedSalary  400 non-null    int64 \n",
      " 4   Purchased        400 non-null    int64 \n",
      "dtypes: int64(4), object(1)\n",
      "memory usage: 15.8+ KB\n"
     ]
    }
   ],
   "source": [
    "df.info()"
   ]
  },
  {
   "cell_type": "code",
   "execution_count": 28,
   "id": "c5cddec1",
   "metadata": {},
   "outputs": [],
   "source": [
    "def clean_column_header(df):\n",
    "    df.columns = df.columns.str.strip().str.lower().str.replace(' ', '_')\n",
    "    return df\n",
    "\n",
    "# calling the function\n",
    "df = clean_column_header(df)"
   ]
  },
  {
   "cell_type": "code",
   "execution_count": 29,
   "id": "51736184",
   "metadata": {},
   "outputs": [
    {
     "data": {
      "application/vnd.microsoft.datawrangler.viewer.v0+json": {
       "columns": [
        {
         "name": "index",
         "rawType": "int64",
         "type": "integer"
        },
        {
         "name": "user_id",
         "rawType": "int64",
         "type": "integer"
        },
        {
         "name": "gender",
         "rawType": "object",
         "type": "string"
        },
        {
         "name": "age",
         "rawType": "int64",
         "type": "integer"
        },
        {
         "name": "estimatedsalary",
         "rawType": "int64",
         "type": "integer"
        },
        {
         "name": "purchased",
         "rawType": "int64",
         "type": "integer"
        }
       ],
       "ref": "6a124cc3-443f-400f-beba-1bbf69ad7481",
       "rows": [
        [
         "0",
         "15624510",
         "Male",
         "19",
         "19000",
         "0"
        ],
        [
         "1",
         "15810944",
         "Male",
         "35",
         "20000",
         "0"
        ],
        [
         "2",
         "15668575",
         "Female",
         "26",
         "43000",
         "0"
        ],
        [
         "3",
         "15603246",
         "Female",
         "27",
         "57000",
         "0"
        ],
        [
         "4",
         "15804002",
         "Male",
         "19",
         "76000",
         "0"
        ],
        [
         "5",
         "15728773",
         "Male",
         "27",
         "58000",
         "0"
        ],
        [
         "6",
         "15598044",
         "Female",
         "27",
         "84000",
         "0"
        ],
        [
         "7",
         "15694829",
         "Female",
         "32",
         "150000",
         "1"
        ],
        [
         "8",
         "15600575",
         "Male",
         "25",
         "33000",
         "0"
        ],
        [
         "9",
         "15727311",
         "Female",
         "35",
         "65000",
         "0"
        ],
        [
         "10",
         "15570769",
         "Female",
         "26",
         "80000",
         "0"
        ],
        [
         "11",
         "15606274",
         "Female",
         "26",
         "52000",
         "0"
        ],
        [
         "12",
         "15746139",
         "Male",
         "20",
         "86000",
         "0"
        ],
        [
         "13",
         "15704987",
         "Male",
         "32",
         "18000",
         "0"
        ],
        [
         "14",
         "15628972",
         "Male",
         "18",
         "82000",
         "0"
        ],
        [
         "15",
         "15697686",
         "Male",
         "29",
         "80000",
         "0"
        ],
        [
         "16",
         "15733883",
         "Male",
         "47",
         "25000",
         "1"
        ],
        [
         "17",
         "15617482",
         "Male",
         "45",
         "26000",
         "1"
        ],
        [
         "18",
         "15704583",
         "Male",
         "46",
         "28000",
         "1"
        ],
        [
         "19",
         "15621083",
         "Female",
         "48",
         "29000",
         "1"
        ],
        [
         "20",
         "15649487",
         "Male",
         "45",
         "22000",
         "1"
        ],
        [
         "21",
         "15736760",
         "Female",
         "47",
         "49000",
         "1"
        ],
        [
         "22",
         "15714658",
         "Male",
         "48",
         "41000",
         "1"
        ],
        [
         "23",
         "15599081",
         "Female",
         "45",
         "22000",
         "1"
        ],
        [
         "24",
         "15705113",
         "Male",
         "46",
         "23000",
         "1"
        ],
        [
         "25",
         "15631159",
         "Male",
         "47",
         "20000",
         "1"
        ],
        [
         "26",
         "15792818",
         "Male",
         "49",
         "28000",
         "1"
        ],
        [
         "27",
         "15633531",
         "Female",
         "47",
         "30000",
         "1"
        ],
        [
         "28",
         "15744529",
         "Male",
         "29",
         "43000",
         "0"
        ],
        [
         "29",
         "15669656",
         "Male",
         "31",
         "18000",
         "0"
        ],
        [
         "30",
         "15581198",
         "Male",
         "31",
         "74000",
         "0"
        ],
        [
         "31",
         "15729054",
         "Female",
         "27",
         "137000",
         "1"
        ],
        [
         "32",
         "15573452",
         "Female",
         "21",
         "16000",
         "0"
        ],
        [
         "33",
         "15776733",
         "Female",
         "28",
         "44000",
         "0"
        ],
        [
         "34",
         "15724858",
         "Male",
         "27",
         "90000",
         "0"
        ],
        [
         "35",
         "15713144",
         "Male",
         "35",
         "27000",
         "0"
        ],
        [
         "36",
         "15690188",
         "Female",
         "33",
         "28000",
         "0"
        ],
        [
         "37",
         "15689425",
         "Male",
         "30",
         "49000",
         "0"
        ],
        [
         "38",
         "15671766",
         "Female",
         "26",
         "72000",
         "0"
        ],
        [
         "39",
         "15782806",
         "Female",
         "27",
         "31000",
         "0"
        ],
        [
         "40",
         "15764419",
         "Female",
         "27",
         "17000",
         "0"
        ],
        [
         "41",
         "15591915",
         "Female",
         "33",
         "51000",
         "0"
        ],
        [
         "42",
         "15772798",
         "Male",
         "35",
         "108000",
         "0"
        ],
        [
         "43",
         "15792008",
         "Male",
         "30",
         "15000",
         "0"
        ],
        [
         "44",
         "15715541",
         "Female",
         "28",
         "84000",
         "0"
        ],
        [
         "45",
         "15639277",
         "Male",
         "23",
         "20000",
         "0"
        ],
        [
         "46",
         "15798850",
         "Male",
         "25",
         "79000",
         "0"
        ],
        [
         "47",
         "15776348",
         "Female",
         "27",
         "54000",
         "0"
        ],
        [
         "48",
         "15727696",
         "Male",
         "30",
         "135000",
         "1"
        ],
        [
         "49",
         "15793813",
         "Female",
         "31",
         "89000",
         "0"
        ]
       ],
       "shape": {
        "columns": 5,
        "rows": 400
       }
      },
      "text/html": [
       "<div>\n",
       "<style scoped>\n",
       "    .dataframe tbody tr th:only-of-type {\n",
       "        vertical-align: middle;\n",
       "    }\n",
       "\n",
       "    .dataframe tbody tr th {\n",
       "        vertical-align: top;\n",
       "    }\n",
       "\n",
       "    .dataframe thead th {\n",
       "        text-align: right;\n",
       "    }\n",
       "</style>\n",
       "<table border=\"1\" class=\"dataframe\">\n",
       "  <thead>\n",
       "    <tr style=\"text-align: right;\">\n",
       "      <th></th>\n",
       "      <th>user_id</th>\n",
       "      <th>gender</th>\n",
       "      <th>age</th>\n",
       "      <th>estimatedsalary</th>\n",
       "      <th>purchased</th>\n",
       "    </tr>\n",
       "  </thead>\n",
       "  <tbody>\n",
       "    <tr>\n",
       "      <th>0</th>\n",
       "      <td>15624510</td>\n",
       "      <td>Male</td>\n",
       "      <td>19</td>\n",
       "      <td>19000</td>\n",
       "      <td>0</td>\n",
       "    </tr>\n",
       "    <tr>\n",
       "      <th>1</th>\n",
       "      <td>15810944</td>\n",
       "      <td>Male</td>\n",
       "      <td>35</td>\n",
       "      <td>20000</td>\n",
       "      <td>0</td>\n",
       "    </tr>\n",
       "    <tr>\n",
       "      <th>2</th>\n",
       "      <td>15668575</td>\n",
       "      <td>Female</td>\n",
       "      <td>26</td>\n",
       "      <td>43000</td>\n",
       "      <td>0</td>\n",
       "    </tr>\n",
       "    <tr>\n",
       "      <th>3</th>\n",
       "      <td>15603246</td>\n",
       "      <td>Female</td>\n",
       "      <td>27</td>\n",
       "      <td>57000</td>\n",
       "      <td>0</td>\n",
       "    </tr>\n",
       "    <tr>\n",
       "      <th>4</th>\n",
       "      <td>15804002</td>\n",
       "      <td>Male</td>\n",
       "      <td>19</td>\n",
       "      <td>76000</td>\n",
       "      <td>0</td>\n",
       "    </tr>\n",
       "    <tr>\n",
       "      <th>...</th>\n",
       "      <td>...</td>\n",
       "      <td>...</td>\n",
       "      <td>...</td>\n",
       "      <td>...</td>\n",
       "      <td>...</td>\n",
       "    </tr>\n",
       "    <tr>\n",
       "      <th>395</th>\n",
       "      <td>15691863</td>\n",
       "      <td>Female</td>\n",
       "      <td>46</td>\n",
       "      <td>41000</td>\n",
       "      <td>1</td>\n",
       "    </tr>\n",
       "    <tr>\n",
       "      <th>396</th>\n",
       "      <td>15706071</td>\n",
       "      <td>Male</td>\n",
       "      <td>51</td>\n",
       "      <td>23000</td>\n",
       "      <td>1</td>\n",
       "    </tr>\n",
       "    <tr>\n",
       "      <th>397</th>\n",
       "      <td>15654296</td>\n",
       "      <td>Female</td>\n",
       "      <td>50</td>\n",
       "      <td>20000</td>\n",
       "      <td>1</td>\n",
       "    </tr>\n",
       "    <tr>\n",
       "      <th>398</th>\n",
       "      <td>15755018</td>\n",
       "      <td>Male</td>\n",
       "      <td>36</td>\n",
       "      <td>33000</td>\n",
       "      <td>0</td>\n",
       "    </tr>\n",
       "    <tr>\n",
       "      <th>399</th>\n",
       "      <td>15594041</td>\n",
       "      <td>Female</td>\n",
       "      <td>49</td>\n",
       "      <td>36000</td>\n",
       "      <td>1</td>\n",
       "    </tr>\n",
       "  </tbody>\n",
       "</table>\n",
       "<p>400 rows × 5 columns</p>\n",
       "</div>"
      ],
      "text/plain": [
       "      user_id  gender  age  estimatedsalary  purchased\n",
       "0    15624510    Male   19            19000          0\n",
       "1    15810944    Male   35            20000          0\n",
       "2    15668575  Female   26            43000          0\n",
       "3    15603246  Female   27            57000          0\n",
       "4    15804002    Male   19            76000          0\n",
       "..        ...     ...  ...              ...        ...\n",
       "395  15691863  Female   46            41000          1\n",
       "396  15706071    Male   51            23000          1\n",
       "397  15654296  Female   50            20000          1\n",
       "398  15755018    Male   36            33000          0\n",
       "399  15594041  Female   49            36000          1\n",
       "\n",
       "[400 rows x 5 columns]"
      ]
     },
     "execution_count": 29,
     "metadata": {},
     "output_type": "execute_result"
    }
   ],
   "source": [
    "df"
   ]
  },
  {
   "cell_type": "code",
   "execution_count": 30,
   "id": "ae4bbe53",
   "metadata": {},
   "outputs": [
    {
     "data": {
      "image/png": "[encoded data removed]",
      "text/plain": [
       "<Figure size 640x480 with 1 Axes>"
      ]
     },
     "metadata": {},
     "output_type": "display_data"
    }
   ],
   "source": [
    "# check the data proportion \n",
    "pd.crosstab(df['purchased'], df['purchased']).plot(kind='bar', stacked=True)\n",
    "plt.show()"
   ]
  },
  {
   "cell_type": "code",
   "execution_count": 31,
   "id": "794a0c99",
   "metadata": {},
   "outputs": [
    {
     "data": {
      "application/vnd.microsoft.datawrangler.viewer.v0+json": {
       "columns": [
        {
         "name": "purchased",
         "rawType": "int64",
         "type": "integer"
        },
        {
         "name": "0",
         "rawType": "float64",
         "type": "float"
        },
        {
         "name": "1",
         "rawType": "float64",
         "type": "float"
        }
       ],
       "ref": "ef493974-73f7-4e92-988e-091b4ca054eb",
       "rows": [
        [
         "0",
         "64.25",
         "0.0"
        ],
        [
         "1",
         "0.0",
         "35.75"
        ]
       ],
       "shape": {
        "columns": 2,
        "rows": 2
       }
      },
      "text/html": [
       "<div>\n",
       "<style scoped>\n",
       "    .dataframe tbody tr th:only-of-type {\n",
       "        vertical-align: middle;\n",
       "    }\n",
       "\n",
       "    .dataframe tbody tr th {\n",
       "        vertical-align: top;\n",
       "    }\n",
       "\n",
       "    .dataframe thead th {\n",
       "        text-align: right;\n",
       "    }\n",
       "</style>\n",
       "<table border=\"1\" class=\"dataframe\">\n",
       "  <thead>\n",
       "    <tr style=\"text-align: right;\">\n",
       "      <th>purchased</th>\n",
       "      <th>0</th>\n",
       "      <th>1</th>\n",
       "    </tr>\n",
       "    <tr>\n",
       "      <th>purchased</th>\n",
       "      <th></th>\n",
       "      <th></th>\n",
       "    </tr>\n",
       "  </thead>\n",
       "  <tbody>\n",
       "    <tr>\n",
       "      <th>0</th>\n",
       "      <td>64.25</td>\n",
       "      <td>0.00</td>\n",
       "    </tr>\n",
       "    <tr>\n",
       "      <th>1</th>\n",
       "      <td>0.00</td>\n",
       "      <td>35.75</td>\n",
       "    </tr>\n",
       "  </tbody>\n",
       "</table>\n",
       "</div>"
      ],
      "text/plain": [
       "purchased      0      1\n",
       "purchased              \n",
       "0          64.25   0.00\n",
       "1           0.00  35.75"
      ]
     },
     "execution_count": 31,
     "metadata": {},
     "output_type": "execute_result"
    }
   ],
   "source": [
    "pd.crosstab(df['purchased'], df['purchased'], normalize=True)*100"
   ]
  },
  {
   "cell_type": "code",
   "execution_count": 32,
   "id": "51eaad66",
   "metadata": {},
   "outputs": [],
   "source": [
    "# drop the user Id \n",
    "df.drop(columns=['user_id'], inplace=True)"
   ]
  },
  {
   "cell_type": "code",
   "execution_count": 33,
   "id": "b446b265",
   "metadata": {},
   "outputs": [
    {
     "data": {
      "application/vnd.microsoft.datawrangler.viewer.v0+json": {
       "columns": [
        {
         "name": "index",
         "rawType": "int64",
         "type": "integer"
        },
        {
         "name": "gender",
         "rawType": "object",
         "type": "string"
        },
        {
         "name": "age",
         "rawType": "int64",
         "type": "integer"
        },
        {
         "name": "estimatedsalary",
         "rawType": "int64",
         "type": "integer"
        },
        {
         "name": "purchased",
         "rawType": "int64",
         "type": "integer"
        }
       ],
       "ref": "ffef840e-d8f5-45e6-8d2a-6a9ba51d6363",
       "rows": [
        [
         "0",
         "Male",
         "19",
         "19000",
         "0"
        ],
        [
         "1",
         "Male",
         "35",
         "20000",
         "0"
        ],
        [
         "2",
         "Female",
         "26",
         "43000",
         "0"
        ],
        [
         "3",
         "Female",
         "27",
         "57000",
         "0"
        ],
        [
         "4",
         "Male",
         "19",
         "76000",
         "0"
        ],
        [
         "5",
         "Male",
         "27",
         "58000",
         "0"
        ],
        [
         "6",
         "Female",
         "27",
         "84000",
         "0"
        ],
        [
         "7",
         "Female",
         "32",
         "150000",
         "1"
        ],
        [
         "8",
         "Male",
         "25",
         "33000",
         "0"
        ],
        [
         "9",
         "Female",
         "35",
         "65000",
         "0"
        ],
        [
         "10",
         "Female",
         "26",
         "80000",
         "0"
        ],
        [
         "11",
         "Female",
         "26",
         "52000",
         "0"
        ],
        [
         "12",
         "Male",
         "20",
         "86000",
         "0"
        ],
        [
         "13",
         "Male",
         "32",
         "18000",
         "0"
        ],
        [
         "14",
         "Male",
         "18",
         "82000",
         "0"
        ],
        [
         "15",
         "Male",
         "29",
         "80000",
         "0"
        ],
        [
         "16",
         "Male",
         "47",
         "25000",
         "1"
        ],
        [
         "17",
         "Male",
         "45",
         "26000",
         "1"
        ],
        [
         "18",
         "Male",
         "46",
         "28000",
         "1"
        ],
        [
         "19",
         "Female",
         "48",
         "29000",
         "1"
        ],
        [
         "20",
         "Male",
         "45",
         "22000",
         "1"
        ],
        [
         "21",
         "Female",
         "47",
         "49000",
         "1"
        ],
        [
         "22",
         "Male",
         "48",
         "41000",
         "1"
        ],
        [
         "23",
         "Female",
         "45",
         "22000",
         "1"
        ],
        [
         "24",
         "Male",
         "46",
         "23000",
         "1"
        ],
        [
         "25",
         "Male",
         "47",
         "20000",
         "1"
        ],
        [
         "26",
         "Male",
         "49",
         "28000",
         "1"
        ],
        [
         "27",
         "Female",
         "47",
         "30000",
         "1"
        ],
        [
         "28",
         "Male",
         "29",
         "43000",
         "0"
        ],
        [
         "29",
         "Male",
         "31",
         "18000",
         "0"
        ],
        [
         "30",
         "Male",
         "31",
         "74000",
         "0"
        ],
        [
         "31",
         "Female",
         "27",
         "137000",
         "1"
        ],
        [
         "32",
         "Female",
         "21",
         "16000",
         "0"
        ],
        [
         "33",
         "Female",
         "28",
         "44000",
         "0"
        ],
        [
         "34",
         "Male",
         "27",
         "90000",
         "0"
        ],
        [
         "35",
         "Male",
         "35",
         "27000",
         "0"
        ],
        [
         "36",
         "Female",
         "33",
         "28000",
         "0"
        ],
        [
         "37",
         "Male",
         "30",
         "49000",
         "0"
        ],
        [
         "38",
         "Female",
         "26",
         "72000",
         "0"
        ],
        [
         "39",
         "Female",
         "27",
         "31000",
         "0"
        ],
        [
         "40",
         "Female",
         "27",
         "17000",
         "0"
        ],
        [
         "41",
         "Female",
         "33",
         "51000",
         "0"
        ],
        [
         "42",
         "Male",
         "35",
         "108000",
         "0"
        ],
        [
         "43",
         "Male",
         "30",
         "15000",
         "0"
        ],
        [
         "44",
         "Female",
         "28",
         "84000",
         "0"
        ],
        [
         "45",
         "Male",
         "23",
         "20000",
         "0"
        ],
        [
         "46",
         "Male",
         "25",
         "79000",
         "0"
        ],
        [
         "47",
         "Female",
         "27",
         "54000",
         "0"
        ],
        [
         "48",
         "Male",
         "30",
         "135000",
         "1"
        ],
        [
         "49",
         "Female",
         "31",
         "89000",
         "0"
        ]
       ],
       "shape": {
        "columns": 4,
        "rows": 400
       }
      },
      "text/html": [
       "<div>\n",
       "<style scoped>\n",
       "    .dataframe tbody tr th:only-of-type {\n",
       "        vertical-align: middle;\n",
       "    }\n",
       "\n",
       "    .dataframe tbody tr th {\n",
       "        vertical-align: top;\n",
       "    }\n",
       "\n",
       "    .dataframe thead th {\n",
       "        text-align: right;\n",
       "    }\n",
       "</style>\n",
       "<table border=\"1\" class=\"dataframe\">\n",
       "  <thead>\n",
       "    <tr style=\"text-align: right;\">\n",
       "      <th></th>\n",
       "      <th>gender</th>\n",
       "      <th>age</th>\n",
       "      <th>estimatedsalary</th>\n",
       "      <th>purchased</th>\n",
       "    </tr>\n",
       "  </thead>\n",
       "  <tbody>\n",
       "    <tr>\n",
       "      <th>0</th>\n",
       "      <td>Male</td>\n",
       "      <td>19</td>\n",
       "      <td>19000</td>\n",
       "      <td>0</td>\n",
       "    </tr>\n",
       "    <tr>\n",
       "      <th>1</th>\n",
       "      <td>Male</td>\n",
       "      <td>35</td>\n",
       "      <td>20000</td>\n",
       "      <td>0</td>\n",
       "    </tr>\n",
       "    <tr>\n",
       "      <th>2</th>\n",
       "      <td>Female</td>\n",
       "      <td>26</td>\n",
       "      <td>43000</td>\n",
       "      <td>0</td>\n",
       "    </tr>\n",
       "    <tr>\n",
       "      <th>3</th>\n",
       "      <td>Female</td>\n",
       "      <td>27</td>\n",
       "      <td>57000</td>\n",
       "      <td>0</td>\n",
       "    </tr>\n",
       "    <tr>\n",
       "      <th>4</th>\n",
       "      <td>Male</td>\n",
       "      <td>19</td>\n",
       "      <td>76000</td>\n",
       "      <td>0</td>\n",
       "    </tr>\n",
       "    <tr>\n",
       "      <th>...</th>\n",
       "      <td>...</td>\n",
       "      <td>...</td>\n",
       "      <td>...</td>\n",
       "      <td>...</td>\n",
       "    </tr>\n",
       "    <tr>\n",
       "      <th>395</th>\n",
       "      <td>Female</td>\n",
       "      <td>46</td>\n",
       "      <td>41000</td>\n",
       "      <td>1</td>\n",
       "    </tr>\n",
       "    <tr>\n",
       "      <th>396</th>\n",
       "      <td>Male</td>\n",
       "      <td>51</td>\n",
       "      <td>23000</td>\n",
       "      <td>1</td>\n",
       "    </tr>\n",
       "    <tr>\n",
       "      <th>397</th>\n",
       "      <td>Female</td>\n",
       "      <td>50</td>\n",
       "      <td>20000</td>\n",
       "      <td>1</td>\n",
       "    </tr>\n",
       "    <tr>\n",
       "      <th>398</th>\n",
       "      <td>Male</td>\n",
       "      <td>36</td>\n",
       "      <td>33000</td>\n",
       "      <td>0</td>\n",
       "    </tr>\n",
       "    <tr>\n",
       "      <th>399</th>\n",
       "      <td>Female</td>\n",
       "      <td>49</td>\n",
       "      <td>36000</td>\n",
       "      <td>1</td>\n",
       "    </tr>\n",
       "  </tbody>\n",
       "</table>\n",
       "<p>400 rows × 4 columns</p>\n",
       "</div>"
      ],
      "text/plain": [
       "     gender  age  estimatedsalary  purchased\n",
       "0      Male   19            19000          0\n",
       "1      Male   35            20000          0\n",
       "2    Female   26            43000          0\n",
       "3    Female   27            57000          0\n",
       "4      Male   19            76000          0\n",
       "..      ...  ...              ...        ...\n",
       "395  Female   46            41000          1\n",
       "396    Male   51            23000          1\n",
       "397  Female   50            20000          1\n",
       "398    Male   36            33000          0\n",
       "399  Female   49            36000          1\n",
       "\n",
       "[400 rows x 4 columns]"
      ]
     },
     "execution_count": 33,
     "metadata": {},
     "output_type": "execute_result"
    }
   ],
   "source": [
    "df"
   ]
  },
  {
   "cell_type": "code",
   "execution_count": null,
   "id": "9ec6506d",
   "metadata": {},
   "outputs": [],
   "source": [
    "# Convert the dummy data using the get_dummy \n",
    "df = pd.get_dummies(df, dtype='int64', drop_first=True)"
   ]
  },
  {
   "cell_type": "code",
   "execution_count": 35,
   "id": "886fb141",
   "metadata": {},
   "outputs": [
    {
     "data": {
      "application/vnd.microsoft.datawrangler.viewer.v0+json": {
       "columns": [
        {
         "name": "index",
         "rawType": "int64",
         "type": "integer"
        },
        {
         "name": "age",
         "rawType": "int64",
         "type": "integer"
        },
        {
         "name": "estimatedsalary",
         "rawType": "int64",
         "type": "integer"
        },
        {
         "name": "purchased",
         "rawType": "int64",
         "type": "integer"
        },
        {
         "name": "gender_Female",
         "rawType": "int64",
         "type": "integer"
        },
        {
         "name": "gender_Male",
         "rawType": "int64",
         "type": "integer"
        }
       ],
       "ref": "cb07bf46-3551-40c0-a0ae-2426ae75d3fb",
       "rows": [
        [
         "0",
         "19",
         "19000",
         "0",
         "0",
         "1"
        ],
        [
         "1",
         "35",
         "20000",
         "0",
         "0",
         "1"
        ],
        [
         "2",
         "26",
         "43000",
         "0",
         "1",
         "0"
        ],
        [
         "3",
         "27",
         "57000",
         "0",
         "1",
         "0"
        ],
        [
         "4",
         "19",
         "76000",
         "0",
         "0",
         "1"
        ],
        [
         "5",
         "27",
         "58000",
         "0",
         "0",
         "1"
        ],
        [
         "6",
         "27",
         "84000",
         "0",
         "1",
         "0"
        ],
        [
         "7",
         "32",
         "150000",
         "1",
         "1",
         "0"
        ],
        [
         "8",
         "25",
         "33000",
         "0",
         "0",
         "1"
        ],
        [
         "9",
         "35",
         "65000",
         "0",
         "1",
         "0"
        ],
        [
         "10",
         "26",
         "80000",
         "0",
         "1",
         "0"
        ],
        [
         "11",
         "26",
         "52000",
         "0",
         "1",
         "0"
        ],
        [
         "12",
         "20",
         "86000",
         "0",
         "0",
         "1"
        ],
        [
         "13",
         "32",
         "18000",
         "0",
         "0",
         "1"
        ],
        [
         "14",
         "18",
         "82000",
         "0",
         "0",
         "1"
        ],
        [
         "15",
         "29",
         "80000",
         "0",
         "0",
         "1"
        ],
        [
         "16",
         "47",
         "25000",
         "1",
         "0",
         "1"
        ],
        [
         "17",
         "45",
         "26000",
         "1",
         "0",
         "1"
        ],
        [
         "18",
         "46",
         "28000",
         "1",
         "0",
         "1"
        ],
        [
         "19",
         "48",
         "29000",
         "1",
         "1",
         "0"
        ],
        [
         "20",
         "45",
         "22000",
         "1",
         "0",
         "1"
        ],
        [
         "21",
         "47",
         "49000",
         "1",
         "1",
         "0"
        ],
        [
         "22",
         "48",
         "41000",
         "1",
         "0",
         "1"
        ],
        [
         "23",
         "45",
         "22000",
         "1",
         "1",
         "0"
        ],
        [
         "24",
         "46",
         "23000",
         "1",
         "0",
         "1"
        ],
        [
         "25",
         "47",
         "20000",
         "1",
         "0",
         "1"
        ],
        [
         "26",
         "49",
         "28000",
         "1",
         "0",
         "1"
        ],
        [
         "27",
         "47",
         "30000",
         "1",
         "1",
         "0"
        ],
        [
         "28",
         "29",
         "43000",
         "0",
         "0",
         "1"
        ],
        [
         "29",
         "31",
         "18000",
         "0",
         "0",
         "1"
        ],
        [
         "30",
         "31",
         "74000",
         "0",
         "0",
         "1"
        ],
        [
         "31",
         "27",
         "137000",
         "1",
         "1",
         "0"
        ],
        [
         "32",
         "21",
         "16000",
         "0",
         "1",
         "0"
        ],
        [
         "33",
         "28",
         "44000",
         "0",
         "1",
         "0"
        ],
        [
         "34",
         "27",
         "90000",
         "0",
         "0",
         "1"
        ],
        [
         "35",
         "35",
         "27000",
         "0",
         "0",
         "1"
        ],
        [
         "36",
         "33",
         "28000",
         "0",
         "1",
         "0"
        ],
        [
         "37",
         "30",
         "49000",
         "0",
         "0",
         "1"
        ],
        [
         "38",
         "26",
         "72000",
         "0",
         "1",
         "0"
        ],
        [
         "39",
         "27",
         "31000",
         "0",
         "1",
         "0"
        ],
        [
         "40",
         "27",
         "17000",
         "0",
         "1",
         "0"
        ],
        [
         "41",
         "33",
         "51000",
         "0",
         "1",
         "0"
        ],
        [
         "42",
         "35",
         "108000",
         "0",
         "0",
         "1"
        ],
        [
         "43",
         "30",
         "15000",
         "0",
         "0",
         "1"
        ],
        [
         "44",
         "28",
         "84000",
         "0",
         "1",
         "0"
        ],
        [
         "45",
         "23",
         "20000",
         "0",
         "0",
         "1"
        ],
        [
         "46",
         "25",
         "79000",
         "0",
         "0",
         "1"
        ],
        [
         "47",
         "27",
         "54000",
         "0",
         "1",
         "0"
        ],
        [
         "48",
         "30",
         "135000",
         "1",
         "0",
         "1"
        ],
        [
         "49",
         "31",
         "89000",
         "0",
         "1",
         "0"
        ]
       ],
       "shape": {
        "columns": 5,
        "rows": 400
       }
      },
      "text/html": [
       "<div>\n",
       "<style scoped>\n",
       "    .dataframe tbody tr th:only-of-type {\n",
       "        vertical-align: middle;\n",
       "    }\n",
       "\n",
       "    .dataframe tbody tr th {\n",
       "        vertical-align: top;\n",
       "    }\n",
       "\n",
       "    .dataframe thead th {\n",
       "        text-align: right;\n",
       "    }\n",
       "</style>\n",
       "<table border=\"1\" class=\"dataframe\">\n",
       "  <thead>\n",
       "    <tr style=\"text-align: right;\">\n",
       "      <th></th>\n",
       "      <th>age</th>\n",
       "      <th>estimatedsalary</th>\n",
       "      <th>purchased</th>\n",
       "      <th>gender_Female</th>\n",
       "      <th>gender_Male</th>\n",
       "    </tr>\n",
       "  </thead>\n",
       "  <tbody>\n",
       "    <tr>\n",
       "      <th>0</th>\n",
       "      <td>19</td>\n",
       "      <td>19000</td>\n",
       "      <td>0</td>\n",
       "      <td>0</td>\n",
       "      <td>1</td>\n",
       "    </tr>\n",
       "    <tr>\n",
       "      <th>1</th>\n",
       "      <td>35</td>\n",
       "      <td>20000</td>\n",
       "      <td>0</td>\n",
       "      <td>0</td>\n",
       "      <td>1</td>\n",
       "    </tr>\n",
       "    <tr>\n",
       "      <th>2</th>\n",
       "      <td>26</td>\n",
       "      <td>43000</td>\n",
       "      <td>0</td>\n",
       "      <td>1</td>\n",
       "      <td>0</td>\n",
       "    </tr>\n",
       "    <tr>\n",
       "      <th>3</th>\n",
       "      <td>27</td>\n",
       "      <td>57000</td>\n",
       "      <td>0</td>\n",
       "      <td>1</td>\n",
       "      <td>0</td>\n",
       "    </tr>\n",
       "    <tr>\n",
       "      <th>4</th>\n",
       "      <td>19</td>\n",
       "      <td>76000</td>\n",
       "      <td>0</td>\n",
       "      <td>0</td>\n",
       "      <td>1</td>\n",
       "    </tr>\n",
       "    <tr>\n",
       "      <th>...</th>\n",
       "      <td>...</td>\n",
       "      <td>...</td>\n",
       "      <td>...</td>\n",
       "      <td>...</td>\n",
       "      <td>...</td>\n",
       "    </tr>\n",
       "    <tr>\n",
       "      <th>395</th>\n",
       "      <td>46</td>\n",
       "      <td>41000</td>\n",
       "      <td>1</td>\n",
       "      <td>1</td>\n",
       "      <td>0</td>\n",
       "    </tr>\n",
       "    <tr>\n",
       "      <th>396</th>\n",
       "      <td>51</td>\n",
       "      <td>23000</td>\n",
       "      <td>1</td>\n",
       "      <td>0</td>\n",
       "      <td>1</td>\n",
       "    </tr>\n",
       "    <tr>\n",
       "      <th>397</th>\n",
       "      <td>50</td>\n",
       "      <td>20000</td>\n",
       "      <td>1</td>\n",
       "      <td>1</td>\n",
       "      <td>0</td>\n",
       "    </tr>\n",
       "    <tr>\n",
       "      <th>398</th>\n",
       "      <td>36</td>\n",
       "      <td>33000</td>\n",
       "      <td>0</td>\n",
       "      <td>0</td>\n",
       "      <td>1</td>\n",
       "    </tr>\n",
       "    <tr>\n",
       "      <th>399</th>\n",
       "      <td>49</td>\n",
       "      <td>36000</td>\n",
       "      <td>1</td>\n",
       "      <td>1</td>\n",
       "      <td>0</td>\n",
       "    </tr>\n",
       "  </tbody>\n",
       "</table>\n",
       "<p>400 rows × 5 columns</p>\n",
       "</div>"
      ],
      "text/plain": [
       "     age  estimatedsalary  purchased  gender_Female  gender_Male\n",
       "0     19            19000          0              0            1\n",
       "1     35            20000          0              0            1\n",
       "2     26            43000          0              1            0\n",
       "3     27            57000          0              1            0\n",
       "4     19            76000          0              0            1\n",
       "..   ...              ...        ...            ...          ...\n",
       "395   46            41000          1              1            0\n",
       "396   51            23000          1              0            1\n",
       "397   50            20000          1              1            0\n",
       "398   36            33000          0              0            1\n",
       "399   49            36000          1              1            0\n",
       "\n",
       "[400 rows x 5 columns]"
      ]
     },
     "execution_count": 35,
     "metadata": {},
     "output_type": "execute_result"
    }
   ],
   "source": [
    "df"
   ]
  }
 ],
 "metadata": {
  "kernelspec": {
   "display_name": "machine-learning-env",
   "language": "python",
   "name": "python3"
  },
  "language_info": {
   "codemirror_mode": {
    "name": "ipython",
    "version": 3
   },
   "file_extension": ".py",
   "mimetype": "text/x-python",
   "name": "python",
   "nbconvert_exporter": "python",
   "pygments_lexer": "ipython3",
   "version": "3.10.13"
  }
 },
 "nbformat": 4,
 "nbformat_minor": 5
}
