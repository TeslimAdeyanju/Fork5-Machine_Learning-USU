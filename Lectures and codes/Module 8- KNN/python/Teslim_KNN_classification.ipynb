{
 "cells": [
  {
   "cell_type": "markdown",
   "id": "b12f1bc6",
   "metadata": {},
   "source": [
    "# K Nearest Neigbors (KNN) - Classification"
   ]
  },
  {
   "cell_type": "code",
   "execution_count": 1,
   "id": "d44eb851",
   "metadata": {},
   "outputs": [],
   "source": [
    "# Core libraries\n",
    "import numpy as np\n",
    "import pandas as pd\n",
    "\n",
    "# Visualization\n",
    "import matplotlib.pyplot as plt\n",
    "import seaborn as sns\n",
    "try:\n",
    "    sns.set_theme()  # Use seaborn themes with matplotlib (newer versions)\n",
    "except AttributeError:  # Fallback for older seaborn versions\n",
    "    sns.set()\n",
    "\n",
    "# Warnings\n",
    "import warnings\n",
    "warnings.filterwarnings('ignore')\n",
    "\n",
    "# Scikit-learn for KNN Classification\n",
    "from sklearn.model_selection import train_test_split\n",
    "from sklearn.preprocessing import StandardScaler\n",
    "from sklearn.neighbors import KNeighborsClassifier\n",
    "from sklearn.metrics import accuracy_score, classification_report, confusion_matrix"
   ]
  },
  {
   "cell_type": "code",
   "execution_count": 2,
   "id": "41b1cead",
   "metadata": {},
   "outputs": [],
   "source": [
    "rand_state = 1000"
   ]
  },
  {
   "cell_type": "code",
   "execution_count": 3,
   "id": "0f58a2fa",
   "metadata": {},
   "outputs": [
    {
     "data": {
      "application/vnd.microsoft.datawrangler.viewer.v0+json": {
       "columns": [
        {
         "name": "index",
         "rawType": "int64",
         "type": "integer"
        },
        {
         "name": "User ID",
         "rawType": "int64",
         "type": "integer"
        },
        {
         "name": "Gender",
         "rawType": "object",
         "type": "string"
        },
        {
         "name": "Age",
         "rawType": "int64",
         "type": "integer"
        },
        {
         "name": "EstimatedSalary",
         "rawType": "int64",
         "type": "integer"
        },
        {
         "name": "Purchased",
         "rawType": "int64",
         "type": "integer"
        }
       ],
       "ref": "7a0675fa-9cc8-4544-9f93-f0d923b28796",
       "rows": [
        [
         "0",
         "15624510",
         "Male",
         "19",
         "19000",
         "0"
        ],
        [
         "1",
         "15810944",
         "Male",
         "35",
         "20000",
         "0"
        ],
        [
         "2",
         "15668575",
         "Female",
         "26",
         "43000",
         "0"
        ],
        [
         "3",
         "15603246",
         "Female",
         "27",
         "57000",
         "0"
        ],
        [
         "4",
         "15804002",
         "Male",
         "19",
         "76000",
         "0"
        ],
        [
         "5",
         "15728773",
         "Male",
         "27",
         "58000",
         "0"
        ],
        [
         "6",
         "15598044",
         "Female",
         "27",
         "84000",
         "0"
        ],
        [
         "7",
         "15694829",
         "Female",
         "32",
         "150000",
         "1"
        ],
        [
         "8",
         "15600575",
         "Male",
         "25",
         "33000",
         "0"
        ],
        [
         "9",
         "15727311",
         "Female",
         "35",
         "65000",
         "0"
        ],
        [
         "10",
         "15570769",
         "Female",
         "26",
         "80000",
         "0"
        ],
        [
         "11",
         "15606274",
         "Female",
         "26",
         "52000",
         "0"
        ],
        [
         "12",
         "15746139",
         "Male",
         "20",
         "86000",
         "0"
        ],
        [
         "13",
         "15704987",
         "Male",
         "32",
         "18000",
         "0"
        ],
        [
         "14",
         "15628972",
         "Male",
         "18",
         "82000",
         "0"
        ],
        [
         "15",
         "15697686",
         "Male",
         "29",
         "80000",
         "0"
        ],
        [
         "16",
         "15733883",
         "Male",
         "47",
         "25000",
         "1"
        ],
        [
         "17",
         "15617482",
         "Male",
         "45",
         "26000",
         "1"
        ],
        [
         "18",
         "15704583",
         "Male",
         "46",
         "28000",
         "1"
        ],
        [
         "19",
         "15621083",
         "Female",
         "48",
         "29000",
         "1"
        ],
        [
         "20",
         "15649487",
         "Male",
         "45",
         "22000",
         "1"
        ],
        [
         "21",
         "15736760",
         "Female",
         "47",
         "49000",
         "1"
        ],
        [
         "22",
         "15714658",
         "Male",
         "48",
         "41000",
         "1"
        ],
        [
         "23",
         "15599081",
         "Female",
         "45",
         "22000",
         "1"
        ],
        [
         "24",
         "15705113",
         "Male",
         "46",
         "23000",
         "1"
        ],
        [
         "25",
         "15631159",
         "Male",
         "47",
         "20000",
         "1"
        ],
        [
         "26",
         "15792818",
         "Male",
         "49",
         "28000",
         "1"
        ],
        [
         "27",
         "15633531",
         "Female",
         "47",
         "30000",
         "1"
        ],
        [
         "28",
         "15744529",
         "Male",
         "29",
         "43000",
         "0"
        ],
        [
         "29",
         "15669656",
         "Male",
         "31",
         "18000",
         "0"
        ],
        [
         "30",
         "15581198",
         "Male",
         "31",
         "74000",
         "0"
        ],
        [
         "31",
         "15729054",
         "Female",
         "27",
         "137000",
         "1"
        ],
        [
         "32",
         "15573452",
         "Female",
         "21",
         "16000",
         "0"
        ],
        [
         "33",
         "15776733",
         "Female",
         "28",
         "44000",
         "0"
        ],
        [
         "34",
         "15724858",
         "Male",
         "27",
         "90000",
         "0"
        ],
        [
         "35",
         "15713144",
         "Male",
         "35",
         "27000",
         "0"
        ],
        [
         "36",
         "15690188",
         "Female",
         "33",
         "28000",
         "0"
        ],
        [
         "37",
         "15689425",
         "Male",
         "30",
         "49000",
         "0"
        ],
        [
         "38",
         "15671766",
         "Female",
         "26",
         "72000",
         "0"
        ],
        [
         "39",
         "15782806",
         "Female",
         "27",
         "31000",
         "0"
        ],
        [
         "40",
         "15764419",
         "Female",
         "27",
         "17000",
         "0"
        ],
        [
         "41",
         "15591915",
         "Female",
         "33",
         "51000",
         "0"
        ],
        [
         "42",
         "15772798",
         "Male",
         "35",
         "108000",
         "0"
        ],
        [
         "43",
         "15792008",
         "Male",
         "30",
         "15000",
         "0"
        ],
        [
         "44",
         "15715541",
         "Female",
         "28",
         "84000",
         "0"
        ],
        [
         "45",
         "15639277",
         "Male",
         "23",
         "20000",
         "0"
        ],
        [
         "46",
         "15798850",
         "Male",
         "25",
         "79000",
         "0"
        ],
        [
         "47",
         "15776348",
         "Female",
         "27",
         "54000",
         "0"
        ],
        [
         "48",
         "15727696",
         "Male",
         "30",
         "135000",
         "1"
        ],
        [
         "49",
         "15793813",
         "Female",
         "31",
         "89000",
         "0"
        ]
       ],
       "shape": {
        "columns": 5,
        "rows": 400
       }
      },
      "text/html": [
       "<div>\n",
       "<style scoped>\n",
       "    .dataframe tbody tr th:only-of-type {\n",
       "        vertical-align: middle;\n",
       "    }\n",
       "\n",
       "    .dataframe tbody tr th {\n",
       "        vertical-align: top;\n",
       "    }\n",
       "\n",
       "    .dataframe thead th {\n",
       "        text-align: right;\n",
       "    }\n",
       "</style>\n",
       "<table border=\"1\" class=\"dataframe\">\n",
       "  <thead>\n",
       "    <tr style=\"text-align: right;\">\n",
       "      <th></th>\n",
       "      <th>User ID</th>\n",
       "      <th>Gender</th>\n",
       "      <th>Age</th>\n",
       "      <th>EstimatedSalary</th>\n",
       "      <th>Purchased</th>\n",
       "    </tr>\n",
       "  </thead>\n",
       "  <tbody>\n",
       "    <tr>\n",
       "      <th>0</th>\n",
       "      <td>15624510</td>\n",
       "      <td>Male</td>\n",
       "      <td>19</td>\n",
       "      <td>19000</td>\n",
       "      <td>0</td>\n",
       "    </tr>\n",
       "    <tr>\n",
       "      <th>1</th>\n",
       "      <td>15810944</td>\n",
       "      <td>Male</td>\n",
       "      <td>35</td>\n",
       "      <td>20000</td>\n",
       "      <td>0</td>\n",
       "    </tr>\n",
       "    <tr>\n",
       "      <th>2</th>\n",
       "      <td>15668575</td>\n",
       "      <td>Female</td>\n",
       "      <td>26</td>\n",
       "      <td>43000</td>\n",
       "      <td>0</td>\n",
       "    </tr>\n",
       "    <tr>\n",
       "      <th>3</th>\n",
       "      <td>15603246</td>\n",
       "      <td>Female</td>\n",
       "      <td>27</td>\n",
       "      <td>57000</td>\n",
       "      <td>0</td>\n",
       "    </tr>\n",
       "    <tr>\n",
       "      <th>4</th>\n",
       "      <td>15804002</td>\n",
       "      <td>Male</td>\n",
       "      <td>19</td>\n",
       "      <td>76000</td>\n",
       "      <td>0</td>\n",
       "    </tr>\n",
       "    <tr>\n",
       "      <th>...</th>\n",
       "      <td>...</td>\n",
       "      <td>...</td>\n",
       "      <td>...</td>\n",
       "      <td>...</td>\n",
       "      <td>...</td>\n",
       "    </tr>\n",
       "    <tr>\n",
       "      <th>395</th>\n",
       "      <td>15691863</td>\n",
       "      <td>Female</td>\n",
       "      <td>46</td>\n",
       "      <td>41000</td>\n",
       "      <td>1</td>\n",
       "    </tr>\n",
       "    <tr>\n",
       "      <th>396</th>\n",
       "      <td>15706071</td>\n",
       "      <td>Male</td>\n",
       "      <td>51</td>\n",
       "      <td>23000</td>\n",
       "      <td>1</td>\n",
       "    </tr>\n",
       "    <tr>\n",
       "      <th>397</th>\n",
       "      <td>15654296</td>\n",
       "      <td>Female</td>\n",
       "      <td>50</td>\n",
       "      <td>20000</td>\n",
       "      <td>1</td>\n",
       "    </tr>\n",
       "    <tr>\n",
       "      <th>398</th>\n",
       "      <td>15755018</td>\n",
       "      <td>Male</td>\n",
       "      <td>36</td>\n",
       "      <td>33000</td>\n",
       "      <td>0</td>\n",
       "    </tr>\n",
       "    <tr>\n",
       "      <th>399</th>\n",
       "      <td>15594041</td>\n",
       "      <td>Female</td>\n",
       "      <td>49</td>\n",
       "      <td>36000</td>\n",
       "      <td>1</td>\n",
       "    </tr>\n",
       "  </tbody>\n",
       "</table>\n",
       "<p>400 rows × 5 columns</p>\n",
       "</div>"
      ],
      "text/plain": [
       "      User ID  Gender  Age  EstimatedSalary  Purchased\n",
       "0    15624510    Male   19            19000          0\n",
       "1    15810944    Male   35            20000          0\n",
       "2    15668575  Female   26            43000          0\n",
       "3    15603246  Female   27            57000          0\n",
       "4    15804002    Male   19            76000          0\n",
       "..        ...     ...  ...              ...        ...\n",
       "395  15691863  Female   46            41000          1\n",
       "396  15706071    Male   51            23000          1\n",
       "397  15654296  Female   50            20000          1\n",
       "398  15755018    Male   36            33000          0\n",
       "399  15594041  Female   49            36000          1\n",
       "\n",
       "[400 rows x 5 columns]"
      ]
     },
     "execution_count": 3,
     "metadata": {},
     "output_type": "execute_result"
    }
   ],
   "source": [
    "df = pd.read_csv(\"Social_Network_Ads.csv\")\n",
    "df"
   ]
  },
  {
   "cell_type": "code",
   "execution_count": 4,
   "id": "3d89832b",
   "metadata": {},
   "outputs": [
    {
     "name": "stdout",
     "output_type": "stream",
     "text": [
      "<class 'pandas.core.frame.DataFrame'>\n",
      "RangeIndex: 400 entries, 0 to 399\n",
      "Data columns (total 5 columns):\n",
      " #   Column           Non-Null Count  Dtype \n",
      "---  ------           --------------  ----- \n",
      " 0   User ID          400 non-null    int64 \n",
      " 1   Gender           400 non-null    object\n",
      " 2   Age              400 non-null    int64 \n",
      " 3   EstimatedSalary  400 non-null    int64 \n",
      " 4   Purchased        400 non-null    int64 \n",
      "dtypes: int64(4), object(1)\n",
      "memory usage: 15.8+ KB\n"
     ]
    }
   ],
   "source": [
    "df.info()"
   ]
  },
  {
   "cell_type": "code",
   "execution_count": 5,
   "id": "c5cddec1",
   "metadata": {},
   "outputs": [],
   "source": [
    "def clean_column_header(df):\n",
    "    df.columns = df.columns.str.strip().str.lower().str.replace(' ', '_')\n",
    "    return df\n",
    "\n",
    "# calling the function\n",
    "df = clean_column_header(df)"
   ]
  },
  {
   "cell_type": "code",
   "execution_count": 6,
   "id": "51736184",
   "metadata": {},
   "outputs": [
    {
     "data": {
      "application/vnd.microsoft.datawrangler.viewer.v0+json": {
       "columns": [
        {
         "name": "index",
         "rawType": "int64",
         "type": "integer"
        },
        {
         "name": "user_id",
         "rawType": "int64",
         "type": "integer"
        },
        {
         "name": "gender",
         "rawType": "object",
         "type": "string"
        },
        {
         "name": "age",
         "rawType": "int64",
         "type": "integer"
        },
        {
         "name": "estimatedsalary",
         "rawType": "int64",
         "type": "integer"
        },
        {
         "name": "purchased",
         "rawType": "int64",
         "type": "integer"
        }
       ],
       "ref": "e9375af4-17c2-436e-a70a-838ecd9263d1",
       "rows": [
        [
         "0",
         "15624510",
         "Male",
         "19",
         "19000",
         "0"
        ],
        [
         "1",
         "15810944",
         "Male",
         "35",
         "20000",
         "0"
        ],
        [
         "2",
         "15668575",
         "Female",
         "26",
         "43000",
         "0"
        ],
        [
         "3",
         "15603246",
         "Female",
         "27",
         "57000",
         "0"
        ],
        [
         "4",
         "15804002",
         "Male",
         "19",
         "76000",
         "0"
        ],
        [
         "5",
         "15728773",
         "Male",
         "27",
         "58000",
         "0"
        ],
        [
         "6",
         "15598044",
         "Female",
         "27",
         "84000",
         "0"
        ],
        [
         "7",
         "15694829",
         "Female",
         "32",
         "150000",
         "1"
        ],
        [
         "8",
         "15600575",
         "Male",
         "25",
         "33000",
         "0"
        ],
        [
         "9",
         "15727311",
         "Female",
         "35",
         "65000",
         "0"
        ],
        [
         "10",
         "15570769",
         "Female",
         "26",
         "80000",
         "0"
        ],
        [
         "11",
         "15606274",
         "Female",
         "26",
         "52000",
         "0"
        ],
        [
         "12",
         "15746139",
         "Male",
         "20",
         "86000",
         "0"
        ],
        [
         "13",
         "15704987",
         "Male",
         "32",
         "18000",
         "0"
        ],
        [
         "14",
         "15628972",
         "Male",
         "18",
         "82000",
         "0"
        ],
        [
         "15",
         "15697686",
         "Male",
         "29",
         "80000",
         "0"
        ],
        [
         "16",
         "15733883",
         "Male",
         "47",
         "25000",
         "1"
        ],
        [
         "17",
         "15617482",
         "Male",
         "45",
         "26000",
         "1"
        ],
        [
         "18",
         "15704583",
         "Male",
         "46",
         "28000",
         "1"
        ],
        [
         "19",
         "15621083",
         "Female",
         "48",
         "29000",
         "1"
        ],
        [
         "20",
         "15649487",
         "Male",
         "45",
         "22000",
         "1"
        ],
        [
         "21",
         "15736760",
         "Female",
         "47",
         "49000",
         "1"
        ],
        [
         "22",
         "15714658",
         "Male",
         "48",
         "41000",
         "1"
        ],
        [
         "23",
         "15599081",
         "Female",
         "45",
         "22000",
         "1"
        ],
        [
         "24",
         "15705113",
         "Male",
         "46",
         "23000",
         "1"
        ],
        [
         "25",
         "15631159",
         "Male",
         "47",
         "20000",
         "1"
        ],
        [
         "26",
         "15792818",
         "Male",
         "49",
         "28000",
         "1"
        ],
        [
         "27",
         "15633531",
         "Female",
         "47",
         "30000",
         "1"
        ],
        [
         "28",
         "15744529",
         "Male",
         "29",
         "43000",
         "0"
        ],
        [
         "29",
         "15669656",
         "Male",
         "31",
         "18000",
         "0"
        ],
        [
         "30",
         "15581198",
         "Male",
         "31",
         "74000",
         "0"
        ],
        [
         "31",
         "15729054",
         "Female",
         "27",
         "137000",
         "1"
        ],
        [
         "32",
         "15573452",
         "Female",
         "21",
         "16000",
         "0"
        ],
        [
         "33",
         "15776733",
         "Female",
         "28",
         "44000",
         "0"
        ],
        [
         "34",
         "15724858",
         "Male",
         "27",
         "90000",
         "0"
        ],
        [
         "35",
         "15713144",
         "Male",
         "35",
         "27000",
         "0"
        ],
        [
         "36",
         "15690188",
         "Female",
         "33",
         "28000",
         "0"
        ],
        [
         "37",
         "15689425",
         "Male",
         "30",
         "49000",
         "0"
        ],
        [
         "38",
         "15671766",
         "Female",
         "26",
         "72000",
         "0"
        ],
        [
         "39",
         "15782806",
         "Female",
         "27",
         "31000",
         "0"
        ],
        [
         "40",
         "15764419",
         "Female",
         "27",
         "17000",
         "0"
        ],
        [
         "41",
         "15591915",
         "Female",
         "33",
         "51000",
         "0"
        ],
        [
         "42",
         "15772798",
         "Male",
         "35",
         "108000",
         "0"
        ],
        [
         "43",
         "15792008",
         "Male",
         "30",
         "15000",
         "0"
        ],
        [
         "44",
         "15715541",
         "Female",
         "28",
         "84000",
         "0"
        ],
        [
         "45",
         "15639277",
         "Male",
         "23",
         "20000",
         "0"
        ],
        [
         "46",
         "15798850",
         "Male",
         "25",
         "79000",
         "0"
        ],
        [
         "47",
         "15776348",
         "Female",
         "27",
         "54000",
         "0"
        ],
        [
         "48",
         "15727696",
         "Male",
         "30",
         "135000",
         "1"
        ],
        [
         "49",
         "15793813",
         "Female",
         "31",
         "89000",
         "0"
        ]
       ],
       "shape": {
        "columns": 5,
        "rows": 400
       }
      },
      "text/html": [
       "<div>\n",
       "<style scoped>\n",
       "    .dataframe tbody tr th:only-of-type {\n",
       "        vertical-align: middle;\n",
       "    }\n",
       "\n",
       "    .dataframe tbody tr th {\n",
       "        vertical-align: top;\n",
       "    }\n",
       "\n",
       "    .dataframe thead th {\n",
       "        text-align: right;\n",
       "    }\n",
       "</style>\n",
       "<table border=\"1\" class=\"dataframe\">\n",
       "  <thead>\n",
       "    <tr style=\"text-align: right;\">\n",
       "      <th></th>\n",
       "      <th>user_id</th>\n",
       "      <th>gender</th>\n",
       "      <th>age</th>\n",
       "      <th>estimatedsalary</th>\n",
       "      <th>purchased</th>\n",
       "    </tr>\n",
       "  </thead>\n",
       "  <tbody>\n",
       "    <tr>\n",
       "      <th>0</th>\n",
       "      <td>15624510</td>\n",
       "      <td>Male</td>\n",
       "      <td>19</td>\n",
       "      <td>19000</td>\n",
       "      <td>0</td>\n",
       "    </tr>\n",
       "    <tr>\n",
       "      <th>1</th>\n",
       "      <td>15810944</td>\n",
       "      <td>Male</td>\n",
       "      <td>35</td>\n",
       "      <td>20000</td>\n",
       "      <td>0</td>\n",
       "    </tr>\n",
       "    <tr>\n",
       "      <th>2</th>\n",
       "      <td>15668575</td>\n",
       "      <td>Female</td>\n",
       "      <td>26</td>\n",
       "      <td>43000</td>\n",
       "      <td>0</td>\n",
       "    </tr>\n",
       "    <tr>\n",
       "      <th>3</th>\n",
       "      <td>15603246</td>\n",
       "      <td>Female</td>\n",
       "      <td>27</td>\n",
       "      <td>57000</td>\n",
       "      <td>0</td>\n",
       "    </tr>\n",
       "    <tr>\n",
       "      <th>4</th>\n",
       "      <td>15804002</td>\n",
       "      <td>Male</td>\n",
       "      <td>19</td>\n",
       "      <td>76000</td>\n",
       "      <td>0</td>\n",
       "    </tr>\n",
       "    <tr>\n",
       "      <th>...</th>\n",
       "      <td>...</td>\n",
       "      <td>...</td>\n",
       "      <td>...</td>\n",
       "      <td>...</td>\n",
       "      <td>...</td>\n",
       "    </tr>\n",
       "    <tr>\n",
       "      <th>395</th>\n",
       "      <td>15691863</td>\n",
       "      <td>Female</td>\n",
       "      <td>46</td>\n",
       "      <td>41000</td>\n",
       "      <td>1</td>\n",
       "    </tr>\n",
       "    <tr>\n",
       "      <th>396</th>\n",
       "      <td>15706071</td>\n",
       "      <td>Male</td>\n",
       "      <td>51</td>\n",
       "      <td>23000</td>\n",
       "      <td>1</td>\n",
       "    </tr>\n",
       "    <tr>\n",
       "      <th>397</th>\n",
       "      <td>15654296</td>\n",
       "      <td>Female</td>\n",
       "      <td>50</td>\n",
       "      <td>20000</td>\n",
       "      <td>1</td>\n",
       "    </tr>\n",
       "    <tr>\n",
       "      <th>398</th>\n",
       "      <td>15755018</td>\n",
       "      <td>Male</td>\n",
       "      <td>36</td>\n",
       "      <td>33000</td>\n",
       "      <td>0</td>\n",
       "    </tr>\n",
       "    <tr>\n",
       "      <th>399</th>\n",
       "      <td>15594041</td>\n",
       "      <td>Female</td>\n",
       "      <td>49</td>\n",
       "      <td>36000</td>\n",
       "      <td>1</td>\n",
       "    </tr>\n",
       "  </tbody>\n",
       "</table>\n",
       "<p>400 rows × 5 columns</p>\n",
       "</div>"
      ],
      "text/plain": [
       "      user_id  gender  age  estimatedsalary  purchased\n",
       "0    15624510    Male   19            19000          0\n",
       "1    15810944    Male   35            20000          0\n",
       "2    15668575  Female   26            43000          0\n",
       "3    15603246  Female   27            57000          0\n",
       "4    15804002    Male   19            76000          0\n",
       "..        ...     ...  ...              ...        ...\n",
       "395  15691863  Female   46            41000          1\n",
       "396  15706071    Male   51            23000          1\n",
       "397  15654296  Female   50            20000          1\n",
       "398  15755018    Male   36            33000          0\n",
       "399  15594041  Female   49            36000          1\n",
       "\n",
       "[400 rows x 5 columns]"
      ]
     },
     "execution_count": 6,
     "metadata": {},
     "output_type": "execute_result"
    }
   ],
   "source": [
    "df"
   ]
  },
  {
   "cell_type": "code",
   "execution_count": 7,
   "id": "ae4bbe53",
   "metadata": {},
   "outputs": [
    {
     "data": {
      "image/png": "[encoded data removed]",
      "text/plain": [
       "<Figure size 640x480 with 1 Axes>"
      ]
     },
     "metadata": {},
     "output_type": "display_data"
    }
   ],
   "source": [
    "# check the data proportion \n",
    "pd.crosstab(df['purchased'], df['purchased']).plot(kind='bar', stacked=True)\n",
    "plt.show()"
   ]
  },
  {
   "cell_type": "code",
   "execution_count": 8,
   "id": "794a0c99",
   "metadata": {},
   "outputs": [
    {
     "data": {
      "application/vnd.microsoft.datawrangler.viewer.v0+json": {
       "columns": [
        {
         "name": "purchased",
         "rawType": "int64",
         "type": "integer"
        },
        {
         "name": "0",
         "rawType": "float64",
         "type": "float"
        },
        {
         "name": "1",
         "rawType": "float64",
         "type": "float"
        }
       ],
       "ref": "00411ea6-abed-42c1-a756-429fea3225fd",
       "rows": [
        [
         "0",
         "64.25",
         "0.0"
        ],
        [
         "1",
         "0.0",
         "35.75"
        ]
       ],
       "shape": {
        "columns": 2,
        "rows": 2
       }
      },
      "text/html": [
       "<div>\n",
       "<style scoped>\n",
       "    .dataframe tbody tr th:only-of-type {\n",
       "        vertical-align: middle;\n",
       "    }\n",
       "\n",
       "    .dataframe tbody tr th {\n",
       "        vertical-align: top;\n",
       "    }\n",
       "\n",
       "    .dataframe thead th {\n",
       "        text-align: right;\n",
       "    }\n",
       "</style>\n",
       "<table border=\"1\" class=\"dataframe\">\n",
       "  <thead>\n",
       "    <tr style=\"text-align: right;\">\n",
       "      <th>purchased</th>\n",
       "      <th>0</th>\n",
       "      <th>1</th>\n",
       "    </tr>\n",
       "    <tr>\n",
       "      <th>purchased</th>\n",
       "      <th></th>\n",
       "      <th></th>\n",
       "    </tr>\n",
       "  </thead>\n",
       "  <tbody>\n",
       "    <tr>\n",
       "      <th>0</th>\n",
       "      <td>64.25</td>\n",
       "      <td>0.00</td>\n",
       "    </tr>\n",
       "    <tr>\n",
       "      <th>1</th>\n",
       "      <td>0.00</td>\n",
       "      <td>35.75</td>\n",
       "    </tr>\n",
       "  </tbody>\n",
       "</table>\n",
       "</div>"
      ],
      "text/plain": [
       "purchased      0      1\n",
       "purchased              \n",
       "0          64.25   0.00\n",
       "1           0.00  35.75"
      ]
     },
     "execution_count": 8,
     "metadata": {},
     "output_type": "execute_result"
    }
   ],
   "source": [
    "pd.crosstab(df['purchased'], df['purchased'], normalize=True)*100"
   ]
  },
  {
   "cell_type": "code",
   "execution_count": 9,
   "id": "51eaad66",
   "metadata": {},
   "outputs": [],
   "source": [
    "# drop the user Id \n",
    "df.drop(columns=['user_id'], inplace=True)"
   ]
  },
  {
   "cell_type": "code",
   "execution_count": 10,
   "id": "b446b265",
   "metadata": {},
   "outputs": [
    {
     "data": {
      "application/vnd.microsoft.datawrangler.viewer.v0+json": {
       "columns": [
        {
         "name": "index",
         "rawType": "int64",
         "type": "integer"
        },
        {
         "name": "gender",
         "rawType": "object",
         "type": "string"
        },
        {
         "name": "age",
         "rawType": "int64",
         "type": "integer"
        },
        {
         "name": "estimatedsalary",
         "rawType": "int64",
         "type": "integer"
        },
        {
         "name": "purchased",
         "rawType": "int64",
         "type": "integer"
        }
       ],
       "ref": "cc001754-28b5-41ae-bf8c-c49743f857fe",
       "rows": [
        [
         "0",
         "Male",
         "19",
         "19000",
         "0"
        ],
        [
         "1",
         "Male",
         "35",
         "20000",
         "0"
        ],
        [
         "2",
         "Female",
         "26",
         "43000",
         "0"
        ],
        [
         "3",
         "Female",
         "27",
         "57000",
         "0"
        ],
        [
         "4",
         "Male",
         "19",
         "76000",
         "0"
        ],
        [
         "5",
         "Male",
         "27",
         "58000",
         "0"
        ],
        [
         "6",
         "Female",
         "27",
         "84000",
         "0"
        ],
        [
         "7",
         "Female",
         "32",
         "150000",
         "1"
        ],
        [
         "8",
         "Male",
         "25",
         "33000",
         "0"
        ],
        [
         "9",
         "Female",
         "35",
         "65000",
         "0"
        ],
        [
         "10",
         "Female",
         "26",
         "80000",
         "0"
        ],
        [
         "11",
         "Female",
         "26",
         "52000",
         "0"
        ],
        [
         "12",
         "Male",
         "20",
         "86000",
         "0"
        ],
        [
         "13",
         "Male",
         "32",
         "18000",
         "0"
        ],
        [
         "14",
         "Male",
         "18",
         "82000",
         "0"
        ],
        [
         "15",
         "Male",
         "29",
         "80000",
         "0"
        ],
        [
         "16",
         "Male",
         "47",
         "25000",
         "1"
        ],
        [
         "17",
         "Male",
         "45",
         "26000",
         "1"
        ],
        [
         "18",
         "Male",
         "46",
         "28000",
         "1"
        ],
        [
         "19",
         "Female",
         "48",
         "29000",
         "1"
        ],
        [
         "20",
         "Male",
         "45",
         "22000",
         "1"
        ],
        [
         "21",
         "Female",
         "47",
         "49000",
         "1"
        ],
        [
         "22",
         "Male",
         "48",
         "41000",
         "1"
        ],
        [
         "23",
         "Female",
         "45",
         "22000",
         "1"
        ],
        [
         "24",
         "Male",
         "46",
         "23000",
         "1"
        ],
        [
         "25",
         "Male",
         "47",
         "20000",
         "1"
        ],
        [
         "26",
         "Male",
         "49",
         "28000",
         "1"
        ],
        [
         "27",
         "Female",
         "47",
         "30000",
         "1"
        ],
        [
         "28",
         "Male",
         "29",
         "43000",
         "0"
        ],
        [
         "29",
         "Male",
         "31",
         "18000",
         "0"
        ],
        [
         "30",
         "Male",
         "31",
         "74000",
         "0"
        ],
        [
         "31",
         "Female",
         "27",
         "137000",
         "1"
        ],
        [
         "32",
         "Female",
         "21",
         "16000",
         "0"
        ],
        [
         "33",
         "Female",
         "28",
         "44000",
         "0"
        ],
        [
         "34",
         "Male",
         "27",
         "90000",
         "0"
        ],
        [
         "35",
         "Male",
         "35",
         "27000",
         "0"
        ],
        [
         "36",
         "Female",
         "33",
         "28000",
         "0"
        ],
        [
         "37",
         "Male",
         "30",
         "49000",
         "0"
        ],
        [
         "38",
         "Female",
         "26",
         "72000",
         "0"
        ],
        [
         "39",
         "Female",
         "27",
         "31000",
         "0"
        ],
        [
         "40",
         "Female",
         "27",
         "17000",
         "0"
        ],
        [
         "41",
         "Female",
         "33",
         "51000",
         "0"
        ],
        [
         "42",
         "Male",
         "35",
         "108000",
         "0"
        ],
        [
         "43",
         "Male",
         "30",
         "15000",
         "0"
        ],
        [
         "44",
         "Female",
         "28",
         "84000",
         "0"
        ],
        [
         "45",
         "Male",
         "23",
         "20000",
         "0"
        ],
        [
         "46",
         "Male",
         "25",
         "79000",
         "0"
        ],
        [
         "47",
         "Female",
         "27",
         "54000",
         "0"
        ],
        [
         "48",
         "Male",
         "30",
         "135000",
         "1"
        ],
        [
         "49",
         "Female",
         "31",
         "89000",
         "0"
        ]
       ],
       "shape": {
        "columns": 4,
        "rows": 400
       }
      },
      "text/html": [
       "<div>\n",
       "<style scoped>\n",
       "    .dataframe tbody tr th:only-of-type {\n",
       "        vertical-align: middle;\n",
       "    }\n",
       "\n",
       "    .dataframe tbody tr th {\n",
       "        vertical-align: top;\n",
       "    }\n",
       "\n",
       "    .dataframe thead th {\n",
       "        text-align: right;\n",
       "    }\n",
       "</style>\n",
       "<table border=\"1\" class=\"dataframe\">\n",
       "  <thead>\n",
       "    <tr style=\"text-align: right;\">\n",
       "      <th></th>\n",
       "      <th>gender</th>\n",
       "      <th>age</th>\n",
       "      <th>estimatedsalary</th>\n",
       "      <th>purchased</th>\n",
       "    </tr>\n",
       "  </thead>\n",
       "  <tbody>\n",
       "    <tr>\n",
       "      <th>0</th>\n",
       "      <td>Male</td>\n",
       "      <td>19</td>\n",
       "      <td>19000</td>\n",
       "      <td>0</td>\n",
       "    </tr>\n",
       "    <tr>\n",
       "      <th>1</th>\n",
       "      <td>Male</td>\n",
       "      <td>35</td>\n",
       "      <td>20000</td>\n",
       "      <td>0</td>\n",
       "    </tr>\n",
       "    <tr>\n",
       "      <th>2</th>\n",
       "      <td>Female</td>\n",
       "      <td>26</td>\n",
       "      <td>43000</td>\n",
       "      <td>0</td>\n",
       "    </tr>\n",
       "    <tr>\n",
       "      <th>3</th>\n",
       "      <td>Female</td>\n",
       "      <td>27</td>\n",
       "      <td>57000</td>\n",
       "      <td>0</td>\n",
       "    </tr>\n",
       "    <tr>\n",
       "      <th>4</th>\n",
       "      <td>Male</td>\n",
       "      <td>19</td>\n",
       "      <td>76000</td>\n",
       "      <td>0</td>\n",
       "    </tr>\n",
       "    <tr>\n",
       "      <th>...</th>\n",
       "      <td>...</td>\n",
       "      <td>...</td>\n",
       "      <td>...</td>\n",
       "      <td>...</td>\n",
       "    </tr>\n",
       "    <tr>\n",
       "      <th>395</th>\n",
       "      <td>Female</td>\n",
       "      <td>46</td>\n",
       "      <td>41000</td>\n",
       "      <td>1</td>\n",
       "    </tr>\n",
       "    <tr>\n",
       "      <th>396</th>\n",
       "      <td>Male</td>\n",
       "      <td>51</td>\n",
       "      <td>23000</td>\n",
       "      <td>1</td>\n",
       "    </tr>\n",
       "    <tr>\n",
       "      <th>397</th>\n",
       "      <td>Female</td>\n",
       "      <td>50</td>\n",
       "      <td>20000</td>\n",
       "      <td>1</td>\n",
       "    </tr>\n",
       "    <tr>\n",
       "      <th>398</th>\n",
       "      <td>Male</td>\n",
       "      <td>36</td>\n",
       "      <td>33000</td>\n",
       "      <td>0</td>\n",
       "    </tr>\n",
       "    <tr>\n",
       "      <th>399</th>\n",
       "      <td>Female</td>\n",
       "      <td>49</td>\n",
       "      <td>36000</td>\n",
       "      <td>1</td>\n",
       "    </tr>\n",
       "  </tbody>\n",
       "</table>\n",
       "<p>400 rows × 4 columns</p>\n",
       "</div>"
      ],
      "text/plain": [
       "     gender  age  estimatedsalary  purchased\n",
       "0      Male   19            19000          0\n",
       "1      Male   35            20000          0\n",
       "2    Female   26            43000          0\n",
       "3    Female   27            57000          0\n",
       "4      Male   19            76000          0\n",
       "..      ...  ...              ...        ...\n",
       "395  Female   46            41000          1\n",
       "396    Male   51            23000          1\n",
       "397  Female   50            20000          1\n",
       "398    Male   36            33000          0\n",
       "399  Female   49            36000          1\n",
       "\n",
       "[400 rows x 4 columns]"
      ]
     },
     "execution_count": 10,
     "metadata": {},
     "output_type": "execute_result"
    }
   ],
   "source": [
    "df"
   ]
  },
  {
   "cell_type": "code",
   "execution_count": 11,
   "id": "9ec6506d",
   "metadata": {},
   "outputs": [],
   "source": [
    "# Convert the dummy data using the get_dummy \n",
    "df = pd.get_dummies(df, dtype='int64', drop_first=True)"
   ]
  },
  {
   "cell_type": "code",
   "execution_count": 12,
   "id": "886fb141",
   "metadata": {},
   "outputs": [
    {
     "data": {
      "application/vnd.microsoft.datawrangler.viewer.v0+json": {
       "columns": [
        {
         "name": "index",
         "rawType": "int64",
         "type": "integer"
        },
        {
         "name": "age",
         "rawType": "int64",
         "type": "integer"
        },
        {
         "name": "estimatedsalary",
         "rawType": "int64",
         "type": "integer"
        },
        {
         "name": "purchased",
         "rawType": "int64",
         "type": "integer"
        },
        {
         "name": "gender_Male",
         "rawType": "int64",
         "type": "integer"
        }
       ],
       "ref": "aaffc80f-2240-49e7-b58d-8f4a8f091769",
       "rows": [
        [
         "0",
         "19",
         "19000",
         "0",
         "1"
        ],
        [
         "1",
         "35",
         "20000",
         "0",
         "1"
        ],
        [
         "2",
         "26",
         "43000",
         "0",
         "0"
        ],
        [
         "3",
         "27",
         "57000",
         "0",
         "0"
        ],
        [
         "4",
         "19",
         "76000",
         "0",
         "1"
        ],
        [
         "5",
         "27",
         "58000",
         "0",
         "1"
        ],
        [
         "6",
         "27",
         "84000",
         "0",
         "0"
        ],
        [
         "7",
         "32",
         "150000",
         "1",
         "0"
        ],
        [
         "8",
         "25",
         "33000",
         "0",
         "1"
        ],
        [
         "9",
         "35",
         "65000",
         "0",
         "0"
        ],
        [
         "10",
         "26",
         "80000",
         "0",
         "0"
        ],
        [
         "11",
         "26",
         "52000",
         "0",
         "0"
        ],
        [
         "12",
         "20",
         "86000",
         "0",
         "1"
        ],
        [
         "13",
         "32",
         "18000",
         "0",
         "1"
        ],
        [
         "14",
         "18",
         "82000",
         "0",
         "1"
        ],
        [
         "15",
         "29",
         "80000",
         "0",
         "1"
        ],
        [
         "16",
         "47",
         "25000",
         "1",
         "1"
        ],
        [
         "17",
         "45",
         "26000",
         "1",
         "1"
        ],
        [
         "18",
         "46",
         "28000",
         "1",
         "1"
        ],
        [
         "19",
         "48",
         "29000",
         "1",
         "0"
        ],
        [
         "20",
         "45",
         "22000",
         "1",
         "1"
        ],
        [
         "21",
         "47",
         "49000",
         "1",
         "0"
        ],
        [
         "22",
         "48",
         "41000",
         "1",
         "1"
        ],
        [
         "23",
         "45",
         "22000",
         "1",
         "0"
        ],
        [
         "24",
         "46",
         "23000",
         "1",
         "1"
        ],
        [
         "25",
         "47",
         "20000",
         "1",
         "1"
        ],
        [
         "26",
         "49",
         "28000",
         "1",
         "1"
        ],
        [
         "27",
         "47",
         "30000",
         "1",
         "0"
        ],
        [
         "28",
         "29",
         "43000",
         "0",
         "1"
        ],
        [
         "29",
         "31",
         "18000",
         "0",
         "1"
        ],
        [
         "30",
         "31",
         "74000",
         "0",
         "1"
        ],
        [
         "31",
         "27",
         "137000",
         "1",
         "0"
        ],
        [
         "32",
         "21",
         "16000",
         "0",
         "0"
        ],
        [
         "33",
         "28",
         "44000",
         "0",
         "0"
        ],
        [
         "34",
         "27",
         "90000",
         "0",
         "1"
        ],
        [
         "35",
         "35",
         "27000",
         "0",
         "1"
        ],
        [
         "36",
         "33",
         "28000",
         "0",
         "0"
        ],
        [
         "37",
         "30",
         "49000",
         "0",
         "1"
        ],
        [
         "38",
         "26",
         "72000",
         "0",
         "0"
        ],
        [
         "39",
         "27",
         "31000",
         "0",
         "0"
        ],
        [
         "40",
         "27",
         "17000",
         "0",
         "0"
        ],
        [
         "41",
         "33",
         "51000",
         "0",
         "0"
        ],
        [
         "42",
         "35",
         "108000",
         "0",
         "1"
        ],
        [
         "43",
         "30",
         "15000",
         "0",
         "1"
        ],
        [
         "44",
         "28",
         "84000",
         "0",
         "0"
        ],
        [
         "45",
         "23",
         "20000",
         "0",
         "1"
        ],
        [
         "46",
         "25",
         "79000",
         "0",
         "1"
        ],
        [
         "47",
         "27",
         "54000",
         "0",
         "0"
        ],
        [
         "48",
         "30",
         "135000",
         "1",
         "1"
        ],
        [
         "49",
         "31",
         "89000",
         "0",
         "0"
        ]
       ],
       "shape": {
        "columns": 4,
        "rows": 400
       }
      },
      "text/html": [
       "<div>\n",
       "<style scoped>\n",
       "    .dataframe tbody tr th:only-of-type {\n",
       "        vertical-align: middle;\n",
       "    }\n",
       "\n",
       "    .dataframe tbody tr th {\n",
       "        vertical-align: top;\n",
       "    }\n",
       "\n",
       "    .dataframe thead th {\n",
       "        text-align: right;\n",
       "    }\n",
       "</style>\n",
       "<table border=\"1\" class=\"dataframe\">\n",
       "  <thead>\n",
       "    <tr style=\"text-align: right;\">\n",
       "      <th></th>\n",
       "      <th>age</th>\n",
       "      <th>estimatedsalary</th>\n",
       "      <th>purchased</th>\n",
       "      <th>gender_Male</th>\n",
       "    </tr>\n",
       "  </thead>\n",
       "  <tbody>\n",
       "    <tr>\n",
       "      <th>0</th>\n",
       "      <td>19</td>\n",
       "      <td>19000</td>\n",
       "      <td>0</td>\n",
       "      <td>1</td>\n",
       "    </tr>\n",
       "    <tr>\n",
       "      <th>1</th>\n",
       "      <td>35</td>\n",
       "      <td>20000</td>\n",
       "      <td>0</td>\n",
       "      <td>1</td>\n",
       "    </tr>\n",
       "    <tr>\n",
       "      <th>2</th>\n",
       "      <td>26</td>\n",
       "      <td>43000</td>\n",
       "      <td>0</td>\n",
       "      <td>0</td>\n",
       "    </tr>\n",
       "    <tr>\n",
       "      <th>3</th>\n",
       "      <td>27</td>\n",
       "      <td>57000</td>\n",
       "      <td>0</td>\n",
       "      <td>0</td>\n",
       "    </tr>\n",
       "    <tr>\n",
       "      <th>4</th>\n",
       "      <td>19</td>\n",
       "      <td>76000</td>\n",
       "      <td>0</td>\n",
       "      <td>1</td>\n",
       "    </tr>\n",
       "    <tr>\n",
       "      <th>...</th>\n",
       "      <td>...</td>\n",
       "      <td>...</td>\n",
       "      <td>...</td>\n",
       "      <td>...</td>\n",
       "    </tr>\n",
       "    <tr>\n",
       "      <th>395</th>\n",
       "      <td>46</td>\n",
       "      <td>41000</td>\n",
       "      <td>1</td>\n",
       "      <td>0</td>\n",
       "    </tr>\n",
       "    <tr>\n",
       "      <th>396</th>\n",
       "      <td>51</td>\n",
       "      <td>23000</td>\n",
       "      <td>1</td>\n",
       "      <td>1</td>\n",
       "    </tr>\n",
       "    <tr>\n",
       "      <th>397</th>\n",
       "      <td>50</td>\n",
       "      <td>20000</td>\n",
       "      <td>1</td>\n",
       "      <td>0</td>\n",
       "    </tr>\n",
       "    <tr>\n",
       "      <th>398</th>\n",
       "      <td>36</td>\n",
       "      <td>33000</td>\n",
       "      <td>0</td>\n",
       "      <td>1</td>\n",
       "    </tr>\n",
       "    <tr>\n",
       "      <th>399</th>\n",
       "      <td>49</td>\n",
       "      <td>36000</td>\n",
       "      <td>1</td>\n",
       "      <td>0</td>\n",
       "    </tr>\n",
       "  </tbody>\n",
       "</table>\n",
       "<p>400 rows × 4 columns</p>\n",
       "</div>"
      ],
      "text/plain": [
       "     age  estimatedsalary  purchased  gender_Male\n",
       "0     19            19000          0            1\n",
       "1     35            20000          0            1\n",
       "2     26            43000          0            0\n",
       "3     27            57000          0            0\n",
       "4     19            76000          0            1\n",
       "..   ...              ...        ...          ...\n",
       "395   46            41000          1            0\n",
       "396   51            23000          1            1\n",
       "397   50            20000          1            0\n",
       "398   36            33000          0            1\n",
       "399   49            36000          1            0\n",
       "\n",
       "[400 rows x 4 columns]"
      ]
     },
     "execution_count": 12,
     "metadata": {},
     "output_type": "execute_result"
    }
   ],
   "source": [
    "df"
   ]
  },
  {
   "cell_type": "code",
   "execution_count": 13,
   "id": "4f2d11c0",
   "metadata": {},
   "outputs": [
    {
     "data": {
      "text/plain": [
       "['age', 'estimatedsalary', 'purchased', 'gender_Male']"
      ]
     },
     "execution_count": 13,
     "metadata": {},
     "output_type": "execute_result"
    }
   ],
   "source": [
    "df.columns.to_list()"
   ]
  },
  {
   "cell_type": "code",
   "execution_count": 14,
   "id": "406e6163",
   "metadata": {},
   "outputs": [],
   "source": [
    "df.rename(columns =({'gender_Female': 'female', 'gender_Male': 'male'}), inplace=True)"
   ]
  },
  {
   "cell_type": "code",
   "execution_count": 15,
   "id": "d8622687",
   "metadata": {},
   "outputs": [
    {
     "data": {
      "application/vnd.microsoft.datawrangler.viewer.v0+json": {
       "columns": [
        {
         "name": "index",
         "rawType": "int64",
         "type": "integer"
        },
        {
         "name": "age",
         "rawType": "int64",
         "type": "integer"
        },
        {
         "name": "estimatedsalary",
         "rawType": "int64",
         "type": "integer"
        },
        {
         "name": "purchased",
         "rawType": "int64",
         "type": "integer"
        },
        {
         "name": "male",
         "rawType": "int64",
         "type": "integer"
        }
       ],
       "ref": "bc2e480e-7d66-4657-8e8b-650ca9fd438f",
       "rows": [
        [
         "0",
         "19",
         "19000",
         "0",
         "1"
        ],
        [
         "1",
         "35",
         "20000",
         "0",
         "1"
        ],
        [
         "2",
         "26",
         "43000",
         "0",
         "0"
        ],
        [
         "3",
         "27",
         "57000",
         "0",
         "0"
        ],
        [
         "4",
         "19",
         "76000",
         "0",
         "1"
        ],
        [
         "5",
         "27",
         "58000",
         "0",
         "1"
        ],
        [
         "6",
         "27",
         "84000",
         "0",
         "0"
        ],
        [
         "7",
         "32",
         "150000",
         "1",
         "0"
        ],
        [
         "8",
         "25",
         "33000",
         "0",
         "1"
        ],
        [
         "9",
         "35",
         "65000",
         "0",
         "0"
        ],
        [
         "10",
         "26",
         "80000",
         "0",
         "0"
        ],
        [
         "11",
         "26",
         "52000",
         "0",
         "0"
        ],
        [
         "12",
         "20",
         "86000",
         "0",
         "1"
        ],
        [
         "13",
         "32",
         "18000",
         "0",
         "1"
        ],
        [
         "14",
         "18",
         "82000",
         "0",
         "1"
        ],
        [
         "15",
         "29",
         "80000",
         "0",
         "1"
        ],
        [
         "16",
         "47",
         "25000",
         "1",
         "1"
        ],
        [
         "17",
         "45",
         "26000",
         "1",
         "1"
        ],
        [
         "18",
         "46",
         "28000",
         "1",
         "1"
        ],
        [
         "19",
         "48",
         "29000",
         "1",
         "0"
        ],
        [
         "20",
         "45",
         "22000",
         "1",
         "1"
        ],
        [
         "21",
         "47",
         "49000",
         "1",
         "0"
        ],
        [
         "22",
         "48",
         "41000",
         "1",
         "1"
        ],
        [
         "23",
         "45",
         "22000",
         "1",
         "0"
        ],
        [
         "24",
         "46",
         "23000",
         "1",
         "1"
        ],
        [
         "25",
         "47",
         "20000",
         "1",
         "1"
        ],
        [
         "26",
         "49",
         "28000",
         "1",
         "1"
        ],
        [
         "27",
         "47",
         "30000",
         "1",
         "0"
        ],
        [
         "28",
         "29",
         "43000",
         "0",
         "1"
        ],
        [
         "29",
         "31",
         "18000",
         "0",
         "1"
        ],
        [
         "30",
         "31",
         "74000",
         "0",
         "1"
        ],
        [
         "31",
         "27",
         "137000",
         "1",
         "0"
        ],
        [
         "32",
         "21",
         "16000",
         "0",
         "0"
        ],
        [
         "33",
         "28",
         "44000",
         "0",
         "0"
        ],
        [
         "34",
         "27",
         "90000",
         "0",
         "1"
        ],
        [
         "35",
         "35",
         "27000",
         "0",
         "1"
        ],
        [
         "36",
         "33",
         "28000",
         "0",
         "0"
        ],
        [
         "37",
         "30",
         "49000",
         "0",
         "1"
        ],
        [
         "38",
         "26",
         "72000",
         "0",
         "0"
        ],
        [
         "39",
         "27",
         "31000",
         "0",
         "0"
        ],
        [
         "40",
         "27",
         "17000",
         "0",
         "0"
        ],
        [
         "41",
         "33",
         "51000",
         "0",
         "0"
        ],
        [
         "42",
         "35",
         "108000",
         "0",
         "1"
        ],
        [
         "43",
         "30",
         "15000",
         "0",
         "1"
        ],
        [
         "44",
         "28",
         "84000",
         "0",
         "0"
        ],
        [
         "45",
         "23",
         "20000",
         "0",
         "1"
        ],
        [
         "46",
         "25",
         "79000",
         "0",
         "1"
        ],
        [
         "47",
         "27",
         "54000",
         "0",
         "0"
        ],
        [
         "48",
         "30",
         "135000",
         "1",
         "1"
        ],
        [
         "49",
         "31",
         "89000",
         "0",
         "0"
        ]
       ],
       "shape": {
        "columns": 4,
        "rows": 400
       }
      },
      "text/html": [
       "<div>\n",
       "<style scoped>\n",
       "    .dataframe tbody tr th:only-of-type {\n",
       "        vertical-align: middle;\n",
       "    }\n",
       "\n",
       "    .dataframe tbody tr th {\n",
       "        vertical-align: top;\n",
       "    }\n",
       "\n",
       "    .dataframe thead th {\n",
       "        text-align: right;\n",
       "    }\n",
       "</style>\n",
       "<table border=\"1\" class=\"dataframe\">\n",
       "  <thead>\n",
       "    <tr style=\"text-align: right;\">\n",
       "      <th></th>\n",
       "      <th>age</th>\n",
       "      <th>estimatedsalary</th>\n",
       "      <th>purchased</th>\n",
       "      <th>male</th>\n",
       "    </tr>\n",
       "  </thead>\n",
       "  <tbody>\n",
       "    <tr>\n",
       "      <th>0</th>\n",
       "      <td>19</td>\n",
       "      <td>19000</td>\n",
       "      <td>0</td>\n",
       "      <td>1</td>\n",
       "    </tr>\n",
       "    <tr>\n",
       "      <th>1</th>\n",
       "      <td>35</td>\n",
       "      <td>20000</td>\n",
       "      <td>0</td>\n",
       "      <td>1</td>\n",
       "    </tr>\n",
       "    <tr>\n",
       "      <th>2</th>\n",
       "      <td>26</td>\n",
       "      <td>43000</td>\n",
       "      <td>0</td>\n",
       "      <td>0</td>\n",
       "    </tr>\n",
       "    <tr>\n",
       "      <th>3</th>\n",
       "      <td>27</td>\n",
       "      <td>57000</td>\n",
       "      <td>0</td>\n",
       "      <td>0</td>\n",
       "    </tr>\n",
       "    <tr>\n",
       "      <th>4</th>\n",
       "      <td>19</td>\n",
       "      <td>76000</td>\n",
       "      <td>0</td>\n",
       "      <td>1</td>\n",
       "    </tr>\n",
       "    <tr>\n",
       "      <th>...</th>\n",
       "      <td>...</td>\n",
       "      <td>...</td>\n",
       "      <td>...</td>\n",
       "      <td>...</td>\n",
       "    </tr>\n",
       "    <tr>\n",
       "      <th>395</th>\n",
       "      <td>46</td>\n",
       "      <td>41000</td>\n",
       "      <td>1</td>\n",
       "      <td>0</td>\n",
       "    </tr>\n",
       "    <tr>\n",
       "      <th>396</th>\n",
       "      <td>51</td>\n",
       "      <td>23000</td>\n",
       "      <td>1</td>\n",
       "      <td>1</td>\n",
       "    </tr>\n",
       "    <tr>\n",
       "      <th>397</th>\n",
       "      <td>50</td>\n",
       "      <td>20000</td>\n",
       "      <td>1</td>\n",
       "      <td>0</td>\n",
       "    </tr>\n",
       "    <tr>\n",
       "      <th>398</th>\n",
       "      <td>36</td>\n",
       "      <td>33000</td>\n",
       "      <td>0</td>\n",
       "      <td>1</td>\n",
       "    </tr>\n",
       "    <tr>\n",
       "      <th>399</th>\n",
       "      <td>49</td>\n",
       "      <td>36000</td>\n",
       "      <td>1</td>\n",
       "      <td>0</td>\n",
       "    </tr>\n",
       "  </tbody>\n",
       "</table>\n",
       "<p>400 rows × 4 columns</p>\n",
       "</div>"
      ],
      "text/plain": [
       "     age  estimatedsalary  purchased  male\n",
       "0     19            19000          0     1\n",
       "1     35            20000          0     1\n",
       "2     26            43000          0     0\n",
       "3     27            57000          0     0\n",
       "4     19            76000          0     1\n",
       "..   ...              ...        ...   ...\n",
       "395   46            41000          1     0\n",
       "396   51            23000          1     1\n",
       "397   50            20000          1     0\n",
       "398   36            33000          0     1\n",
       "399   49            36000          1     0\n",
       "\n",
       "[400 rows x 4 columns]"
      ]
     },
     "execution_count": 15,
     "metadata": {},
     "output_type": "execute_result"
    }
   ],
   "source": [
    "df"
   ]
  },
  {
   "cell_type": "code",
   "execution_count": 16,
   "id": "f2dcccad",
   "metadata": {},
   "outputs": [
    {
     "data": {
      "application/vnd.microsoft.datawrangler.viewer.v0+json": {
       "columns": [
        {
         "name": "index",
         "rawType": "object",
         "type": "string"
        },
        {
         "name": "age",
         "rawType": "float64",
         "type": "float"
        },
        {
         "name": "estimatedsalary",
         "rawType": "float64",
         "type": "float"
        },
        {
         "name": "purchased",
         "rawType": "float64",
         "type": "float"
        },
        {
         "name": "male",
         "rawType": "float64",
         "type": "float"
        }
       ],
       "ref": "b200b186-31b5-4175-904c-a91fc54bf5ad",
       "rows": [
        [
         "count",
         "400.0",
         "400.0",
         "400.0",
         "400.0"
        ],
        [
         "mean",
         "37.655",
         "69742.5",
         "0.3575",
         "0.49"
        ],
        [
         "std",
         "10.482876597307914",
         "34096.960282424785",
         "0.479863963596869",
         "0.500526039072368"
        ],
        [
         "min",
         "18.0",
         "15000.0",
         "0.0",
         "0.0"
        ],
        [
         "25%",
         "29.75",
         "43000.0",
         "0.0",
         "0.0"
        ],
        [
         "50%",
         "37.0",
         "70000.0",
         "0.0",
         "0.0"
        ],
        [
         "75%",
         "46.0",
         "88000.0",
         "1.0",
         "1.0"
        ],
        [
         "max",
         "60.0",
         "150000.0",
         "1.0",
         "1.0"
        ]
       ],
       "shape": {
        "columns": 4,
        "rows": 8
       }
      },
      "text/html": [
       "<div>\n",
       "<style scoped>\n",
       "    .dataframe tbody tr th:only-of-type {\n",
       "        vertical-align: middle;\n",
       "    }\n",
       "\n",
       "    .dataframe tbody tr th {\n",
       "        vertical-align: top;\n",
       "    }\n",
       "\n",
       "    .dataframe thead th {\n",
       "        text-align: right;\n",
       "    }\n",
       "</style>\n",
       "<table border=\"1\" class=\"dataframe\">\n",
       "  <thead>\n",
       "    <tr style=\"text-align: right;\">\n",
       "      <th></th>\n",
       "      <th>age</th>\n",
       "      <th>estimatedsalary</th>\n",
       "      <th>purchased</th>\n",
       "      <th>male</th>\n",
       "    </tr>\n",
       "  </thead>\n",
       "  <tbody>\n",
       "    <tr>\n",
       "      <th>count</th>\n",
       "      <td>400.000000</td>\n",
       "      <td>400.000000</td>\n",
       "      <td>400.000000</td>\n",
       "      <td>400.000000</td>\n",
       "    </tr>\n",
       "    <tr>\n",
       "      <th>mean</th>\n",
       "      <td>37.655000</td>\n",
       "      <td>69742.500000</td>\n",
       "      <td>0.357500</td>\n",
       "      <td>0.490000</td>\n",
       "    </tr>\n",
       "    <tr>\n",
       "      <th>std</th>\n",
       "      <td>10.482877</td>\n",
       "      <td>34096.960282</td>\n",
       "      <td>0.479864</td>\n",
       "      <td>0.500526</td>\n",
       "    </tr>\n",
       "    <tr>\n",
       "      <th>min</th>\n",
       "      <td>18.000000</td>\n",
       "      <td>15000.000000</td>\n",
       "      <td>0.000000</td>\n",
       "      <td>0.000000</td>\n",
       "    </tr>\n",
       "    <tr>\n",
       "      <th>25%</th>\n",
       "      <td>29.750000</td>\n",
       "      <td>43000.000000</td>\n",
       "      <td>0.000000</td>\n",
       "      <td>0.000000</td>\n",
       "    </tr>\n",
       "    <tr>\n",
       "      <th>50%</th>\n",
       "      <td>37.000000</td>\n",
       "      <td>70000.000000</td>\n",
       "      <td>0.000000</td>\n",
       "      <td>0.000000</td>\n",
       "    </tr>\n",
       "    <tr>\n",
       "      <th>75%</th>\n",
       "      <td>46.000000</td>\n",
       "      <td>88000.000000</td>\n",
       "      <td>1.000000</td>\n",
       "      <td>1.000000</td>\n",
       "    </tr>\n",
       "    <tr>\n",
       "      <th>max</th>\n",
       "      <td>60.000000</td>\n",
       "      <td>150000.000000</td>\n",
       "      <td>1.000000</td>\n",
       "      <td>1.000000</td>\n",
       "    </tr>\n",
       "  </tbody>\n",
       "</table>\n",
       "</div>"
      ],
      "text/plain": [
       "              age  estimatedsalary   purchased        male\n",
       "count  400.000000       400.000000  400.000000  400.000000\n",
       "mean    37.655000     69742.500000    0.357500    0.490000\n",
       "std     10.482877     34096.960282    0.479864    0.500526\n",
       "min     18.000000     15000.000000    0.000000    0.000000\n",
       "25%     29.750000     43000.000000    0.000000    0.000000\n",
       "50%     37.000000     70000.000000    0.000000    0.000000\n",
       "75%     46.000000     88000.000000    1.000000    1.000000\n",
       "max     60.000000    150000.000000    1.000000    1.000000"
      ]
     },
     "execution_count": 16,
     "metadata": {},
     "output_type": "execute_result"
    }
   ],
   "source": [
    "df.describe()"
   ]
  },
  {
   "cell_type": "code",
   "execution_count": 17,
   "id": "f14765fd",
   "metadata": {},
   "outputs": [
    {
     "data": {
      "text/plain": [
       "<bound method DataFrame.corr of      age  estimatedsalary  purchased  male\n",
       "0     19            19000          0     1\n",
       "1     35            20000          0     1\n",
       "2     26            43000          0     0\n",
       "3     27            57000          0     0\n",
       "4     19            76000          0     1\n",
       "..   ...              ...        ...   ...\n",
       "395   46            41000          1     0\n",
       "396   51            23000          1     1\n",
       "397   50            20000          1     0\n",
       "398   36            33000          0     1\n",
       "399   49            36000          1     0\n",
       "\n",
       "[400 rows x 4 columns]>"
      ]
     },
     "execution_count": 17,
     "metadata": {},
     "output_type": "execute_result"
    }
   ],
   "source": [
    "df.corr"
   ]
  },
  {
   "cell_type": "code",
   "execution_count": 18,
   "id": "445ccf48",
   "metadata": {},
   "outputs": [
    {
     "data": {
      "text/plain": [
       "<Axes: >"
      ]
     },
     "execution_count": 18,
     "metadata": {},
     "output_type": "execute_result"
    },
    {
     "data": {
      "image/png": "[encoded data removed]",
      "text/plain": [
       "<Figure size 1000x800 with 2 Axes>"
      ]
     },
     "metadata": {},
     "output_type": "display_data"
    }
   ],
   "source": [
    "plt.figure(figsize=(10, 8))\n",
    "sns.heatmap(df.corr(), annot=True, fmt='.2f', cmap='coolwarm', square=True, cbar_kws={\"shrink\": .8})"
   ]
  },
  {
   "cell_type": "code",
   "execution_count": 19,
   "id": "b04490bd",
   "metadata": {},
   "outputs": [
    {
     "data": {
      "application/vnd.microsoft.datawrangler.viewer.v0+json": {
       "columns": [
        {
         "name": "index",
         "rawType": "int64",
         "type": "integer"
        },
        {
         "name": "age",
         "rawType": "int64",
         "type": "integer"
        },
        {
         "name": "estimatedsalary",
         "rawType": "int64",
         "type": "integer"
        },
        {
         "name": "purchased",
         "rawType": "int64",
         "type": "integer"
        },
        {
         "name": "male",
         "rawType": "int64",
         "type": "integer"
        }
       ],
       "ref": "34ec6b20-1e51-4c53-ab79-ab12b893f57b",
       "rows": [
        [
         "0",
         "19",
         "19000",
         "0",
         "1"
        ],
        [
         "1",
         "35",
         "20000",
         "0",
         "1"
        ],
        [
         "2",
         "26",
         "43000",
         "0",
         "0"
        ],
        [
         "3",
         "27",
         "57000",
         "0",
         "0"
        ],
        [
         "4",
         "19",
         "76000",
         "0",
         "1"
        ],
        [
         "5",
         "27",
         "58000",
         "0",
         "1"
        ],
        [
         "6",
         "27",
         "84000",
         "0",
         "0"
        ],
        [
         "7",
         "32",
         "150000",
         "1",
         "0"
        ],
        [
         "8",
         "25",
         "33000",
         "0",
         "1"
        ],
        [
         "9",
         "35",
         "65000",
         "0",
         "0"
        ],
        [
         "10",
         "26",
         "80000",
         "0",
         "0"
        ],
        [
         "11",
         "26",
         "52000",
         "0",
         "0"
        ],
        [
         "12",
         "20",
         "86000",
         "0",
         "1"
        ],
        [
         "13",
         "32",
         "18000",
         "0",
         "1"
        ],
        [
         "14",
         "18",
         "82000",
         "0",
         "1"
        ],
        [
         "15",
         "29",
         "80000",
         "0",
         "1"
        ],
        [
         "16",
         "47",
         "25000",
         "1",
         "1"
        ],
        [
         "17",
         "45",
         "26000",
         "1",
         "1"
        ],
        [
         "18",
         "46",
         "28000",
         "1",
         "1"
        ],
        [
         "19",
         "48",
         "29000",
         "1",
         "0"
        ],
        [
         "20",
         "45",
         "22000",
         "1",
         "1"
        ],
        [
         "21",
         "47",
         "49000",
         "1",
         "0"
        ],
        [
         "22",
         "48",
         "41000",
         "1",
         "1"
        ],
        [
         "23",
         "45",
         "22000",
         "1",
         "0"
        ],
        [
         "24",
         "46",
         "23000",
         "1",
         "1"
        ],
        [
         "25",
         "47",
         "20000",
         "1",
         "1"
        ],
        [
         "26",
         "49",
         "28000",
         "1",
         "1"
        ],
        [
         "27",
         "47",
         "30000",
         "1",
         "0"
        ],
        [
         "28",
         "29",
         "43000",
         "0",
         "1"
        ],
        [
         "29",
         "31",
         "18000",
         "0",
         "1"
        ],
        [
         "30",
         "31",
         "74000",
         "0",
         "1"
        ],
        [
         "31",
         "27",
         "137000",
         "1",
         "0"
        ],
        [
         "32",
         "21",
         "16000",
         "0",
         "0"
        ],
        [
         "33",
         "28",
         "44000",
         "0",
         "0"
        ],
        [
         "34",
         "27",
         "90000",
         "0",
         "1"
        ],
        [
         "35",
         "35",
         "27000",
         "0",
         "1"
        ],
        [
         "36",
         "33",
         "28000",
         "0",
         "0"
        ],
        [
         "37",
         "30",
         "49000",
         "0",
         "1"
        ],
        [
         "38",
         "26",
         "72000",
         "0",
         "0"
        ],
        [
         "39",
         "27",
         "31000",
         "0",
         "0"
        ],
        [
         "40",
         "27",
         "17000",
         "0",
         "0"
        ],
        [
         "41",
         "33",
         "51000",
         "0",
         "0"
        ],
        [
         "42",
         "35",
         "108000",
         "0",
         "1"
        ],
        [
         "43",
         "30",
         "15000",
         "0",
         "1"
        ],
        [
         "44",
         "28",
         "84000",
         "0",
         "0"
        ],
        [
         "45",
         "23",
         "20000",
         "0",
         "1"
        ],
        [
         "46",
         "25",
         "79000",
         "0",
         "1"
        ],
        [
         "47",
         "27",
         "54000",
         "0",
         "0"
        ],
        [
         "48",
         "30",
         "135000",
         "1",
         "1"
        ],
        [
         "49",
         "31",
         "89000",
         "0",
         "0"
        ]
       ],
       "shape": {
        "columns": 4,
        "rows": 400
       }
      },
      "text/html": [
       "<div>\n",
       "<style scoped>\n",
       "    .dataframe tbody tr th:only-of-type {\n",
       "        vertical-align: middle;\n",
       "    }\n",
       "\n",
       "    .dataframe tbody tr th {\n",
       "        vertical-align: top;\n",
       "    }\n",
       "\n",
       "    .dataframe thead th {\n",
       "        text-align: right;\n",
       "    }\n",
       "</style>\n",
       "<table border=\"1\" class=\"dataframe\">\n",
       "  <thead>\n",
       "    <tr style=\"text-align: right;\">\n",
       "      <th></th>\n",
       "      <th>age</th>\n",
       "      <th>estimatedsalary</th>\n",
       "      <th>purchased</th>\n",
       "      <th>male</th>\n",
       "    </tr>\n",
       "  </thead>\n",
       "  <tbody>\n",
       "    <tr>\n",
       "      <th>0</th>\n",
       "      <td>19</td>\n",
       "      <td>19000</td>\n",
       "      <td>0</td>\n",
       "      <td>1</td>\n",
       "    </tr>\n",
       "    <tr>\n",
       "      <th>1</th>\n",
       "      <td>35</td>\n",
       "      <td>20000</td>\n",
       "      <td>0</td>\n",
       "      <td>1</td>\n",
       "    </tr>\n",
       "    <tr>\n",
       "      <th>2</th>\n",
       "      <td>26</td>\n",
       "      <td>43000</td>\n",
       "      <td>0</td>\n",
       "      <td>0</td>\n",
       "    </tr>\n",
       "    <tr>\n",
       "      <th>3</th>\n",
       "      <td>27</td>\n",
       "      <td>57000</td>\n",
       "      <td>0</td>\n",
       "      <td>0</td>\n",
       "    </tr>\n",
       "    <tr>\n",
       "      <th>4</th>\n",
       "      <td>19</td>\n",
       "      <td>76000</td>\n",
       "      <td>0</td>\n",
       "      <td>1</td>\n",
       "    </tr>\n",
       "    <tr>\n",
       "      <th>...</th>\n",
       "      <td>...</td>\n",
       "      <td>...</td>\n",
       "      <td>...</td>\n",
       "      <td>...</td>\n",
       "    </tr>\n",
       "    <tr>\n",
       "      <th>395</th>\n",
       "      <td>46</td>\n",
       "      <td>41000</td>\n",
       "      <td>1</td>\n",
       "      <td>0</td>\n",
       "    </tr>\n",
       "    <tr>\n",
       "      <th>396</th>\n",
       "      <td>51</td>\n",
       "      <td>23000</td>\n",
       "      <td>1</td>\n",
       "      <td>1</td>\n",
       "    </tr>\n",
       "    <tr>\n",
       "      <th>397</th>\n",
       "      <td>50</td>\n",
       "      <td>20000</td>\n",
       "      <td>1</td>\n",
       "      <td>0</td>\n",
       "    </tr>\n",
       "    <tr>\n",
       "      <th>398</th>\n",
       "      <td>36</td>\n",
       "      <td>33000</td>\n",
       "      <td>0</td>\n",
       "      <td>1</td>\n",
       "    </tr>\n",
       "    <tr>\n",
       "      <th>399</th>\n",
       "      <td>49</td>\n",
       "      <td>36000</td>\n",
       "      <td>1</td>\n",
       "      <td>0</td>\n",
       "    </tr>\n",
       "  </tbody>\n",
       "</table>\n",
       "<p>400 rows × 4 columns</p>\n",
       "</div>"
      ],
      "text/plain": [
       "     age  estimatedsalary  purchased  male\n",
       "0     19            19000          0     1\n",
       "1     35            20000          0     1\n",
       "2     26            43000          0     0\n",
       "3     27            57000          0     0\n",
       "4     19            76000          0     1\n",
       "..   ...              ...        ...   ...\n",
       "395   46            41000          1     0\n",
       "396   51            23000          1     1\n",
       "397   50            20000          1     0\n",
       "398   36            33000          0     1\n",
       "399   49            36000          1     0\n",
       "\n",
       "[400 rows x 4 columns]"
      ]
     },
     "execution_count": 19,
     "metadata": {},
     "output_type": "execute_result"
    }
   ],
   "source": [
    "df"
   ]
  },
  {
   "cell_type": "code",
   "execution_count": 20,
   "id": "246e7c48",
   "metadata": {},
   "outputs": [],
   "source": [
    "from sklearn.preprocessing import StandardScaler\n",
    "scaler = StandardScaler()\n",
    "df_sc = scaler.fit_transform(df[['age', 'estimatedsalary']])"
   ]
  },
  {
   "cell_type": "code",
   "execution_count": 21,
   "id": "bb858810",
   "metadata": {},
   "outputs": [
    {
     "data": {
      "application/vnd.microsoft.datawrangler.viewer.v0+json": {
       "columns": [
        {
         "name": "index",
         "rawType": "int64",
         "type": "integer"
        },
        {
         "name": "age",
         "rawType": "float64",
         "type": "float"
        },
        {
         "name": "estimatedsalary",
         "rawType": "float64",
         "type": "float"
        }
       ],
       "ref": "b9628394-df45-4d7f-824b-44e94170ee2f",
       "rows": [
        [
         "0",
         "-1.7817974284598157",
         "-1.4900462352132775"
        ],
        [
         "1",
         "-0.25358735848624026",
         "-1.4606813786292843"
        ],
        [
         "2",
         "-1.1132055228463764",
         "-0.7852896771974396"
        ],
        [
         "3",
         "-1.017692393473028",
         "-0.37418168502153404"
        ],
        [
         "4",
         "-1.7817974284598157",
         "0.18375059007433778"
        ]
       ],
       "shape": {
        "columns": 2,
        "rows": 5
       }
      },
      "text/html": [
       "<div>\n",
       "<style scoped>\n",
       "    .dataframe tbody tr th:only-of-type {\n",
       "        vertical-align: middle;\n",
       "    }\n",
       "\n",
       "    .dataframe tbody tr th {\n",
       "        vertical-align: top;\n",
       "    }\n",
       "\n",
       "    .dataframe thead th {\n",
       "        text-align: right;\n",
       "    }\n",
       "</style>\n",
       "<table border=\"1\" class=\"dataframe\">\n",
       "  <thead>\n",
       "    <tr style=\"text-align: right;\">\n",
       "      <th></th>\n",
       "      <th>age</th>\n",
       "      <th>estimatedsalary</th>\n",
       "    </tr>\n",
       "  </thead>\n",
       "  <tbody>\n",
       "    <tr>\n",
       "      <th>0</th>\n",
       "      <td>-1.781797</td>\n",
       "      <td>-1.490046</td>\n",
       "    </tr>\n",
       "    <tr>\n",
       "      <th>1</th>\n",
       "      <td>-0.253587</td>\n",
       "      <td>-1.460681</td>\n",
       "    </tr>\n",
       "    <tr>\n",
       "      <th>2</th>\n",
       "      <td>-1.113206</td>\n",
       "      <td>-0.785290</td>\n",
       "    </tr>\n",
       "    <tr>\n",
       "      <th>3</th>\n",
       "      <td>-1.017692</td>\n",
       "      <td>-0.374182</td>\n",
       "    </tr>\n",
       "    <tr>\n",
       "      <th>4</th>\n",
       "      <td>-1.781797</td>\n",
       "      <td>0.183751</td>\n",
       "    </tr>\n",
       "  </tbody>\n",
       "</table>\n",
       "</div>"
      ],
      "text/plain": [
       "        age  estimatedsalary\n",
       "0 -1.781797        -1.490046\n",
       "1 -0.253587        -1.460681\n",
       "2 -1.113206        -0.785290\n",
       "3 -1.017692        -0.374182\n",
       "4 -1.781797         0.183751"
      ]
     },
     "execution_count": 21,
     "metadata": {},
     "output_type": "execute_result"
    }
   ],
   "source": [
    "df_sc = pd.DataFrame(data=df_sc, columns=['age', 'estimatedsalary'])\n",
    "df_sc.head()"
   ]
  },
  {
   "cell_type": "code",
   "execution_count": 22,
   "id": "6b53c4ef",
   "metadata": {},
   "outputs": [],
   "source": [
    "# combined the data\n",
    "df_sc = pd.concat([df_sc, df['purchased'], df['male']], axis=1)"
   ]
  },
  {
   "cell_type": "code",
   "execution_count": 25,
   "id": "72011714",
   "metadata": {},
   "outputs": [
    {
     "data": {
      "application/vnd.microsoft.datawrangler.viewer.v0+json": {
       "columns": [
        {
         "name": "index",
         "rawType": "int64",
         "type": "integer"
        },
        {
         "name": "age",
         "rawType": "float64",
         "type": "float"
        },
        {
         "name": "estimatedsalary",
         "rawType": "float64",
         "type": "float"
        },
        {
         "name": "purchased",
         "rawType": "int64",
         "type": "integer"
        },
        {
         "name": "male",
         "rawType": "int64",
         "type": "integer"
        }
       ],
       "ref": "d8545a8c-d598-4897-89cf-45b1a5df9a93",
       "rows": [
        [
         "0",
         "-1.7817974284598157",
         "-1.4900462352132775",
         "0",
         "1"
        ],
        [
         "1",
         "-0.25358735848624026",
         "-1.4606813786292843",
         "0",
         "1"
        ],
        [
         "2",
         "-1.1132055228463764",
         "-0.7852896771974396",
         "0",
         "0"
        ],
        [
         "3",
         "-1.017692393473028",
         "-0.37418168502153404",
         "0",
         "0"
        ],
        [
         "4",
         "-1.7817974284598157",
         "0.18375059007433778",
         "0",
         "1"
        ],
        [
         "5",
         "-1.017692393473028",
         "-0.34481682843754075",
         "0",
         "1"
        ],
        [
         "6",
         "-1.017692393473028",
         "0.4186694427462838",
         "0",
         "0"
        ],
        [
         "7",
         "-0.5401267466062857",
         "2.3567499772898386",
         "1",
         "0"
        ],
        [
         "8",
         "-1.2087186522197249",
         "-1.0789382430373722",
         "0",
         "1"
        ],
        [
         "9",
         "-0.25358735848624026",
         "-0.139262832349588",
         "0",
         "0"
        ],
        [
         "10",
         "-1.1132055228463764",
         "0.3012100164103108",
         "0",
         "0"
        ],
        [
         "11",
         "-1.1132055228463764",
         "-0.5210059679415002",
         "0",
         "0"
        ],
        [
         "12",
         "-1.6862842990864673",
         "0.4773991559142703",
         "0",
         "1"
        ],
        [
         "13",
         "-0.5401267466062857",
         "-1.519411091797271",
         "0",
         "1"
        ],
        [
         "14",
         "-1.8773105578331641",
         "0.3599397295782973",
         "0",
         "1"
        ],
        [
         "15",
         "-0.826666134726331",
         "0.3012100164103108",
         "0",
         "1"
        ],
        [
         "16",
         "0.8925701939939412",
         "-1.313857095709318",
         "1",
         "1"
        ],
        [
         "17",
         "0.7015439352472443",
         "-1.2844922391253248",
         "1",
         "1"
        ],
        [
         "18",
         "0.7970570646205928",
         "-1.2257625259573384",
         "1",
         "1"
        ],
        [
         "19",
         "0.9880833233672897",
         "-1.1963976693733451",
         "1",
         "0"
        ],
        [
         "20",
         "0.7015439352472443",
         "-1.4019516654612978",
         "1",
         "1"
        ],
        [
         "21",
         "0.8925701939939412",
         "-0.60910053769348",
         "1",
         "0"
        ],
        [
         "22",
         "0.9880833233672897",
         "-0.8440193903654261",
         "1",
         "1"
        ],
        [
         "23",
         "0.7015439352472443",
         "-1.4019516654612978",
         "1",
         "0"
        ],
        [
         "24",
         "0.7970570646205928",
         "-1.3725868088773046",
         "1",
         "1"
        ],
        [
         "25",
         "0.8925701939939412",
         "-1.4606813786292843",
         "1",
         "1"
        ],
        [
         "26",
         "1.083596452740638",
         "-1.2257625259573384",
         "1",
         "1"
        ],
        [
         "27",
         "0.8925701939939412",
         "-1.167032812789352",
         "1",
         "0"
        ],
        [
         "28",
         "-0.826666134726331",
         "-0.7852896771974396",
         "0",
         "1"
        ],
        [
         "29",
         "-0.6356398759796341",
         "-1.519411091797271",
         "0",
         "1"
        ],
        [
         "30",
         "-0.6356398759796341",
         "0.12502087690635127",
         "0",
         "1"
        ],
        [
         "31",
         "-1.017692393473028",
         "1.975006841697926",
         "1",
         "0"
        ],
        [
         "32",
         "-1.5907711697131186",
         "-1.5781408049652574",
         "0",
         "0"
        ],
        [
         "33",
         "-0.9221792640996795",
         "-0.7559248206134463",
         "0",
         "0"
        ],
        [
         "34",
         "-1.017692393473028",
         "0.5948585822502434",
         "0",
         "1"
        ],
        [
         "35",
         "-0.25358735848624026",
         "-1.2551273825413316",
         "0",
         "1"
        ],
        [
         "36",
         "-0.4446136172329372",
         "-1.2257625259573384",
         "0",
         "0"
        ],
        [
         "37",
         "-0.7311530053529826",
         "-0.60910053769348",
         "0",
         "1"
        ],
        [
         "38",
         "-1.1132055228463764",
         "0.06629116373836477",
         "0",
         "0"
        ],
        [
         "39",
         "-1.017692393473028",
         "-1.1376679562053587",
         "0",
         "0"
        ],
        [
         "40",
         "-1.017692393473028",
         "-1.5487759483812642",
         "0",
         "0"
        ],
        [
         "41",
         "-0.4446136172329372",
         "-0.5503708245254936",
         "0",
         "0"
        ],
        [
         "42",
         "-0.25358735848624026",
         "1.123426000762122",
         "0",
         "1"
        ],
        [
         "43",
         "-0.7311530053529826",
         "-1.6075056615492507",
         "0",
         "1"
        ],
        [
         "44",
         "-0.9221792640996795",
         "0.4186694427462838",
         "0",
         "0"
        ],
        [
         "45",
         "-1.3997449109664217",
         "-1.4606813786292843",
         "0",
         "1"
        ],
        [
         "46",
         "-1.2087186522197249",
         "0.2718451598263175",
         "0",
         "1"
        ],
        [
         "47",
         "-1.017692393473028",
         "-0.46227625477351375",
         "0",
         "0"
        ],
        [
         "48",
         "-0.7311530053529826",
         "1.9162771285299396",
         "1",
         "1"
        ],
        [
         "49",
         "-0.6356398759796341",
         "0.56549372566625",
         "0",
         "0"
        ]
       ],
       "shape": {
        "columns": 4,
        "rows": 400
       }
      },
      "text/html": [
       "<div>\n",
       "<style scoped>\n",
       "    .dataframe tbody tr th:only-of-type {\n",
       "        vertical-align: middle;\n",
       "    }\n",
       "\n",
       "    .dataframe tbody tr th {\n",
       "        vertical-align: top;\n",
       "    }\n",
       "\n",
       "    .dataframe thead th {\n",
       "        text-align: right;\n",
       "    }\n",
       "</style>\n",
       "<table border=\"1\" class=\"dataframe\">\n",
       "  <thead>\n",
       "    <tr style=\"text-align: right;\">\n",
       "      <th></th>\n",
       "      <th>age</th>\n",
       "      <th>estimatedsalary</th>\n",
       "      <th>purchased</th>\n",
       "      <th>male</th>\n",
       "    </tr>\n",
       "  </thead>\n",
       "  <tbody>\n",
       "    <tr>\n",
       "      <th>0</th>\n",
       "      <td>-1.781797</td>\n",
       "      <td>-1.490046</td>\n",
       "      <td>0</td>\n",
       "      <td>1</td>\n",
       "    </tr>\n",
       "    <tr>\n",
       "      <th>1</th>\n",
       "      <td>-0.253587</td>\n",
       "      <td>-1.460681</td>\n",
       "      <td>0</td>\n",
       "      <td>1</td>\n",
       "    </tr>\n",
       "    <tr>\n",
       "      <th>2</th>\n",
       "      <td>-1.113206</td>\n",
       "      <td>-0.785290</td>\n",
       "      <td>0</td>\n",
       "      <td>0</td>\n",
       "    </tr>\n",
       "    <tr>\n",
       "      <th>3</th>\n",
       "      <td>-1.017692</td>\n",
       "      <td>-0.374182</td>\n",
       "      <td>0</td>\n",
       "      <td>0</td>\n",
       "    </tr>\n",
       "    <tr>\n",
       "      <th>4</th>\n",
       "      <td>-1.781797</td>\n",
       "      <td>0.183751</td>\n",
       "      <td>0</td>\n",
       "      <td>1</td>\n",
       "    </tr>\n",
       "    <tr>\n",
       "      <th>...</th>\n",
       "      <td>...</td>\n",
       "      <td>...</td>\n",
       "      <td>...</td>\n",
       "      <td>...</td>\n",
       "    </tr>\n",
       "    <tr>\n",
       "      <th>395</th>\n",
       "      <td>0.797057</td>\n",
       "      <td>-0.844019</td>\n",
       "      <td>1</td>\n",
       "      <td>0</td>\n",
       "    </tr>\n",
       "    <tr>\n",
       "      <th>396</th>\n",
       "      <td>1.274623</td>\n",
       "      <td>-1.372587</td>\n",
       "      <td>1</td>\n",
       "      <td>1</td>\n",
       "    </tr>\n",
       "    <tr>\n",
       "      <th>397</th>\n",
       "      <td>1.179110</td>\n",
       "      <td>-1.460681</td>\n",
       "      <td>1</td>\n",
       "      <td>0</td>\n",
       "    </tr>\n",
       "    <tr>\n",
       "      <th>398</th>\n",
       "      <td>-0.158074</td>\n",
       "      <td>-1.078938</td>\n",
       "      <td>0</td>\n",
       "      <td>1</td>\n",
       "    </tr>\n",
       "    <tr>\n",
       "      <th>399</th>\n",
       "      <td>1.083596</td>\n",
       "      <td>-0.990844</td>\n",
       "      <td>1</td>\n",
       "      <td>0</td>\n",
       "    </tr>\n",
       "  </tbody>\n",
       "</table>\n",
       "<p>400 rows × 4 columns</p>\n",
       "</div>"
      ],
      "text/plain": [
       "          age  estimatedsalary  purchased  male\n",
       "0   -1.781797        -1.490046          0     1\n",
       "1   -0.253587        -1.460681          0     1\n",
       "2   -1.113206        -0.785290          0     0\n",
       "3   -1.017692        -0.374182          0     0\n",
       "4   -1.781797         0.183751          0     1\n",
       "..        ...              ...        ...   ...\n",
       "395  0.797057        -0.844019          1     0\n",
       "396  1.274623        -1.372587          1     1\n",
       "397  1.179110        -1.460681          1     0\n",
       "398 -0.158074        -1.078938          0     1\n",
       "399  1.083596        -0.990844          1     0\n",
       "\n",
       "[400 rows x 4 columns]"
      ]
     },
     "execution_count": 25,
     "metadata": {},
     "output_type": "execute_result"
    }
   ],
   "source": [
    "df_sc "
   ]
  },
  {
   "cell_type": "code",
   "execution_count": 26,
   "id": "852c5988",
   "metadata": {},
   "outputs": [],
   "source": [
    "y = df_sc['purchased']\n",
    "X = df_sc.drop('purchased', axis=1) # becareful inplace= False\n",
    "\n",
    "from sklearn.model_selection import train_test_split\n",
    "X_train, X_test, y_train, y_test = train_test_split(X, y, test_size=0.2, random_state=rand_state)"
   ]
  },
  {
   "cell_type": "code",
   "execution_count": 29,
   "id": "6123b766",
   "metadata": {},
   "outputs": [
    {
     "data": {
      "application/vnd.microsoft.datawrangler.viewer.v0+json": {
       "columns": [
        {
         "name": "index",
         "rawType": "int64",
         "type": "integer"
        },
        {
         "name": "age",
         "rawType": "float64",
         "type": "float"
        },
        {
         "name": "estimatedsalary",
         "rawType": "float64",
         "type": "float"
        },
        {
         "name": "male",
         "rawType": "int64",
         "type": "integer"
        }
       ],
       "ref": "db776199-8140-4835-be06-cffb655a4caa",
       "rows": [
        [
         "269",
         "0.22397828838050202",
         "-0.25672225868556103",
         "1"
        ],
        [
         "389",
         "0.9880833233672897",
         "-1.0202085298693855",
         "0"
        ],
        [
         "232",
         "0.22397828838050202",
         "1.0940611441781285",
         "1"
        ],
        [
         "89",
         "-0.25358735848624026",
         "-0.5797356811094868",
         "1"
        ],
        [
         "236",
         "0.22397828838050202",
         "-0.37418168502153404",
         "1"
        ]
       ],
       "shape": {
        "columns": 3,
        "rows": 5
       }
      },
      "text/html": [
       "<div>\n",
       "<style scoped>\n",
       "    .dataframe tbody tr th:only-of-type {\n",
       "        vertical-align: middle;\n",
       "    }\n",
       "\n",
       "    .dataframe tbody tr th {\n",
       "        vertical-align: top;\n",
       "    }\n",
       "\n",
       "    .dataframe thead th {\n",
       "        text-align: right;\n",
       "    }\n",
       "</style>\n",
       "<table border=\"1\" class=\"dataframe\">\n",
       "  <thead>\n",
       "    <tr style=\"text-align: right;\">\n",
       "      <th></th>\n",
       "      <th>age</th>\n",
       "      <th>estimatedsalary</th>\n",
       "      <th>male</th>\n",
       "    </tr>\n",
       "  </thead>\n",
       "  <tbody>\n",
       "    <tr>\n",
       "      <th>269</th>\n",
       "      <td>0.223978</td>\n",
       "      <td>-0.256722</td>\n",
       "      <td>1</td>\n",
       "    </tr>\n",
       "    <tr>\n",
       "      <th>389</th>\n",
       "      <td>0.988083</td>\n",
       "      <td>-1.020209</td>\n",
       "      <td>0</td>\n",
       "    </tr>\n",
       "    <tr>\n",
       "      <th>232</th>\n",
       "      <td>0.223978</td>\n",
       "      <td>1.094061</td>\n",
       "      <td>1</td>\n",
       "    </tr>\n",
       "    <tr>\n",
       "      <th>89</th>\n",
       "      <td>-0.253587</td>\n",
       "      <td>-0.579736</td>\n",
       "      <td>1</td>\n",
       "    </tr>\n",
       "    <tr>\n",
       "      <th>236</th>\n",
       "      <td>0.223978</td>\n",
       "      <td>-0.374182</td>\n",
       "      <td>1</td>\n",
       "    </tr>\n",
       "  </tbody>\n",
       "</table>\n",
       "</div>"
      ],
      "text/plain": [
       "          age  estimatedsalary  male\n",
       "269  0.223978        -0.256722     1\n",
       "389  0.988083        -1.020209     0\n",
       "232  0.223978         1.094061     1\n",
       "89  -0.253587        -0.579736     1\n",
       "236  0.223978        -0.374182     1"
      ]
     },
     "execution_count": 29,
     "metadata": {},
     "output_type": "execute_result"
    }
   ],
   "source": [
    "X_train.head()"
   ]
  },
  {
   "cell_type": "markdown",
   "id": "4e007d68",
   "metadata": {},
   "source": [
    "##  KNN Classification with Sklearn"
   ]
  },
  {
   "cell_type": "code",
   "execution_count": 33,
   "id": "d32810ff",
   "metadata": {},
   "outputs": [
    {
     "data": {
      "text/html": [
       "<style>#sk-container-id-2 {\n",
       "  /* Definition of color scheme common for light and dark mode */\n",
       "  --sklearn-color-text: black;\n",
       "  --sklearn-color-line: gray;\n",
       "  /* Definition of color scheme for unfitted estimators */\n",
       "  --sklearn-color-unfitted-level-0: #fff5e6;\n",
       "  --sklearn-color-unfitted-level-1: #f6e4d2;\n",
       "  --sklearn-color-unfitted-level-2: #ffe0b3;\n",
       "  --sklearn-color-unfitted-level-3: chocolate;\n",
       "  /* Definition of color scheme for fitted estimators */\n",
       "  --sklearn-color-fitted-level-0: #f0f8ff;\n",
       "  --sklearn-color-fitted-level-1: #d4ebff;\n",
       "  --sklearn-color-fitted-level-2: #b3dbfd;\n",
       "  --sklearn-color-fitted-level-3: cornflowerblue;\n",
       "\n",
       "  /* Specific color for light theme */\n",
       "  --sklearn-color-text-on-default-background: var(--sg-text-color, var(--theme-code-foreground, var(--jp-content-font-color1, black)));\n",
       "  --sklearn-color-background: var(--sg-background-color, var(--theme-background, var(--jp-layout-color0, white)));\n",
       "  --sklearn-color-border-box: var(--sg-text-color, var(--theme-code-foreground, var(--jp-content-font-color1, black)));\n",
       "  --sklearn-color-icon: #696969;\n",
       "\n",
       "  @media (prefers-color-scheme: dark) {\n",
       "    /* Redefinition of color scheme for dark theme */\n",
       "    --sklearn-color-text-on-default-background: var(--sg-text-color, var(--theme-code-foreground, var(--jp-content-font-color1, white)));\n",
       "    --sklearn-color-background: var(--sg-background-color, var(--theme-background, var(--jp-layout-color0, #111)));\n",
       "    --sklearn-color-border-box: var(--sg-text-color, var(--theme-code-foreground, var(--jp-content-font-color1, white)));\n",
       "    --sklearn-color-icon: #878787;\n",
       "  }\n",
       "}\n",
       "\n",
       "#sk-container-id-2 {\n",
       "  color: var(--sklearn-color-text);\n",
       "}\n",
       "\n",
       "#sk-container-id-2 pre {\n",
       "  padding: 0;\n",
       "}\n",
       "\n",
       "#sk-container-id-2 input.sk-hidden--visually {\n",
       "  border: 0;\n",
       "  clip: rect(1px 1px 1px 1px);\n",
       "  clip: rect(1px, 1px, 1px, 1px);\n",
       "  height: 1px;\n",
       "  margin: -1px;\n",
       "  overflow: hidden;\n",
       "  padding: 0;\n",
       "  position: absolute;\n",
       "  width: 1px;\n",
       "}\n",
       "\n",
       "#sk-container-id-2 div.sk-dashed-wrapped {\n",
       "  border: 1px dashed var(--sklearn-color-line);\n",
       "  margin: 0 0.4em 0.5em 0.4em;\n",
       "  box-sizing: border-box;\n",
       "  padding-bottom: 0.4em;\n",
       "  background-color: var(--sklearn-color-background);\n",
       "}\n",
       "\n",
       "#sk-container-id-2 div.sk-container {\n",
       "  /* jupyter's `normalize.less` sets `[hidden] { display: none; }`\n",
       "     but bootstrap.min.css set `[hidden] { display: none !important; }`\n",
       "     so we also need the `!important` here to be able to override the\n",
       "     default hidden behavior on the sphinx rendered scikit-learn.org.\n",
       "     See: https://github.com/scikit-learn/scikit-learn/issues/21755 */\n",
       "  display: inline-block !important;\n",
       "  position: relative;\n",
       "}\n",
       "\n",
       "#sk-container-id-2 div.sk-text-repr-fallback {\n",
       "  display: none;\n",
       "}\n",
       "\n",
       "div.sk-parallel-item,\n",
       "div.sk-serial,\n",
       "div.sk-item {\n",
       "  /* draw centered vertical line to link estimators */\n",
       "  background-image: linear-gradient(var(--sklearn-color-text-on-default-background), var(--sklearn-color-text-on-default-background));\n",
       "  background-size: 2px 100%;\n",
       "  background-repeat: no-repeat;\n",
       "  background-position: center center;\n",
       "}\n",
       "\n",
       "/* Parallel-specific style estimator block */\n",
       "\n",
       "#sk-container-id-2 div.sk-parallel-item::after {\n",
       "  content: \"\";\n",
       "  width: 100%;\n",
       "  border-bottom: 2px solid var(--sklearn-color-text-on-default-background);\n",
       "  flex-grow: 1;\n",
       "}\n",
       "\n",
       "#sk-container-id-2 div.sk-parallel {\n",
       "  display: flex;\n",
       "  align-items: stretch;\n",
       "  justify-content: center;\n",
       "  background-color: var(--sklearn-color-background);\n",
       "  position: relative;\n",
       "}\n",
       "\n",
       "#sk-container-id-2 div.sk-parallel-item {\n",
       "  display: flex;\n",
       "  flex-direction: column;\n",
       "}\n",
       "\n",
       "#sk-container-id-2 div.sk-parallel-item:first-child::after {\n",
       "  align-self: flex-end;\n",
       "  width: 50%;\n",
       "}\n",
       "\n",
       "#sk-container-id-2 div.sk-parallel-item:last-child::after {\n",
       "  align-self: flex-start;\n",
       "  width: 50%;\n",
       "}\n",
       "\n",
       "#sk-container-id-2 div.sk-parallel-item:only-child::after {\n",
       "  width: 0;\n",
       "}\n",
       "\n",
       "/* Serial-specific style estimator block */\n",
       "\n",
       "#sk-container-id-2 div.sk-serial {\n",
       "  display: flex;\n",
       "  flex-direction: column;\n",
       "  align-items: center;\n",
       "  background-color: var(--sklearn-color-background);\n",
       "  padding-right: 1em;\n",
       "  padding-left: 1em;\n",
       "}\n",
       "\n",
       "\n",
       "/* Toggleable style: style used for estimator/Pipeline/ColumnTransformer box that is\n",
       "clickable and can be expanded/collapsed.\n",
       "- Pipeline and ColumnTransformer use this feature and define the default style\n",
       "- Estimators will overwrite some part of the style using the `sk-estimator` class\n",
       "*/\n",
       "\n",
       "/* Pipeline and ColumnTransformer style (default) */\n",
       "\n",
       "#sk-container-id-2 div.sk-toggleable {\n",
       "  /* Default theme specific background. It is overwritten whether we have a\n",
       "  specific estimator or a Pipeline/ColumnTransformer */\n",
       "  background-color: var(--sklearn-color-background);\n",
       "}\n",
       "\n",
       "/* Toggleable label */\n",
       "#sk-container-id-2 label.sk-toggleable__label {\n",
       "  cursor: pointer;\n",
       "  display: block;\n",
       "  width: 100%;\n",
       "  margin-bottom: 0;\n",
       "  padding: 0.5em;\n",
       "  box-sizing: border-box;\n",
       "  text-align: center;\n",
       "}\n",
       "\n",
       "#sk-container-id-2 label.sk-toggleable__label-arrow:before {\n",
       "  /* Arrow on the left of the label */\n",
       "  content: \"▸\";\n",
       "  float: left;\n",
       "  margin-right: 0.25em;\n",
       "  color: var(--sklearn-color-icon);\n",
       "}\n",
       "\n",
       "#sk-container-id-2 label.sk-toggleable__label-arrow:hover:before {\n",
       "  color: var(--sklearn-color-text);\n",
       "}\n",
       "\n",
       "/* Toggleable content - dropdown */\n",
       "\n",
       "#sk-container-id-2 div.sk-toggleable__content {\n",
       "  max-height: 0;\n",
       "  max-width: 0;\n",
       "  overflow: hidden;\n",
       "  text-align: left;\n",
       "  /* unfitted */\n",
       "  background-color: var(--sklearn-color-unfitted-level-0);\n",
       "}\n",
       "\n",
       "#sk-container-id-2 div.sk-toggleable__content.fitted {\n",
       "  /* fitted */\n",
       "  background-color: var(--sklearn-color-fitted-level-0);\n",
       "}\n",
       "\n",
       "#sk-container-id-2 div.sk-toggleable__content pre {\n",
       "  margin: 0.2em;\n",
       "  border-radius: 0.25em;\n",
       "  color: var(--sklearn-color-text);\n",
       "  /* unfitted */\n",
       "  background-color: var(--sklearn-color-unfitted-level-0);\n",
       "}\n",
       "\n",
       "#sk-container-id-2 div.sk-toggleable__content.fitted pre {\n",
       "  /* unfitted */\n",
       "  background-color: var(--sklearn-color-fitted-level-0);\n",
       "}\n",
       "\n",
       "#sk-container-id-2 input.sk-toggleable__control:checked~div.sk-toggleable__content {\n",
       "  /* Expand drop-down */\n",
       "  max-height: 200px;\n",
       "  max-width: 100%;\n",
       "  overflow: auto;\n",
       "}\n",
       "\n",
       "#sk-container-id-2 input.sk-toggleable__control:checked~label.sk-toggleable__label-arrow:before {\n",
       "  content: \"▾\";\n",
       "}\n",
       "\n",
       "/* Pipeline/ColumnTransformer-specific style */\n",
       "\n",
       "#sk-container-id-2 div.sk-label input.sk-toggleable__control:checked~label.sk-toggleable__label {\n",
       "  color: var(--sklearn-color-text);\n",
       "  background-color: var(--sklearn-color-unfitted-level-2);\n",
       "}\n",
       "\n",
       "#sk-container-id-2 div.sk-label.fitted input.sk-toggleable__control:checked~label.sk-toggleable__label {\n",
       "  background-color: var(--sklearn-color-fitted-level-2);\n",
       "}\n",
       "\n",
       "/* Estimator-specific style */\n",
       "\n",
       "/* Colorize estimator box */\n",
       "#sk-container-id-2 div.sk-estimator input.sk-toggleable__control:checked~label.sk-toggleable__label {\n",
       "  /* unfitted */\n",
       "  background-color: var(--sklearn-color-unfitted-level-2);\n",
       "}\n",
       "\n",
       "#sk-container-id-2 div.sk-estimator.fitted input.sk-toggleable__control:checked~label.sk-toggleable__label {\n",
       "  /* fitted */\n",
       "  background-color: var(--sklearn-color-fitted-level-2);\n",
       "}\n",
       "\n",
       "#sk-container-id-2 div.sk-label label.sk-toggleable__label,\n",
       "#sk-container-id-2 div.sk-label label {\n",
       "  /* The background is the default theme color */\n",
       "  color: var(--sklearn-color-text-on-default-background);\n",
       "}\n",
       "\n",
       "/* On hover, darken the color of the background */\n",
       "#sk-container-id-2 div.sk-label:hover label.sk-toggleable__label {\n",
       "  color: var(--sklearn-color-text);\n",
       "  background-color: var(--sklearn-color-unfitted-level-2);\n",
       "}\n",
       "\n",
       "/* Label box, darken color on hover, fitted */\n",
       "#sk-container-id-2 div.sk-label.fitted:hover label.sk-toggleable__label.fitted {\n",
       "  color: var(--sklearn-color-text);\n",
       "  background-color: var(--sklearn-color-fitted-level-2);\n",
       "}\n",
       "\n",
       "/* Estimator label */\n",
       "\n",
       "#sk-container-id-2 div.sk-label label {\n",
       "  font-family: monospace;\n",
       "  font-weight: bold;\n",
       "  display: inline-block;\n",
       "  line-height: 1.2em;\n",
       "}\n",
       "\n",
       "#sk-container-id-2 div.sk-label-container {\n",
       "  text-align: center;\n",
       "}\n",
       "\n",
       "/* Estimator-specific */\n",
       "#sk-container-id-2 div.sk-estimator {\n",
       "  font-family: monospace;\n",
       "  border: 1px dotted var(--sklearn-color-border-box);\n",
       "  border-radius: 0.25em;\n",
       "  box-sizing: border-box;\n",
       "  margin-bottom: 0.5em;\n",
       "  /* unfitted */\n",
       "  background-color: var(--sklearn-color-unfitted-level-0);\n",
       "}\n",
       "\n",
       "#sk-container-id-2 div.sk-estimator.fitted {\n",
       "  /* fitted */\n",
       "  background-color: var(--sklearn-color-fitted-level-0);\n",
       "}\n",
       "\n",
       "/* on hover */\n",
       "#sk-container-id-2 div.sk-estimator:hover {\n",
       "  /* unfitted */\n",
       "  background-color: var(--sklearn-color-unfitted-level-2);\n",
       "}\n",
       "\n",
       "#sk-container-id-2 div.sk-estimator.fitted:hover {\n",
       "  /* fitted */\n",
       "  background-color: var(--sklearn-color-fitted-level-2);\n",
       "}\n",
       "\n",
       "/* Specification for estimator info (e.g. \"i\" and \"?\") */\n",
       "\n",
       "/* Common style for \"i\" and \"?\" */\n",
       "\n",
       ".sk-estimator-doc-link,\n",
       "a:link.sk-estimator-doc-link,\n",
       "a:visited.sk-estimator-doc-link {\n",
       "  float: right;\n",
       "  font-size: smaller;\n",
       "  line-height: 1em;\n",
       "  font-family: monospace;\n",
       "  background-color: var(--sklearn-color-background);\n",
       "  border-radius: 1em;\n",
       "  height: 1em;\n",
       "  width: 1em;\n",
       "  text-decoration: none !important;\n",
       "  margin-left: 1ex;\n",
       "  /* unfitted */\n",
       "  border: var(--sklearn-color-unfitted-level-1) 1pt solid;\n",
       "  color: var(--sklearn-color-unfitted-level-1);\n",
       "}\n",
       "\n",
       ".sk-estimator-doc-link.fitted,\n",
       "a:link.sk-estimator-doc-link.fitted,\n",
       "a:visited.sk-estimator-doc-link.fitted {\n",
       "  /* fitted */\n",
       "  border: var(--sklearn-color-fitted-level-1) 1pt solid;\n",
       "  color: var(--sklearn-color-fitted-level-1);\n",
       "}\n",
       "\n",
       "/* On hover */\n",
       "div.sk-estimator:hover .sk-estimator-doc-link:hover,\n",
       ".sk-estimator-doc-link:hover,\n",
       "div.sk-label-container:hover .sk-estimator-doc-link:hover,\n",
       ".sk-estimator-doc-link:hover {\n",
       "  /* unfitted */\n",
       "  background-color: var(--sklearn-color-unfitted-level-3);\n",
       "  color: var(--sklearn-color-background);\n",
       "  text-decoration: none;\n",
       "}\n",
       "\n",
       "div.sk-estimator.fitted:hover .sk-estimator-doc-link.fitted:hover,\n",
       ".sk-estimator-doc-link.fitted:hover,\n",
       "div.sk-label-container:hover .sk-estimator-doc-link.fitted:hover,\n",
       ".sk-estimator-doc-link.fitted:hover {\n",
       "  /* fitted */\n",
       "  background-color: var(--sklearn-color-fitted-level-3);\n",
       "  color: var(--sklearn-color-background);\n",
       "  text-decoration: none;\n",
       "}\n",
       "\n",
       "/* Span, style for the box shown on hovering the info icon */\n",
       ".sk-estimator-doc-link span {\n",
       "  display: none;\n",
       "  z-index: 9999;\n",
       "  position: relative;\n",
       "  font-weight: normal;\n",
       "  right: .2ex;\n",
       "  padding: .5ex;\n",
       "  margin: .5ex;\n",
       "  width: min-content;\n",
       "  min-width: 20ex;\n",
       "  max-width: 50ex;\n",
       "  color: var(--sklearn-color-text);\n",
       "  box-shadow: 2pt 2pt 4pt #999;\n",
       "  /* unfitted */\n",
       "  background: var(--sklearn-color-unfitted-level-0);\n",
       "  border: .5pt solid var(--sklearn-color-unfitted-level-3);\n",
       "}\n",
       "\n",
       ".sk-estimator-doc-link.fitted span {\n",
       "  /* fitted */\n",
       "  background: var(--sklearn-color-fitted-level-0);\n",
       "  border: var(--sklearn-color-fitted-level-3);\n",
       "}\n",
       "\n",
       ".sk-estimator-doc-link:hover span {\n",
       "  display: block;\n",
       "}\n",
       "\n",
       "/* \"?\"-specific style due to the `<a>` HTML tag */\n",
       "\n",
       "#sk-container-id-2 a.estimator_doc_link {\n",
       "  float: right;\n",
       "  font-size: 1rem;\n",
       "  line-height: 1em;\n",
       "  font-family: monospace;\n",
       "  background-color: var(--sklearn-color-background);\n",
       "  border-radius: 1rem;\n",
       "  height: 1rem;\n",
       "  width: 1rem;\n",
       "  text-decoration: none;\n",
       "  /* unfitted */\n",
       "  color: var(--sklearn-color-unfitted-level-1);\n",
       "  border: var(--sklearn-color-unfitted-level-1) 1pt solid;\n",
       "}\n",
       "\n",
       "#sk-container-id-2 a.estimator_doc_link.fitted {\n",
       "  /* fitted */\n",
       "  border: var(--sklearn-color-fitted-level-1) 1pt solid;\n",
       "  color: var(--sklearn-color-fitted-level-1);\n",
       "}\n",
       "\n",
       "/* On hover */\n",
       "#sk-container-id-2 a.estimator_doc_link:hover {\n",
       "  /* unfitted */\n",
       "  background-color: var(--sklearn-color-unfitted-level-3);\n",
       "  color: var(--sklearn-color-background);\n",
       "  text-decoration: none;\n",
       "}\n",
       "\n",
       "#sk-container-id-2 a.estimator_doc_link.fitted:hover {\n",
       "  /* fitted */\n",
       "  background-color: var(--sklearn-color-fitted-level-3);\n",
       "}\n",
       "</style><div id=\"sk-container-id-2\" class=\"sk-top-container\"><div class=\"sk-text-repr-fallback\"><pre>KNeighborsClassifier(n_neighbors=20)</pre><b>In a Jupyter environment, please rerun this cell to show the HTML representation or trust the notebook. <br />On GitHub, the HTML representation is unable to render, please try loading this page with nbviewer.org.</b></div><div class=\"sk-container\" hidden><div class=\"sk-item\"><div class=\"sk-estimator fitted sk-toggleable\"><input class=\"sk-toggleable__control sk-hidden--visually\" id=\"sk-estimator-id-2\" type=\"checkbox\" checked><label for=\"sk-estimator-id-2\" class=\"sk-toggleable__label fitted sk-toggleable__label-arrow fitted\">&nbsp;&nbsp;KNeighborsClassifier<a class=\"sk-estimator-doc-link fitted\" rel=\"noreferrer\" target=\"_blank\" href=\"https://scikit-learn.org/1.4/modules/generated/sklearn.neighbors.KNeighborsClassifier.html\">?<span>Documentation for KNeighborsClassifier</span></a><span class=\"sk-estimator-doc-link fitted\">i<span>Fitted</span></span></label><div class=\"sk-toggleable__content fitted\"><pre>KNeighborsClassifier(n_neighbors=20)</pre></div> </div></div></div></div>"
      ],
      "text/plain": [
       "KNeighborsClassifier(n_neighbors=20)"
      ]
     },
     "execution_count": 33,
     "metadata": {},
     "output_type": "execute_result"
    }
   ],
   "source": [
    "# KNeighborsClassifier is already imported and available for use.\n",
    "KNN_classifier = KNeighborsClassifier(n_neighbors=20)\n",
    "KNN_classifier.fit(X_train, y_train)"
   ]
  },
  {
   "cell_type": "code",
   "execution_count": 34,
   "id": "3174b5c0",
   "metadata": {},
   "outputs": [],
   "source": [
    "# Predicting the Test set probabilities and classes\n",
    "y_hat      = KNN_classifier.predict(X_test)\n",
    "y_hat_probs = KNN_classifier.predict_proba(X_test)[:,1] "
   ]
  },
  {
   "cell_type": "code",
   "execution_count": 35,
   "id": "beeec2d6",
   "metadata": {},
   "outputs": [
    {
     "data": {
      "text/plain": [
       "array([[0.85, 0.15],\n",
       "       [1.  , 0.  ],\n",
       "       [0.2 , 0.8 ],\n",
       "       [1.  , 0.  ],\n",
       "       [1.  , 0.  ]])"
      ]
     },
     "execution_count": 35,
     "metadata": {},
     "output_type": "execute_result"
    }
   ],
   "source": [
    "np.round(KNN_classifier.predict_proba(X_test),3)[:5]"
   ]
  },
  {
   "cell_type": "code",
   "execution_count": 36,
   "id": "4f586478",
   "metadata": {},
   "outputs": [
    {
     "data": {
      "text/plain": [
       "0.95"
      ]
     },
     "execution_count": 36,
     "metadata": {},
     "output_type": "execute_result"
    }
   ],
   "source": [
    "np.max(y_hat_probs)"
   ]
  },
  {
   "cell_type": "code",
   "execution_count": 37,
   "id": "973619df",
   "metadata": {},
   "outputs": [
    {
     "data": {
      "image/png": "[encoded data removed]",
      "text/plain": [
       "<Figure size 640x480 with 1 Axes>"
      ]
     },
     "metadata": {},
     "output_type": "display_data"
    }
   ],
   "source": [
    "plt.hist(y_hat_probs)\n",
    "plt.show()"
   ]
  },
  {
   "cell_type": "code",
   "execution_count": 38,
   "id": "2b67ade2",
   "metadata": {},
   "outputs": [],
   "source": [
    "y_hat_30 = np.where(y_hat_probs>0.3,1,0)\n",
    "y_hat_70 = np.where(y_hat_probs>0.7,1,0)"
   ]
  },
  {
   "cell_type": "code",
   "execution_count": 39,
   "id": "6b9b8e16",
   "metadata": {},
   "outputs": [
    {
     "data": {
      "application/vnd.microsoft.datawrangler.viewer.v0+json": {
       "columns": [
        {
         "name": "index",
         "rawType": "int64",
         "type": "integer"
        },
        {
         "name": "y_test",
         "rawType": "int64",
         "type": "integer"
        },
        {
         "name": "y_hat_probs",
         "rawType": "float64",
         "type": "float"
        },
        {
         "name": "y_hat_30",
         "rawType": "int64",
         "type": "integer"
        },
        {
         "name": "y_hat_70",
         "rawType": "int64",
         "type": "integer"
        }
       ],
       "ref": "2fd5166c-928f-4cf1-b04e-05cc26829031",
       "rows": [
        [
         "220",
         "0",
         "0.15",
         "0",
         "0"
        ],
        [
         "4",
         "0",
         "0.0",
         "0",
         "0"
        ],
        [
         "230",
         "1",
         "0.8",
         "1",
         "1"
        ],
        [
         "55",
         "0",
         "0.0",
         "0",
         "0"
        ],
        [
         "312",
         "0",
         "0.0",
         "0",
         "0"
        ]
       ],
       "shape": {
        "columns": 4,
        "rows": 5
       }
      },
      "text/html": [
       "<div>\n",
       "<style scoped>\n",
       "    .dataframe tbody tr th:only-of-type {\n",
       "        vertical-align: middle;\n",
       "    }\n",
       "\n",
       "    .dataframe tbody tr th {\n",
       "        vertical-align: top;\n",
       "    }\n",
       "\n",
       "    .dataframe thead th {\n",
       "        text-align: right;\n",
       "    }\n",
       "</style>\n",
       "<table border=\"1\" class=\"dataframe\">\n",
       "  <thead>\n",
       "    <tr style=\"text-align: right;\">\n",
       "      <th></th>\n",
       "      <th>y_test</th>\n",
       "      <th>y_hat_probs</th>\n",
       "      <th>y_hat_30</th>\n",
       "      <th>y_hat_70</th>\n",
       "    </tr>\n",
       "  </thead>\n",
       "  <tbody>\n",
       "    <tr>\n",
       "      <th>220</th>\n",
       "      <td>0</td>\n",
       "      <td>0.15</td>\n",
       "      <td>0</td>\n",
       "      <td>0</td>\n",
       "    </tr>\n",
       "    <tr>\n",
       "      <th>4</th>\n",
       "      <td>0</td>\n",
       "      <td>0.00</td>\n",
       "      <td>0</td>\n",
       "      <td>0</td>\n",
       "    </tr>\n",
       "    <tr>\n",
       "      <th>230</th>\n",
       "      <td>1</td>\n",
       "      <td>0.80</td>\n",
       "      <td>1</td>\n",
       "      <td>1</td>\n",
       "    </tr>\n",
       "    <tr>\n",
       "      <th>55</th>\n",
       "      <td>0</td>\n",
       "      <td>0.00</td>\n",
       "      <td>0</td>\n",
       "      <td>0</td>\n",
       "    </tr>\n",
       "    <tr>\n",
       "      <th>312</th>\n",
       "      <td>0</td>\n",
       "      <td>0.00</td>\n",
       "      <td>0</td>\n",
       "      <td>0</td>\n",
       "    </tr>\n",
       "  </tbody>\n",
       "</table>\n",
       "</div>"
      ],
      "text/plain": [
       "     y_test  y_hat_probs  y_hat_30  y_hat_70\n",
       "220       0         0.15         0         0\n",
       "4         0         0.00         0         0\n",
       "230       1         0.80         1         1\n",
       "55        0         0.00         0         0\n",
       "312       0         0.00         0         0"
      ]
     },
     "execution_count": 39,
     "metadata": {},
     "output_type": "execute_result"
    }
   ],
   "source": [
    "# let's put all the predictions together in a data frame.\n",
    "df_predictions = pd.DataFrame({'y_test':y_test, 'y_hat_probs':y_hat_probs,\n",
    "                               'y_hat_30':y_hat_30, 'y_hat_70':y_hat_70})\n",
    "df_predictions.head()"
   ]
  },
  {
   "cell_type": "markdown",
   "id": "a1028568",
   "metadata": {},
   "source": [
    "## Performance metrics:"
   ]
  },
  {
   "cell_type": "code",
   "execution_count": 40,
   "id": "3e4c245b",
   "metadata": {},
   "outputs": [],
   "source": [
    "from sklearn.metrics import accuracy_score, recall_score, precision_score, f1_score\n",
    "from sklearn.metrics import confusion_matrix, classification_report, roc_curve, roc_auc_score"
   ]
  },
  {
   "cell_type": "code",
   "execution_count": 41,
   "id": "7daa05a6",
   "metadata": {},
   "outputs": [],
   "source": [
    "from sklearn.metrics import confusion_matrix\n",
    "from sklearn.metrics import accuracy_score, recall_score, precision_score, f1_score, matthews_corrcoef\n",
    "\n",
    "\n",
    "\n",
    "def my_KNN_report(X_train, y_train, X_test,y_test, K=5, threshold=0.5, weights='uniform'):\n",
    "    knn= KNeighborsClassifier(n_neighbors=K, weights=weights)\n",
    "    knn.fit(X_train, y_train)\n",
    "    probs = knn.predict_proba(X_test)[:,1]\n",
    "    y_hat = np.where(probs>=threshold,1,0)\n",
    "    \n",
    "    cm = confusion_matrix(y_test, y_hat)\n",
    "    accuracy = round(accuracy_score(y_test,y_hat) ,4)\n",
    "    error_rate = round(1-accuracy,4)\n",
    "    precision = round(precision_score(y_test,y_hat),2)\n",
    "    recall = round(recall_score(y_test,y_hat),2)\n",
    "    f1score = round(f1_score(y_test,y_hat),2)\n",
    "    MCC = round(matthews_corrcoef(y_test,y_hat),2)\n",
    "    cm_labled = pd.DataFrame(cm, index=['Actual : negative ','Actual : positive'], columns=['Predict : negative','Predict :positive '])\n",
    "    \n",
    "    print(\"-----------------------------------------\")\n",
    "    print('Accuracy  = {}'.format(accuracy))\n",
    "    print('Error_rate  = {}'.format(error_rate))\n",
    "    print('Precision = {}'.format(precision))\n",
    "    print('Recall    = {}'.format(recall))\n",
    "    print('f1_score  = {}'.format(f1score))\n",
    "    print('MCC       = {}'.format(MCC))\n",
    "    print(\"-----------------------------------------\")\n",
    "    return cm_labled\n",
    " "
   ]
  },
  {
   "cell_type": "code",
   "execution_count": 47,
   "id": "54104de3",
   "metadata": {},
   "outputs": [
    {
     "name": "stdout",
     "output_type": "stream",
     "text": [
      "-----------------------------------------\n",
      "Accuracy  = 0.8875\n",
      "Error_rate  = 0.1125\n",
      "Precision = 0.93\n",
      "Recall    = 0.78\n",
      "f1_score  = 0.85\n",
      "MCC       = 0.77\n",
      "-----------------------------------------\n"
     ]
    },
    {
     "data": {
      "application/vnd.microsoft.datawrangler.viewer.v0+json": {
       "columns": [
        {
         "name": "index",
         "rawType": "object",
         "type": "string"
        },
        {
         "name": "Predict : negative",
         "rawType": "int64",
         "type": "integer"
        },
        {
         "name": "Predict :positive ",
         "rawType": "int64",
         "type": "integer"
        }
       ],
       "ref": "75fbaac7-4309-4ca9-9e18-6894a85ea03d",
       "rows": [
        [
         "Actual : negative ",
         "46",
         "2"
        ],
        [
         "Actual : positive",
         "7",
         "25"
        ]
       ],
       "shape": {
        "columns": 2,
        "rows": 2
       }
      },
      "text/html": [
       "<div>\n",
       "<style scoped>\n",
       "    .dataframe tbody tr th:only-of-type {\n",
       "        vertical-align: middle;\n",
       "    }\n",
       "\n",
       "    .dataframe tbody tr th {\n",
       "        vertical-align: top;\n",
       "    }\n",
       "\n",
       "    .dataframe thead th {\n",
       "        text-align: right;\n",
       "    }\n",
       "</style>\n",
       "<table border=\"1\" class=\"dataframe\">\n",
       "  <thead>\n",
       "    <tr style=\"text-align: right;\">\n",
       "      <th></th>\n",
       "      <th>Predict : negative</th>\n",
       "      <th>Predict :positive</th>\n",
       "    </tr>\n",
       "  </thead>\n",
       "  <tbody>\n",
       "    <tr>\n",
       "      <th>Actual : negative</th>\n",
       "      <td>46</td>\n",
       "      <td>2</td>\n",
       "    </tr>\n",
       "    <tr>\n",
       "      <th>Actual : positive</th>\n",
       "      <td>7</td>\n",
       "      <td>25</td>\n",
       "    </tr>\n",
       "  </tbody>\n",
       "</table>\n",
       "</div>"
      ],
      "text/plain": [
       "                    Predict : negative  Predict :positive \n",
       "Actual : negative                   46                   2\n",
       "Actual : positive                    7                  25"
      ]
     },
     "execution_count": 47,
     "metadata": {},
     "output_type": "execute_result"
    }
   ],
   "source": [
    "my_KNN_report(X_train, y_train, X_test, y_test, K=5, threshold=0.7, weights='uniform')"
   ]
  },
  {
   "cell_type": "code",
   "execution_count": 48,
   "id": "62e71c0e",
   "metadata": {},
   "outputs": [
    {
     "name": "stdout",
     "output_type": "stream",
     "text": [
      "MAE scores: [-0.15751493 -0.1742305  -0.11879888 -0.13280299 -0.18904409]\n"
     ]
    }
   ],
   "source": [
    "from sklearn.metrics import make_scorer, mean_absolute_error\n",
    "from sklearn.model_selection import cross_val_score\n",
    "from sklearn.linear_model import LinearRegression\n",
    "from sklearn.datasets import make_regression\n",
    "\n",
    "# Sample dataset\n",
    "X, y = make_regression(n_samples=100, n_features=2, noise=0.2, random_state=8)\n",
    "\n",
    "model = LinearRegression()\n",
    "\n",
    "# Create custom scorer (since lower MAE is better, set greater_is_better=False)\n",
    "mae_scorer = make_scorer(mean_absolute_error, greater_is_better=False)\n",
    "\n",
    "scores = cross_val_score(model, X, y, scoring=mae_scorer, cv=5)\n",
    "print(\"MAE scores:\", scores)\n"
   ]
  },
  {
   "cell_type": "code",
   "execution_count": 49,
   "id": "8c131d2c",
   "metadata": {},
   "outputs": [
    {
     "name": "stdout",
     "output_type": "stream",
     "text": [
      "No Skill: ROC AUC=0.500\n",
      "KNN: ROC AUC=0.942\n"
     ]
    },
    {
     "data": {
      "image/png": "[encoded data removed]",
      "text/plain": [
       "<Figure size 640x480 with 1 Axes>"
      ]
     },
     "metadata": {},
     "output_type": "display_data"
    }
   ],
   "source": [
    "# generate a no skill (ns) prediction and KNN  (lr) predictions.\n",
    "ns_probs = [1 for i in range(len(y_test))]\n",
    "lr_probs = KNN_classifier.predict_proba(X_test)[:,1]\n",
    "# calculating scores for no skill and KNN \n",
    "ns_auc = roc_auc_score(y_test, ns_probs)\n",
    "lr_auc = roc_auc_score(y_test, lr_probs)\n",
    "print('No Skill: ROC AUC=%.3f' % (ns_auc))\n",
    "print('KNN: ROC AUC=%.3f' % (lr_auc))\n",
    "\n",
    "# calculate roc curves\n",
    "ns_fpr, ns_tpr, _ = roc_curve(y_test, ns_probs)\n",
    "lr_fpr, lr_tpr, _ = roc_curve(y_test, lr_probs)\n",
    "# plot the roc curve for the model\n",
    "plt.plot(ns_fpr, ns_tpr, linestyle='--', label='No Skill')\n",
    "plt.plot(lr_fpr, lr_tpr, marker='.', label='KNN')\n",
    "# axis labels\n",
    "plt.xlabel('False Positive Rate')\n",
    "plt.ylabel('True Positive Rate')\n",
    "# show the legend\n",
    "plt.legend()\n",
    "# show the plot\n",
    "plt.show()"
   ]
  },
  {
   "cell_type": "code",
   "execution_count": 51,
   "id": "8bd226a4",
   "metadata": {},
   "outputs": [
    {
     "data": {
      "text/plain": [
       "['accuracy',\n",
       " 'adjusted_mutual_info_score',\n",
       " 'adjusted_rand_score',\n",
       " 'average_precision',\n",
       " 'balanced_accuracy',\n",
       " 'completeness_score',\n",
       " 'explained_variance',\n",
       " 'f1',\n",
       " 'f1_macro',\n",
       " 'f1_micro',\n",
       " 'f1_samples',\n",
       " 'f1_weighted',\n",
       " 'fowlkes_mallows_score',\n",
       " 'homogeneity_score',\n",
       " 'jaccard',\n",
       " 'jaccard_macro',\n",
       " 'jaccard_micro',\n",
       " 'jaccard_samples',\n",
       " 'jaccard_weighted',\n",
       " 'matthews_corrcoef',\n",
       " 'max_error',\n",
       " 'mutual_info_score',\n",
       " 'neg_brier_score',\n",
       " 'neg_log_loss',\n",
       " 'neg_mean_absolute_error',\n",
       " 'neg_mean_absolute_percentage_error',\n",
       " 'neg_mean_gamma_deviance',\n",
       " 'neg_mean_poisson_deviance',\n",
       " 'neg_mean_squared_error',\n",
       " 'neg_mean_squared_log_error',\n",
       " 'neg_median_absolute_error',\n",
       " 'neg_negative_likelihood_ratio',\n",
       " 'neg_root_mean_squared_error',\n",
       " 'neg_root_mean_squared_log_error',\n",
       " 'normalized_mutual_info_score',\n",
       " 'positive_likelihood_ratio',\n",
       " 'precision',\n",
       " 'precision_macro',\n",
       " 'precision_micro',\n",
       " 'precision_samples',\n",
       " 'precision_weighted',\n",
       " 'r2',\n",
       " 'rand_score',\n",
       " 'recall',\n",
       " 'recall_macro',\n",
       " 'recall_micro',\n",
       " 'recall_samples',\n",
       " 'recall_weighted',\n",
       " 'roc_auc',\n",
       " 'roc_auc_ovo',\n",
       " 'roc_auc_ovo_weighted',\n",
       " 'roc_auc_ovr',\n",
       " 'roc_auc_ovr_weighted',\n",
       " 'top_k_accuracy',\n",
       " 'v_measure_score']"
      ]
     },
     "execution_count": 51,
     "metadata": {},
     "output_type": "execute_result"
    }
   ],
   "source": [
    "from sklearn.model_selection import cross_val_score\n",
    "from sklearn.metrics import get_scorer_names\n",
    "get_scorer_names()"
   ]
  }
 ],
 "metadata": {
  "kernelspec": {
   "display_name": "machine-learning-env",
   "language": "python",
   "name": "python3"
  },
  "language_info": {
   "codemirror_mode": {
    "name": "ipython",
    "version": 3
   },
   "file_extension": ".py",
   "mimetype": "text/x-python",
   "name": "python",
   "nbconvert_exporter": "python",
   "pygments_lexer": "ipython3",
   "version": "3.10.13"
  }
 },
 "nbformat": 4,
 "nbformat_minor": 5
}
