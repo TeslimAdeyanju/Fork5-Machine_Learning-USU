{
 "cells": [
  {
   "cell_type": "markdown",
   "metadata": {
    "id": "oTG1HxdhgdwJ"
   },
   "source": [
    "You need to make a copy to your own Google drive if you want to edit the original notebook! Start by opening this notebook on Colab 👇\n",
    "\n",
    "<a href=\"https://colab.research.google.com/github/PJalgotrader/Machine_Learning-USU/blob/main/Lectures%20and%20codes/Module%203-%20Linear%20Regression%20(Econometrics%20approach)/Module%203-Linear_regression%20(Econometrics%20approach).ipynb\" target=\"_parent\"><img src=\"https://colab.research.google.com/assets/colab-badge.svg\" alt=\"Open In Colab\"/></a>\n",
    "\n",
    "\n",
    "\n",
    "![logo](https://upload.wikimedia.org/wikipedia/commons/4/44/Huntsman-Wordmark-with-USU-Blue.gif#center)\n",
    "\n",
    "\n",
    "\n",
    "\n",
    "## 🔗 Links\n",
    "\n",
    "[![linkedin](https://img.shields.io/badge/LinkedIn-0A66C2?style=for-the-badge&logo=linkedin&logoColor=white)](https://www.linkedin.com/in/pedram-jahangiry-cfa-5778015a)\n",
    "\n",
    "[![Youtube](https://img.shields.io/badge/youtube_channel-1DA1F2?style=for-the-badge&logo=youtube&logoColor=white&color=FF0000)](https://www.youtube.com/channel/UCNDElcuuyX-2pSatVBDpJJQ)\n",
    "\n",
    "[![Twitter URL](https://img.shields.io/twitter/url/https/twitter.com/PedramJahangiry.svg?style=social&label=Follow%20%40PedramJahangiry)](https://twitter.com/PedramJahangiry)\n",
    "\n",
    "\n",
    "---\n",
    "\n",
    "### Prof. Pedram Jahangiry"
   ]
  },
  {
   "cell_type": "markdown",
   "metadata": {
    "id": "WdhSWwOTgdwN"
   },
   "source": [
    "\n",
    "# Linear Regression: Econometrics approach"
   ]
  },
  {
   "cell_type": "markdown",
   "metadata": {
    "id": "VDeXf-bNgdwO"
   },
   "source": [
    "* A linear Regression is a **linear approximation** of a **relationship** between conditional expectations of two or more variables.\n",
    "* It is important to note that **linear** implies the model is linear in **parameters**. So a linear regression model is perfectly able to fit both linear and nonlinear lines to the data.\n",
    "* In econometric approach, we will be using the [statsmodels api](https://www.statsmodels.org/dev/examples/notebooks/generated/formulas.html). Since version 0.5.0, statsmodels allows users to fit statistical models using **R-style** formulas.\n",
    "* Statsmodel is great for **interpretation aspect** of linear regression models.\n",
    "\n",
    "Let's beging by importing the packages:"
   ]
  },
  {
   "cell_type": "code",
   "execution_count": 19,
   "metadata": {
    "executionInfo": {
     "elapsed": 2151,
     "status": "ok",
     "timestamp": 1694028202936,
     "user": {
      "displayName": "Pedram Jahangiry",
      "userId": "17912812838437468468"
     },
     "user_tz": 360
    },
    "id": "9fZgS7XXgdwO"
   },
   "outputs": [],
   "source": [
    "import numpy as np\n",
    "import pandas as pd\n",
    "import matplotlib.pyplot as plt\n",
    "import seaborn as sns\n",
    "import statsmodels.formula.api as smf # (For econometrics approach we use statsmodels package)\n",
    "\n",
    "sns.set()  #if you want to use seaborn themes with matplotlib functions\n"
   ]
  },
  {
   "cell_type": "code",
   "execution_count": 20,
   "metadata": {
    "executionInfo": {
     "elapsed": 10,
     "status": "ok",
     "timestamp": 1694028202938,
     "user": {
      "displayName": "Pedram Jahangiry",
      "userId": "17912812838437468468"
     },
     "user_tz": 360
    },
    "id": "HBHM2mQVgdwP"
   },
   "outputs": [],
   "source": [
    "import warnings\n",
    "warnings.filterwarnings('ignore')"
   ]
  },
  {
   "cell_type": "code",
   "execution_count": 21,
   "metadata": {
    "colab": {
     "base_uri": "https://localhost:8080/",
     "height": 206
    },
    "executionInfo": {
     "elapsed": 151,
     "status": "ok",
     "timestamp": 1694028218782,
     "user": {
      "displayName": "Pedram Jahangiry",
      "userId": "17912812838437468468"
     },
     "user_tz": 360
    },
    "id": "Fm3xETiHn-w4",
    "outputId": "9284e431-be44-4489-fb9c-cbdc3321fc90"
   },
   "outputs": [
    {
     "data": {
      "application/vnd.microsoft.datawrangler.viewer.v0+json": {
       "columns": [
        {
         "name": "index",
         "rawType": "int64",
         "type": "integer"
        },
        {
         "name": "wage",
         "rawType": "float64",
         "type": "float"
        },
        {
         "name": "hours",
         "rawType": "float64",
         "type": "float"
        },
        {
         "name": "IQ",
         "rawType": "float64",
         "type": "float"
        },
        {
         "name": "educ",
         "rawType": "float64",
         "type": "float"
        },
        {
         "name": "exper",
         "rawType": "float64",
         "type": "float"
        },
        {
         "name": "tenure",
         "rawType": "float64",
         "type": "float"
        },
        {
         "name": "age",
         "rawType": "float64",
         "type": "float"
        },
        {
         "name": "married",
         "rawType": "category",
         "type": "unknown"
        },
        {
         "name": "black",
         "rawType": "category",
         "type": "unknown"
        },
        {
         "name": "meduc",
         "rawType": "float64",
         "type": "float"
        }
       ],
       "conversionMethod": "pd.DataFrame",
       "ref": "5f19a8e3-9f57-4849-987c-7a1e84a503ab",
       "rows": [
        [
         "0",
         "76900.0",
         "40.0",
         "93.0",
         "12.0",
         "11.0",
         "2.0",
         "31.0",
         "1",
         "0",
         "8.0"
        ],
        [
         "1",
         "80800.0",
         "50.0",
         "119.0",
         "18.0",
         "11.0",
         "16.0",
         "37.0",
         "1",
         "0",
         "14.0"
        ],
        [
         "2",
         "82500.0",
         "40.0",
         "108.0",
         "14.0",
         "11.0",
         "9.0",
         "33.0",
         "1",
         "0",
         "14.0"
        ],
        [
         "3",
         "65000.0",
         "40.0",
         "96.0",
         "12.0",
         "13.0",
         "7.0",
         "32.0",
         "1",
         "0",
         "12.0"
        ],
        [
         "4",
         "56200.0",
         "40.0",
         "74.0",
         "11.0",
         "14.0",
         "5.0",
         "34.0",
         "1",
         "0",
         "6.0"
        ]
       ],
       "shape": {
        "columns": 10,
        "rows": 5
       }
      },
      "text/html": [
       "<div>\n",
       "<style scoped>\n",
       "    .dataframe tbody tr th:only-of-type {\n",
       "        vertical-align: middle;\n",
       "    }\n",
       "\n",
       "    .dataframe tbody tr th {\n",
       "        vertical-align: top;\n",
       "    }\n",
       "\n",
       "    .dataframe thead th {\n",
       "        text-align: right;\n",
       "    }\n",
       "</style>\n",
       "<table border=\"1\" class=\"dataframe\">\n",
       "  <thead>\n",
       "    <tr style=\"text-align: right;\">\n",
       "      <th></th>\n",
       "      <th>wage</th>\n",
       "      <th>hours</th>\n",
       "      <th>IQ</th>\n",
       "      <th>educ</th>\n",
       "      <th>exper</th>\n",
       "      <th>tenure</th>\n",
       "      <th>age</th>\n",
       "      <th>married</th>\n",
       "      <th>black</th>\n",
       "      <th>meduc</th>\n",
       "    </tr>\n",
       "  </thead>\n",
       "  <tbody>\n",
       "    <tr>\n",
       "      <th>0</th>\n",
       "      <td>76900.0</td>\n",
       "      <td>40.0</td>\n",
       "      <td>93.0</td>\n",
       "      <td>12.0</td>\n",
       "      <td>11.0</td>\n",
       "      <td>2.0</td>\n",
       "      <td>31.0</td>\n",
       "      <td>1</td>\n",
       "      <td>0</td>\n",
       "      <td>8.0</td>\n",
       "    </tr>\n",
       "    <tr>\n",
       "      <th>1</th>\n",
       "      <td>80800.0</td>\n",
       "      <td>50.0</td>\n",
       "      <td>119.0</td>\n",
       "      <td>18.0</td>\n",
       "      <td>11.0</td>\n",
       "      <td>16.0</td>\n",
       "      <td>37.0</td>\n",
       "      <td>1</td>\n",
       "      <td>0</td>\n",
       "      <td>14.0</td>\n",
       "    </tr>\n",
       "    <tr>\n",
       "      <th>2</th>\n",
       "      <td>82500.0</td>\n",
       "      <td>40.0</td>\n",
       "      <td>108.0</td>\n",
       "      <td>14.0</td>\n",
       "      <td>11.0</td>\n",
       "      <td>9.0</td>\n",
       "      <td>33.0</td>\n",
       "      <td>1</td>\n",
       "      <td>0</td>\n",
       "      <td>14.0</td>\n",
       "    </tr>\n",
       "    <tr>\n",
       "      <th>3</th>\n",
       "      <td>65000.0</td>\n",
       "      <td>40.0</td>\n",
       "      <td>96.0</td>\n",
       "      <td>12.0</td>\n",
       "      <td>13.0</td>\n",
       "      <td>7.0</td>\n",
       "      <td>32.0</td>\n",
       "      <td>1</td>\n",
       "      <td>0</td>\n",
       "      <td>12.0</td>\n",
       "    </tr>\n",
       "    <tr>\n",
       "      <th>4</th>\n",
       "      <td>56200.0</td>\n",
       "      <td>40.0</td>\n",
       "      <td>74.0</td>\n",
       "      <td>11.0</td>\n",
       "      <td>14.0</td>\n",
       "      <td>5.0</td>\n",
       "      <td>34.0</td>\n",
       "      <td>1</td>\n",
       "      <td>0</td>\n",
       "      <td>6.0</td>\n",
       "    </tr>\n",
       "  </tbody>\n",
       "</table>\n",
       "</div>"
      ],
      "text/plain": [
       "      wage  hours     IQ  educ  exper  tenure   age married black  meduc\n",
       "0  76900.0   40.0   93.0  12.0   11.0     2.0  31.0       1     0    8.0\n",
       "1  80800.0   50.0  119.0  18.0   11.0    16.0  37.0       1     0   14.0\n",
       "2  82500.0   40.0  108.0  14.0   11.0     9.0  33.0       1     0   14.0\n",
       "3  65000.0   40.0   96.0  12.0   13.0     7.0  32.0       1     0   12.0\n",
       "4  56200.0   40.0   74.0  11.0   14.0     5.0  34.0       1     0    6.0"
      ]
     },
     "execution_count": 21,
     "metadata": {},
     "output_type": "execute_result"
    }
   ],
   "source": [
    "df= pd.read_pickle(\"wage_clean.pkl\")\n",
    "df.head()"
   ]
  },
  {
   "cell_type": "code",
   "execution_count": 22,
   "metadata": {
    "colab": {
     "base_uri": "https://localhost:8080/"
    },
    "executionInfo": {
     "elapsed": 153,
     "status": "ok",
     "timestamp": 1694028221416,
     "user": {
      "displayName": "Pedram Jahangiry",
      "userId": "17912812838437468468"
     },
     "user_tz": 360
    },
    "id": "Y10xDH2xgdwV",
    "outputId": "13fec0a3-f379-45ac-fb4a-394193933ec7"
   },
   "outputs": [
    {
     "name": "stdout",
     "output_type": "stream",
     "text": [
      "<class 'pandas.core.frame.DataFrame'>\n",
      "RangeIndex: 935 entries, 0 to 934\n",
      "Data columns (total 10 columns):\n",
      " #   Column   Non-Null Count  Dtype   \n",
      "---  ------   --------------  -----   \n",
      " 0   wage     935 non-null    float64 \n",
      " 1   hours    935 non-null    float64 \n",
      " 2   IQ       935 non-null    float64 \n",
      " 3   educ     935 non-null    float64 \n",
      " 4   exper    935 non-null    float64 \n",
      " 5   tenure   935 non-null    float64 \n",
      " 6   age      935 non-null    float64 \n",
      " 7   married  935 non-null    category\n",
      " 8   black    935 non-null    category\n",
      " 9   meduc    935 non-null    float64 \n",
      "dtypes: category(2), float64(8)\n",
      "memory usage: 60.4 KB\n"
     ]
    }
   ],
   "source": [
    "# pay attention to the data types. If you were importing a csv file, you must have converted marreid and black into categorical variabls again!\n",
    "df.info()"
   ]
  },
  {
   "cell_type": "code",
   "execution_count": 23,
   "metadata": {
    "colab": {
     "base_uri": "https://localhost:8080/",
     "height": 300
    },
    "executionInfo": {
     "elapsed": 158,
     "status": "ok",
     "timestamp": 1694028227576,
     "user": {
      "displayName": "Pedram Jahangiry",
      "userId": "17912812838437468468"
     },
     "user_tz": 360
    },
    "id": "GoVWV9-pn-w5",
    "outputId": "81ee5b7d-5868-49ec-89cc-4a2280ae12e4"
   },
   "outputs": [
    {
     "data": {
      "application/vnd.microsoft.datawrangler.viewer.v0+json": {
       "columns": [
        {
         "name": "index",
         "rawType": "object",
         "type": "string"
        },
        {
         "name": "wage",
         "rawType": "float64",
         "type": "float"
        },
        {
         "name": "hours",
         "rawType": "float64",
         "type": "float"
        },
        {
         "name": "IQ",
         "rawType": "float64",
         "type": "float"
        },
        {
         "name": "educ",
         "rawType": "float64",
         "type": "float"
        },
        {
         "name": "exper",
         "rawType": "float64",
         "type": "float"
        },
        {
         "name": "tenure",
         "rawType": "float64",
         "type": "float"
        },
        {
         "name": "age",
         "rawType": "float64",
         "type": "float"
        },
        {
         "name": "meduc",
         "rawType": "float64",
         "type": "float"
        }
       ],
       "conversionMethod": "pd.DataFrame",
       "ref": "60a584be-6257-44b4-a965-730d3b2f873c",
       "rows": [
        [
         "count",
         "935.0",
         "935.0",
         "935.0",
         "935.0",
         "935.0",
         "935.0",
         "935.0",
         "935.0"
        ],
        [
         "mean",
         "95795.0",
         "44.0",
         "101.0",
         "13.0",
         "12.0",
         "7.0",
         "33.0",
         "11.0"
        ],
        [
         "std",
         "40436.0",
         "7.0",
         "15.0",
         "2.0",
         "4.0",
         "5.0",
         "3.0",
         "3.0"
        ],
        [
         "min",
         "11500.0",
         "20.0",
         "50.0",
         "9.0",
         "1.0",
         "0.0",
         "28.0",
         "0.0"
        ],
        [
         "25%",
         "66900.0",
         "40.0",
         "92.0",
         "12.0",
         "8.0",
         "3.0",
         "30.0",
         "9.0"
        ],
        [
         "50%",
         "90500.0",
         "40.0",
         "102.0",
         "12.0",
         "11.0",
         "7.0",
         "33.0",
         "12.0"
        ],
        [
         "75%",
         "116000.0",
         "48.0",
         "112.0",
         "16.0",
         "15.0",
         "11.0",
         "36.0",
         "12.0"
        ],
        [
         "max",
         "307800.0",
         "80.0",
         "145.0",
         "18.0",
         "23.0",
         "22.0",
         "38.0",
         "18.0"
        ]
       ],
       "shape": {
        "columns": 8,
        "rows": 8
       }
      },
      "text/html": [
       "<div>\n",
       "<style scoped>\n",
       "    .dataframe tbody tr th:only-of-type {\n",
       "        vertical-align: middle;\n",
       "    }\n",
       "\n",
       "    .dataframe tbody tr th {\n",
       "        vertical-align: top;\n",
       "    }\n",
       "\n",
       "    .dataframe thead th {\n",
       "        text-align: right;\n",
       "    }\n",
       "</style>\n",
       "<table border=\"1\" class=\"dataframe\">\n",
       "  <thead>\n",
       "    <tr style=\"text-align: right;\">\n",
       "      <th></th>\n",
       "      <th>wage</th>\n",
       "      <th>hours</th>\n",
       "      <th>IQ</th>\n",
       "      <th>educ</th>\n",
       "      <th>exper</th>\n",
       "      <th>tenure</th>\n",
       "      <th>age</th>\n",
       "      <th>meduc</th>\n",
       "    </tr>\n",
       "  </thead>\n",
       "  <tbody>\n",
       "    <tr>\n",
       "      <th>count</th>\n",
       "      <td>935.0</td>\n",
       "      <td>935.0</td>\n",
       "      <td>935.0</td>\n",
       "      <td>935.0</td>\n",
       "      <td>935.0</td>\n",
       "      <td>935.0</td>\n",
       "      <td>935.0</td>\n",
       "      <td>935.0</td>\n",
       "    </tr>\n",
       "    <tr>\n",
       "      <th>mean</th>\n",
       "      <td>95795.0</td>\n",
       "      <td>44.0</td>\n",
       "      <td>101.0</td>\n",
       "      <td>13.0</td>\n",
       "      <td>12.0</td>\n",
       "      <td>7.0</td>\n",
       "      <td>33.0</td>\n",
       "      <td>11.0</td>\n",
       "    </tr>\n",
       "    <tr>\n",
       "      <th>std</th>\n",
       "      <td>40436.0</td>\n",
       "      <td>7.0</td>\n",
       "      <td>15.0</td>\n",
       "      <td>2.0</td>\n",
       "      <td>4.0</td>\n",
       "      <td>5.0</td>\n",
       "      <td>3.0</td>\n",
       "      <td>3.0</td>\n",
       "    </tr>\n",
       "    <tr>\n",
       "      <th>min</th>\n",
       "      <td>11500.0</td>\n",
       "      <td>20.0</td>\n",
       "      <td>50.0</td>\n",
       "      <td>9.0</td>\n",
       "      <td>1.0</td>\n",
       "      <td>0.0</td>\n",
       "      <td>28.0</td>\n",
       "      <td>0.0</td>\n",
       "    </tr>\n",
       "    <tr>\n",
       "      <th>25%</th>\n",
       "      <td>66900.0</td>\n",
       "      <td>40.0</td>\n",
       "      <td>92.0</td>\n",
       "      <td>12.0</td>\n",
       "      <td>8.0</td>\n",
       "      <td>3.0</td>\n",
       "      <td>30.0</td>\n",
       "      <td>9.0</td>\n",
       "    </tr>\n",
       "    <tr>\n",
       "      <th>50%</th>\n",
       "      <td>90500.0</td>\n",
       "      <td>40.0</td>\n",
       "      <td>102.0</td>\n",
       "      <td>12.0</td>\n",
       "      <td>11.0</td>\n",
       "      <td>7.0</td>\n",
       "      <td>33.0</td>\n",
       "      <td>12.0</td>\n",
       "    </tr>\n",
       "    <tr>\n",
       "      <th>75%</th>\n",
       "      <td>116000.0</td>\n",
       "      <td>48.0</td>\n",
       "      <td>112.0</td>\n",
       "      <td>16.0</td>\n",
       "      <td>15.0</td>\n",
       "      <td>11.0</td>\n",
       "      <td>36.0</td>\n",
       "      <td>12.0</td>\n",
       "    </tr>\n",
       "    <tr>\n",
       "      <th>max</th>\n",
       "      <td>307800.0</td>\n",
       "      <td>80.0</td>\n",
       "      <td>145.0</td>\n",
       "      <td>18.0</td>\n",
       "      <td>23.0</td>\n",
       "      <td>22.0</td>\n",
       "      <td>38.0</td>\n",
       "      <td>18.0</td>\n",
       "    </tr>\n",
       "  </tbody>\n",
       "</table>\n",
       "</div>"
      ],
      "text/plain": [
       "           wage  hours     IQ   educ  exper  tenure    age  meduc\n",
       "count     935.0  935.0  935.0  935.0  935.0   935.0  935.0  935.0\n",
       "mean    95795.0   44.0  101.0   13.0   12.0     7.0   33.0   11.0\n",
       "std     40436.0    7.0   15.0    2.0    4.0     5.0    3.0    3.0\n",
       "min     11500.0   20.0   50.0    9.0    1.0     0.0   28.0    0.0\n",
       "25%     66900.0   40.0   92.0   12.0    8.0     3.0   30.0    9.0\n",
       "50%     90500.0   40.0  102.0   12.0   11.0     7.0   33.0   12.0\n",
       "75%    116000.0   48.0  112.0   16.0   15.0    11.0   36.0   12.0\n",
       "max    307800.0   80.0  145.0   18.0   23.0    22.0   38.0   18.0"
      ]
     },
     "execution_count": 23,
     "metadata": {},
     "output_type": "execute_result"
    }
   ],
   "source": [
    "df.describe().round(0)\n",
    "# question, why round(0) is not rounded to 0 decimal here?"
   ]
  },
  {
   "cell_type": "code",
   "execution_count": 24,
   "metadata": {
    "colab": {
     "base_uri": "https://localhost:8080/",
     "height": 474
    },
    "executionInfo": {
     "elapsed": 675,
     "status": "ok",
     "timestamp": 1694028229362,
     "user": {
      "displayName": "Pedram Jahangiry",
      "userId": "17912812838437468468"
     },
     "user_tz": 360
    },
    "id": "FcrQYdhrn-w6",
    "outputId": "d4b5ebee-bb5a-4a31-d13f-2d3ec06ffdb8"
   },
   "outputs": [
    {
     "data": {
      "image/png": "[encoded data removed]",
      "text/plain": [
       "<Figure size 640x480 with 1 Axes>"
      ]
     },
     "metadata": {},
     "output_type": "display_data"
    }
   ],
   "source": [
    "sns.distplot(df['wage'], bins=30, rug=True)\n",
    "plt.show()"
   ]
  },
  {
   "cell_type": "markdown",
   "metadata": {
    "id": "_NewqAxEn-w6"
   },
   "source": [
    "*Exercise*:\n",
    "\n",
    "1. What do you learn by comparing the mean and median for wage?\n",
    "2. Which of the OLS assumptions is violated? What's the implication for econometrics linear regression analysis?\n",
    "\n",
    "---"
   ]
  },
  {
   "cell_type": "code",
   "execution_count": 25,
   "metadata": {
    "colab": {
     "base_uri": "https://localhost:8080/",
     "height": 458
    },
    "executionInfo": {
     "elapsed": 674,
     "status": "ok",
     "timestamp": 1694028252172,
     "user": {
      "displayName": "Pedram Jahangiry",
      "userId": "17912812838437468468"
     },
     "user_tz": 360
    },
    "id": "vfI7ixQFn-w6",
    "outputId": "af2ac6db-3852-42ef-be72-891df857de33"
   },
   "outputs": [
    {
     "data": {
      "image/png": "[encoded data removed]",
      "text/plain": [
       "<Figure size 640x480 with 1 Axes>"
      ]
     },
     "metadata": {},
     "output_type": "display_data"
    }
   ],
   "source": [
    "# Need to do log transformation to avoid potential heteroskedasticity.\n",
    "df['lwage']= np.log(df['wage'])\n",
    "sns.distplot(df['lwage'], bins=30 , rug=True)\n",
    "plt.show()"
   ]
  },
  {
   "cell_type": "code",
   "execution_count": 26,
   "metadata": {
    "colab": {
     "base_uri": "https://localhost:8080/"
    },
    "executionInfo": {
     "elapsed": 143,
     "status": "ok",
     "timestamp": 1694028254627,
     "user": {
      "displayName": "Pedram Jahangiry",
      "userId": "17912812838437468468"
     },
     "user_tz": 360
    },
    "id": "o7Hy12mln-w7",
    "outputId": "0d06ecf2-182d-4656-850d-ded033e37dee"
   },
   "outputs": [
    {
     "data": {
      "text/plain": [
       "Index(['wage', 'hours', 'IQ', 'educ', 'exper', 'tenure', 'age', 'married',\n",
       "       'black', 'meduc', 'lwage'],\n",
       "      dtype='object')"
      ]
     },
     "execution_count": 26,
     "metadata": {},
     "output_type": "execute_result"
    }
   ],
   "source": [
    "df.columns"
   ]
  },
  {
   "cell_type": "code",
   "execution_count": 27,
   "metadata": {
    "colab": {
     "base_uri": "https://localhost:8080/",
     "height": 265
    },
    "executionInfo": {
     "elapsed": 4331,
     "status": "ok",
     "timestamp": 1694028259500,
     "user": {
      "displayName": "Pedram Jahangiry",
      "userId": "17912812838437468468"
     },
     "user_tz": 360
    },
    "id": "gpOOvwSbn-w7",
    "outputId": "b1aca73d-3a4d-4058-b553-6f0a1feb682b"
   },
   "outputs": [
    {
     "data": {
      "image/png": "[encoded data removed]",
      "text/plain": [
       "<Figure size 1750x250 with 7 Axes>"
      ]
     },
     "metadata": {},
     "output_type": "display_data"
    }
   ],
   "source": [
    "sns.pairplot(df, y_vars='lwage', x_vars=['hours', 'IQ', 'educ', 'exper', 'tenure', 'age', 'meduc'], kind=\"reg\", plot_kws={'line_kws':{'color':'red'}})\n",
    "plt.show()"
   ]
  },
  {
   "cell_type": "markdown",
   "metadata": {
    "id": "ryXNM6Eyn-w7"
   },
   "source": [
    "### Multiple Regression Models with Statsmodel.formula api:"
   ]
  },
  {
   "cell_type": "code",
   "execution_count": 28,
   "metadata": {
    "colab": {
     "base_uri": "https://localhost:8080/",
     "height": 473
    },
    "executionInfo": {
     "elapsed": 154,
     "status": "ok",
     "timestamp": 1694028674755,
     "user": {
      "displayName": "Pedram Jahangiry",
      "userId": "17912812838437468468"
     },
     "user_tz": 360
    },
    "id": "psRPlKVEn-w7",
    "outputId": "f479c2af-761c-4fb9-ad08-b8e70a1722e2"
   },
   "outputs": [
    {
     "data": {
      "text/html": [
       "<table class=\"simpletable\">\n",
       "<caption>OLS Regression Results</caption>\n",
       "<tr>\n",
       "  <th>Dep. Variable:</th>          <td>lwage</td>      <th>  R-squared:         </th> <td>   0.130</td>\n",
       "</tr>\n",
       "<tr>\n",
       "  <th>Model:</th>                   <td>OLS</td>       <th>  Adj. R-squared:    </th> <td>   0.128</td>\n",
       "</tr>\n",
       "<tr>\n",
       "  <th>Method:</th>             <td>Least Squares</td>  <th>  F-statistic:       </th> <td>   69.42</td>\n",
       "</tr>\n",
       "<tr>\n",
       "  <th>Date:</th>             <td>Wed, 26 Mar 2025</td> <th>  Prob (F-statistic):</th> <td>7.88e-29</td>\n",
       "</tr>\n",
       "<tr>\n",
       "  <th>Time:</th>                 <td>01:32:51</td>     <th>  Log-Likelihood:    </th> <td> -452.72</td>\n",
       "</tr>\n",
       "<tr>\n",
       "  <th>No. Observations:</th>      <td>   935</td>      <th>  AIC:               </th> <td>   911.4</td>\n",
       "</tr>\n",
       "<tr>\n",
       "  <th>Df Residuals:</th>          <td>   932</td>      <th>  BIC:               </th> <td>   926.0</td>\n",
       "</tr>\n",
       "<tr>\n",
       "  <th>Df Model:</th>              <td>     2</td>      <th>                     </th>     <td> </td>   \n",
       "</tr>\n",
       "<tr>\n",
       "  <th>Covariance Type:</th>      <td>nonrobust</td>    <th>                     </th>     <td> </td>   \n",
       "</tr>\n",
       "</table>\n",
       "<table class=\"simpletable\">\n",
       "<tr>\n",
       "      <td></td>         <th>coef</th>     <th>std err</th>      <th>t</th>      <th>P>|t|</th>  <th>[0.025</th>    <th>0.975]</th>  \n",
       "</tr>\n",
       "<tr>\n",
       "  <th>Intercept</th> <td>   10.2635</td> <td>    0.096</td> <td>  106.643</td> <td> 0.000</td> <td>   10.075</td> <td>   10.452</td>\n",
       "</tr>\n",
       "<tr>\n",
       "  <th>IQ</th>        <td>    0.0059</td> <td>    0.001</td> <td>    5.875</td> <td> 0.000</td> <td>    0.004</td> <td>    0.008</td>\n",
       "</tr>\n",
       "<tr>\n",
       "  <th>educ</th>      <td>    0.0391</td> <td>    0.007</td> <td>    5.721</td> <td> 0.000</td> <td>    0.026</td> <td>    0.053</td>\n",
       "</tr>\n",
       "</table>\n",
       "<table class=\"simpletable\">\n",
       "<tr>\n",
       "  <th>Omnibus:</th>       <td>35.757</td> <th>  Durbin-Watson:     </th> <td>   1.810</td>\n",
       "</tr>\n",
       "<tr>\n",
       "  <th>Prob(Omnibus):</th> <td> 0.000</td> <th>  Jarque-Bera (JB):  </th> <td>  47.770</td>\n",
       "</tr>\n",
       "<tr>\n",
       "  <th>Skew:</th>          <td>-0.376</td> <th>  Prob(JB):          </th> <td>4.23e-11</td>\n",
       "</tr>\n",
       "<tr>\n",
       "  <th>Kurtosis:</th>      <td> 3.813</td> <th>  Cond. No.          </th> <td>    773.</td>\n",
       "</tr>\n",
       "</table><br/><br/>Notes:<br/>[1] Standard Errors assume that the covariance matrix of the errors is correctly specified."
      ],
      "text/latex": [
       "\\begin{center}\n",
       "\\begin{tabular}{lclc}\n",
       "\\toprule\n",
       "\\textbf{Dep. Variable:}    &      lwage       & \\textbf{  R-squared:         } &     0.130   \\\\\n",
       "\\textbf{Model:}            &       OLS        & \\textbf{  Adj. R-squared:    } &     0.128   \\\\\n",
       "\\textbf{Method:}           &  Least Squares   & \\textbf{  F-statistic:       } &     69.42   \\\\\n",
       "\\textbf{Date:}             & Wed, 26 Mar 2025 & \\textbf{  Prob (F-statistic):} &  7.88e-29   \\\\\n",
       "\\textbf{Time:}             &     01:32:51     & \\textbf{  Log-Likelihood:    } &   -452.72   \\\\\n",
       "\\textbf{No. Observations:} &         935      & \\textbf{  AIC:               } &     911.4   \\\\\n",
       "\\textbf{Df Residuals:}     &         932      & \\textbf{  BIC:               } &     926.0   \\\\\n",
       "\\textbf{Df Model:}         &           2      & \\textbf{                     } &             \\\\\n",
       "\\textbf{Covariance Type:}  &    nonrobust     & \\textbf{                     } &             \\\\\n",
       "\\bottomrule\n",
       "\\end{tabular}\n",
       "\\begin{tabular}{lcccccc}\n",
       "                   & \\textbf{coef} & \\textbf{std err} & \\textbf{t} & \\textbf{P$> |$t$|$} & \\textbf{[0.025} & \\textbf{0.975]}  \\\\\n",
       "\\midrule\n",
       "\\textbf{Intercept} &      10.2635  &        0.096     &   106.643  &         0.000        &       10.075    &       10.452     \\\\\n",
       "\\textbf{IQ}        &       0.0059  &        0.001     &     5.875  &         0.000        &        0.004    &        0.008     \\\\\n",
       "\\textbf{educ}      &       0.0391  &        0.007     &     5.721  &         0.000        &        0.026    &        0.053     \\\\\n",
       "\\bottomrule\n",
       "\\end{tabular}\n",
       "\\begin{tabular}{lclc}\n",
       "\\textbf{Omnibus:}       & 35.757 & \\textbf{  Durbin-Watson:     } &    1.810  \\\\\n",
       "\\textbf{Prob(Omnibus):} &  0.000 & \\textbf{  Jarque-Bera (JB):  } &   47.770  \\\\\n",
       "\\textbf{Skew:}          & -0.376 & \\textbf{  Prob(JB):          } & 4.23e-11  \\\\\n",
       "\\textbf{Kurtosis:}      &  3.813 & \\textbf{  Cond. No.          } &     773.  \\\\\n",
       "\\bottomrule\n",
       "\\end{tabular}\n",
       "%\\caption{OLS Regression Results}\n",
       "\\end{center}\n",
       "\n",
       "Notes: \\newline\n",
       " [1] Standard Errors assume that the covariance matrix of the errors is correctly specified."
      ],
      "text/plain": [
       "<class 'statsmodels.iolib.summary.Summary'>\n",
       "\"\"\"\n",
       "                            OLS Regression Results                            \n",
       "==============================================================================\n",
       "Dep. Variable:                  lwage   R-squared:                       0.130\n",
       "Model:                            OLS   Adj. R-squared:                  0.128\n",
       "Method:                 Least Squares   F-statistic:                     69.42\n",
       "Date:                Wed, 26 Mar 2025   Prob (F-statistic):           7.88e-29\n",
       "Time:                        01:32:51   Log-Likelihood:                -452.72\n",
       "No. Observations:                 935   AIC:                             911.4\n",
       "Df Residuals:                     932   BIC:                             926.0\n",
       "Df Model:                           2                                         \n",
       "Covariance Type:            nonrobust                                         \n",
       "==============================================================================\n",
       "                 coef    std err          t      P>|t|      [0.025      0.975]\n",
       "------------------------------------------------------------------------------\n",
       "Intercept     10.2635      0.096    106.643      0.000      10.075      10.452\n",
       "IQ             0.0059      0.001      5.875      0.000       0.004       0.008\n",
       "educ           0.0391      0.007      5.721      0.000       0.026       0.053\n",
       "==============================================================================\n",
       "Omnibus:                       35.757   Durbin-Watson:                   1.810\n",
       "Prob(Omnibus):                  0.000   Jarque-Bera (JB):               47.770\n",
       "Skew:                          -0.376   Prob(JB):                     4.23e-11\n",
       "Kurtosis:                       3.813   Cond. No.                         773.\n",
       "==============================================================================\n",
       "\n",
       "Notes:\n",
       "[1] Standard Errors assume that the covariance matrix of the errors is correctly specified.\n",
       "\"\"\""
      ]
     },
     "execution_count": 28,
     "metadata": {},
     "output_type": "execute_result"
    }
   ],
   "source": [
    "reg1 = smf.ols(formula= \"lwage ~ IQ + educ\", data=df).fit()\n",
    "reg1.summary()\n"
   ]
  },
  {
   "cell_type": "markdown",
   "metadata": {
    "id": "V1BO7h4hn-w8"
   },
   "source": [
    "#### Adding categorical variables:\n"
   ]
  },
  {
   "cell_type": "code",
   "execution_count": 29,
   "metadata": {
    "colab": {
     "base_uri": "https://localhost:8080/",
     "height": 206
    },
    "executionInfo": {
     "elapsed": 151,
     "status": "ok",
     "timestamp": 1694028795708,
     "user": {
      "displayName": "Pedram Jahangiry",
      "userId": "17912812838437468468"
     },
     "user_tz": 360
    },
    "id": "5dhCCsiXn-w8",
    "outputId": "4af7769f-3268-412b-e066-dc4b93560b11"
   },
   "outputs": [
    {
     "data": {
      "application/vnd.microsoft.datawrangler.viewer.v0+json": {
       "columns": [
        {
         "name": "('married', 'black')",
         "rawType": "object",
         "type": "unknown"
        },
        {
         "name": "wage",
         "rawType": "float64",
         "type": "float"
        },
        {
         "name": "hours",
         "rawType": "float64",
         "type": "float"
        },
        {
         "name": "IQ",
         "rawType": "float64",
         "type": "float"
        },
        {
         "name": "educ",
         "rawType": "float64",
         "type": "float"
        },
        {
         "name": "exper",
         "rawType": "float64",
         "type": "float"
        },
        {
         "name": "tenure",
         "rawType": "float64",
         "type": "float"
        },
        {
         "name": "age",
         "rawType": "float64",
         "type": "float"
        },
        {
         "name": "meduc",
         "rawType": "float64",
         "type": "float"
        },
        {
         "name": "lwage",
         "rawType": "float64",
         "type": "float"
        }
       ],
       "conversionMethod": "pd.DataFrame",
       "ref": "45700480-f5ea-47f4-8f81-04c17839e2d2",
       "rows": [
        [
         "(np.int64(0), np.int64(0))",
         "84197.6",
         "43.5",
         "105.2",
         "14.1",
         "9.8",
         "6.7",
         "32.0",
         "11.1",
         "11.3"
        ],
        [
         "(np.int64(0), np.int64(1))",
         "60011.1",
         "42.1",
         "86.8",
         "12.8",
         "11.9",
         "3.9",
         "32.8",
         "10.4",
         "11.0"
        ],
        [
         "(np.int64(1), np.int64(0))",
         "100728.0",
         "44.3",
         "103.3",
         "13.6",
         "11.7",
         "7.5",
         "33.3",
         "11.0",
         "11.4"
        ],
        [
         "(np.int64(1), np.int64(1))",
         "75979.4",
         "41.9",
         "85.9",
         "12.4",
         "12.2",
         "6.6",
         "32.8",
         "9.3",
         "11.2"
        ]
       ],
       "shape": {
        "columns": 9,
        "rows": 4
       }
      },
      "text/html": [
       "<div>\n",
       "<style scoped>\n",
       "    .dataframe tbody tr th:only-of-type {\n",
       "        vertical-align: middle;\n",
       "    }\n",
       "\n",
       "    .dataframe tbody tr th {\n",
       "        vertical-align: top;\n",
       "    }\n",
       "\n",
       "    .dataframe thead th {\n",
       "        text-align: right;\n",
       "    }\n",
       "</style>\n",
       "<table border=\"1\" class=\"dataframe\">\n",
       "  <thead>\n",
       "    <tr style=\"text-align: right;\">\n",
       "      <th></th>\n",
       "      <th></th>\n",
       "      <th>wage</th>\n",
       "      <th>hours</th>\n",
       "      <th>IQ</th>\n",
       "      <th>educ</th>\n",
       "      <th>exper</th>\n",
       "      <th>tenure</th>\n",
       "      <th>age</th>\n",
       "      <th>meduc</th>\n",
       "      <th>lwage</th>\n",
       "    </tr>\n",
       "    <tr>\n",
       "      <th>married</th>\n",
       "      <th>black</th>\n",
       "      <th></th>\n",
       "      <th></th>\n",
       "      <th></th>\n",
       "      <th></th>\n",
       "      <th></th>\n",
       "      <th></th>\n",
       "      <th></th>\n",
       "      <th></th>\n",
       "      <th></th>\n",
       "    </tr>\n",
       "  </thead>\n",
       "  <tbody>\n",
       "    <tr>\n",
       "      <th rowspan=\"2\" valign=\"top\">0</th>\n",
       "      <th>0</th>\n",
       "      <td>84197.6</td>\n",
       "      <td>43.5</td>\n",
       "      <td>105.2</td>\n",
       "      <td>14.1</td>\n",
       "      <td>9.8</td>\n",
       "      <td>6.7</td>\n",
       "      <td>32.0</td>\n",
       "      <td>11.1</td>\n",
       "      <td>11.3</td>\n",
       "    </tr>\n",
       "    <tr>\n",
       "      <th>1</th>\n",
       "      <td>60011.1</td>\n",
       "      <td>42.1</td>\n",
       "      <td>86.8</td>\n",
       "      <td>12.8</td>\n",
       "      <td>11.9</td>\n",
       "      <td>3.9</td>\n",
       "      <td>32.8</td>\n",
       "      <td>10.4</td>\n",
       "      <td>11.0</td>\n",
       "    </tr>\n",
       "    <tr>\n",
       "      <th rowspan=\"2\" valign=\"top\">1</th>\n",
       "      <th>0</th>\n",
       "      <td>100728.0</td>\n",
       "      <td>44.3</td>\n",
       "      <td>103.3</td>\n",
       "      <td>13.6</td>\n",
       "      <td>11.7</td>\n",
       "      <td>7.5</td>\n",
       "      <td>33.3</td>\n",
       "      <td>11.0</td>\n",
       "      <td>11.4</td>\n",
       "    </tr>\n",
       "    <tr>\n",
       "      <th>1</th>\n",
       "      <td>75979.4</td>\n",
       "      <td>41.9</td>\n",
       "      <td>85.9</td>\n",
       "      <td>12.4</td>\n",
       "      <td>12.2</td>\n",
       "      <td>6.6</td>\n",
       "      <td>32.8</td>\n",
       "      <td>9.3</td>\n",
       "      <td>11.2</td>\n",
       "    </tr>\n",
       "  </tbody>\n",
       "</table>\n",
       "</div>"
      ],
      "text/plain": [
       "                   wage  hours     IQ  educ  exper  tenure   age  meduc  lwage\n",
       "married black                                                                 \n",
       "0       0       84197.6   43.5  105.2  14.1    9.8     6.7  32.0   11.1   11.3\n",
       "        1       60011.1   42.1   86.8  12.8   11.9     3.9  32.8   10.4   11.0\n",
       "1       0      100728.0   44.3  103.3  13.6   11.7     7.5  33.3   11.0   11.4\n",
       "        1       75979.4   41.9   85.9  12.4   12.2     6.6  32.8    9.3   11.2"
      ]
     },
     "execution_count": 29,
     "metadata": {},
     "output_type": "execute_result"
    }
   ],
   "source": [
    "# motivation:\n",
    "df.groupby(by=['married', 'black']).mean().round(1)"
   ]
  },
  {
   "cell_type": "code",
   "execution_count": 30,
   "metadata": {
    "colab": {
     "base_uri": "https://localhost:8080/",
     "height": 572
    },
    "executionInfo": {
     "elapsed": 148,
     "status": "ok",
     "timestamp": 1694028859465,
     "user": {
      "displayName": "Pedram Jahangiry",
      "userId": "17912812838437468468"
     },
     "user_tz": 360
    },
    "id": "NQJKQuNkn-w9",
    "outputId": "c60ff13e-af23-4cd2-af1b-844297ac4497"
   },
   "outputs": [
    {
     "data": {
      "text/html": [
       "<table class=\"simpletable\">\n",
       "<caption>OLS Regression Results</caption>\n",
       "<tr>\n",
       "  <th>Dep. Variable:</th>      <td>np.log(wage)</td>   <th>  R-squared:         </th> <td>   0.193</td>\n",
       "</tr>\n",
       "<tr>\n",
       "  <th>Model:</th>                   <td>OLS</td>       <th>  Adj. R-squared:    </th> <td>   0.188</td>\n",
       "</tr>\n",
       "<tr>\n",
       "  <th>Method:</th>             <td>Least Squares</td>  <th>  F-statistic:       </th> <td>   44.37</td>\n",
       "</tr>\n",
       "<tr>\n",
       "  <th>Date:</th>             <td>Wed, 26 Mar 2025</td> <th>  Prob (F-statistic):</th> <td>4.06e-41</td>\n",
       "</tr>\n",
       "<tr>\n",
       "  <th>Time:</th>                 <td>01:32:51</td>     <th>  Log-Likelihood:    </th> <td> -417.51</td>\n",
       "</tr>\n",
       "<tr>\n",
       "  <th>No. Observations:</th>      <td>   935</td>      <th>  AIC:               </th> <td>   847.0</td>\n",
       "</tr>\n",
       "<tr>\n",
       "  <th>Df Residuals:</th>          <td>   929</td>      <th>  BIC:               </th> <td>   876.1</td>\n",
       "</tr>\n",
       "<tr>\n",
       "  <th>Df Model:</th>              <td>     5</td>      <th>                     </th>     <td> </td>   \n",
       "</tr>\n",
       "<tr>\n",
       "  <th>Covariance Type:</th>      <td>nonrobust</td>    <th>                     </th>     <td> </td>   \n",
       "</tr>\n",
       "</table>\n",
       "<table class=\"simpletable\">\n",
       "<tr>\n",
       "         <td></td>            <th>coef</th>     <th>std err</th>      <th>t</th>      <th>P>|t|</th>  <th>[0.025</th>    <th>0.975]</th>  \n",
       "</tr>\n",
       "<tr>\n",
       "  <th>Intercept</th>       <td>    9.5149</td> <td>    0.173</td> <td>   54.963</td> <td> 0.000</td> <td>    9.175</td> <td>    9.855</td>\n",
       "</tr>\n",
       "<tr>\n",
       "  <th>C(black)[T.1]</th>   <td>   -0.1451</td> <td>    0.040</td> <td>   -3.592</td> <td> 0.000</td> <td>   -0.224</td> <td>   -0.066</td>\n",
       "</tr>\n",
       "<tr>\n",
       "  <th>C(married)[T.1]</th> <td>    0.1942</td> <td>    0.041</td> <td>    4.792</td> <td> 0.000</td> <td>    0.115</td> <td>    0.274</td>\n",
       "</tr>\n",
       "<tr>\n",
       "  <th>IQ</th>              <td>    0.0047</td> <td>    0.001</td> <td>    4.563</td> <td> 0.000</td> <td>    0.003</td> <td>    0.007</td>\n",
       "</tr>\n",
       "<tr>\n",
       "  <th>educ</th>            <td>    0.0412</td> <td>    0.007</td> <td>    6.236</td> <td> 0.000</td> <td>    0.028</td> <td>    0.054</td>\n",
       "</tr>\n",
       "<tr>\n",
       "  <th>age</th>             <td>    0.0207</td> <td>    0.004</td> <td>    5.130</td> <td> 0.000</td> <td>    0.013</td> <td>    0.029</td>\n",
       "</tr>\n",
       "</table>\n",
       "<table class=\"simpletable\">\n",
       "<tr>\n",
       "  <th>Omnibus:</th>       <td>39.678</td> <th>  Durbin-Watson:     </th> <td>   1.803</td>\n",
       "</tr>\n",
       "<tr>\n",
       "  <th>Prob(Omnibus):</th> <td> 0.000</td> <th>  Jarque-Bera (JB):  </th> <td>  60.349</td>\n",
       "</tr>\n",
       "<tr>\n",
       "  <th>Skew:</th>          <td>-0.363</td> <th>  Prob(JB):          </th> <td>7.86e-14</td>\n",
       "</tr>\n",
       "<tr>\n",
       "  <th>Kurtosis:</th>      <td> 4.011</td> <th>  Cond. No.          </th> <td>1.52e+03</td>\n",
       "</tr>\n",
       "</table><br/><br/>Notes:<br/>[1] Standard Errors assume that the covariance matrix of the errors is correctly specified.<br/>[2] The condition number is large, 1.52e+03. This might indicate that there are<br/>strong multicollinearity or other numerical problems."
      ],
      "text/latex": [
       "\\begin{center}\n",
       "\\begin{tabular}{lclc}\n",
       "\\toprule\n",
       "\\textbf{Dep. Variable:}    &   np.log(wage)   & \\textbf{  R-squared:         } &     0.193   \\\\\n",
       "\\textbf{Model:}            &       OLS        & \\textbf{  Adj. R-squared:    } &     0.188   \\\\\n",
       "\\textbf{Method:}           &  Least Squares   & \\textbf{  F-statistic:       } &     44.37   \\\\\n",
       "\\textbf{Date:}             & Wed, 26 Mar 2025 & \\textbf{  Prob (F-statistic):} &  4.06e-41   \\\\\n",
       "\\textbf{Time:}             &     01:32:51     & \\textbf{  Log-Likelihood:    } &   -417.51   \\\\\n",
       "\\textbf{No. Observations:} &         935      & \\textbf{  AIC:               } &     847.0   \\\\\n",
       "\\textbf{Df Residuals:}     &         929      & \\textbf{  BIC:               } &     876.1   \\\\\n",
       "\\textbf{Df Model:}         &           5      & \\textbf{                     } &             \\\\\n",
       "\\textbf{Covariance Type:}  &    nonrobust     & \\textbf{                     } &             \\\\\n",
       "\\bottomrule\n",
       "\\end{tabular}\n",
       "\\begin{tabular}{lcccccc}\n",
       "                         & \\textbf{coef} & \\textbf{std err} & \\textbf{t} & \\textbf{P$> |$t$|$} & \\textbf{[0.025} & \\textbf{0.975]}  \\\\\n",
       "\\midrule\n",
       "\\textbf{Intercept}       &       9.5149  &        0.173     &    54.963  &         0.000        &        9.175    &        9.855     \\\\\n",
       "\\textbf{C(black)[T.1]}   &      -0.1451  &        0.040     &    -3.592  &         0.000        &       -0.224    &       -0.066     \\\\\n",
       "\\textbf{C(married)[T.1]} &       0.1942  &        0.041     &     4.792  &         0.000        &        0.115    &        0.274     \\\\\n",
       "\\textbf{IQ}              &       0.0047  &        0.001     &     4.563  &         0.000        &        0.003    &        0.007     \\\\\n",
       "\\textbf{educ}            &       0.0412  &        0.007     &     6.236  &         0.000        &        0.028    &        0.054     \\\\\n",
       "\\textbf{age}             &       0.0207  &        0.004     &     5.130  &         0.000        &        0.013    &        0.029     \\\\\n",
       "\\bottomrule\n",
       "\\end{tabular}\n",
       "\\begin{tabular}{lclc}\n",
       "\\textbf{Omnibus:}       & 39.678 & \\textbf{  Durbin-Watson:     } &    1.803  \\\\\n",
       "\\textbf{Prob(Omnibus):} &  0.000 & \\textbf{  Jarque-Bera (JB):  } &   60.349  \\\\\n",
       "\\textbf{Skew:}          & -0.363 & \\textbf{  Prob(JB):          } & 7.86e-14  \\\\\n",
       "\\textbf{Kurtosis:}      &  4.011 & \\textbf{  Cond. No.          } & 1.52e+03  \\\\\n",
       "\\bottomrule\n",
       "\\end{tabular}\n",
       "%\\caption{OLS Regression Results}\n",
       "\\end{center}\n",
       "\n",
       "Notes: \\newline\n",
       " [1] Standard Errors assume that the covariance matrix of the errors is correctly specified. \\newline\n",
       " [2] The condition number is large, 1.52e+03. This might indicate that there are \\newline\n",
       " strong multicollinearity or other numerical problems."
      ],
      "text/plain": [
       "<class 'statsmodels.iolib.summary.Summary'>\n",
       "\"\"\"\n",
       "                            OLS Regression Results                            \n",
       "==============================================================================\n",
       "Dep. Variable:           np.log(wage)   R-squared:                       0.193\n",
       "Model:                            OLS   Adj. R-squared:                  0.188\n",
       "Method:                 Least Squares   F-statistic:                     44.37\n",
       "Date:                Wed, 26 Mar 2025   Prob (F-statistic):           4.06e-41\n",
       "Time:                        01:32:51   Log-Likelihood:                -417.51\n",
       "No. Observations:                 935   AIC:                             847.0\n",
       "Df Residuals:                     929   BIC:                             876.1\n",
       "Df Model:                           5                                         \n",
       "Covariance Type:            nonrobust                                         \n",
       "===================================================================================\n",
       "                      coef    std err          t      P>|t|      [0.025      0.975]\n",
       "-----------------------------------------------------------------------------------\n",
       "Intercept           9.5149      0.173     54.963      0.000       9.175       9.855\n",
       "C(black)[T.1]      -0.1451      0.040     -3.592      0.000      -0.224      -0.066\n",
       "C(married)[T.1]     0.1942      0.041      4.792      0.000       0.115       0.274\n",
       "IQ                  0.0047      0.001      4.563      0.000       0.003       0.007\n",
       "educ                0.0412      0.007      6.236      0.000       0.028       0.054\n",
       "age                 0.0207      0.004      5.130      0.000       0.013       0.029\n",
       "==============================================================================\n",
       "Omnibus:                       39.678   Durbin-Watson:                   1.803\n",
       "Prob(Omnibus):                  0.000   Jarque-Bera (JB):               60.349\n",
       "Skew:                          -0.363   Prob(JB):                     7.86e-14\n",
       "Kurtosis:                       4.011   Cond. No.                     1.52e+03\n",
       "==============================================================================\n",
       "\n",
       "Notes:\n",
       "[1] Standard Errors assume that the covariance matrix of the errors is correctly specified.\n",
       "[2] The condition number is large, 1.52e+03. This might indicate that there are\n",
       "strong multicollinearity or other numerical problems.\n",
       "\"\"\""
      ]
     },
     "execution_count": 30,
     "metadata": {},
     "output_type": "execute_result"
    }
   ],
   "source": [
    "reg2 = smf.ols(formula= \"np.log(wage) ~ IQ + educ + age + C(black) + C(married)\", data=df).fit()\n",
    "reg2.summary()"
   ]
  },
  {
   "cell_type": "markdown",
   "metadata": {
    "id": "Nrxslq4zn-w9"
   },
   "source": [
    "#### Adding quadratic terms:"
   ]
  },
  {
   "cell_type": "code",
   "execution_count": 31,
   "metadata": {
    "colab": {
     "base_uri": "https://localhost:8080/",
     "height": 500
    },
    "executionInfo": {
     "elapsed": 896,
     "status": "ok",
     "timestamp": 1694028882770,
     "user": {
      "displayName": "Pedram Jahangiry",
      "userId": "17912812838437468468"
     },
     "user_tz": 360
    },
    "id": "LAH-Z0zrn-w9",
    "outputId": "c7298306-0ddf-4acb-a94f-6d5802af4273"
   },
   "outputs": [
    {
     "data": {
      "image/png": "[encoded data removed]",
      "text/plain": [
       "<Figure size 500x500 with 1 Axes>"
      ]
     },
     "metadata": {},
     "output_type": "display_data"
    }
   ],
   "source": [
    "# motivation:\n",
    "sns.lmplot(data=df, x='educ', y='wage')\n",
    "plt.show()"
   ]
  },
  {
   "cell_type": "code",
   "execution_count": 32,
   "metadata": {
    "colab": {
     "base_uri": "https://localhost:8080/",
     "height": 593
    },
    "executionInfo": {
     "elapsed": 131,
     "status": "ok",
     "timestamp": 1694029076548,
     "user": {
      "displayName": "Pedram Jahangiry",
      "userId": "17912812838437468468"
     },
     "user_tz": 360
    },
    "id": "g6pRYv61n-w9",
    "outputId": "d96dfbe0-ff2c-4f6b-a0a5-642a25871228"
   },
   "outputs": [
    {
     "data": {
      "text/html": [
       "<table class=\"simpletable\">\n",
       "<caption>OLS Regression Results</caption>\n",
       "<tr>\n",
       "  <th>Dep. Variable:</th>          <td>wage</td>       <th>  R-squared:         </th> <td>   0.189</td> \n",
       "</tr>\n",
       "<tr>\n",
       "  <th>Model:</th>                   <td>OLS</td>       <th>  Adj. R-squared:    </th> <td>   0.183</td> \n",
       "</tr>\n",
       "<tr>\n",
       "  <th>Method:</th>             <td>Least Squares</td>  <th>  F-statistic:       </th> <td>   35.94</td> \n",
       "</tr>\n",
       "<tr>\n",
       "  <th>Date:</th>             <td>Wed, 26 Mar 2025</td> <th>  Prob (F-statistic):</th> <td>3.06e-39</td> \n",
       "</tr>\n",
       "<tr>\n",
       "  <th>Time:</th>                 <td>01:32:51</td>     <th>  Log-Likelihood:    </th> <td> -11147.</td> \n",
       "</tr>\n",
       "<tr>\n",
       "  <th>No. Observations:</th>      <td>   935</td>      <th>  AIC:               </th> <td>2.231e+04</td>\n",
       "</tr>\n",
       "<tr>\n",
       "  <th>Df Residuals:</th>          <td>   928</td>      <th>  BIC:               </th> <td>2.234e+04</td>\n",
       "</tr>\n",
       "<tr>\n",
       "  <th>Df Model:</th>              <td>     6</td>      <th>                     </th>     <td> </td>    \n",
       "</tr>\n",
       "<tr>\n",
       "  <th>Covariance Type:</th>      <td>nonrobust</td>    <th>                     </th>     <td> </td>    \n",
       "</tr>\n",
       "</table>\n",
       "<table class=\"simpletable\">\n",
       "<tr>\n",
       "         <td></td>            <th>coef</th>     <th>std err</th>      <th>t</th>      <th>P>|t|</th>  <th>[0.025</th>    <th>0.975]</th>  \n",
       "</tr>\n",
       "<tr>\n",
       "  <th>Intercept</th>       <td>-1.242e+05</td> <td> 5.46e+04</td> <td>   -2.276</td> <td> 0.023</td> <td>-2.31e+05</td> <td>-1.71e+04</td>\n",
       "</tr>\n",
       "<tr>\n",
       "  <th>C(black)[T.1]</th>   <td>-1.139e+04</td> <td> 3890.603</td> <td>   -2.928</td> <td> 0.003</td> <td> -1.9e+04</td> <td>-3757.230</td>\n",
       "</tr>\n",
       "<tr>\n",
       "  <th>C(married)[T.1]</th> <td> 1.723e+04</td> <td> 3903.023</td> <td>    4.415</td> <td> 0.000</td> <td> 9571.951</td> <td> 2.49e+04</td>\n",
       "</tr>\n",
       "<tr>\n",
       "  <th>IQ</th>              <td>  416.7047</td> <td>   99.710</td> <td>    4.179</td> <td> 0.000</td> <td>  221.021</td> <td>  612.389</td>\n",
       "</tr>\n",
       "<tr>\n",
       "  <th>age</th>             <td> 1997.1617</td> <td>  395.119</td> <td>    5.055</td> <td> 0.000</td> <td> 1221.731</td> <td> 2772.592</td>\n",
       "</tr>\n",
       "<tr>\n",
       "  <th>educ</th>            <td> 1.001e+04</td> <td> 7363.088</td> <td>    1.359</td> <td> 0.174</td> <td>-4442.745</td> <td> 2.45e+04</td>\n",
       "</tr>\n",
       "<tr>\n",
       "  <th>I(educ ** 2)</th>    <td> -198.7737</td> <td>  259.316</td> <td>   -0.767</td> <td> 0.444</td> <td> -707.688</td> <td>  310.141</td>\n",
       "</tr>\n",
       "</table>\n",
       "<table class=\"simpletable\">\n",
       "<tr>\n",
       "  <th>Omnibus:</th>       <td>210.540</td> <th>  Durbin-Watson:     </th> <td>   1.831</td> \n",
       "</tr>\n",
       "<tr>\n",
       "  <th>Prob(Omnibus):</th> <td> 0.000</td>  <th>  Jarque-Bera (JB):  </th> <td> 607.856</td> \n",
       "</tr>\n",
       "<tr>\n",
       "  <th>Skew:</th>          <td> 1.122</td>  <th>  Prob(JB):          </th> <td>1.01e-132</td>\n",
       "</tr>\n",
       "<tr>\n",
       "  <th>Kurtosis:</th>      <td> 6.251</td>  <th>  Cond. No.          </th> <td>1.02e+04</td> \n",
       "</tr>\n",
       "</table><br/><br/>Notes:<br/>[1] Standard Errors assume that the covariance matrix of the errors is correctly specified.<br/>[2] The condition number is large, 1.02e+04. This might indicate that there are<br/>strong multicollinearity or other numerical problems."
      ],
      "text/latex": [
       "\\begin{center}\n",
       "\\begin{tabular}{lclc}\n",
       "\\toprule\n",
       "\\textbf{Dep. Variable:}    &       wage       & \\textbf{  R-squared:         } &     0.189   \\\\\n",
       "\\textbf{Model:}            &       OLS        & \\textbf{  Adj. R-squared:    } &     0.183   \\\\\n",
       "\\textbf{Method:}           &  Least Squares   & \\textbf{  F-statistic:       } &     35.94   \\\\\n",
       "\\textbf{Date:}             & Wed, 26 Mar 2025 & \\textbf{  Prob (F-statistic):} &  3.06e-39   \\\\\n",
       "\\textbf{Time:}             &     01:32:51     & \\textbf{  Log-Likelihood:    } &   -11147.   \\\\\n",
       "\\textbf{No. Observations:} &         935      & \\textbf{  AIC:               } & 2.231e+04   \\\\\n",
       "\\textbf{Df Residuals:}     &         928      & \\textbf{  BIC:               } & 2.234e+04   \\\\\n",
       "\\textbf{Df Model:}         &           6      & \\textbf{                     } &             \\\\\n",
       "\\textbf{Covariance Type:}  &    nonrobust     & \\textbf{                     } &             \\\\\n",
       "\\bottomrule\n",
       "\\end{tabular}\n",
       "\\begin{tabular}{lcccccc}\n",
       "                         & \\textbf{coef} & \\textbf{std err} & \\textbf{t} & \\textbf{P$> |$t$|$} & \\textbf{[0.025} & \\textbf{0.975]}  \\\\\n",
       "\\midrule\n",
       "\\textbf{Intercept}       &   -1.242e+05  &     5.46e+04     &    -2.276  &         0.023        &    -2.31e+05    &    -1.71e+04     \\\\\n",
       "\\textbf{C(black)[T.1]}   &   -1.139e+04  &     3890.603     &    -2.928  &         0.003        &     -1.9e+04    &    -3757.230     \\\\\n",
       "\\textbf{C(married)[T.1]} &    1.723e+04  &     3903.023     &     4.415  &         0.000        &     9571.951    &     2.49e+04     \\\\\n",
       "\\textbf{IQ}              &     416.7047  &       99.710     &     4.179  &         0.000        &      221.021    &      612.389     \\\\\n",
       "\\textbf{age}             &    1997.1617  &      395.119     &     5.055  &         0.000        &     1221.731    &     2772.592     \\\\\n",
       "\\textbf{educ}            &    1.001e+04  &     7363.088     &     1.359  &         0.174        &    -4442.745    &     2.45e+04     \\\\\n",
       "\\textbf{I(educ ** 2)}    &    -198.7737  &      259.316     &    -0.767  &         0.444        &     -707.688    &      310.141     \\\\\n",
       "\\bottomrule\n",
       "\\end{tabular}\n",
       "\\begin{tabular}{lclc}\n",
       "\\textbf{Omnibus:}       & 210.540 & \\textbf{  Durbin-Watson:     } &     1.831  \\\\\n",
       "\\textbf{Prob(Omnibus):} &   0.000 & \\textbf{  Jarque-Bera (JB):  } &   607.856  \\\\\n",
       "\\textbf{Skew:}          &   1.122 & \\textbf{  Prob(JB):          } & 1.01e-132  \\\\\n",
       "\\textbf{Kurtosis:}      &   6.251 & \\textbf{  Cond. No.          } &  1.02e+04  \\\\\n",
       "\\bottomrule\n",
       "\\end{tabular}\n",
       "%\\caption{OLS Regression Results}\n",
       "\\end{center}\n",
       "\n",
       "Notes: \\newline\n",
       " [1] Standard Errors assume that the covariance matrix of the errors is correctly specified. \\newline\n",
       " [2] The condition number is large, 1.02e+04. This might indicate that there are \\newline\n",
       " strong multicollinearity or other numerical problems."
      ],
      "text/plain": [
       "<class 'statsmodels.iolib.summary.Summary'>\n",
       "\"\"\"\n",
       "                            OLS Regression Results                            \n",
       "==============================================================================\n",
       "Dep. Variable:                   wage   R-squared:                       0.189\n",
       "Model:                            OLS   Adj. R-squared:                  0.183\n",
       "Method:                 Least Squares   F-statistic:                     35.94\n",
       "Date:                Wed, 26 Mar 2025   Prob (F-statistic):           3.06e-39\n",
       "Time:                        01:32:51   Log-Likelihood:                -11147.\n",
       "No. Observations:                 935   AIC:                         2.231e+04\n",
       "Df Residuals:                     928   BIC:                         2.234e+04\n",
       "Df Model:                           6                                         \n",
       "Covariance Type:            nonrobust                                         \n",
       "===================================================================================\n",
       "                      coef    std err          t      P>|t|      [0.025      0.975]\n",
       "-----------------------------------------------------------------------------------\n",
       "Intercept       -1.242e+05   5.46e+04     -2.276      0.023   -2.31e+05   -1.71e+04\n",
       "C(black)[T.1]   -1.139e+04   3890.603     -2.928      0.003    -1.9e+04   -3757.230\n",
       "C(married)[T.1]  1.723e+04   3903.023      4.415      0.000    9571.951    2.49e+04\n",
       "IQ                416.7047     99.710      4.179      0.000     221.021     612.389\n",
       "age              1997.1617    395.119      5.055      0.000    1221.731    2772.592\n",
       "educ             1.001e+04   7363.088      1.359      0.174   -4442.745    2.45e+04\n",
       "I(educ ** 2)     -198.7737    259.316     -0.767      0.444    -707.688     310.141\n",
       "==============================================================================\n",
       "Omnibus:                      210.540   Durbin-Watson:                   1.831\n",
       "Prob(Omnibus):                  0.000   Jarque-Bera (JB):              607.856\n",
       "Skew:                           1.122   Prob(JB):                    1.01e-132\n",
       "Kurtosis:                       6.251   Cond. No.                     1.02e+04\n",
       "==============================================================================\n",
       "\n",
       "Notes:\n",
       "[1] Standard Errors assume that the covariance matrix of the errors is correctly specified.\n",
       "[2] The condition number is large, 1.02e+04. This might indicate that there are\n",
       "strong multicollinearity or other numerical problems.\n",
       "\"\"\""
      ]
     },
     "execution_count": 32,
     "metadata": {},
     "output_type": "execute_result"
    }
   ],
   "source": [
    "reg3 = smf.ols(formula= \"wage ~ IQ + age + educ +   I(educ**2)+ C(black) + C(married)\", data=df).fit()\n",
    "reg3.summary()"
   ]
  },
  {
   "cell_type": "markdown",
   "metadata": {
    "id": "-Ow7tqE8n-w9"
   },
   "source": [
    "#### Adding Interaction terms:"
   ]
  },
  {
   "cell_type": "code",
   "execution_count": 33,
   "metadata": {
    "colab": {
     "base_uri": "https://localhost:8080/",
     "height": 500
    },
    "executionInfo": {
     "elapsed": 1277,
     "status": "ok",
     "timestamp": 1694028915840,
     "user": {
      "displayName": "Pedram Jahangiry",
      "userId": "17912812838437468468"
     },
     "user_tz": 360
    },
    "id": "CI3krqi7n-w9",
    "outputId": "0554cd7a-980e-48bc-b70d-a5574871cc8b"
   },
   "outputs": [
    {
     "data": {
      "image/png": "[encoded data removed]",
      "text/plain": [
       "<Figure size 563.5x500 with 1 Axes>"
      ]
     },
     "metadata": {},
     "output_type": "display_data"
    }
   ],
   "source": [
    "# motivation:\n",
    "sns.lmplot(data=df, x='educ', y='wage', hue='black')\n",
    "plt.show()"
   ]
  },
  {
   "cell_type": "code",
   "execution_count": 34,
   "metadata": {
    "colab": {
     "base_uri": "https://localhost:8080/",
     "height": 572
    },
    "executionInfo": {
     "elapsed": 351,
     "status": "ok",
     "timestamp": 1694028994421,
     "user": {
      "displayName": "Pedram Jahangiry",
      "userId": "17912812838437468468"
     },
     "user_tz": 360
    },
    "id": "OhUgO8dWn-w9",
    "outputId": "ec9fc4d3-b20d-4f89-9e98-52ba6d26161a"
   },
   "outputs": [
    {
     "data": {
      "text/html": [
       "<table class=\"simpletable\">\n",
       "<caption>OLS Regression Results</caption>\n",
       "<tr>\n",
       "  <th>Dep. Variable:</th>          <td>lwage</td>      <th>  R-squared:         </th> <td>   0.172</td>\n",
       "</tr>\n",
       "<tr>\n",
       "  <th>Model:</th>                   <td>OLS</td>       <th>  Adj. R-squared:    </th> <td>   0.168</td>\n",
       "</tr>\n",
       "<tr>\n",
       "  <th>Method:</th>             <td>Least Squares</td>  <th>  F-statistic:       </th> <td>   38.63</td>\n",
       "</tr>\n",
       "<tr>\n",
       "  <th>Date:</th>             <td>Wed, 26 Mar 2025</td> <th>  Prob (F-statistic):</th> <td>4.32e-36</td>\n",
       "</tr>\n",
       "<tr>\n",
       "  <th>Time:</th>                 <td>01:32:52</td>     <th>  Log-Likelihood:    </th> <td> -429.33</td>\n",
       "</tr>\n",
       "<tr>\n",
       "  <th>No. Observations:</th>      <td>   935</td>      <th>  AIC:               </th> <td>   870.7</td>\n",
       "</tr>\n",
       "<tr>\n",
       "  <th>Df Residuals:</th>          <td>   929</td>      <th>  BIC:               </th> <td>   899.7</td>\n",
       "</tr>\n",
       "<tr>\n",
       "  <th>Df Model:</th>              <td>     5</td>      <th>                     </th>     <td> </td>   \n",
       "</tr>\n",
       "<tr>\n",
       "  <th>Covariance Type:</th>      <td>nonrobust</td>    <th>                     </th>     <td> </td>   \n",
       "</tr>\n",
       "</table>\n",
       "<table class=\"simpletable\">\n",
       "<tr>\n",
       "              <td></td>                 <th>coef</th>     <th>std err</th>      <th>t</th>      <th>P>|t|</th>  <th>[0.025</th>    <th>0.975]</th>  \n",
       "</tr>\n",
       "<tr>\n",
       "  <th>Intercept</th>                 <td>   10.1673</td> <td>    0.113</td> <td>   89.946</td> <td> 0.000</td> <td>    9.945</td> <td>   10.389</td>\n",
       "</tr>\n",
       "<tr>\n",
       "  <th>C(black)[T.1]</th>             <td>    0.2607</td> <td>    0.268</td> <td>    0.971</td> <td> 0.332</td> <td>   -0.266</td> <td>    0.787</td>\n",
       "</tr>\n",
       "<tr>\n",
       "  <th>C(married)[T.1]</th>           <td>    0.2149</td> <td>    0.041</td> <td>    5.264</td> <td> 0.000</td> <td>    0.135</td> <td>    0.295</td>\n",
       "</tr>\n",
       "<tr>\n",
       "  <th>IQ</th>                        <td>    0.0044</td> <td>    0.001</td> <td>    4.210</td> <td> 0.000</td> <td>    0.002</td> <td>    0.006</td>\n",
       "</tr>\n",
       "<tr>\n",
       "  <th>educ</th>                      <td>    0.0446</td> <td>    0.007</td> <td>    6.453</td> <td> 0.000</td> <td>    0.031</td> <td>    0.058</td>\n",
       "</tr>\n",
       "<tr>\n",
       "  <th>I(educ * np.array(black))</th> <td>   -0.0332</td> <td>    0.021</td> <td>   -1.570</td> <td> 0.117</td> <td>   -0.075</td> <td>    0.008</td>\n",
       "</tr>\n",
       "</table>\n",
       "<table class=\"simpletable\">\n",
       "<tr>\n",
       "  <th>Omnibus:</th>       <td>43.160</td> <th>  Durbin-Watson:     </th> <td>   1.779</td>\n",
       "</tr>\n",
       "<tr>\n",
       "  <th>Prob(Omnibus):</th> <td> 0.000</td> <th>  Jarque-Bera (JB):  </th> <td>  65.294</td>\n",
       "</tr>\n",
       "<tr>\n",
       "  <th>Skew:</th>          <td>-0.390</td> <th>  Prob(JB):          </th> <td>6.63e-15</td>\n",
       "</tr>\n",
       "<tr>\n",
       "  <th>Kurtosis:</th>      <td> 4.033</td> <th>  Cond. No.          </th> <td>2.23e+03</td>\n",
       "</tr>\n",
       "</table><br/><br/>Notes:<br/>[1] Standard Errors assume that the covariance matrix of the errors is correctly specified.<br/>[2] The condition number is large, 2.23e+03. This might indicate that there are<br/>strong multicollinearity or other numerical problems."
      ],
      "text/latex": [
       "\\begin{center}\n",
       "\\begin{tabular}{lclc}\n",
       "\\toprule\n",
       "\\textbf{Dep. Variable:}            &      lwage       & \\textbf{  R-squared:         } &     0.172   \\\\\n",
       "\\textbf{Model:}                    &       OLS        & \\textbf{  Adj. R-squared:    } &     0.168   \\\\\n",
       "\\textbf{Method:}                   &  Least Squares   & \\textbf{  F-statistic:       } &     38.63   \\\\\n",
       "\\textbf{Date:}                     & Wed, 26 Mar 2025 & \\textbf{  Prob (F-statistic):} &  4.32e-36   \\\\\n",
       "\\textbf{Time:}                     &     01:32:52     & \\textbf{  Log-Likelihood:    } &   -429.33   \\\\\n",
       "\\textbf{No. Observations:}         &         935      & \\textbf{  AIC:               } &     870.7   \\\\\n",
       "\\textbf{Df Residuals:}             &         929      & \\textbf{  BIC:               } &     899.7   \\\\\n",
       "\\textbf{Df Model:}                 &           5      & \\textbf{                     } &             \\\\\n",
       "\\textbf{Covariance Type:}          &    nonrobust     & \\textbf{                     } &             \\\\\n",
       "\\bottomrule\n",
       "\\end{tabular}\n",
       "\\begin{tabular}{lcccccc}\n",
       "                                   & \\textbf{coef} & \\textbf{std err} & \\textbf{t} & \\textbf{P$> |$t$|$} & \\textbf{[0.025} & \\textbf{0.975]}  \\\\\n",
       "\\midrule\n",
       "\\textbf{Intercept}                 &      10.1673  &        0.113     &    89.946  &         0.000        &        9.945    &       10.389     \\\\\n",
       "\\textbf{C(black)[T.1]}             &       0.2607  &        0.268     &     0.971  &         0.332        &       -0.266    &        0.787     \\\\\n",
       "\\textbf{C(married)[T.1]}           &       0.2149  &        0.041     &     5.264  &         0.000        &        0.135    &        0.295     \\\\\n",
       "\\textbf{IQ}                        &       0.0044  &        0.001     &     4.210  &         0.000        &        0.002    &        0.006     \\\\\n",
       "\\textbf{educ}                      &       0.0446  &        0.007     &     6.453  &         0.000        &        0.031    &        0.058     \\\\\n",
       "\\textbf{I(educ * np.array(black))} &      -0.0332  &        0.021     &    -1.570  &         0.117        &       -0.075    &        0.008     \\\\\n",
       "\\bottomrule\n",
       "\\end{tabular}\n",
       "\\begin{tabular}{lclc}\n",
       "\\textbf{Omnibus:}       & 43.160 & \\textbf{  Durbin-Watson:     } &    1.779  \\\\\n",
       "\\textbf{Prob(Omnibus):} &  0.000 & \\textbf{  Jarque-Bera (JB):  } &   65.294  \\\\\n",
       "\\textbf{Skew:}          & -0.390 & \\textbf{  Prob(JB):          } & 6.63e-15  \\\\\n",
       "\\textbf{Kurtosis:}      &  4.033 & \\textbf{  Cond. No.          } & 2.23e+03  \\\\\n",
       "\\bottomrule\n",
       "\\end{tabular}\n",
       "%\\caption{OLS Regression Results}\n",
       "\\end{center}\n",
       "\n",
       "Notes: \\newline\n",
       " [1] Standard Errors assume that the covariance matrix of the errors is correctly specified. \\newline\n",
       " [2] The condition number is large, 2.23e+03. This might indicate that there are \\newline\n",
       " strong multicollinearity or other numerical problems."
      ],
      "text/plain": [
       "<class 'statsmodels.iolib.summary.Summary'>\n",
       "\"\"\"\n",
       "                            OLS Regression Results                            \n",
       "==============================================================================\n",
       "Dep. Variable:                  lwage   R-squared:                       0.172\n",
       "Model:                            OLS   Adj. R-squared:                  0.168\n",
       "Method:                 Least Squares   F-statistic:                     38.63\n",
       "Date:                Wed, 26 Mar 2025   Prob (F-statistic):           4.32e-36\n",
       "Time:                        01:32:52   Log-Likelihood:                -429.33\n",
       "No. Observations:                 935   AIC:                             870.7\n",
       "Df Residuals:                     929   BIC:                             899.7\n",
       "Df Model:                           5                                         \n",
       "Covariance Type:            nonrobust                                         \n",
       "=============================================================================================\n",
       "                                coef    std err          t      P>|t|      [0.025      0.975]\n",
       "---------------------------------------------------------------------------------------------\n",
       "Intercept                    10.1673      0.113     89.946      0.000       9.945      10.389\n",
       "C(black)[T.1]                 0.2607      0.268      0.971      0.332      -0.266       0.787\n",
       "C(married)[T.1]               0.2149      0.041      5.264      0.000       0.135       0.295\n",
       "IQ                            0.0044      0.001      4.210      0.000       0.002       0.006\n",
       "educ                          0.0446      0.007      6.453      0.000       0.031       0.058\n",
       "I(educ * np.array(black))    -0.0332      0.021     -1.570      0.117      -0.075       0.008\n",
       "==============================================================================\n",
       "Omnibus:                       43.160   Durbin-Watson:                   1.779\n",
       "Prob(Omnibus):                  0.000   Jarque-Bera (JB):               65.294\n",
       "Skew:                          -0.390   Prob(JB):                     6.63e-15\n",
       "Kurtosis:                       4.033   Cond. No.                     2.23e+03\n",
       "==============================================================================\n",
       "\n",
       "Notes:\n",
       "[1] Standard Errors assume that the covariance matrix of the errors is correctly specified.\n",
       "[2] The condition number is large, 2.23e+03. This might indicate that there are\n",
       "strong multicollinearity or other numerical problems.\n",
       "\"\"\""
      ]
     },
     "execution_count": 34,
     "metadata": {},
     "output_type": "execute_result"
    }
   ],
   "source": [
    "reg4 = smf.ols(formula= \"lwage ~ IQ + educ + I(educ*np.array(black))+ C(black) + C(married)\", data=df).fit()\n",
    "reg4.summary()"
   ]
  },
  {
   "cell_type": "markdown",
   "metadata": {
    "id": "K_IMsOOvn-w-"
   },
   "source": [
    "It's worth noting that the process we're going throuhg is referred to as **feature engineering**. As you may have noticed, feature engineering is more of an art than a science and requires a combination of domain knowledge and expert opinion.\n",
    "\n",
    "* Let's say we are satisfied with the results of reg2 and reg3. We can now take a look into other performance metrics for this model."
   ]
  },
  {
   "cell_type": "markdown",
   "metadata": {
    "id": "i0KF8iXSn-w-"
   },
   "source": [
    "### Model evaluation with Statsmodels api\n",
    "\n",
    "Now let's look into some of the most common evaluation metrics for regression analysis. https://www.statsmodels.org/dev/tools.html"
   ]
  },
  {
   "cell_type": "code",
   "execution_count": 35,
   "metadata": {
    "executionInfo": {
     "elapsed": 129,
     "status": "ok",
     "timestamp": 1694029059942,
     "user": {
      "displayName": "Pedram Jahangiry",
      "userId": "17912812838437468468"
     },
     "user_tz": 360
    },
    "id": "0SucCQG8n-w-"
   },
   "outputs": [],
   "source": [
    "from statsmodels.tools import eval_measures"
   ]
  },
  {
   "cell_type": "code",
   "execution_count": 36,
   "metadata": {
    "colab": {
     "base_uri": "https://localhost:8080/"
    },
    "executionInfo": {
     "elapsed": 148,
     "status": "ok",
     "timestamp": 1694029079912,
     "user": {
      "displayName": "Pedram Jahangiry",
      "userId": "17912812838437468468"
     },
     "user_tz": 360
    },
    "id": "9a-j40TUn-w-",
    "outputId": "bff29dba-f5da-42d8-a0f6-4260820048ef"
   },
   "outputs": [
    {
     "data": {
      "text/plain": [
       "array([ 85190.43376449, 132273.39981133, 105114.07514569,  88437.70956904,\n",
       "        77828.83485424, 109137.96350235,  53859.20049828, 132187.0380582 ,\n",
       "       116598.72703878,  96009.65175602])"
      ]
     },
     "execution_count": 36,
     "metadata": {},
     "output_type": "execute_result"
    }
   ],
   "source": [
    "# predicted valued for log wage\n",
    "predictions = reg3.predict()\n",
    "predictions[0:10]"
   ]
  },
  {
   "cell_type": "code",
   "execution_count": 37,
   "metadata": {
    "colab": {
     "base_uri": "https://localhost:8080/"
    },
    "executionInfo": {
     "elapsed": 158,
     "status": "ok",
     "timestamp": 1694029088699,
     "user": {
      "displayName": "Pedram Jahangiry",
      "userId": "17912812838437468468"
     },
     "user_tz": 360
    },
    "id": "XKyDD3Irn-w-",
    "outputId": "43a1a208-6609-4e2e-b5ca-dc07389e70a3"
   },
   "outputs": [
    {
     "data": {
      "text/plain": [
       "array([ 76900.,  80800.,  82500.,  65000.,  56200., 140000.,  60000.,\n",
       "       108100., 115400., 100000.])"
      ]
     },
     "execution_count": 37,
     "metadata": {},
     "output_type": "execute_result"
    }
   ],
   "source": [
    "# actual values for log wage\n",
    "actuals = df.wage\n",
    "np.array(actuals[0:10])"
   ]
  },
  {
   "cell_type": "code",
   "execution_count": 38,
   "metadata": {
    "colab": {
     "base_uri": "https://localhost:8080/"
    },
    "executionInfo": {
     "elapsed": 148,
     "status": "ok",
     "timestamp": 1694029093129,
     "user": {
      "displayName": "Pedram Jahangiry",
      "userId": "17912812838437468468"
     },
     "user_tz": 360
    },
    "id": "KZn9rJt9n-w-",
    "outputId": "cb55316d-87f0-4500-8b85-8ab1043297ad"
   },
   "outputs": [
    {
     "data": {
      "text/plain": [
       "array([ -8290.43376449, -51473.39981133, -22614.07514569, -23437.70956904,\n",
       "       -21628.83485424,  30862.03649765,   6140.79950172, -24087.0380582 ,\n",
       "        -1198.72703878,   3990.34824398])"
      ]
     },
     "execution_count": 38,
     "metadata": {},
     "output_type": "execute_result"
    }
   ],
   "source": [
    "np.array(reg3.resid[0:10])"
   ]
  },
  {
   "cell_type": "markdown",
   "metadata": {
    "id": "_OCga0_in-w_"
   },
   "source": [
    "Mean Absolute Error: MAE"
   ]
  },
  {
   "cell_type": "code",
   "execution_count": 39,
   "metadata": {
    "colab": {
     "base_uri": "https://localhost:8080/"
    },
    "executionInfo": {
     "elapsed": 140,
     "status": "ok",
     "timestamp": 1694029100420,
     "user": {
      "displayName": "Pedram Jahangiry",
      "userId": "17912812838437468468"
     },
     "user_tz": 360
    },
    "id": "4cQa5XX5n-w_",
    "outputId": "fadf37e7-f89a-4d47-c469-2174fc65d912"
   },
   "outputs": [
    {
     "data": {
      "text/plain": [
       "np.float64(27379.15933200739)"
      ]
     },
     "execution_count": 39,
     "metadata": {},
     "output_type": "execute_result"
    }
   ],
   "source": [
    "eval_measures.meanabs(actuals, predictions)"
   ]
  },
  {
   "cell_type": "markdown",
   "metadata": {
    "id": "_3y02nzQn-w_"
   },
   "source": [
    "Median Absolute Error:"
   ]
  },
  {
   "cell_type": "code",
   "execution_count": 40,
   "metadata": {
    "colab": {
     "base_uri": "https://localhost:8080/"
    },
    "executionInfo": {
     "elapsed": 147,
     "status": "ok",
     "timestamp": 1694029110418,
     "user": {
      "displayName": "Pedram Jahangiry",
      "userId": "17912812838437468468"
     },
     "user_tz": 360
    },
    "id": "g647upgmn-w_",
    "outputId": "64651536-e92e-41ef-b588-f933836cab68"
   },
   "outputs": [
    {
     "data": {
      "text/plain": [
       "np.float64(21173.87171753688)"
      ]
     },
     "execution_count": 40,
     "metadata": {},
     "output_type": "execute_result"
    }
   ],
   "source": [
    "eval_measures.medianabs(actuals, predictions)"
   ]
  },
  {
   "cell_type": "markdown",
   "metadata": {
    "id": "0igwk8YVn-w_"
   },
   "source": [
    "Mean Squared Error: MSE"
   ]
  },
  {
   "cell_type": "code",
   "execution_count": 41,
   "metadata": {
    "colab": {
     "base_uri": "https://localhost:8080/"
    },
    "executionInfo": {
     "elapsed": 131,
     "status": "ok",
     "timestamp": 1694029119922,
     "user": {
      "displayName": "Pedram Jahangiry",
      "userId": "17912812838437468468"
     },
     "user_tz": 360
    },
    "id": "R4rMZO54n-w_",
    "outputId": "c5bc9888-89f0-457d-cb9d-0b57cb3e5362"
   },
   "outputs": [
    {
     "data": {
      "text/plain": [
       "np.float64(1325327554.1599119)"
      ]
     },
     "execution_count": 41,
     "metadata": {},
     "output_type": "execute_result"
    }
   ],
   "source": [
    "eval_measures.mse(actuals, predictions)"
   ]
  },
  {
   "cell_type": "markdown",
   "metadata": {
    "id": "RyWoLE4Kn-w_"
   },
   "source": [
    "Root Mean Squared Error: RMSE"
   ]
  },
  {
   "cell_type": "code",
   "execution_count": 42,
   "metadata": {
    "colab": {
     "base_uri": "https://localhost:8080/"
    },
    "executionInfo": {
     "elapsed": 124,
     "status": "ok",
     "timestamp": 1694029121891,
     "user": {
      "displayName": "Pedram Jahangiry",
      "userId": "17912812838437468468"
     },
     "user_tz": 360
    },
    "id": "0DBrYv74n-w_",
    "outputId": "46db0455-7315-47d9-c3e4-7e5016505fba"
   },
   "outputs": [
    {
     "data": {
      "text/plain": [
       "np.float64(36405.048470780974)"
      ]
     },
     "execution_count": 42,
     "metadata": {},
     "output_type": "execute_result"
    }
   ],
   "source": [
    "eval_measures.rmse(actuals, predictions)"
   ]
  },
  {
   "cell_type": "markdown",
   "metadata": {
    "id": "yJAAt1zFn-xA"
   },
   "source": [
    "Root Mean Squared Percentage Error: RMSPE"
   ]
  },
  {
   "cell_type": "code",
   "execution_count": 45,
   "metadata": {
    "colab": {
     "base_uri": "https://localhost:8080/"
    },
    "executionInfo": {
     "elapsed": 130,
     "status": "ok",
     "timestamp": 1694029128524,
     "user": {
      "displayName": "Pedram Jahangiry",
      "userId": "17912812838437468468"
     },
     "user_tz": 360
    },
    "id": "PBJzjyBvn-xA",
    "outputId": "4574e341-5f3b-4442-b2a7-074f55aec5a0"
   },
   "outputs": [
    {
     "data": {
      "text/plain": [
       "np.float64(5.418190610726388)"
      ]
     },
     "execution_count": 45,
     "metadata": {},
     "output_type": "execute_result"
    }
   ],
   "source": [
    "eval_measures.rmspe(actuals, predictions)"
   ]
  },
  {
   "cell_type": "markdown",
   "metadata": {
    "id": "eZ2OBRsLn-xB"
   },
   "source": [
    "This means that your errors are 541% off! This doesn't seem right to me!!!! let us do it from scratch?"
   ]
  },
  {
   "cell_type": "code",
   "execution_count": 46,
   "metadata": {
    "colab": {
     "base_uri": "https://localhost:8080/"
    },
    "executionInfo": {
     "elapsed": 125,
     "status": "ok",
     "timestamp": 1694029132664,
     "user": {
      "displayName": "Pedram Jahangiry",
      "userId": "17912812838437468468"
     },
     "user_tz": 360
    },
    "id": "_v_PU7k0n-xB",
    "outputId": "4fb8873f-392f-4efb-ea9f-ab8981fab3f3"
   },
   "outputs": [
    {
     "data": {
      "text/plain": [
       "np.float64(0.5418190610726388)"
      ]
     },
     "execution_count": 46,
     "metadata": {},
     "output_type": "execute_result"
    }
   ],
   "source": [
    "np.sqrt(np.mean(((actuals-predictions)/actuals)**2))"
   ]
  },
  {
   "cell_type": "markdown",
   "metadata": {
    "id": "9HvEe9IBn-xB"
   },
   "source": [
    "So the errors are 54% off on average!"
   ]
  },
  {
   "cell_type": "markdown",
   "metadata": {
    "id": "P3CXemyUn-xB"
   },
   "source": [
    "I am missing something? Here is the source code in statsmodel: https://www.statsmodels.org/dev/_modules/statsmodels/tools/eval_measures.html#rmspe\n",
    "They are doing this:\n",
    "\n",
    "- mspe = np.nanmean(percentage_error ** 2, axis=axis) * 100\n",
    "- return np.sqrt(mspe)\n",
    "\n",
    "This is WRONG! we don't need that *100."
   ]
  },
  {
   "cell_type": "markdown",
   "metadata": {
    "id": "_2H1hIpHn-xB"
   },
   "source": [
    "---\n",
    "---\n",
    "### Using statsmodels.api\n",
    "\n",
    "We could use statsmodels.api, the **numpy array** version instead of the **formula** versin of stastmodels. Here is the documentation: https://www.statsmodels.org/stable/index.html\n",
    "I personally recommned you using the formula api if you want to do heavy econometrics. The formula version is much more flexible when it comes to feature engineering.\n"
   ]
  },
  {
   "cell_type": "code",
   "execution_count": 47,
   "metadata": {
    "executionInfo": {
     "elapsed": 979,
     "status": "ok",
     "timestamp": 1694029314443,
     "user": {
      "displayName": "Pedram Jahangiry",
      "userId": "17912812838437468468"
     },
     "user_tz": 360
    },
    "id": "Nl6fTPdsn-xB"
   },
   "outputs": [],
   "source": [
    "import statsmodels.api as sm"
   ]
  },
  {
   "cell_type": "code",
   "execution_count": 48,
   "metadata": {
    "colab": {
     "base_uri": "https://localhost:8080/",
     "height": 206
    },
    "executionInfo": {
     "elapsed": 144,
     "status": "ok",
     "timestamp": 1694029316000,
     "user": {
      "displayName": "Pedram Jahangiry",
      "userId": "17912812838437468468"
     },
     "user_tz": 360
    },
    "id": "n525zrftn-xB",
    "outputId": "e83818c5-ce52-4934-db7e-09f257f9d607"
   },
   "outputs": [
    {
     "data": {
      "application/vnd.microsoft.datawrangler.viewer.v0+json": {
       "columns": [
        {
         "name": "index",
         "rawType": "int64",
         "type": "integer"
        },
        {
         "name": "wage",
         "rawType": "float64",
         "type": "float"
        },
        {
         "name": "hours",
         "rawType": "float64",
         "type": "float"
        },
        {
         "name": "IQ",
         "rawType": "float64",
         "type": "float"
        },
        {
         "name": "educ",
         "rawType": "float64",
         "type": "float"
        },
        {
         "name": "exper",
         "rawType": "float64",
         "type": "float"
        },
        {
         "name": "tenure",
         "rawType": "float64",
         "type": "float"
        },
        {
         "name": "age",
         "rawType": "float64",
         "type": "float"
        },
        {
         "name": "married",
         "rawType": "category",
         "type": "unknown"
        },
        {
         "name": "black",
         "rawType": "category",
         "type": "unknown"
        },
        {
         "name": "meduc",
         "rawType": "float64",
         "type": "float"
        },
        {
         "name": "lwage",
         "rawType": "float64",
         "type": "float"
        }
       ],
       "conversionMethod": "pd.DataFrame",
       "ref": "2c00f12b-c4f8-4c05-9b78-b02f329d7230",
       "rows": [
        [
         "0",
         "76900.0",
         "40.0",
         "93.0",
         "12.0",
         "11.0",
         "2.0",
         "31.0",
         "1",
         "0",
         "8.0",
         "11.250261155493735"
        ],
        [
         "1",
         "80800.0",
         "50.0",
         "119.0",
         "18.0",
         "11.0",
         "16.0",
         "37.0",
         "1",
         "0",
         "14.0",
         "11.299732244509187"
        ],
        [
         "2",
         "82500.0",
         "40.0",
         "108.0",
         "14.0",
         "11.0",
         "9.0",
         "33.0",
         "1",
         "0",
         "14.0",
         "11.320553572322773"
        ],
        [
         "3",
         "65000.0",
         "40.0",
         "96.0",
         "12.0",
         "13.0",
         "7.0",
         "32.0",
         "1",
         "0",
         "12.0",
         "11.082142548877775"
        ],
        [
         "4",
         "56200.0",
         "40.0",
         "74.0",
         "11.0",
         "14.0",
         "5.0",
         "34.0",
         "1",
         "0",
         "6.0",
         "10.936672035881783"
        ]
       ],
       "shape": {
        "columns": 11,
        "rows": 5
       }
      },
      "text/html": [
       "<div>\n",
       "<style scoped>\n",
       "    .dataframe tbody tr th:only-of-type {\n",
       "        vertical-align: middle;\n",
       "    }\n",
       "\n",
       "    .dataframe tbody tr th {\n",
       "        vertical-align: top;\n",
       "    }\n",
       "\n",
       "    .dataframe thead th {\n",
       "        text-align: right;\n",
       "    }\n",
       "</style>\n",
       "<table border=\"1\" class=\"dataframe\">\n",
       "  <thead>\n",
       "    <tr style=\"text-align: right;\">\n",
       "      <th></th>\n",
       "      <th>wage</th>\n",
       "      <th>hours</th>\n",
       "      <th>IQ</th>\n",
       "      <th>educ</th>\n",
       "      <th>exper</th>\n",
       "      <th>tenure</th>\n",
       "      <th>age</th>\n",
       "      <th>married</th>\n",
       "      <th>black</th>\n",
       "      <th>meduc</th>\n",
       "      <th>lwage</th>\n",
       "    </tr>\n",
       "  </thead>\n",
       "  <tbody>\n",
       "    <tr>\n",
       "      <th>0</th>\n",
       "      <td>76900.0</td>\n",
       "      <td>40.0</td>\n",
       "      <td>93.0</td>\n",
       "      <td>12.0</td>\n",
       "      <td>11.0</td>\n",
       "      <td>2.0</td>\n",
       "      <td>31.0</td>\n",
       "      <td>1</td>\n",
       "      <td>0</td>\n",
       "      <td>8.0</td>\n",
       "      <td>11.250261</td>\n",
       "    </tr>\n",
       "    <tr>\n",
       "      <th>1</th>\n",
       "      <td>80800.0</td>\n",
       "      <td>50.0</td>\n",
       "      <td>119.0</td>\n",
       "      <td>18.0</td>\n",
       "      <td>11.0</td>\n",
       "      <td>16.0</td>\n",
       "      <td>37.0</td>\n",
       "      <td>1</td>\n",
       "      <td>0</td>\n",
       "      <td>14.0</td>\n",
       "      <td>11.299732</td>\n",
       "    </tr>\n",
       "    <tr>\n",
       "      <th>2</th>\n",
       "      <td>82500.0</td>\n",
       "      <td>40.0</td>\n",
       "      <td>108.0</td>\n",
       "      <td>14.0</td>\n",
       "      <td>11.0</td>\n",
       "      <td>9.0</td>\n",
       "      <td>33.0</td>\n",
       "      <td>1</td>\n",
       "      <td>0</td>\n",
       "      <td>14.0</td>\n",
       "      <td>11.320554</td>\n",
       "    </tr>\n",
       "    <tr>\n",
       "      <th>3</th>\n",
       "      <td>65000.0</td>\n",
       "      <td>40.0</td>\n",
       "      <td>96.0</td>\n",
       "      <td>12.0</td>\n",
       "      <td>13.0</td>\n",
       "      <td>7.0</td>\n",
       "      <td>32.0</td>\n",
       "      <td>1</td>\n",
       "      <td>0</td>\n",
       "      <td>12.0</td>\n",
       "      <td>11.082143</td>\n",
       "    </tr>\n",
       "    <tr>\n",
       "      <th>4</th>\n",
       "      <td>56200.0</td>\n",
       "      <td>40.0</td>\n",
       "      <td>74.0</td>\n",
       "      <td>11.0</td>\n",
       "      <td>14.0</td>\n",
       "      <td>5.0</td>\n",
       "      <td>34.0</td>\n",
       "      <td>1</td>\n",
       "      <td>0</td>\n",
       "      <td>6.0</td>\n",
       "      <td>10.936672</td>\n",
       "    </tr>\n",
       "  </tbody>\n",
       "</table>\n",
       "</div>"
      ],
      "text/plain": [
       "      wage  hours     IQ  educ  exper  tenure   age married black  meduc  \\\n",
       "0  76900.0   40.0   93.0  12.0   11.0     2.0  31.0       1     0    8.0   \n",
       "1  80800.0   50.0  119.0  18.0   11.0    16.0  37.0       1     0   14.0   \n",
       "2  82500.0   40.0  108.0  14.0   11.0     9.0  33.0       1     0   14.0   \n",
       "3  65000.0   40.0   96.0  12.0   13.0     7.0  32.0       1     0   12.0   \n",
       "4  56200.0   40.0   74.0  11.0   14.0     5.0  34.0       1     0    6.0   \n",
       "\n",
       "       lwage  \n",
       "0  11.250261  \n",
       "1  11.299732  \n",
       "2  11.320554  \n",
       "3  11.082143  \n",
       "4  10.936672  "
      ]
     },
     "execution_count": 48,
     "metadata": {},
     "output_type": "execute_result"
    }
   ],
   "source": [
    "df.head()"
   ]
  },
  {
   "cell_type": "code",
   "execution_count": 49,
   "metadata": {
    "colab": {
     "base_uri": "https://localhost:8080/",
     "height": 657
    },
    "executionInfo": {
     "elapsed": 136,
     "status": "ok",
     "timestamp": 1694029336276,
     "user": {
      "displayName": "Pedram Jahangiry",
      "userId": "17912812838437468468"
     },
     "user_tz": 360
    },
    "id": "Pkd-OHeYn-xC",
    "outputId": "c346ca0a-541c-4129-bb4a-4f4738209303"
   },
   "outputs": [
    {
     "data": {
      "text/html": [
       "<table class=\"simpletable\">\n",
       "<caption>OLS Regression Results</caption>\n",
       "<tr>\n",
       "  <th>Dep. Variable:</th>          <td>wage</td>       <th>  R-squared:         </th> <td>   0.207</td> \n",
       "</tr>\n",
       "<tr>\n",
       "  <th>Model:</th>                   <td>OLS</td>       <th>  Adj. R-squared:    </th> <td>   0.199</td> \n",
       "</tr>\n",
       "<tr>\n",
       "  <th>Method:</th>             <td>Least Squares</td>  <th>  F-statistic:       </th> <td>   26.76</td> \n",
       "</tr>\n",
       "<tr>\n",
       "  <th>Date:</th>             <td>Wed, 26 Mar 2025</td> <th>  Prob (F-statistic):</th> <td>2.58e-41</td> \n",
       "</tr>\n",
       "<tr>\n",
       "  <th>Time:</th>                 <td>01:33:21</td>     <th>  Log-Likelihood:    </th> <td> -11136.</td> \n",
       "</tr>\n",
       "<tr>\n",
       "  <th>No. Observations:</th>      <td>   935</td>      <th>  AIC:               </th> <td>2.229e+04</td>\n",
       "</tr>\n",
       "<tr>\n",
       "  <th>Df Residuals:</th>          <td>   925</td>      <th>  BIC:               </th> <td>2.234e+04</td>\n",
       "</tr>\n",
       "<tr>\n",
       "  <th>Df Model:</th>              <td>     9</td>      <th>                     </th>     <td> </td>    \n",
       "</tr>\n",
       "<tr>\n",
       "  <th>Covariance Type:</th>      <td>nonrobust</td>    <th>                     </th>     <td> </td>    \n",
       "</tr>\n",
       "</table>\n",
       "<table class=\"simpletable\">\n",
       "<tr>\n",
       "        <td></td>          <th>coef</th>     <th>std err</th>      <th>t</th>      <th>P>|t|</th>  <th>[0.025</th>    <th>0.975]</th>  \n",
       "</tr>\n",
       "<tr>\n",
       "  <th>Intercept</th>    <td>-7.241e+04</td> <td> 1.79e+04</td> <td>   -4.051</td> <td> 0.000</td> <td>-1.07e+05</td> <td>-3.73e+04</td>\n",
       "</tr>\n",
       "<tr>\n",
       "  <th>married[T.1]</th> <td> 1.685e+04</td> <td> 3873.155</td> <td>    4.349</td> <td> 0.000</td> <td> 9244.984</td> <td> 2.44e+04</td>\n",
       "</tr>\n",
       "<tr>\n",
       "  <th>black[T.1]</th>   <td>-1.099e+04</td> <td> 3886.857</td> <td>   -2.828</td> <td> 0.005</td> <td>-1.86e+04</td> <td>-3365.256</td>\n",
       "</tr>\n",
       "<tr>\n",
       "  <th>hours</th>        <td> -313.8567</td> <td>  166.081</td> <td>   -1.890</td> <td> 0.059</td> <td> -639.795</td> <td>   12.082</td>\n",
       "</tr>\n",
       "<tr>\n",
       "  <th>IQ</th>           <td>  373.8446</td> <td>   99.258</td> <td>    3.766</td> <td> 0.000</td> <td>  179.047</td> <td>  568.642</td>\n",
       "</tr>\n",
       "<tr>\n",
       "  <th>educ</th>         <td> 5152.0987</td> <td>  728.253</td> <td>    7.075</td> <td> 0.000</td> <td> 3722.879</td> <td> 6581.318</td>\n",
       "</tr>\n",
       "<tr>\n",
       "  <th>exper</th>        <td>  948.9550</td> <td>  368.184</td> <td>    2.577</td> <td> 0.010</td> <td>  226.382</td> <td> 1671.528</td>\n",
       "</tr>\n",
       "<tr>\n",
       "  <th>tenure</th>       <td>  529.4372</td> <td>  246.546</td> <td>    2.147</td> <td> 0.032</td> <td>   45.583</td> <td> 1013.291</td>\n",
       "</tr>\n",
       "<tr>\n",
       "  <th>age</th>          <td> 1074.9783</td> <td>  465.555</td> <td>    2.309</td> <td> 0.021</td> <td>  161.312</td> <td> 1988.645</td>\n",
       "</tr>\n",
       "<tr>\n",
       "  <th>meduc</th>        <td>  994.7300</td> <td>  463.031</td> <td>    2.148</td> <td> 0.032</td> <td>   86.017</td> <td> 1903.443</td>\n",
       "</tr>\n",
       "</table>\n",
       "<table class=\"simpletable\">\n",
       "<tr>\n",
       "  <th>Omnibus:</th>       <td>242.023</td> <th>  Durbin-Watson:     </th> <td>   1.800</td> \n",
       "</tr>\n",
       "<tr>\n",
       "  <th>Prob(Omnibus):</th> <td> 0.000</td>  <th>  Jarque-Bera (JB):  </th> <td> 798.759</td> \n",
       "</tr>\n",
       "<tr>\n",
       "  <th>Skew:</th>          <td> 1.238</td>  <th>  Prob(JB):          </th> <td>3.56e-174</td>\n",
       "</tr>\n",
       "<tr>\n",
       "  <th>Kurtosis:</th>      <td> 6.790</td>  <th>  Cond. No.          </th> <td>1.79e+03</td> \n",
       "</tr>\n",
       "</table><br/><br/>Notes:<br/>[1] Standard Errors assume that the covariance matrix of the errors is correctly specified.<br/>[2] The condition number is large, 1.79e+03. This might indicate that there are<br/>strong multicollinearity or other numerical problems."
      ],
      "text/latex": [
       "\\begin{center}\n",
       "\\begin{tabular}{lclc}\n",
       "\\toprule\n",
       "\\textbf{Dep. Variable:}    &       wage       & \\textbf{  R-squared:         } &     0.207   \\\\\n",
       "\\textbf{Model:}            &       OLS        & \\textbf{  Adj. R-squared:    } &     0.199   \\\\\n",
       "\\textbf{Method:}           &  Least Squares   & \\textbf{  F-statistic:       } &     26.76   \\\\\n",
       "\\textbf{Date:}             & Wed, 26 Mar 2025 & \\textbf{  Prob (F-statistic):} &  2.58e-41   \\\\\n",
       "\\textbf{Time:}             &     01:33:21     & \\textbf{  Log-Likelihood:    } &   -11136.   \\\\\n",
       "\\textbf{No. Observations:} &         935      & \\textbf{  AIC:               } & 2.229e+04   \\\\\n",
       "\\textbf{Df Residuals:}     &         925      & \\textbf{  BIC:               } & 2.234e+04   \\\\\n",
       "\\textbf{Df Model:}         &           9      & \\textbf{                     } &             \\\\\n",
       "\\textbf{Covariance Type:}  &    nonrobust     & \\textbf{                     } &             \\\\\n",
       "\\bottomrule\n",
       "\\end{tabular}\n",
       "\\begin{tabular}{lcccccc}\n",
       "                      & \\textbf{coef} & \\textbf{std err} & \\textbf{t} & \\textbf{P$> |$t$|$} & \\textbf{[0.025} & \\textbf{0.975]}  \\\\\n",
       "\\midrule\n",
       "\\textbf{Intercept}    &   -7.241e+04  &     1.79e+04     &    -4.051  &         0.000        &    -1.07e+05    &    -3.73e+04     \\\\\n",
       "\\textbf{married[T.1]} &    1.685e+04  &     3873.155     &     4.349  &         0.000        &     9244.984    &     2.44e+04     \\\\\n",
       "\\textbf{black[T.1]}   &   -1.099e+04  &     3886.857     &    -2.828  &         0.005        &    -1.86e+04    &    -3365.256     \\\\\n",
       "\\textbf{hours}        &    -313.8567  &      166.081     &    -1.890  &         0.059        &     -639.795    &       12.082     \\\\\n",
       "\\textbf{IQ}           &     373.8446  &       99.258     &     3.766  &         0.000        &      179.047    &      568.642     \\\\\n",
       "\\textbf{educ}         &    5152.0987  &      728.253     &     7.075  &         0.000        &     3722.879    &     6581.318     \\\\\n",
       "\\textbf{exper}        &     948.9550  &      368.184     &     2.577  &         0.010        &      226.382    &     1671.528     \\\\\n",
       "\\textbf{tenure}       &     529.4372  &      246.546     &     2.147  &         0.032        &       45.583    &     1013.291     \\\\\n",
       "\\textbf{age}          &    1074.9783  &      465.555     &     2.309  &         0.021        &      161.312    &     1988.645     \\\\\n",
       "\\textbf{meduc}        &     994.7300  &      463.031     &     2.148  &         0.032        &       86.017    &     1903.443     \\\\\n",
       "\\bottomrule\n",
       "\\end{tabular}\n",
       "\\begin{tabular}{lclc}\n",
       "\\textbf{Omnibus:}       & 242.023 & \\textbf{  Durbin-Watson:     } &     1.800  \\\\\n",
       "\\textbf{Prob(Omnibus):} &   0.000 & \\textbf{  Jarque-Bera (JB):  } &   798.759  \\\\\n",
       "\\textbf{Skew:}          &   1.238 & \\textbf{  Prob(JB):          } & 3.56e-174  \\\\\n",
       "\\textbf{Kurtosis:}      &   6.790 & \\textbf{  Cond. No.          } &  1.79e+03  \\\\\n",
       "\\bottomrule\n",
       "\\end{tabular}\n",
       "%\\caption{OLS Regression Results}\n",
       "\\end{center}\n",
       "\n",
       "Notes: \\newline\n",
       " [1] Standard Errors assume that the covariance matrix of the errors is correctly specified. \\newline\n",
       " [2] The condition number is large, 1.79e+03. This might indicate that there are \\newline\n",
       " strong multicollinearity or other numerical problems."
      ],
      "text/plain": [
       "<class 'statsmodels.iolib.summary.Summary'>\n",
       "\"\"\"\n",
       "                            OLS Regression Results                            \n",
       "==============================================================================\n",
       "Dep. Variable:                   wage   R-squared:                       0.207\n",
       "Model:                            OLS   Adj. R-squared:                  0.199\n",
       "Method:                 Least Squares   F-statistic:                     26.76\n",
       "Date:                Wed, 26 Mar 2025   Prob (F-statistic):           2.58e-41\n",
       "Time:                        01:33:21   Log-Likelihood:                -11136.\n",
       "No. Observations:                 935   AIC:                         2.229e+04\n",
       "Df Residuals:                     925   BIC:                         2.234e+04\n",
       "Df Model:                           9                                         \n",
       "Covariance Type:            nonrobust                                         \n",
       "================================================================================\n",
       "                   coef    std err          t      P>|t|      [0.025      0.975]\n",
       "--------------------------------------------------------------------------------\n",
       "Intercept    -7.241e+04   1.79e+04     -4.051      0.000   -1.07e+05   -3.73e+04\n",
       "married[T.1]  1.685e+04   3873.155      4.349      0.000    9244.984    2.44e+04\n",
       "black[T.1]   -1.099e+04   3886.857     -2.828      0.005   -1.86e+04   -3365.256\n",
       "hours         -313.8567    166.081     -1.890      0.059    -639.795      12.082\n",
       "IQ             373.8446     99.258      3.766      0.000     179.047     568.642\n",
       "educ          5152.0987    728.253      7.075      0.000    3722.879    6581.318\n",
       "exper          948.9550    368.184      2.577      0.010     226.382    1671.528\n",
       "tenure         529.4372    246.546      2.147      0.032      45.583    1013.291\n",
       "age           1074.9783    465.555      2.309      0.021     161.312    1988.645\n",
       "meduc          994.7300    463.031      2.148      0.032      86.017    1903.443\n",
       "==============================================================================\n",
       "Omnibus:                      242.023   Durbin-Watson:                   1.800\n",
       "Prob(Omnibus):                  0.000   Jarque-Bera (JB):              798.759\n",
       "Skew:                           1.238   Prob(JB):                    3.56e-174\n",
       "Kurtosis:                       6.790   Cond. No.                     1.79e+03\n",
       "==============================================================================\n",
       "\n",
       "Notes:\n",
       "[1] Standard Errors assume that the covariance matrix of the errors is correctly specified.\n",
       "[2] The condition number is large, 1.79e+03. This might indicate that there are\n",
       "strong multicollinearity or other numerical problems.\n",
       "\"\"\""
      ]
     },
     "execution_count": 49,
     "metadata": {},
     "output_type": "execute_result"
    }
   ],
   "source": [
    "# reg 5 (using formula)\n",
    "reg5_formula = smf.ols(formula='wage ~ hours + IQ + educ + exper + tenure + age + married + black + meduc', data=df).fit()\n",
    "reg5_formula.summary()"
   ]
  },
  {
   "cell_type": "code",
   "execution_count": 35,
   "metadata": {
    "colab": {
     "base_uri": "https://localhost:8080/",
     "height": 206
    },
    "executionInfo": {
     "elapsed": 170,
     "status": "ok",
     "timestamp": 1694029351345,
     "user": {
      "displayName": "Pedram Jahangiry",
      "userId": "17912812838437468468"
     },
     "user_tz": 360
    },
    "id": "eE3OjaW9n-xC",
    "outputId": "7503d402-922b-4d09-f0e2-a67333395cf1"
   },
   "outputs": [
    {
     "data": {
      "text/html": [
       "\n",
       "  <div id=\"df-55462e1d-d291-4c70-8b94-4afd3b47fa9b\" class=\"colab-df-container\">\n",
       "    <div>\n",
       "<style scoped>\n",
       "    .dataframe tbody tr th:only-of-type {\n",
       "        vertical-align: middle;\n",
       "    }\n",
       "\n",
       "    .dataframe tbody tr th {\n",
       "        vertical-align: top;\n",
       "    }\n",
       "\n",
       "    .dataframe thead th {\n",
       "        text-align: right;\n",
       "    }\n",
       "</style>\n",
       "<table border=\"1\" class=\"dataframe\">\n",
       "  <thead>\n",
       "    <tr style=\"text-align: right;\">\n",
       "      <th></th>\n",
       "      <th>const</th>\n",
       "      <th>hours</th>\n",
       "      <th>IQ</th>\n",
       "      <th>educ</th>\n",
       "      <th>exper</th>\n",
       "      <th>tenure</th>\n",
       "      <th>age</th>\n",
       "      <th>married</th>\n",
       "      <th>black</th>\n",
       "      <th>meduc</th>\n",
       "    </tr>\n",
       "  </thead>\n",
       "  <tbody>\n",
       "    <tr>\n",
       "      <th>0</th>\n",
       "      <td>1.0</td>\n",
       "      <td>40.0</td>\n",
       "      <td>93.0</td>\n",
       "      <td>12.0</td>\n",
       "      <td>11.0</td>\n",
       "      <td>2.0</td>\n",
       "      <td>31.0</td>\n",
       "      <td>1</td>\n",
       "      <td>0</td>\n",
       "      <td>8.0</td>\n",
       "    </tr>\n",
       "    <tr>\n",
       "      <th>1</th>\n",
       "      <td>1.0</td>\n",
       "      <td>50.0</td>\n",
       "      <td>119.0</td>\n",
       "      <td>18.0</td>\n",
       "      <td>11.0</td>\n",
       "      <td>16.0</td>\n",
       "      <td>37.0</td>\n",
       "      <td>1</td>\n",
       "      <td>0</td>\n",
       "      <td>14.0</td>\n",
       "    </tr>\n",
       "    <tr>\n",
       "      <th>2</th>\n",
       "      <td>1.0</td>\n",
       "      <td>40.0</td>\n",
       "      <td>108.0</td>\n",
       "      <td>14.0</td>\n",
       "      <td>11.0</td>\n",
       "      <td>9.0</td>\n",
       "      <td>33.0</td>\n",
       "      <td>1</td>\n",
       "      <td>0</td>\n",
       "      <td>14.0</td>\n",
       "    </tr>\n",
       "    <tr>\n",
       "      <th>3</th>\n",
       "      <td>1.0</td>\n",
       "      <td>40.0</td>\n",
       "      <td>96.0</td>\n",
       "      <td>12.0</td>\n",
       "      <td>13.0</td>\n",
       "      <td>7.0</td>\n",
       "      <td>32.0</td>\n",
       "      <td>1</td>\n",
       "      <td>0</td>\n",
       "      <td>12.0</td>\n",
       "    </tr>\n",
       "    <tr>\n",
       "      <th>4</th>\n",
       "      <td>1.0</td>\n",
       "      <td>40.0</td>\n",
       "      <td>74.0</td>\n",
       "      <td>11.0</td>\n",
       "      <td>14.0</td>\n",
       "      <td>5.0</td>\n",
       "      <td>34.0</td>\n",
       "      <td>1</td>\n",
       "      <td>0</td>\n",
       "      <td>6.0</td>\n",
       "    </tr>\n",
       "  </tbody>\n",
       "</table>\n",
       "</div>\n",
       "    <div class=\"colab-df-buttons\">\n",
       "\n",
       "  <div class=\"colab-df-container\">\n",
       "    <button class=\"colab-df-convert\" onclick=\"convertToInteractive('df-55462e1d-d291-4c70-8b94-4afd3b47fa9b')\"\n",
       "            title=\"Convert this dataframe to an interactive table.\"\n",
       "            style=\"display:none;\">\n",
       "\n",
       "  <svg xmlns=\"http://www.w3.org/2000/svg\" height=\"24px\" viewBox=\"0 -960 960 960\">\n",
       "    <path d=\"M120-120v-720h720v720H120Zm60-500h600v-160H180v160Zm220 220h160v-160H400v160Zm0 220h160v-160H400v160ZM180-400h160v-160H180v160Zm440 0h160v-160H620v160ZM180-180h160v-160H180v160Zm440 0h160v-160H620v160Z\"/>\n",
       "  </svg>\n",
       "    </button>\n",
       "\n",
       "  <style>\n",
       "    .colab-df-container {\n",
       "      display:flex;\n",
       "      gap: 12px;\n",
       "    }\n",
       "\n",
       "    .colab-df-convert {\n",
       "      background-color: #E8F0FE;\n",
       "      border: none;\n",
       "      border-radius: 50%;\n",
       "      cursor: pointer;\n",
       "      display: none;\n",
       "      fill: #1967D2;\n",
       "      height: 32px;\n",
       "      padding: 0 0 0 0;\n",
       "      width: 32px;\n",
       "    }\n",
       "\n",
       "    .colab-df-convert:hover {\n",
       "      background-color: #E2EBFA;\n",
       "      box-shadow: 0px 1px 2px rgba(60, 64, 67, 0.3), 0px 1px 3px 1px rgba(60, 64, 67, 0.15);\n",
       "      fill: #174EA6;\n",
       "    }\n",
       "\n",
       "    .colab-df-buttons div {\n",
       "      margin-bottom: 4px;\n",
       "    }\n",
       "\n",
       "    [theme=dark] .colab-df-convert {\n",
       "      background-color: #3B4455;\n",
       "      fill: #D2E3FC;\n",
       "    }\n",
       "\n",
       "    [theme=dark] .colab-df-convert:hover {\n",
       "      background-color: #434B5C;\n",
       "      box-shadow: 0px 1px 3px 1px rgba(0, 0, 0, 0.15);\n",
       "      filter: drop-shadow(0px 1px 2px rgba(0, 0, 0, 0.3));\n",
       "      fill: #FFFFFF;\n",
       "    }\n",
       "  </style>\n",
       "\n",
       "    <script>\n",
       "      const buttonEl =\n",
       "        document.querySelector('#df-55462e1d-d291-4c70-8b94-4afd3b47fa9b button.colab-df-convert');\n",
       "      buttonEl.style.display =\n",
       "        google.colab.kernel.accessAllowed ? 'block' : 'none';\n",
       "\n",
       "      async function convertToInteractive(key) {\n",
       "        const element = document.querySelector('#df-55462e1d-d291-4c70-8b94-4afd3b47fa9b');\n",
       "        const dataTable =\n",
       "          await google.colab.kernel.invokeFunction('convertToInteractive',\n",
       "                                                    [key], {});\n",
       "        if (!dataTable) return;\n",
       "\n",
       "        const docLinkHtml = 'Like what you see? Visit the ' +\n",
       "          '<a target=\"_blank\" href=https://colab.research.google.com/notebooks/data_table.ipynb>data table notebook</a>'\n",
       "          + ' to learn more about interactive tables.';\n",
       "        element.innerHTML = '';\n",
       "        dataTable['output_type'] = 'display_data';\n",
       "        await google.colab.output.renderOutput(dataTable, element);\n",
       "        const docLink = document.createElement('div');\n",
       "        docLink.innerHTML = docLinkHtml;\n",
       "        element.appendChild(docLink);\n",
       "      }\n",
       "    </script>\n",
       "  </div>\n",
       "\n",
       "\n",
       "<div id=\"df-2639c51d-1db1-4349-a56f-ed8bfb9c2c24\">\n",
       "  <button class=\"colab-df-quickchart\" onclick=\"quickchart('df-2639c51d-1db1-4349-a56f-ed8bfb9c2c24')\"\n",
       "            title=\"Suggest charts.\"\n",
       "            style=\"display:none;\">\n",
       "\n",
       "<svg xmlns=\"http://www.w3.org/2000/svg\" height=\"24px\"viewBox=\"0 0 24 24\"\n",
       "     width=\"24px\">\n",
       "    <g>\n",
       "        <path d=\"M19 3H5c-1.1 0-2 .9-2 2v14c0 1.1.9 2 2 2h14c1.1 0 2-.9 2-2V5c0-1.1-.9-2-2-2zM9 17H7v-7h2v7zm4 0h-2V7h2v10zm4 0h-2v-4h2v4z\"/>\n",
       "    </g>\n",
       "</svg>\n",
       "  </button>\n",
       "\n",
       "<style>\n",
       "  .colab-df-quickchart {\n",
       "      --bg-color: #E8F0FE;\n",
       "      --fill-color: #1967D2;\n",
       "      --hover-bg-color: #E2EBFA;\n",
       "      --hover-fill-color: #174EA6;\n",
       "      --disabled-fill-color: #AAA;\n",
       "      --disabled-bg-color: #DDD;\n",
       "  }\n",
       "\n",
       "  [theme=dark] .colab-df-quickchart {\n",
       "      --bg-color: #3B4455;\n",
       "      --fill-color: #D2E3FC;\n",
       "      --hover-bg-color: #434B5C;\n",
       "      --hover-fill-color: #FFFFFF;\n",
       "      --disabled-bg-color: #3B4455;\n",
       "      --disabled-fill-color: #666;\n",
       "  }\n",
       "\n",
       "  .colab-df-quickchart {\n",
       "    background-color: var(--bg-color);\n",
       "    border: none;\n",
       "    border-radius: 50%;\n",
       "    cursor: pointer;\n",
       "    display: none;\n",
       "    fill: var(--fill-color);\n",
       "    height: 32px;\n",
       "    padding: 0;\n",
       "    width: 32px;\n",
       "  }\n",
       "\n",
       "  .colab-df-quickchart:hover {\n",
       "    background-color: var(--hover-bg-color);\n",
       "    box-shadow: 0 1px 2px rgba(60, 64, 67, 0.3), 0 1px 3px 1px rgba(60, 64, 67, 0.15);\n",
       "    fill: var(--button-hover-fill-color);\n",
       "  }\n",
       "\n",
       "  .colab-df-quickchart-complete:disabled,\n",
       "  .colab-df-quickchart-complete:disabled:hover {\n",
       "    background-color: var(--disabled-bg-color);\n",
       "    fill: var(--disabled-fill-color);\n",
       "    box-shadow: none;\n",
       "  }\n",
       "\n",
       "  .colab-df-spinner {\n",
       "    border: 2px solid var(--fill-color);\n",
       "    border-color: transparent;\n",
       "    border-bottom-color: var(--fill-color);\n",
       "    animation:\n",
       "      spin 1s steps(1) infinite;\n",
       "  }\n",
       "\n",
       "  @keyframes spin {\n",
       "    0% {\n",
       "      border-color: transparent;\n",
       "      border-bottom-color: var(--fill-color);\n",
       "      border-left-color: var(--fill-color);\n",
       "    }\n",
       "    20% {\n",
       "      border-color: transparent;\n",
       "      border-left-color: var(--fill-color);\n",
       "      border-top-color: var(--fill-color);\n",
       "    }\n",
       "    30% {\n",
       "      border-color: transparent;\n",
       "      border-left-color: var(--fill-color);\n",
       "      border-top-color: var(--fill-color);\n",
       "      border-right-color: var(--fill-color);\n",
       "    }\n",
       "    40% {\n",
       "      border-color: transparent;\n",
       "      border-right-color: var(--fill-color);\n",
       "      border-top-color: var(--fill-color);\n",
       "    }\n",
       "    60% {\n",
       "      border-color: transparent;\n",
       "      border-right-color: var(--fill-color);\n",
       "    }\n",
       "    80% {\n",
       "      border-color: transparent;\n",
       "      border-right-color: var(--fill-color);\n",
       "      border-bottom-color: var(--fill-color);\n",
       "    }\n",
       "    90% {\n",
       "      border-color: transparent;\n",
       "      border-bottom-color: var(--fill-color);\n",
       "    }\n",
       "  }\n",
       "</style>\n",
       "\n",
       "  <script>\n",
       "    async function quickchart(key) {\n",
       "      const quickchartButtonEl =\n",
       "        document.querySelector('#' + key + ' button');\n",
       "      quickchartButtonEl.disabled = true;  // To prevent multiple clicks.\n",
       "      quickchartButtonEl.classList.add('colab-df-spinner');\n",
       "      try {\n",
       "        const charts = await google.colab.kernel.invokeFunction(\n",
       "            'suggestCharts', [key], {});\n",
       "      } catch (error) {\n",
       "        console.error('Error during call to suggestCharts:', error);\n",
       "      }\n",
       "      quickchartButtonEl.classList.remove('colab-df-spinner');\n",
       "      quickchartButtonEl.classList.add('colab-df-quickchart-complete');\n",
       "    }\n",
       "    (() => {\n",
       "      let quickchartButtonEl =\n",
       "        document.querySelector('#df-2639c51d-1db1-4349-a56f-ed8bfb9c2c24 button');\n",
       "      quickchartButtonEl.style.display =\n",
       "        google.colab.kernel.accessAllowed ? 'block' : 'none';\n",
       "    })();\n",
       "  </script>\n",
       "</div>\n",
       "    </div>\n",
       "  </div>\n"
      ],
      "text/plain": [
       "   const  hours     IQ  educ  exper  tenure   age married black  meduc\n",
       "0    1.0   40.0   93.0  12.0   11.0     2.0  31.0       1     0    8.0\n",
       "1    1.0   50.0  119.0  18.0   11.0    16.0  37.0       1     0   14.0\n",
       "2    1.0   40.0  108.0  14.0   11.0     9.0  33.0       1     0   14.0\n",
       "3    1.0   40.0   96.0  12.0   13.0     7.0  32.0       1     0   12.0\n",
       "4    1.0   40.0   74.0  11.0   14.0     5.0  34.0       1     0    6.0"
      ]
     },
     "execution_count": 35,
     "metadata": {},
     "output_type": "execute_result"
    }
   ],
   "source": [
    "# reg 5: numpy version\n",
    "X = df.drop([\"wage\", \"lwage\"], axis=1)\n",
    "X = sm.add_constant(X)\n",
    "X.head()"
   ]
  },
  {
   "cell_type": "code",
   "execution_count": 36,
   "metadata": {
    "colab": {
     "base_uri": "https://localhost:8080/",
     "height": 657
    },
    "executionInfo": {
     "elapsed": 146,
     "status": "ok",
     "timestamp": 1694029382182,
     "user": {
      "displayName": "Pedram Jahangiry",
      "userId": "17912812838437468468"
     },
     "user_tz": 360
    },
    "id": "a842RrQfn-xC",
    "outputId": "f74d856f-9fb1-4b3d-a58f-c7de55fd2979"
   },
   "outputs": [
    {
     "data": {
      "text/html": [
       "<table class=\"simpletable\">\n",
       "<caption>OLS Regression Results</caption>\n",
       "<tr>\n",
       "  <th>Dep. Variable:</th>          <td>wage</td>       <th>  R-squared:         </th> <td>   0.207</td> \n",
       "</tr>\n",
       "<tr>\n",
       "  <th>Model:</th>                   <td>OLS</td>       <th>  Adj. R-squared:    </th> <td>   0.199</td> \n",
       "</tr>\n",
       "<tr>\n",
       "  <th>Method:</th>             <td>Least Squares</td>  <th>  F-statistic:       </th> <td>   26.76</td> \n",
       "</tr>\n",
       "<tr>\n",
       "  <th>Date:</th>             <td>Wed, 06 Sep 2023</td> <th>  Prob (F-statistic):</th> <td>2.58e-41</td> \n",
       "</tr>\n",
       "<tr>\n",
       "  <th>Time:</th>                 <td>19:43:01</td>     <th>  Log-Likelihood:    </th> <td> -11136.</td> \n",
       "</tr>\n",
       "<tr>\n",
       "  <th>No. Observations:</th>      <td>   935</td>      <th>  AIC:               </th> <td>2.229e+04</td>\n",
       "</tr>\n",
       "<tr>\n",
       "  <th>Df Residuals:</th>          <td>   925</td>      <th>  BIC:               </th> <td>2.234e+04</td>\n",
       "</tr>\n",
       "<tr>\n",
       "  <th>Df Model:</th>              <td>     9</td>      <th>                     </th>     <td> </td>    \n",
       "</tr>\n",
       "<tr>\n",
       "  <th>Covariance Type:</th>      <td>nonrobust</td>    <th>                     </th>     <td> </td>    \n",
       "</tr>\n",
       "</table>\n",
       "<table class=\"simpletable\">\n",
       "<tr>\n",
       "     <td></td>        <th>coef</th>     <th>std err</th>      <th>t</th>      <th>P>|t|</th>  <th>[0.025</th>    <th>0.975]</th>  \n",
       "</tr>\n",
       "<tr>\n",
       "  <th>const</th>   <td>-7.241e+04</td> <td> 1.79e+04</td> <td>   -4.051</td> <td> 0.000</td> <td>-1.07e+05</td> <td>-3.73e+04</td>\n",
       "</tr>\n",
       "<tr>\n",
       "  <th>hours</th>   <td> -313.8567</td> <td>  166.081</td> <td>   -1.890</td> <td> 0.059</td> <td> -639.795</td> <td>   12.082</td>\n",
       "</tr>\n",
       "<tr>\n",
       "  <th>IQ</th>      <td>  373.8446</td> <td>   99.258</td> <td>    3.766</td> <td> 0.000</td> <td>  179.047</td> <td>  568.642</td>\n",
       "</tr>\n",
       "<tr>\n",
       "  <th>educ</th>    <td> 5152.0987</td> <td>  728.253</td> <td>    7.075</td> <td> 0.000</td> <td> 3722.879</td> <td> 6581.318</td>\n",
       "</tr>\n",
       "<tr>\n",
       "  <th>exper</th>   <td>  948.9550</td> <td>  368.184</td> <td>    2.577</td> <td> 0.010</td> <td>  226.382</td> <td> 1671.528</td>\n",
       "</tr>\n",
       "<tr>\n",
       "  <th>tenure</th>  <td>  529.4372</td> <td>  246.546</td> <td>    2.147</td> <td> 0.032</td> <td>   45.583</td> <td> 1013.291</td>\n",
       "</tr>\n",
       "<tr>\n",
       "  <th>age</th>     <td> 1074.9783</td> <td>  465.555</td> <td>    2.309</td> <td> 0.021</td> <td>  161.312</td> <td> 1988.645</td>\n",
       "</tr>\n",
       "<tr>\n",
       "  <th>married</th> <td> 1.685e+04</td> <td> 3873.155</td> <td>    4.349</td> <td> 0.000</td> <td> 9244.984</td> <td> 2.44e+04</td>\n",
       "</tr>\n",
       "<tr>\n",
       "  <th>black</th>   <td>-1.099e+04</td> <td> 3886.857</td> <td>   -2.828</td> <td> 0.005</td> <td>-1.86e+04</td> <td>-3365.256</td>\n",
       "</tr>\n",
       "<tr>\n",
       "  <th>meduc</th>   <td>  994.7300</td> <td>  463.031</td> <td>    2.148</td> <td> 0.032</td> <td>   86.017</td> <td> 1903.443</td>\n",
       "</tr>\n",
       "</table>\n",
       "<table class=\"simpletable\">\n",
       "<tr>\n",
       "  <th>Omnibus:</th>       <td>242.023</td> <th>  Durbin-Watson:     </th> <td>   1.800</td> \n",
       "</tr>\n",
       "<tr>\n",
       "  <th>Prob(Omnibus):</th> <td> 0.000</td>  <th>  Jarque-Bera (JB):  </th> <td> 798.759</td> \n",
       "</tr>\n",
       "<tr>\n",
       "  <th>Skew:</th>          <td> 1.238</td>  <th>  Prob(JB):          </th> <td>3.56e-174</td>\n",
       "</tr>\n",
       "<tr>\n",
       "  <th>Kurtosis:</th>      <td> 6.790</td>  <th>  Cond. No.          </th> <td>1.79e+03</td> \n",
       "</tr>\n",
       "</table><br/><br/>Notes:<br/>[1] Standard Errors assume that the covariance matrix of the errors is correctly specified.<br/>[2] The condition number is large, 1.79e+03. This might indicate that there are<br/>strong multicollinearity or other numerical problems."
      ],
      "text/latex": [
       "\\begin{center}\n",
       "\\begin{tabular}{lclc}\n",
       "\\toprule\n",
       "\\textbf{Dep. Variable:}    &       wage       & \\textbf{  R-squared:         } &     0.207   \\\\\n",
       "\\textbf{Model:}            &       OLS        & \\textbf{  Adj. R-squared:    } &     0.199   \\\\\n",
       "\\textbf{Method:}           &  Least Squares   & \\textbf{  F-statistic:       } &     26.76   \\\\\n",
       "\\textbf{Date:}             & Wed, 06 Sep 2023 & \\textbf{  Prob (F-statistic):} &  2.58e-41   \\\\\n",
       "\\textbf{Time:}             &     19:43:01     & \\textbf{  Log-Likelihood:    } &   -11136.   \\\\\n",
       "\\textbf{No. Observations:} &         935      & \\textbf{  AIC:               } & 2.229e+04   \\\\\n",
       "\\textbf{Df Residuals:}     &         925      & \\textbf{  BIC:               } & 2.234e+04   \\\\\n",
       "\\textbf{Df Model:}         &           9      & \\textbf{                     } &             \\\\\n",
       "\\textbf{Covariance Type:}  &    nonrobust     & \\textbf{                     } &             \\\\\n",
       "\\bottomrule\n",
       "\\end{tabular}\n",
       "\\begin{tabular}{lcccccc}\n",
       "                 & \\textbf{coef} & \\textbf{std err} & \\textbf{t} & \\textbf{P$> |$t$|$} & \\textbf{[0.025} & \\textbf{0.975]}  \\\\\n",
       "\\midrule\n",
       "\\textbf{const}   &   -7.241e+04  &     1.79e+04     &    -4.051  &         0.000        &    -1.07e+05    &    -3.73e+04     \\\\\n",
       "\\textbf{hours}   &    -313.8567  &      166.081     &    -1.890  &         0.059        &     -639.795    &       12.082     \\\\\n",
       "\\textbf{IQ}      &     373.8446  &       99.258     &     3.766  &         0.000        &      179.047    &      568.642     \\\\\n",
       "\\textbf{educ}    &    5152.0987  &      728.253     &     7.075  &         0.000        &     3722.879    &     6581.318     \\\\\n",
       "\\textbf{exper}   &     948.9550  &      368.184     &     2.577  &         0.010        &      226.382    &     1671.528     \\\\\n",
       "\\textbf{tenure}  &     529.4372  &      246.546     &     2.147  &         0.032        &       45.583    &     1013.291     \\\\\n",
       "\\textbf{age}     &    1074.9783  &      465.555     &     2.309  &         0.021        &      161.312    &     1988.645     \\\\\n",
       "\\textbf{married} &    1.685e+04  &     3873.155     &     4.349  &         0.000        &     9244.984    &     2.44e+04     \\\\\n",
       "\\textbf{black}   &   -1.099e+04  &     3886.857     &    -2.828  &         0.005        &    -1.86e+04    &    -3365.256     \\\\\n",
       "\\textbf{meduc}   &     994.7300  &      463.031     &     2.148  &         0.032        &       86.017    &     1903.443     \\\\\n",
       "\\bottomrule\n",
       "\\end{tabular}\n",
       "\\begin{tabular}{lclc}\n",
       "\\textbf{Omnibus:}       & 242.023 & \\textbf{  Durbin-Watson:     } &     1.800  \\\\\n",
       "\\textbf{Prob(Omnibus):} &   0.000 & \\textbf{  Jarque-Bera (JB):  } &   798.759  \\\\\n",
       "\\textbf{Skew:}          &   1.238 & \\textbf{  Prob(JB):          } & 3.56e-174  \\\\\n",
       "\\textbf{Kurtosis:}      &   6.790 & \\textbf{  Cond. No.          } &  1.79e+03  \\\\\n",
       "\\bottomrule\n",
       "\\end{tabular}\n",
       "%\\caption{OLS Regression Results}\n",
       "\\end{center}\n",
       "\n",
       "Notes: \\newline\n",
       " [1] Standard Errors assume that the covariance matrix of the errors is correctly specified. \\newline\n",
       " [2] The condition number is large, 1.79e+03. This might indicate that there are \\newline\n",
       " strong multicollinearity or other numerical problems."
      ],
      "text/plain": [
       "<class 'statsmodels.iolib.summary.Summary'>\n",
       "\"\"\"\n",
       "                            OLS Regression Results                            \n",
       "==============================================================================\n",
       "Dep. Variable:                   wage   R-squared:                       0.207\n",
       "Model:                            OLS   Adj. R-squared:                  0.199\n",
       "Method:                 Least Squares   F-statistic:                     26.76\n",
       "Date:                Wed, 06 Sep 2023   Prob (F-statistic):           2.58e-41\n",
       "Time:                        19:43:01   Log-Likelihood:                -11136.\n",
       "No. Observations:                 935   AIC:                         2.229e+04\n",
       "Df Residuals:                     925   BIC:                         2.234e+04\n",
       "Df Model:                           9                                         \n",
       "Covariance Type:            nonrobust                                         \n",
       "==============================================================================\n",
       "                 coef    std err          t      P>|t|      [0.025      0.975]\n",
       "------------------------------------------------------------------------------\n",
       "const      -7.241e+04   1.79e+04     -4.051      0.000   -1.07e+05   -3.73e+04\n",
       "hours       -313.8567    166.081     -1.890      0.059    -639.795      12.082\n",
       "IQ           373.8446     99.258      3.766      0.000     179.047     568.642\n",
       "educ        5152.0987    728.253      7.075      0.000    3722.879    6581.318\n",
       "exper        948.9550    368.184      2.577      0.010     226.382    1671.528\n",
       "tenure       529.4372    246.546      2.147      0.032      45.583    1013.291\n",
       "age         1074.9783    465.555      2.309      0.021     161.312    1988.645\n",
       "married     1.685e+04   3873.155      4.349      0.000    9244.984    2.44e+04\n",
       "black      -1.099e+04   3886.857     -2.828      0.005   -1.86e+04   -3365.256\n",
       "meduc        994.7300    463.031      2.148      0.032      86.017    1903.443\n",
       "==============================================================================\n",
       "Omnibus:                      242.023   Durbin-Watson:                   1.800\n",
       "Prob(Omnibus):                  0.000   Jarque-Bera (JB):              798.759\n",
       "Skew:                           1.238   Prob(JB):                    3.56e-174\n",
       "Kurtosis:                       6.790   Cond. No.                     1.79e+03\n",
       "==============================================================================\n",
       "\n",
       "Notes:\n",
       "[1] Standard Errors assume that the covariance matrix of the errors is correctly specified.\n",
       "[2] The condition number is large, 1.79e+03. This might indicate that there are\n",
       "strong multicollinearity or other numerical problems.\n",
       "\"\"\""
      ]
     },
     "execution_count": 36,
     "metadata": {},
     "output_type": "execute_result"
    }
   ],
   "source": [
    "reg5_numpy = sm.OLS(df['wage'], X).fit()\n",
    "reg5_numpy.summary()"
   ]
  },
  {
   "cell_type": "markdown",
   "metadata": {
    "id": "OuP1RifIn-xC"
   },
   "source": [
    "Now, let's do a more complex (feature engineered) model: $$log(wage)= \\beta_0 + \\beta_1 educ + \\beta_2 educ^2 + \\beta_3 married + \\beta_4 black + \\beta_5 married*black + \\beta_6 log(exper) + u$$"
   ]
  },
  {
   "cell_type": "code",
   "execution_count": 37,
   "metadata": {
    "colab": {
     "base_uri": "https://localhost:8080/",
     "height": 593
    },
    "executionInfo": {
     "elapsed": 174,
     "status": "ok",
     "timestamp": 1694031609356,
     "user": {
      "displayName": "Pedram Jahangiry",
      "userId": "17912812838437468468"
     },
     "user_tz": 360
    },
    "id": "jcA1B9M3n-xC",
    "outputId": "00a0f593-882e-4cc0-f431-267fbf994c00"
   },
   "outputs": [
    {
     "data": {
      "text/html": [
       "<table class=\"simpletable\">\n",
       "<caption>OLS Regression Results</caption>\n",
       "<tr>\n",
       "  <th>Dep. Variable:</th>      <td>np.log(wage)</td>   <th>  R-squared:         </th> <td>   0.176</td>\n",
       "</tr>\n",
       "<tr>\n",
       "  <th>Model:</th>                   <td>OLS</td>       <th>  Adj. R-squared:    </th> <td>   0.170</td>\n",
       "</tr>\n",
       "<tr>\n",
       "  <th>Method:</th>             <td>Least Squares</td>  <th>  F-statistic:       </th> <td>   32.96</td>\n",
       "</tr>\n",
       "<tr>\n",
       "  <th>Date:</th>             <td>Wed, 06 Sep 2023</td> <th>  Prob (F-statistic):</th> <td>4.02e-36</td>\n",
       "</tr>\n",
       "<tr>\n",
       "  <th>Time:</th>                 <td>20:20:09</td>     <th>  Log-Likelihood:    </th> <td> -427.32</td>\n",
       "</tr>\n",
       "<tr>\n",
       "  <th>No. Observations:</th>      <td>   935</td>      <th>  AIC:               </th> <td>   868.6</td>\n",
       "</tr>\n",
       "<tr>\n",
       "  <th>Df Residuals:</th>          <td>   928</td>      <th>  BIC:               </th> <td>   902.5</td>\n",
       "</tr>\n",
       "<tr>\n",
       "  <th>Df Model:</th>              <td>     6</td>      <th>                     </th>     <td> </td>   \n",
       "</tr>\n",
       "<tr>\n",
       "  <th>Covariance Type:</th>      <td>nonrobust</td>    <th>                     </th>     <td> </td>   \n",
       "</tr>\n",
       "</table>\n",
       "<table class=\"simpletable\">\n",
       "<tr>\n",
       "                     <td></td>                       <th>coef</th>     <th>std err</th>      <th>t</th>      <th>P>|t|</th>  <th>[0.025</th>    <th>0.975]</th>  \n",
       "</tr>\n",
       "<tr>\n",
       "  <th>Intercept</th>                              <td>    9.2915</td> <td>    0.544</td> <td>   17.076</td> <td> 0.000</td> <td>    8.224</td> <td>   10.359</td>\n",
       "</tr>\n",
       "<tr>\n",
       "  <th>C(married)[T.1]</th>                        <td>    0.1991</td> <td>    0.045</td> <td>    4.436</td> <td> 0.000</td> <td>    0.111</td> <td>    0.287</td>\n",
       "</tr>\n",
       "<tr>\n",
       "  <th>C(black)[T.1]</th>                          <td>   -0.2385</td> <td>    0.100</td> <td>   -2.381</td> <td> 0.017</td> <td>   -0.435</td> <td>   -0.042</td>\n",
       "</tr>\n",
       "<tr>\n",
       "  <th>educ</th>                                   <td>    0.1705</td> <td>    0.076</td> <td>    2.250</td> <td> 0.025</td> <td>    0.022</td> <td>    0.319</td>\n",
       "</tr>\n",
       "<tr>\n",
       "  <th>I(educ ** 2)</th>                           <td>   -0.0037</td> <td>    0.003</td> <td>   -1.369</td> <td> 0.171</td> <td>   -0.009</td> <td>    0.002</td>\n",
       "</tr>\n",
       "<tr>\n",
       "  <th>I(np.array(married) * np.array(black))</th> <td>    0.0363</td> <td>    0.108</td> <td>    0.336</td> <td> 0.737</td> <td>   -0.175</td> <td>    0.248</td>\n",
       "</tr>\n",
       "<tr>\n",
       "  <th>np.log(exper)</th>                          <td>    0.1388</td> <td>    0.029</td> <td>    4.848</td> <td> 0.000</td> <td>    0.083</td> <td>    0.195</td>\n",
       "</tr>\n",
       "</table>\n",
       "<table class=\"simpletable\">\n",
       "<tr>\n",
       "  <th>Omnibus:</th>       <td>36.550</td> <th>  Durbin-Watson:     </th> <td>   1.758</td>\n",
       "</tr>\n",
       "<tr>\n",
       "  <th>Prob(Omnibus):</th> <td> 0.000</td> <th>  Jarque-Bera (JB):  </th> <td>  53.447</td>\n",
       "</tr>\n",
       "<tr>\n",
       "  <th>Skew:</th>          <td>-0.352</td> <th>  Prob(JB):          </th> <td>2.48e-12</td>\n",
       "</tr>\n",
       "<tr>\n",
       "  <th>Kurtosis:</th>      <td> 3.937</td> <th>  Cond. No.          </th> <td>8.61e+03</td>\n",
       "</tr>\n",
       "</table><br/><br/>Notes:<br/>[1] Standard Errors assume that the covariance matrix of the errors is correctly specified.<br/>[2] The condition number is large, 8.61e+03. This might indicate that there are<br/>strong multicollinearity or other numerical problems."
      ],
      "text/latex": [
       "\\begin{center}\n",
       "\\begin{tabular}{lclc}\n",
       "\\toprule\n",
       "\\textbf{Dep. Variable:}                         &   np.log(wage)   & \\textbf{  R-squared:         } &     0.176   \\\\\n",
       "\\textbf{Model:}                                 &       OLS        & \\textbf{  Adj. R-squared:    } &     0.170   \\\\\n",
       "\\textbf{Method:}                                &  Least Squares   & \\textbf{  F-statistic:       } &     32.96   \\\\\n",
       "\\textbf{Date:}                                  & Wed, 06 Sep 2023 & \\textbf{  Prob (F-statistic):} &  4.02e-36   \\\\\n",
       "\\textbf{Time:}                                  &     20:20:09     & \\textbf{  Log-Likelihood:    } &   -427.32   \\\\\n",
       "\\textbf{No. Observations:}                      &         935      & \\textbf{  AIC:               } &     868.6   \\\\\n",
       "\\textbf{Df Residuals:}                          &         928      & \\textbf{  BIC:               } &     902.5   \\\\\n",
       "\\textbf{Df Model:}                              &           6      & \\textbf{                     } &             \\\\\n",
       "\\textbf{Covariance Type:}                       &    nonrobust     & \\textbf{                     } &             \\\\\n",
       "\\bottomrule\n",
       "\\end{tabular}\n",
       "\\begin{tabular}{lcccccc}\n",
       "                                                & \\textbf{coef} & \\textbf{std err} & \\textbf{t} & \\textbf{P$> |$t$|$} & \\textbf{[0.025} & \\textbf{0.975]}  \\\\\n",
       "\\midrule\n",
       "\\textbf{Intercept}                              &       9.2915  &        0.544     &    17.076  &         0.000        &        8.224    &       10.359     \\\\\n",
       "\\textbf{C(married)[T.1]}                        &       0.1991  &        0.045     &     4.436  &         0.000        &        0.111    &        0.287     \\\\\n",
       "\\textbf{C(black)[T.1]}                          &      -0.2385  &        0.100     &    -2.381  &         0.017        &       -0.435    &       -0.042     \\\\\n",
       "\\textbf{educ}                                   &       0.1705  &        0.076     &     2.250  &         0.025        &        0.022    &        0.319     \\\\\n",
       "\\textbf{I(educ ** 2)}                           &      -0.0037  &        0.003     &    -1.369  &         0.171        &       -0.009    &        0.002     \\\\\n",
       "\\textbf{I(np.array(married) * np.array(black))} &       0.0363  &        0.108     &     0.336  &         0.737        &       -0.175    &        0.248     \\\\\n",
       "\\textbf{np.log(exper)}                          &       0.1388  &        0.029     &     4.848  &         0.000        &        0.083    &        0.195     \\\\\n",
       "\\bottomrule\n",
       "\\end{tabular}\n",
       "\\begin{tabular}{lclc}\n",
       "\\textbf{Omnibus:}       & 36.550 & \\textbf{  Durbin-Watson:     } &    1.758  \\\\\n",
       "\\textbf{Prob(Omnibus):} &  0.000 & \\textbf{  Jarque-Bera (JB):  } &   53.447  \\\\\n",
       "\\textbf{Skew:}          & -0.352 & \\textbf{  Prob(JB):          } & 2.48e-12  \\\\\n",
       "\\textbf{Kurtosis:}      &  3.937 & \\textbf{  Cond. No.          } & 8.61e+03  \\\\\n",
       "\\bottomrule\n",
       "\\end{tabular}\n",
       "%\\caption{OLS Regression Results}\n",
       "\\end{center}\n",
       "\n",
       "Notes: \\newline\n",
       " [1] Standard Errors assume that the covariance matrix of the errors is correctly specified. \\newline\n",
       " [2] The condition number is large, 8.61e+03. This might indicate that there are \\newline\n",
       " strong multicollinearity or other numerical problems."
      ],
      "text/plain": [
       "<class 'statsmodels.iolib.summary.Summary'>\n",
       "\"\"\"\n",
       "                            OLS Regression Results                            \n",
       "==============================================================================\n",
       "Dep. Variable:           np.log(wage)   R-squared:                       0.176\n",
       "Model:                            OLS   Adj. R-squared:                  0.170\n",
       "Method:                 Least Squares   F-statistic:                     32.96\n",
       "Date:                Wed, 06 Sep 2023   Prob (F-statistic):           4.02e-36\n",
       "Time:                        20:20:09   Log-Likelihood:                -427.32\n",
       "No. Observations:                 935   AIC:                             868.6\n",
       "Df Residuals:                     928   BIC:                             902.5\n",
       "Df Model:                           6                                         \n",
       "Covariance Type:            nonrobust                                         \n",
       "==========================================================================================================\n",
       "                                             coef    std err          t      P>|t|      [0.025      0.975]\n",
       "----------------------------------------------------------------------------------------------------------\n",
       "Intercept                                  9.2915      0.544     17.076      0.000       8.224      10.359\n",
       "C(married)[T.1]                            0.1991      0.045      4.436      0.000       0.111       0.287\n",
       "C(black)[T.1]                             -0.2385      0.100     -2.381      0.017      -0.435      -0.042\n",
       "educ                                       0.1705      0.076      2.250      0.025       0.022       0.319\n",
       "I(educ ** 2)                              -0.0037      0.003     -1.369      0.171      -0.009       0.002\n",
       "I(np.array(married) * np.array(black))     0.0363      0.108      0.336      0.737      -0.175       0.248\n",
       "np.log(exper)                              0.1388      0.029      4.848      0.000       0.083       0.195\n",
       "==============================================================================\n",
       "Omnibus:                       36.550   Durbin-Watson:                   1.758\n",
       "Prob(Omnibus):                  0.000   Jarque-Bera (JB):               53.447\n",
       "Skew:                          -0.352   Prob(JB):                     2.48e-12\n",
       "Kurtosis:                       3.937   Cond. No.                     8.61e+03\n",
       "==============================================================================\n",
       "\n",
       "Notes:\n",
       "[1] Standard Errors assume that the covariance matrix of the errors is correctly specified.\n",
       "[2] The condition number is large, 8.61e+03. This might indicate that there are\n",
       "strong multicollinearity or other numerical problems.\n",
       "\"\"\""
      ]
     },
     "execution_count": 37,
     "metadata": {},
     "output_type": "execute_result"
    }
   ],
   "source": [
    "reg6_formula = smf.ols(formula=\"np.log(wage) ~ educ + I(educ**2) + C(married) + C(black) + I(np.array(married)*np.array(black)) + np.log(exper)\", data=df).fit()\n",
    "reg6_formula.summary()"
   ]
  },
  {
   "cell_type": "markdown",
   "metadata": {
    "id": "4zo5HgOzn-xD"
   },
   "source": [
    "Now let's do the numpy version! first we need to prepare our X dataframe."
   ]
  },
  {
   "cell_type": "code",
   "execution_count": 38,
   "metadata": {
    "colab": {
     "base_uri": "https://localhost:8080/"
    },
    "executionInfo": {
     "elapsed": 183,
     "status": "ok",
     "timestamp": 1694031611516,
     "user": {
      "displayName": "Pedram Jahangiry",
      "userId": "17912812838437468468"
     },
     "user_tz": 360
    },
    "id": "bcqoa0Djn-xD",
    "outputId": "92b62296-7f95-471d-e5d7-642d87e8bc46"
   },
   "outputs": [
    {
     "data": {
      "text/plain": [
       "Index(['wage', 'hours', 'IQ', 'educ', 'exper', 'tenure', 'age', 'married',\n",
       "       'black', 'meduc', 'lwage'],\n",
       "      dtype='object')"
      ]
     },
     "execution_count": 38,
     "metadata": {},
     "output_type": "execute_result"
    }
   ],
   "source": [
    "df.columns"
   ]
  },
  {
   "cell_type": "code",
   "execution_count": 39,
   "metadata": {
    "colab": {
     "base_uri": "https://localhost:8080/",
     "height": 206
    },
    "executionInfo": {
     "elapsed": 175,
     "status": "ok",
     "timestamp": 1694031613349,
     "user": {
      "displayName": "Pedram Jahangiry",
      "userId": "17912812838437468468"
     },
     "user_tz": 360
    },
    "id": "JSfH_1FCn-xD",
    "outputId": "0ca76423-3afc-4fe8-85a3-8ae8e8e873ad"
   },
   "outputs": [
    {
     "data": {
      "text/html": [
       "\n",
       "  <div id=\"df-46dd0174-9cc3-4cfb-a288-e8a064ceed02\" class=\"colab-df-container\">\n",
       "    <div>\n",
       "<style scoped>\n",
       "    .dataframe tbody tr th:only-of-type {\n",
       "        vertical-align: middle;\n",
       "    }\n",
       "\n",
       "    .dataframe tbody tr th {\n",
       "        vertical-align: top;\n",
       "    }\n",
       "\n",
       "    .dataframe thead th {\n",
       "        text-align: right;\n",
       "    }\n",
       "</style>\n",
       "<table border=\"1\" class=\"dataframe\">\n",
       "  <thead>\n",
       "    <tr style=\"text-align: right;\">\n",
       "      <th></th>\n",
       "      <th>educ</th>\n",
       "      <th>exper</th>\n",
       "      <th>married</th>\n",
       "      <th>black</th>\n",
       "    </tr>\n",
       "  </thead>\n",
       "  <tbody>\n",
       "    <tr>\n",
       "      <th>0</th>\n",
       "      <td>12.0</td>\n",
       "      <td>11.0</td>\n",
       "      <td>1</td>\n",
       "      <td>0</td>\n",
       "    </tr>\n",
       "    <tr>\n",
       "      <th>1</th>\n",
       "      <td>18.0</td>\n",
       "      <td>11.0</td>\n",
       "      <td>1</td>\n",
       "      <td>0</td>\n",
       "    </tr>\n",
       "    <tr>\n",
       "      <th>2</th>\n",
       "      <td>14.0</td>\n",
       "      <td>11.0</td>\n",
       "      <td>1</td>\n",
       "      <td>0</td>\n",
       "    </tr>\n",
       "    <tr>\n",
       "      <th>3</th>\n",
       "      <td>12.0</td>\n",
       "      <td>13.0</td>\n",
       "      <td>1</td>\n",
       "      <td>0</td>\n",
       "    </tr>\n",
       "    <tr>\n",
       "      <th>4</th>\n",
       "      <td>11.0</td>\n",
       "      <td>14.0</td>\n",
       "      <td>1</td>\n",
       "      <td>0</td>\n",
       "    </tr>\n",
       "  </tbody>\n",
       "</table>\n",
       "</div>\n",
       "    <div class=\"colab-df-buttons\">\n",
       "\n",
       "  <div class=\"colab-df-container\">\n",
       "    <button class=\"colab-df-convert\" onclick=\"convertToInteractive('df-46dd0174-9cc3-4cfb-a288-e8a064ceed02')\"\n",
       "            title=\"Convert this dataframe to an interactive table.\"\n",
       "            style=\"display:none;\">\n",
       "\n",
       "  <svg xmlns=\"http://www.w3.org/2000/svg\" height=\"24px\" viewBox=\"0 -960 960 960\">\n",
       "    <path d=\"M120-120v-720h720v720H120Zm60-500h600v-160H180v160Zm220 220h160v-160H400v160Zm0 220h160v-160H400v160ZM180-400h160v-160H180v160Zm440 0h160v-160H620v160ZM180-180h160v-160H180v160Zm440 0h160v-160H620v160Z\"/>\n",
       "  </svg>\n",
       "    </button>\n",
       "\n",
       "  <style>\n",
       "    .colab-df-container {\n",
       "      display:flex;\n",
       "      gap: 12px;\n",
       "    }\n",
       "\n",
       "    .colab-df-convert {\n",
       "      background-color: #E8F0FE;\n",
       "      border: none;\n",
       "      border-radius: 50%;\n",
       "      cursor: pointer;\n",
       "      display: none;\n",
       "      fill: #1967D2;\n",
       "      height: 32px;\n",
       "      padding: 0 0 0 0;\n",
       "      width: 32px;\n",
       "    }\n",
       "\n",
       "    .colab-df-convert:hover {\n",
       "      background-color: #E2EBFA;\n",
       "      box-shadow: 0px 1px 2px rgba(60, 64, 67, 0.3), 0px 1px 3px 1px rgba(60, 64, 67, 0.15);\n",
       "      fill: #174EA6;\n",
       "    }\n",
       "\n",
       "    .colab-df-buttons div {\n",
       "      margin-bottom: 4px;\n",
       "    }\n",
       "\n",
       "    [theme=dark] .colab-df-convert {\n",
       "      background-color: #3B4455;\n",
       "      fill: #D2E3FC;\n",
       "    }\n",
       "\n",
       "    [theme=dark] .colab-df-convert:hover {\n",
       "      background-color: #434B5C;\n",
       "      box-shadow: 0px 1px 3px 1px rgba(0, 0, 0, 0.15);\n",
       "      filter: drop-shadow(0px 1px 2px rgba(0, 0, 0, 0.3));\n",
       "      fill: #FFFFFF;\n",
       "    }\n",
       "  </style>\n",
       "\n",
       "    <script>\n",
       "      const buttonEl =\n",
       "        document.querySelector('#df-46dd0174-9cc3-4cfb-a288-e8a064ceed02 button.colab-df-convert');\n",
       "      buttonEl.style.display =\n",
       "        google.colab.kernel.accessAllowed ? 'block' : 'none';\n",
       "\n",
       "      async function convertToInteractive(key) {\n",
       "        const element = document.querySelector('#df-46dd0174-9cc3-4cfb-a288-e8a064ceed02');\n",
       "        const dataTable =\n",
       "          await google.colab.kernel.invokeFunction('convertToInteractive',\n",
       "                                                    [key], {});\n",
       "        if (!dataTable) return;\n",
       "\n",
       "        const docLinkHtml = 'Like what you see? Visit the ' +\n",
       "          '<a target=\"_blank\" href=https://colab.research.google.com/notebooks/data_table.ipynb>data table notebook</a>'\n",
       "          + ' to learn more about interactive tables.';\n",
       "        element.innerHTML = '';\n",
       "        dataTable['output_type'] = 'display_data';\n",
       "        await google.colab.output.renderOutput(dataTable, element);\n",
       "        const docLink = document.createElement('div');\n",
       "        docLink.innerHTML = docLinkHtml;\n",
       "        element.appendChild(docLink);\n",
       "      }\n",
       "    </script>\n",
       "  </div>\n",
       "\n",
       "\n",
       "<div id=\"df-66bd6d22-83e9-46f9-a4bb-73c5275fdb2e\">\n",
       "  <button class=\"colab-df-quickchart\" onclick=\"quickchart('df-66bd6d22-83e9-46f9-a4bb-73c5275fdb2e')\"\n",
       "            title=\"Suggest charts.\"\n",
       "            style=\"display:none;\">\n",
       "\n",
       "<svg xmlns=\"http://www.w3.org/2000/svg\" height=\"24px\"viewBox=\"0 0 24 24\"\n",
       "     width=\"24px\">\n",
       "    <g>\n",
       "        <path d=\"M19 3H5c-1.1 0-2 .9-2 2v14c0 1.1.9 2 2 2h14c1.1 0 2-.9 2-2V5c0-1.1-.9-2-2-2zM9 17H7v-7h2v7zm4 0h-2V7h2v10zm4 0h-2v-4h2v4z\"/>\n",
       "    </g>\n",
       "</svg>\n",
       "  </button>\n",
       "\n",
       "<style>\n",
       "  .colab-df-quickchart {\n",
       "      --bg-color: #E8F0FE;\n",
       "      --fill-color: #1967D2;\n",
       "      --hover-bg-color: #E2EBFA;\n",
       "      --hover-fill-color: #174EA6;\n",
       "      --disabled-fill-color: #AAA;\n",
       "      --disabled-bg-color: #DDD;\n",
       "  }\n",
       "\n",
       "  [theme=dark] .colab-df-quickchart {\n",
       "      --bg-color: #3B4455;\n",
       "      --fill-color: #D2E3FC;\n",
       "      --hover-bg-color: #434B5C;\n",
       "      --hover-fill-color: #FFFFFF;\n",
       "      --disabled-bg-color: #3B4455;\n",
       "      --disabled-fill-color: #666;\n",
       "  }\n",
       "\n",
       "  .colab-df-quickchart {\n",
       "    background-color: var(--bg-color);\n",
       "    border: none;\n",
       "    border-radius: 50%;\n",
       "    cursor: pointer;\n",
       "    display: none;\n",
       "    fill: var(--fill-color);\n",
       "    height: 32px;\n",
       "    padding: 0;\n",
       "    width: 32px;\n",
       "  }\n",
       "\n",
       "  .colab-df-quickchart:hover {\n",
       "    background-color: var(--hover-bg-color);\n",
       "    box-shadow: 0 1px 2px rgba(60, 64, 67, 0.3), 0 1px 3px 1px rgba(60, 64, 67, 0.15);\n",
       "    fill: var(--button-hover-fill-color);\n",
       "  }\n",
       "\n",
       "  .colab-df-quickchart-complete:disabled,\n",
       "  .colab-df-quickchart-complete:disabled:hover {\n",
       "    background-color: var(--disabled-bg-color);\n",
       "    fill: var(--disabled-fill-color);\n",
       "    box-shadow: none;\n",
       "  }\n",
       "\n",
       "  .colab-df-spinner {\n",
       "    border: 2px solid var(--fill-color);\n",
       "    border-color: transparent;\n",
       "    border-bottom-color: var(--fill-color);\n",
       "    animation:\n",
       "      spin 1s steps(1) infinite;\n",
       "  }\n",
       "\n",
       "  @keyframes spin {\n",
       "    0% {\n",
       "      border-color: transparent;\n",
       "      border-bottom-color: var(--fill-color);\n",
       "      border-left-color: var(--fill-color);\n",
       "    }\n",
       "    20% {\n",
       "      border-color: transparent;\n",
       "      border-left-color: var(--fill-color);\n",
       "      border-top-color: var(--fill-color);\n",
       "    }\n",
       "    30% {\n",
       "      border-color: transparent;\n",
       "      border-left-color: var(--fill-color);\n",
       "      border-top-color: var(--fill-color);\n",
       "      border-right-color: var(--fill-color);\n",
       "    }\n",
       "    40% {\n",
       "      border-color: transparent;\n",
       "      border-right-color: var(--fill-color);\n",
       "      border-top-color: var(--fill-color);\n",
       "    }\n",
       "    60% {\n",
       "      border-color: transparent;\n",
       "      border-right-color: var(--fill-color);\n",
       "    }\n",
       "    80% {\n",
       "      border-color: transparent;\n",
       "      border-right-color: var(--fill-color);\n",
       "      border-bottom-color: var(--fill-color);\n",
       "    }\n",
       "    90% {\n",
       "      border-color: transparent;\n",
       "      border-bottom-color: var(--fill-color);\n",
       "    }\n",
       "  }\n",
       "</style>\n",
       "\n",
       "  <script>\n",
       "    async function quickchart(key) {\n",
       "      const quickchartButtonEl =\n",
       "        document.querySelector('#' + key + ' button');\n",
       "      quickchartButtonEl.disabled = true;  // To prevent multiple clicks.\n",
       "      quickchartButtonEl.classList.add('colab-df-spinner');\n",
       "      try {\n",
       "        const charts = await google.colab.kernel.invokeFunction(\n",
       "            'suggestCharts', [key], {});\n",
       "      } catch (error) {\n",
       "        console.error('Error during call to suggestCharts:', error);\n",
       "      }\n",
       "      quickchartButtonEl.classList.remove('colab-df-spinner');\n",
       "      quickchartButtonEl.classList.add('colab-df-quickchart-complete');\n",
       "    }\n",
       "    (() => {\n",
       "      let quickchartButtonEl =\n",
       "        document.querySelector('#df-66bd6d22-83e9-46f9-a4bb-73c5275fdb2e button');\n",
       "      quickchartButtonEl.style.display =\n",
       "        google.colab.kernel.accessAllowed ? 'block' : 'none';\n",
       "    })();\n",
       "  </script>\n",
       "</div>\n",
       "    </div>\n",
       "  </div>\n"
      ],
      "text/plain": [
       "   educ  exper married black\n",
       "0  12.0   11.0       1     0\n",
       "1  18.0   11.0       1     0\n",
       "2  14.0   11.0       1     0\n",
       "3  12.0   13.0       1     0\n",
       "4  11.0   14.0       1     0"
      ]
     },
     "execution_count": 39,
     "metadata": {},
     "output_type": "execute_result"
    }
   ],
   "source": [
    "X = df.filter(['educ', 'exper', 'married','black'], axis=1)\n",
    "X.head()"
   ]
  },
  {
   "cell_type": "markdown",
   "metadata": {
    "id": "9zwFYCoUn-xD"
   },
   "source": [
    "recall: $$log(wage)= \\beta_0 + \\beta_1 educ + \\beta_2 educ^2 + \\beta_3 married + \\beta_4 black + \\beta_5 married*black + \\beta_6 log(exper) + u$$"
   ]
  },
  {
   "cell_type": "code",
   "execution_count": 41,
   "metadata": {
    "colab": {
     "base_uri": "https://localhost:8080/",
     "height": 206
    },
    "executionInfo": {
     "elapsed": 181,
     "status": "ok",
     "timestamp": 1694031637728,
     "user": {
      "displayName": "Pedram Jahangiry",
      "userId": "17912812838437468468"
     },
     "user_tz": 360
    },
    "id": "BQ2BaSb8n-xD",
    "outputId": "89ab8ca5-eb07-4856-e969-01747ad320f8"
   },
   "outputs": [
    {
     "data": {
      "text/html": [
       "\n",
       "  <div id=\"df-bcbb6439-687f-4cc2-9657-de952d5e713e\" class=\"colab-df-container\">\n",
       "    <div>\n",
       "<style scoped>\n",
       "    .dataframe tbody tr th:only-of-type {\n",
       "        vertical-align: middle;\n",
       "    }\n",
       "\n",
       "    .dataframe tbody tr th {\n",
       "        vertical-align: top;\n",
       "    }\n",
       "\n",
       "    .dataframe thead th {\n",
       "        text-align: right;\n",
       "    }\n",
       "</style>\n",
       "<table border=\"1\" class=\"dataframe\">\n",
       "  <thead>\n",
       "    <tr style=\"text-align: right;\">\n",
       "      <th></th>\n",
       "      <th>const</th>\n",
       "      <th>educ</th>\n",
       "      <th>exper</th>\n",
       "      <th>married</th>\n",
       "      <th>black</th>\n",
       "      <th>educ2</th>\n",
       "      <th>married*black</th>\n",
       "      <th>log_exper</th>\n",
       "    </tr>\n",
       "  </thead>\n",
       "  <tbody>\n",
       "    <tr>\n",
       "      <th>0</th>\n",
       "      <td>1.0</td>\n",
       "      <td>12.0</td>\n",
       "      <td>11.0</td>\n",
       "      <td>1</td>\n",
       "      <td>0</td>\n",
       "      <td>144.0</td>\n",
       "      <td>0</td>\n",
       "      <td>2.397895</td>\n",
       "    </tr>\n",
       "    <tr>\n",
       "      <th>1</th>\n",
       "      <td>1.0</td>\n",
       "      <td>18.0</td>\n",
       "      <td>11.0</td>\n",
       "      <td>1</td>\n",
       "      <td>0</td>\n",
       "      <td>324.0</td>\n",
       "      <td>0</td>\n",
       "      <td>2.397895</td>\n",
       "    </tr>\n",
       "    <tr>\n",
       "      <th>2</th>\n",
       "      <td>1.0</td>\n",
       "      <td>14.0</td>\n",
       "      <td>11.0</td>\n",
       "      <td>1</td>\n",
       "      <td>0</td>\n",
       "      <td>196.0</td>\n",
       "      <td>0</td>\n",
       "      <td>2.397895</td>\n",
       "    </tr>\n",
       "    <tr>\n",
       "      <th>3</th>\n",
       "      <td>1.0</td>\n",
       "      <td>12.0</td>\n",
       "      <td>13.0</td>\n",
       "      <td>1</td>\n",
       "      <td>0</td>\n",
       "      <td>144.0</td>\n",
       "      <td>0</td>\n",
       "      <td>2.564949</td>\n",
       "    </tr>\n",
       "    <tr>\n",
       "      <th>4</th>\n",
       "      <td>1.0</td>\n",
       "      <td>11.0</td>\n",
       "      <td>14.0</td>\n",
       "      <td>1</td>\n",
       "      <td>0</td>\n",
       "      <td>121.0</td>\n",
       "      <td>0</td>\n",
       "      <td>2.639057</td>\n",
       "    </tr>\n",
       "  </tbody>\n",
       "</table>\n",
       "</div>\n",
       "    <div class=\"colab-df-buttons\">\n",
       "\n",
       "  <div class=\"colab-df-container\">\n",
       "    <button class=\"colab-df-convert\" onclick=\"convertToInteractive('df-bcbb6439-687f-4cc2-9657-de952d5e713e')\"\n",
       "            title=\"Convert this dataframe to an interactive table.\"\n",
       "            style=\"display:none;\">\n",
       "\n",
       "  <svg xmlns=\"http://www.w3.org/2000/svg\" height=\"24px\" viewBox=\"0 -960 960 960\">\n",
       "    <path d=\"M120-120v-720h720v720H120Zm60-500h600v-160H180v160Zm220 220h160v-160H400v160Zm0 220h160v-160H400v160ZM180-400h160v-160H180v160Zm440 0h160v-160H620v160ZM180-180h160v-160H180v160Zm440 0h160v-160H620v160Z\"/>\n",
       "  </svg>\n",
       "    </button>\n",
       "\n",
       "  <style>\n",
       "    .colab-df-container {\n",
       "      display:flex;\n",
       "      gap: 12px;\n",
       "    }\n",
       "\n",
       "    .colab-df-convert {\n",
       "      background-color: #E8F0FE;\n",
       "      border: none;\n",
       "      border-radius: 50%;\n",
       "      cursor: pointer;\n",
       "      display: none;\n",
       "      fill: #1967D2;\n",
       "      height: 32px;\n",
       "      padding: 0 0 0 0;\n",
       "      width: 32px;\n",
       "    }\n",
       "\n",
       "    .colab-df-convert:hover {\n",
       "      background-color: #E2EBFA;\n",
       "      box-shadow: 0px 1px 2px rgba(60, 64, 67, 0.3), 0px 1px 3px 1px rgba(60, 64, 67, 0.15);\n",
       "      fill: #174EA6;\n",
       "    }\n",
       "\n",
       "    .colab-df-buttons div {\n",
       "      margin-bottom: 4px;\n",
       "    }\n",
       "\n",
       "    [theme=dark] .colab-df-convert {\n",
       "      background-color: #3B4455;\n",
       "      fill: #D2E3FC;\n",
       "    }\n",
       "\n",
       "    [theme=dark] .colab-df-convert:hover {\n",
       "      background-color: #434B5C;\n",
       "      box-shadow: 0px 1px 3px 1px rgba(0, 0, 0, 0.15);\n",
       "      filter: drop-shadow(0px 1px 2px rgba(0, 0, 0, 0.3));\n",
       "      fill: #FFFFFF;\n",
       "    }\n",
       "  </style>\n",
       "\n",
       "    <script>\n",
       "      const buttonEl =\n",
       "        document.querySelector('#df-bcbb6439-687f-4cc2-9657-de952d5e713e button.colab-df-convert');\n",
       "      buttonEl.style.display =\n",
       "        google.colab.kernel.accessAllowed ? 'block' : 'none';\n",
       "\n",
       "      async function convertToInteractive(key) {\n",
       "        const element = document.querySelector('#df-bcbb6439-687f-4cc2-9657-de952d5e713e');\n",
       "        const dataTable =\n",
       "          await google.colab.kernel.invokeFunction('convertToInteractive',\n",
       "                                                    [key], {});\n",
       "        if (!dataTable) return;\n",
       "\n",
       "        const docLinkHtml = 'Like what you see? Visit the ' +\n",
       "          '<a target=\"_blank\" href=https://colab.research.google.com/notebooks/data_table.ipynb>data table notebook</a>'\n",
       "          + ' to learn more about interactive tables.';\n",
       "        element.innerHTML = '';\n",
       "        dataTable['output_type'] = 'display_data';\n",
       "        await google.colab.output.renderOutput(dataTable, element);\n",
       "        const docLink = document.createElement('div');\n",
       "        docLink.innerHTML = docLinkHtml;\n",
       "        element.appendChild(docLink);\n",
       "      }\n",
       "    </script>\n",
       "  </div>\n",
       "\n",
       "\n",
       "<div id=\"df-36ea4c14-b6de-4038-90bd-5443cc7cc392\">\n",
       "  <button class=\"colab-df-quickchart\" onclick=\"quickchart('df-36ea4c14-b6de-4038-90bd-5443cc7cc392')\"\n",
       "            title=\"Suggest charts.\"\n",
       "            style=\"display:none;\">\n",
       "\n",
       "<svg xmlns=\"http://www.w3.org/2000/svg\" height=\"24px\"viewBox=\"0 0 24 24\"\n",
       "     width=\"24px\">\n",
       "    <g>\n",
       "        <path d=\"M19 3H5c-1.1 0-2 .9-2 2v14c0 1.1.9 2 2 2h14c1.1 0 2-.9 2-2V5c0-1.1-.9-2-2-2zM9 17H7v-7h2v7zm4 0h-2V7h2v10zm4 0h-2v-4h2v4z\"/>\n",
       "    </g>\n",
       "</svg>\n",
       "  </button>\n",
       "\n",
       "<style>\n",
       "  .colab-df-quickchart {\n",
       "      --bg-color: #E8F0FE;\n",
       "      --fill-color: #1967D2;\n",
       "      --hover-bg-color: #E2EBFA;\n",
       "      --hover-fill-color: #174EA6;\n",
       "      --disabled-fill-color: #AAA;\n",
       "      --disabled-bg-color: #DDD;\n",
       "  }\n",
       "\n",
       "  [theme=dark] .colab-df-quickchart {\n",
       "      --bg-color: #3B4455;\n",
       "      --fill-color: #D2E3FC;\n",
       "      --hover-bg-color: #434B5C;\n",
       "      --hover-fill-color: #FFFFFF;\n",
       "      --disabled-bg-color: #3B4455;\n",
       "      --disabled-fill-color: #666;\n",
       "  }\n",
       "\n",
       "  .colab-df-quickchart {\n",
       "    background-color: var(--bg-color);\n",
       "    border: none;\n",
       "    border-radius: 50%;\n",
       "    cursor: pointer;\n",
       "    display: none;\n",
       "    fill: var(--fill-color);\n",
       "    height: 32px;\n",
       "    padding: 0;\n",
       "    width: 32px;\n",
       "  }\n",
       "\n",
       "  .colab-df-quickchart:hover {\n",
       "    background-color: var(--hover-bg-color);\n",
       "    box-shadow: 0 1px 2px rgba(60, 64, 67, 0.3), 0 1px 3px 1px rgba(60, 64, 67, 0.15);\n",
       "    fill: var(--button-hover-fill-color);\n",
       "  }\n",
       "\n",
       "  .colab-df-quickchart-complete:disabled,\n",
       "  .colab-df-quickchart-complete:disabled:hover {\n",
       "    background-color: var(--disabled-bg-color);\n",
       "    fill: var(--disabled-fill-color);\n",
       "    box-shadow: none;\n",
       "  }\n",
       "\n",
       "  .colab-df-spinner {\n",
       "    border: 2px solid var(--fill-color);\n",
       "    border-color: transparent;\n",
       "    border-bottom-color: var(--fill-color);\n",
       "    animation:\n",
       "      spin 1s steps(1) infinite;\n",
       "  }\n",
       "\n",
       "  @keyframes spin {\n",
       "    0% {\n",
       "      border-color: transparent;\n",
       "      border-bottom-color: var(--fill-color);\n",
       "      border-left-color: var(--fill-color);\n",
       "    }\n",
       "    20% {\n",
       "      border-color: transparent;\n",
       "      border-left-color: var(--fill-color);\n",
       "      border-top-color: var(--fill-color);\n",
       "    }\n",
       "    30% {\n",
       "      border-color: transparent;\n",
       "      border-left-color: var(--fill-color);\n",
       "      border-top-color: var(--fill-color);\n",
       "      border-right-color: var(--fill-color);\n",
       "    }\n",
       "    40% {\n",
       "      border-color: transparent;\n",
       "      border-right-color: var(--fill-color);\n",
       "      border-top-color: var(--fill-color);\n",
       "    }\n",
       "    60% {\n",
       "      border-color: transparent;\n",
       "      border-right-color: var(--fill-color);\n",
       "    }\n",
       "    80% {\n",
       "      border-color: transparent;\n",
       "      border-right-color: var(--fill-color);\n",
       "      border-bottom-color: var(--fill-color);\n",
       "    }\n",
       "    90% {\n",
       "      border-color: transparent;\n",
       "      border-bottom-color: var(--fill-color);\n",
       "    }\n",
       "  }\n",
       "</style>\n",
       "\n",
       "  <script>\n",
       "    async function quickchart(key) {\n",
       "      const quickchartButtonEl =\n",
       "        document.querySelector('#' + key + ' button');\n",
       "      quickchartButtonEl.disabled = true;  // To prevent multiple clicks.\n",
       "      quickchartButtonEl.classList.add('colab-df-spinner');\n",
       "      try {\n",
       "        const charts = await google.colab.kernel.invokeFunction(\n",
       "            'suggestCharts', [key], {});\n",
       "      } catch (error) {\n",
       "        console.error('Error during call to suggestCharts:', error);\n",
       "      }\n",
       "      quickchartButtonEl.classList.remove('colab-df-spinner');\n",
       "      quickchartButtonEl.classList.add('colab-df-quickchart-complete');\n",
       "    }\n",
       "    (() => {\n",
       "      let quickchartButtonEl =\n",
       "        document.querySelector('#df-36ea4c14-b6de-4038-90bd-5443cc7cc392 button');\n",
       "      quickchartButtonEl.style.display =\n",
       "        google.colab.kernel.accessAllowed ? 'block' : 'none';\n",
       "    })();\n",
       "  </script>\n",
       "</div>\n",
       "    </div>\n",
       "  </div>\n"
      ],
      "text/plain": [
       "   const  educ  exper married black  educ2  married*black  log_exper\n",
       "0    1.0  12.0   11.0       1     0  144.0              0   2.397895\n",
       "1    1.0  18.0   11.0       1     0  324.0              0   2.397895\n",
       "2    1.0  14.0   11.0       1     0  196.0              0   2.397895\n",
       "3    1.0  12.0   13.0       1     0  144.0              0   2.564949\n",
       "4    1.0  11.0   14.0       1     0  121.0              0   2.639057"
      ]
     },
     "execution_count": 41,
     "metadata": {},
     "output_type": "execute_result"
    }
   ],
   "source": [
    "X['educ2'] = X['educ']**2\n",
    "X['married*black'] = np.array(X['married']) * np.array(X['black'])\n",
    "X['log_exper'] = np.log(X['exper'])\n",
    "X = sm.add_constant(X)\n",
    "X.head()\n"
   ]
  },
  {
   "cell_type": "code",
   "execution_count": 42,
   "metadata": {
    "executionInfo": {
     "elapsed": 192,
     "status": "ok",
     "timestamp": 1694031639666,
     "user": {
      "displayName": "Pedram Jahangiry",
      "userId": "17912812838437468468"
     },
     "user_tz": 360
    },
    "id": "xoUL6yjXn-xD"
   },
   "outputs": [],
   "source": [
    "X.drop('exper', axis=1, inplace=True)\n"
   ]
  },
  {
   "cell_type": "code",
   "execution_count": 43,
   "metadata": {
    "colab": {
     "base_uri": "https://localhost:8080/",
     "height": 593
    },
    "executionInfo": {
     "elapsed": 181,
     "status": "ok",
     "timestamp": 1694031644090,
     "user": {
      "displayName": "Pedram Jahangiry",
      "userId": "17912812838437468468"
     },
     "user_tz": 360
    },
    "id": "WDTIOvIRn-xE",
    "outputId": "f8867035-8150-4290-c419-588ca2f93ec1"
   },
   "outputs": [
    {
     "data": {
      "text/html": [
       "<table class=\"simpletable\">\n",
       "<caption>OLS Regression Results</caption>\n",
       "<tr>\n",
       "  <th>Dep. Variable:</th>          <td>wage</td>       <th>  R-squared:         </th> <td>   0.176</td>\n",
       "</tr>\n",
       "<tr>\n",
       "  <th>Model:</th>                   <td>OLS</td>       <th>  Adj. R-squared:    </th> <td>   0.170</td>\n",
       "</tr>\n",
       "<tr>\n",
       "  <th>Method:</th>             <td>Least Squares</td>  <th>  F-statistic:       </th> <td>   32.96</td>\n",
       "</tr>\n",
       "<tr>\n",
       "  <th>Date:</th>             <td>Wed, 06 Sep 2023</td> <th>  Prob (F-statistic):</th> <td>4.02e-36</td>\n",
       "</tr>\n",
       "<tr>\n",
       "  <th>Time:</th>                 <td>20:20:43</td>     <th>  Log-Likelihood:    </th> <td> -427.32</td>\n",
       "</tr>\n",
       "<tr>\n",
       "  <th>No. Observations:</th>      <td>   935</td>      <th>  AIC:               </th> <td>   868.6</td>\n",
       "</tr>\n",
       "<tr>\n",
       "  <th>Df Residuals:</th>          <td>   928</td>      <th>  BIC:               </th> <td>   902.5</td>\n",
       "</tr>\n",
       "<tr>\n",
       "  <th>Df Model:</th>              <td>     6</td>      <th>                     </th>     <td> </td>   \n",
       "</tr>\n",
       "<tr>\n",
       "  <th>Covariance Type:</th>      <td>nonrobust</td>    <th>                     </th>     <td> </td>   \n",
       "</tr>\n",
       "</table>\n",
       "<table class=\"simpletable\">\n",
       "<tr>\n",
       "        <td></td>           <th>coef</th>     <th>std err</th>      <th>t</th>      <th>P>|t|</th>  <th>[0.025</th>    <th>0.975]</th>  \n",
       "</tr>\n",
       "<tr>\n",
       "  <th>const</th>         <td>    9.2915</td> <td>    0.544</td> <td>   17.076</td> <td> 0.000</td> <td>    8.224</td> <td>   10.359</td>\n",
       "</tr>\n",
       "<tr>\n",
       "  <th>educ</th>          <td>    0.1705</td> <td>    0.076</td> <td>    2.250</td> <td> 0.025</td> <td>    0.022</td> <td>    0.319</td>\n",
       "</tr>\n",
       "<tr>\n",
       "  <th>married</th>       <td>    0.1991</td> <td>    0.045</td> <td>    4.436</td> <td> 0.000</td> <td>    0.111</td> <td>    0.287</td>\n",
       "</tr>\n",
       "<tr>\n",
       "  <th>black</th>         <td>   -0.2385</td> <td>    0.100</td> <td>   -2.381</td> <td> 0.017</td> <td>   -0.435</td> <td>   -0.042</td>\n",
       "</tr>\n",
       "<tr>\n",
       "  <th>educ2</th>         <td>   -0.0037</td> <td>    0.003</td> <td>   -1.369</td> <td> 0.171</td> <td>   -0.009</td> <td>    0.002</td>\n",
       "</tr>\n",
       "<tr>\n",
       "  <th>married*black</th> <td>    0.0363</td> <td>    0.108</td> <td>    0.336</td> <td> 0.737</td> <td>   -0.175</td> <td>    0.248</td>\n",
       "</tr>\n",
       "<tr>\n",
       "  <th>log_exper</th>     <td>    0.1388</td> <td>    0.029</td> <td>    4.848</td> <td> 0.000</td> <td>    0.083</td> <td>    0.195</td>\n",
       "</tr>\n",
       "</table>\n",
       "<table class=\"simpletable\">\n",
       "<tr>\n",
       "  <th>Omnibus:</th>       <td>36.550</td> <th>  Durbin-Watson:     </th> <td>   1.758</td>\n",
       "</tr>\n",
       "<tr>\n",
       "  <th>Prob(Omnibus):</th> <td> 0.000</td> <th>  Jarque-Bera (JB):  </th> <td>  53.447</td>\n",
       "</tr>\n",
       "<tr>\n",
       "  <th>Skew:</th>          <td>-0.352</td> <th>  Prob(JB):          </th> <td>2.48e-12</td>\n",
       "</tr>\n",
       "<tr>\n",
       "  <th>Kurtosis:</th>      <td> 3.937</td> <th>  Cond. No.          </th> <td>8.61e+03</td>\n",
       "</tr>\n",
       "</table><br/><br/>Notes:<br/>[1] Standard Errors assume that the covariance matrix of the errors is correctly specified.<br/>[2] The condition number is large, 8.61e+03. This might indicate that there are<br/>strong multicollinearity or other numerical problems."
      ],
      "text/latex": [
       "\\begin{center}\n",
       "\\begin{tabular}{lclc}\n",
       "\\toprule\n",
       "\\textbf{Dep. Variable:}    &       wage       & \\textbf{  R-squared:         } &     0.176   \\\\\n",
       "\\textbf{Model:}            &       OLS        & \\textbf{  Adj. R-squared:    } &     0.170   \\\\\n",
       "\\textbf{Method:}           &  Least Squares   & \\textbf{  F-statistic:       } &     32.96   \\\\\n",
       "\\textbf{Date:}             & Wed, 06 Sep 2023 & \\textbf{  Prob (F-statistic):} &  4.02e-36   \\\\\n",
       "\\textbf{Time:}             &     20:20:43     & \\textbf{  Log-Likelihood:    } &   -427.32   \\\\\n",
       "\\textbf{No. Observations:} &         935      & \\textbf{  AIC:               } &     868.6   \\\\\n",
       "\\textbf{Df Residuals:}     &         928      & \\textbf{  BIC:               } &     902.5   \\\\\n",
       "\\textbf{Df Model:}         &           6      & \\textbf{                     } &             \\\\\n",
       "\\textbf{Covariance Type:}  &    nonrobust     & \\textbf{                     } &             \\\\\n",
       "\\bottomrule\n",
       "\\end{tabular}\n",
       "\\begin{tabular}{lcccccc}\n",
       "                       & \\textbf{coef} & \\textbf{std err} & \\textbf{t} & \\textbf{P$> |$t$|$} & \\textbf{[0.025} & \\textbf{0.975]}  \\\\\n",
       "\\midrule\n",
       "\\textbf{const}         &       9.2915  &        0.544     &    17.076  &         0.000        &        8.224    &       10.359     \\\\\n",
       "\\textbf{educ}          &       0.1705  &        0.076     &     2.250  &         0.025        &        0.022    &        0.319     \\\\\n",
       "\\textbf{married}       &       0.1991  &        0.045     &     4.436  &         0.000        &        0.111    &        0.287     \\\\\n",
       "\\textbf{black}         &      -0.2385  &        0.100     &    -2.381  &         0.017        &       -0.435    &       -0.042     \\\\\n",
       "\\textbf{educ2}         &      -0.0037  &        0.003     &    -1.369  &         0.171        &       -0.009    &        0.002     \\\\\n",
       "\\textbf{married*black} &       0.0363  &        0.108     &     0.336  &         0.737        &       -0.175    &        0.248     \\\\\n",
       "\\textbf{log\\_exper}    &       0.1388  &        0.029     &     4.848  &         0.000        &        0.083    &        0.195     \\\\\n",
       "\\bottomrule\n",
       "\\end{tabular}\n",
       "\\begin{tabular}{lclc}\n",
       "\\textbf{Omnibus:}       & 36.550 & \\textbf{  Durbin-Watson:     } &    1.758  \\\\\n",
       "\\textbf{Prob(Omnibus):} &  0.000 & \\textbf{  Jarque-Bera (JB):  } &   53.447  \\\\\n",
       "\\textbf{Skew:}          & -0.352 & \\textbf{  Prob(JB):          } & 2.48e-12  \\\\\n",
       "\\textbf{Kurtosis:}      &  3.937 & \\textbf{  Cond. No.          } & 8.61e+03  \\\\\n",
       "\\bottomrule\n",
       "\\end{tabular}\n",
       "%\\caption{OLS Regression Results}\n",
       "\\end{center}\n",
       "\n",
       "Notes: \\newline\n",
       " [1] Standard Errors assume that the covariance matrix of the errors is correctly specified. \\newline\n",
       " [2] The condition number is large, 8.61e+03. This might indicate that there are \\newline\n",
       " strong multicollinearity or other numerical problems."
      ],
      "text/plain": [
       "<class 'statsmodels.iolib.summary.Summary'>\n",
       "\"\"\"\n",
       "                            OLS Regression Results                            \n",
       "==============================================================================\n",
       "Dep. Variable:                   wage   R-squared:                       0.176\n",
       "Model:                            OLS   Adj. R-squared:                  0.170\n",
       "Method:                 Least Squares   F-statistic:                     32.96\n",
       "Date:                Wed, 06 Sep 2023   Prob (F-statistic):           4.02e-36\n",
       "Time:                        20:20:43   Log-Likelihood:                -427.32\n",
       "No. Observations:                 935   AIC:                             868.6\n",
       "Df Residuals:                     928   BIC:                             902.5\n",
       "Df Model:                           6                                         \n",
       "Covariance Type:            nonrobust                                         \n",
       "=================================================================================\n",
       "                    coef    std err          t      P>|t|      [0.025      0.975]\n",
       "---------------------------------------------------------------------------------\n",
       "const             9.2915      0.544     17.076      0.000       8.224      10.359\n",
       "educ              0.1705      0.076      2.250      0.025       0.022       0.319\n",
       "married           0.1991      0.045      4.436      0.000       0.111       0.287\n",
       "black            -0.2385      0.100     -2.381      0.017      -0.435      -0.042\n",
       "educ2            -0.0037      0.003     -1.369      0.171      -0.009       0.002\n",
       "married*black     0.0363      0.108      0.336      0.737      -0.175       0.248\n",
       "log_exper         0.1388      0.029      4.848      0.000       0.083       0.195\n",
       "==============================================================================\n",
       "Omnibus:                       36.550   Durbin-Watson:                   1.758\n",
       "Prob(Omnibus):                  0.000   Jarque-Bera (JB):               53.447\n",
       "Skew:                          -0.352   Prob(JB):                     2.48e-12\n",
       "Kurtosis:                       3.937   Cond. No.                     8.61e+03\n",
       "==============================================================================\n",
       "\n",
       "Notes:\n",
       "[1] Standard Errors assume that the covariance matrix of the errors is correctly specified.\n",
       "[2] The condition number is large, 8.61e+03. This might indicate that there are\n",
       "strong multicollinearity or other numerical problems.\n",
       "\"\"\""
      ]
     },
     "execution_count": 43,
     "metadata": {},
     "output_type": "execute_result"
    }
   ],
   "source": [
    "reg6_numpy = sm.OLS(np.log(df['wage']), X ).fit()\n",
    "reg6_numpy.summary()"
   ]
  },
  {
   "cell_type": "markdown",
   "metadata": {
    "id": "ygj9Uzsen-xE"
   },
   "source": [
    "**Hope this is clear now why I recommend using the formula api!**"
   ]
  },
  {
   "cell_type": "markdown",
   "metadata": {
    "id": "EUUDYyeFn-xE"
   },
   "source": [
    "\n",
    "\n",
    "The END :)\n",
    "\n",
    "---"
   ]
  },
  {
   "cell_type": "markdown",
   "metadata": {
    "id": "GRagxHb-gdwe"
   },
   "source": [
    "\n",
    "\n",
    "## Additional links:\n",
    "1. Interpreting the statsmodel output! https://towardsdatascience.com/simple-explanation-of-statsmodel-linear-regression-model-summary-35961919868b\n",
    "2. Regression evaluation metrics in statsmodel.api: https://www.statsmodels.org/dev/tools.html\n",
    "3. Optional: Regression diagnostics: https://www.statsmodels.org/stable/examples/notebooks/generated/regression_diagnostics.html#"
   ]
  },
  {
   "cell_type": "code",
   "execution_count": 4,
   "metadata": {},
   "outputs": [
    {
     "data": {
      "image/png": "[encoded data removed]",
      "text/plain": [
       "<Figure size 1600x2000 with 3 Axes>"
      ]
     },
     "metadata": {},
     "output_type": "display_data"
    }
   ],
   "source": [
    "# Generate more extreme skewed data for clearer left and right tails\n",
    "neg_skew_extreme = np.random.gamma(shape=2.0, scale=1.0, size=1000) * -1  # Extreme left skew\n",
    "pos_skew_extreme = np.random.gamma(shape=2.0, scale=1.0, size=1000)       # Extreme right skew\n",
    "normal = np.random.normal(loc=0, scale=1.0, size=1000)                   # Normal distribution\n",
    "\n",
    "# Plotting with more extreme skewness\n",
    "fig, axs = plt.subplots(3, 1, figsize=(16, 20))\n",
    "\n",
    "# Risk Management: Negative Skew (Extreme Left)\n",
    "sns.histplot(neg_skew_extreme, kde=True, ax=axs[0], color='red', bins=60)\n",
    "axs[0].set_title(\"1. Risk Management: Negative Skew (Extreme Left Tail)\", fontsize=16)\n",
    "axs[0].set_xlabel(\"Returns\", fontsize=12)\n",
    "axs[0].set_ylabel(\"Frequency\", fontsize=12)\n",
    "axs[0].annotate('Long left tail\\n(Rare but large losses)', xy=(-6, 10), xytext=(-10, 80),\n",
    "                arrowprops=dict(facecolor='black', arrowstyle='->'), fontsize=12)\n",
    "\n",
    "# Portfolio Construction: Positive Skew (Extreme Right)\n",
    "sns.histplot(pos_skew_extreme, kde=True, ax=axs[1], color='green', bins=60)\n",
    "axs[1].set_title(\"2. Portfolio Construction: Positive Skew (Extreme Right Tail)\", fontsize=16)\n",
    "axs[1].set_xlabel(\"Returns\", fontsize=12)\n",
    "axs[1].set_ylabel(\"Frequency\", fontsize=12)\n",
    "axs[1].annotate('Long right tail\\n(Occasional large gains)', xy=(6, 10), xytext=(8, 80),\n",
    "                arrowprops=dict(facecolor='black', arrowstyle='->'), fontsize=12)\n",
    "\n",
    "# Performance Evaluation: Symmetric vs Skewed\n",
    "sns.histplot(normal, kde=True, ax=axs[2], color='blue', label='Asset A (Symmetric)', stat='density', bins=60)\n",
    "sns.histplot(neg_skew_extreme, kde=True, ax=axs[2], color='orange', label='Asset B (Negative Skew)', stat='density', bins=60)\n",
    "axs[2].set_title(\"3. Performance Evaluation: Same Mean, Different Skew\", fontsize=16)\n",
    "axs[2].set_xlabel(\"Returns\", fontsize=12)\n",
    "axs[2].set_ylabel(\"Density\", fontsize=12)\n",
    "axs[2].legend(fontsize=12)\n",
    "\n",
    "plt.tight_layout()\n",
    "plt.show()\n"
   ]
  }
 ],
 "metadata": {
  "colab": {
   "collapsed_sections": [
    "GRagxHb-gdwe"
   ],
   "provenance": [
    {
     "file_id": "https://github.com/PJalgotrader/Machine_Learning-USU/blob/fall22/Lectures/Class7-LinearRegression/linear_regression.ipynb",
     "timestamp": 1663603720806
    }
   ],
   "toc_visible": true
  },
  "kernelspec": {
   "display_name": "machine-learning-env",
   "language": "python",
   "name": "python3"
  },
  "language_info": {
   "codemirror_mode": {
    "name": "ipython",
    "version": 3
   },
   "file_extension": ".py",
   "mimetype": "text/x-python",
   "name": "python",
   "nbconvert_exporter": "python",
   "pygments_lexer": "ipython3",
   "version": "3.10.13"
  }
 },
 "nbformat": 4,
 "nbformat_minor": 0
}
